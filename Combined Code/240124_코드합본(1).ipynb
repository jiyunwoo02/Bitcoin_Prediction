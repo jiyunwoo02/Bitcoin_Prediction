{
 "cells": [
  {
   "cell_type": "markdown",
   "id": "286ee579-5c51-4aad-884d-910a3225e96e",
   "metadata": {},
   "source": [
    "## Bitcoin Volatility Prediction"
   ]
  },
  {
   "cell_type": "markdown",
   "id": "66a03b45-1dcb-4226-87c3-c58dd823be9a",
   "metadata": {},
   "source": [
    "#### Importing Libraries"
   ]
  },
  {
   "cell_type": "code",
   "execution_count": 1,
   "id": "69ac58d8-cf11-47a3-afca-c868c86e7c1f",
   "metadata": {
    "tags": []
   },
   "outputs": [],
   "source": [
    "import pandas as pd\n",
    "import numpy as np\n",
    "import missingno as msno\n",
    "%matplotlib inline\n",
    "import matplotlib.pyplot as plt\n",
    "import matplotlib\n",
    "from sklearn.preprocessing import MinMaxScaler\n",
    "from sklearn.ensemble import RandomForestRegressor\n",
    "from matplotlib.pyplot import figure\n",
    "import seaborn as sns\n",
    "from sklearn.model_selection import GridSearchCV\n",
    "from sklearn.model_selection import TimeSeriesSplit\n",
    "import matplotlib.dates as mdates\n",
    "from sklearn import linear_model\n",
    "from sklearn.model_selection import TimeSeriesSplit\n",
    "from sklearn.metrics import make_scorer, mean_absolute_error\n",
    "from sklearn.metrics import mean_squared_error\n",
    "from sklearn.model_selection import cross_val_score, train_test_split\n",
    "import os"
   ]
  },
  {
   "cell_type": "markdown",
   "id": "d120e6b7-1bec-40c9-8369-9ef660458b60",
   "metadata": {},
   "source": [
    "- 기본"
   ]
  },
  {
   "cell_type": "code",
   "execution_count": 2,
   "id": "a571227a-7e76-47ca-b09f-7c74dfa8c160",
   "metadata": {
    "tags": []
   },
   "outputs": [],
   "source": [
    "def convert_tick_to_ohlcv(data):\n",
    "    \"\"\"\n",
    "    Converts given Binance tick data into 1-hour interval OHLCV (Open, High, Low, Close, Volume) data.\n",
    "    :param data: DataFrame with Tick data\n",
    "    :return: DataFrame with the Open, High, Low, Close, Volume values\n",
    "    \"\"\"\n",
    "\n",
    "    data['time'] = pd.to_datetime(data['time'], unit='ms')\n",
    "    ohlcv = data.resample('1H', on='time').agg({\n",
    "        'price': ['first', 'max', 'min', 'last'],\n",
    "        'qty': 'sum',\n",
    "        'price': 'mean',\n",
    "        'quote_qty': 'std',\n",
    "        'is_buyer_maker': 'sum'\n",
    "        \n",
    "})\n",
    "\n",
    "    ohlcv.columns = ['Open', 'High', 'Low', 'Close', 'Volume']\n",
    "    return ohlcv\n",
    "\n",
    "def calculate_volatility(data, window=20):\n",
    "    \"\"\"\n",
    "    Calculate the rolling volatility using the standard deviation of returns.\n",
    "    :param data: DataFrame with OHLCV data\n",
    "    :param window: The number of periods to use for calculating the standard deviation\n",
    "    :return: DataFrame with the volatility values\n",
    "    \"\"\"\n",
    "\n",
    "    # Calculate daily returns\n",
    "    data['returns'] = data['Close'].pct_change()\n",
    "\n",
    "    # Calculate the rolling standard deviation of returns\n",
    "    data['volatility'] = data['returns'].rolling(window=window).std()\n",
    "\n",
    "    return data"
   ]
  },
  {
   "cell_type": "markdown",
   "id": "2ae15b25-6876-4740-9b1a-aceaf751eabb",
   "metadata": {
    "tags": []
   },
   "source": [
    "#### Loading Data"
   ]
  },
  {
   "cell_type": "code",
   "execution_count": 3,
   "id": "ac9d3ca2-4350-41c9-9828-a32347a878fb",
   "metadata": {
    "tags": []
   },
   "outputs": [],
   "source": [
    "df = pd.read_csv('../data/BIT_2023_1차.csv')\n",
    "df.set_index('time', inplace=True)\n",
    "df.index=pd.to_datetime(df.index)"
   ]
  },
  {
   "cell_type": "code",
   "execution_count": 4,
   "id": "daa1c32c-f292-4ca4-af60-57038538f162",
   "metadata": {
    "tags": []
   },
   "outputs": [
    {
     "data": {
      "text/plain": [
       "Open               24\n",
       "High               24\n",
       "Low                24\n",
       "Close              24\n",
       "Volume              0\n",
       "returns            12\n",
       "volatility        186\n",
       "price              24\n",
       "quote_qty          24\n",
       "is_buyer_maker      0\n",
       "quote_qty_cal      24\n",
       "dtype: int64"
      ]
     },
     "execution_count": 4,
     "metadata": {},
     "output_type": "execute_result"
    }
   ],
   "source": [
    "df.isnull().sum()"
   ]
  },
  {
   "cell_type": "markdown",
   "id": "9364fddf-3340-435d-978e-7ba852a333f3",
   "metadata": {},
   "source": [
    "### 1. Preprocessing"
   ]
  },
  {
   "cell_type": "markdown",
   "id": "40e6743f-ad05-48db-8723-55e26d82db2e",
   "metadata": {},
   "source": [
    "#### Checking Missing Value"
   ]
  },
  {
   "cell_type": "markdown",
   "id": "5ef1b68c-9ef2-4207-b126-f9e5d591274c",
   "metadata": {
    "tags": []
   },
   "source": [
    "- price(Open, High, Low, Close, price), quote_qty, quote_qty_cal"
   ]
  },
  {
   "cell_type": "code",
   "execution_count": 5,
   "id": "a706e139-c49b-44c5-a719-a50400e7520a",
   "metadata": {
    "tags": []
   },
   "outputs": [
    {
     "data": {
      "text/plain": [
       "DatetimeIndex(['2023-01-23 21:00:00', '2023-01-23 22:00:00',\n",
       "               '2023-01-23 23:00:00', '2023-01-24 21:00:00',\n",
       "               '2023-01-24 22:00:00', '2023-01-24 23:00:00',\n",
       "               '2023-01-25 16:00:00', '2023-01-25 17:00:00',\n",
       "               '2023-01-25 18:00:00', '2023-01-25 19:00:00',\n",
       "               '2023-01-25 20:00:00', '2023-01-25 21:00:00',\n",
       "               '2023-01-25 22:00:00', '2023-01-25 23:00:00',\n",
       "               '2023-01-26 22:00:00', '2023-01-26 23:00:00',\n",
       "               '2023-03-14 23:00:00', '2023-03-15 22:00:00',\n",
       "               '2023-03-15 23:00:00', '2023-11-21 03:00:00',\n",
       "               '2023-11-21 04:00:00', '2023-11-21 05:00:00',\n",
       "               '2023-11-21 06:00:00', '2023-11-21 07:00:00'],\n",
       "              dtype='datetime64[ns]', name='time', freq=None)"
      ]
     },
     "execution_count": 5,
     "metadata": {},
     "output_type": "execute_result"
    }
   ],
   "source": [
    "df[df['price'].isnull()].index "
   ]
  },
  {
   "cell_type": "code",
   "execution_count": 6,
   "id": "256d237a-7406-4933-8728-4dcc1f5b5ad0",
   "metadata": {
    "tags": []
   },
   "outputs": [
    {
     "data": {
      "image/png": "[encoded data removed]",
      "text/plain": [
       "<Figure size 640x480 with 1 Axes>"
      ]
     },
     "metadata": {},
     "output_type": "display_data"
    }
   ],
   "source": [
    "# 날짜 범위 선택\n",
    "start_date = '2023-01-23'\n",
    "end_date = '2023-01-26'\n",
    "df_filtered = df.loc[start_date:end_date]\n",
    "\n",
    "# 플롯 그리기\n",
    "plt.plot(df_filtered.index, df_filtered['Open'])\n",
    "plt.xlabel('time')\n",
    "plt.ylabel('Open')\n",
    "plt.title('2023-01-23,2023-01-26')\n",
    "plt.xticks(rotation=45)\n",
    "plt.show()"
   ]
  },
  {
   "cell_type": "markdown",
   "id": "26eeb6a2-fc22-4ed3-a73e-08deea6a5563",
   "metadata": {},
   "source": [
    "- returns"
   ]
  },
  {
   "cell_type": "code",
   "execution_count": 7,
   "id": "d45895e5-c9ff-4b35-b7bc-6b76d1d9e106",
   "metadata": {
    "tags": []
   },
   "outputs": [
    {
     "data": {
      "text/plain": [
       "DatetimeIndex(['2023-01-01', '2023-02-01', '2023-03-01', '2023-04-01',\n",
       "               '2023-05-01', '2023-06-01', '2023-07-01', '2023-08-01',\n",
       "               '2023-09-01', '2023-10-01', '2023-11-01', '2023-12-01'],\n",
       "              dtype='datetime64[ns]', name='time', freq=None)"
      ]
     },
     "execution_count": 7,
     "metadata": {},
     "output_type": "execute_result"
    }
   ],
   "source": [
    "df[df['returns'].isnull()].index # 매달 1일"
   ]
  },
  {
   "cell_type": "markdown",
   "id": "75cec609-88fd-40a3-a240-fc86f0e014f4",
   "metadata": {
    "tags": []
   },
   "source": [
    "- volatility"
   ]
  },
  {
   "cell_type": "code",
   "execution_count": 8,
   "id": "8ad71fd0-47f2-489d-b696-5c0c10d04c69",
   "metadata": {
    "tags": []
   },
   "outputs": [
    {
     "data": {
      "text/plain": [
       "DatetimeIndex(['2023-01-01 00:00:00', '2023-01-01 01:00:00',\n",
       "               '2023-01-01 02:00:00', '2023-01-01 03:00:00',\n",
       "               '2023-01-01 04:00:00', '2023-01-01 05:00:00',\n",
       "               '2023-01-01 06:00:00', '2023-01-01 07:00:00',\n",
       "               '2023-01-01 08:00:00', '2023-01-01 09:00:00',\n",
       "               ...\n",
       "               '2023-12-01 10:00:00', '2023-12-01 11:00:00',\n",
       "               '2023-12-01 12:00:00', '2023-12-01 13:00:00',\n",
       "               '2023-12-01 14:00:00', '2023-12-01 15:00:00',\n",
       "               '2023-12-01 16:00:00', '2023-12-01 17:00:00',\n",
       "               '2023-12-01 18:00:00', '2023-12-01 19:00:00'],\n",
       "              dtype='datetime64[ns]', name='time', length=186, freq=None)"
      ]
     },
     "execution_count": 8,
     "metadata": {},
     "output_type": "execute_result"
    }
   ],
   "source": [
    "df[df['volatility'].isnull()].index # 매달 첫 20행 결측(windows = 20)"
   ]
  },
  {
   "cell_type": "markdown",
   "id": "f5661ede-a928-496e-a689-a4bdbb6be47d",
   "metadata": {
    "tags": []
   },
   "source": [
    "#### Imputation of missing values"
   ]
  },
  {
   "cell_type": "code",
   "execution_count": 9,
   "id": "513f09d4-1011-428c-838c-f2b440b28e0b",
   "metadata": {
    "tags": []
   },
   "outputs": [],
   "source": [
    "def spline_interpolate_column(df, column_name, order=3):\n",
    "    df[column_name] = df[column_name].interpolate(method='spline', order=order)"
   ]
  },
  {
   "cell_type": "code",
   "execution_count": 10,
   "id": "69b28ab4-f149-4bfb-a669-7feb08cf7bd4",
   "metadata": {
    "tags": []
   },
   "outputs": [],
   "source": [
    "columns_to_interpolate = ['Open', 'High', 'Low', 'Close','price']\n",
    "\n",
    "for column in columns_to_interpolate:\n",
    "    spline_interpolate_column(df, column, order=3)"
   ]
  },
  {
   "cell_type": "code",
   "execution_count": 11,
   "id": "edbb18ca-007d-4d0d-8b98-70f16d265949",
   "metadata": {
    "tags": []
   },
   "outputs": [],
   "source": [
    "columns_to_interpolate_volume = ['quote_qty','quote_qty_cal']\n",
    "\n",
    "for column in columns_to_interpolate:\n",
    "    spline_interpolate_column(df, column, order=3)"
   ]
  },
  {
   "cell_type": "markdown",
   "id": "8cc2a79c-1898-479f-9025-92ce80649a25",
   "metadata": {
    "tags": []
   },
   "source": [
    "- 보간 후"
   ]
  },
  {
   "cell_type": "code",
   "execution_count": 12,
   "id": "445f5bf6-bc82-45f5-8a6a-a534ae4c0c8e",
   "metadata": {
    "tags": []
   },
   "outputs": [
    {
     "data": {
      "image/png": "[encoded data removed]",
      "text/plain": [
       "<Figure size 640x480 with 1 Axes>"
      ]
     },
     "metadata": {},
     "output_type": "display_data"
    }
   ],
   "source": [
    "# 날짜 범위 선택\n",
    "start_date = '2023-01-23'\n",
    "end_date = '2023-01-26'\n",
    "df_filtered = df.loc[start_date:end_date]\n",
    "\n",
    "# 플롯 그리기\n",
    "plt.plot(df_filtered.index, df_filtered['Open'])\n",
    "plt.xlabel('time')\n",
    "plt.ylabel('Open')\n",
    "plt.title('2023-01-23,2023-01-26')\n",
    "plt.xticks(rotation=45)\n",
    "plt.show()"
   ]
  },
  {
   "cell_type": "markdown",
   "id": "3fa6c348-6ce7-4e9f-be9f-7ee4bef33006",
   "metadata": {},
   "source": [
    "- returns, volatility > 논의 필요"
   ]
  },
  {
   "cell_type": "code",
   "execution_count": 13,
   "id": "e5a3c178-fbaa-416b-a9d1-86846691fcec",
   "metadata": {
    "tags": []
   },
   "outputs": [],
   "source": [
    "df.dropna(inplace = True) # 임시"
   ]
  },
  {
   "cell_type": "markdown",
   "id": "257d226d-f996-47aa-b2ae-1a36bcc90404",
   "metadata": {},
   "source": [
    "### 2.EDA"
   ]
  },
  {
   "cell_type": "markdown",
   "id": "64d87d0c-382a-4369-9444-c7d94578d9b0",
   "metadata": {
    "tags": []
   },
   "source": [
    "#### (Baseline Model)"
   ]
  },
  {
   "cell_type": "code",
   "execution_count": 14,
   "id": "40122c48-d486-4d6d-8440-ee556a97b74b",
   "metadata": {
    "tags": []
   },
   "outputs": [],
   "source": [
    "def calculate_mape(y_true, y_pred):\n",
    "    return np.mean(np.abs((y_true - y_pred) / y_true)) * 100\n",
    "\n",
    "def calculate_rmse(y_true, y_pred):\n",
    "    return np.sqrt(mean_squared_error(y_true, y_pred))\n",
    "\n",
    "def rf_base(train_df, test_df, df_name=''): #df_name : 데이터 프레임 구분용, train_df 이름 기입\n",
    "    X_train = train_df.drop('volatility', axis=1)\n",
    "    y_train = train_df['volatility']\n",
    "    \n",
    "    X_test = test_df.drop('volatility', axis=1)\n",
    "    y_test = test_df['volatility']\n",
    "\n",
    "    # RandomForestRegressor\n",
    "    rf_model = RandomForestRegressor()\n",
    "\n",
    "    # 모델 학습\n",
    "    rf_model.fit(X_train, y_train)\n",
    "\n",
    "    # 예측\n",
    "    y_pred = rf_model.predict(X_test)\n",
    "\n",
    "    # 평가지표(MAPE, RMSE)\n",
    "    test_mape = calculate_mape(y_test, y_pred)\n",
    "    test_rmse = calculate_rmse(y_test, y_pred)\n",
    "    print(f'{df_name} : MAPE: {test_mape}, RMSE: {test_rmse}')"
   ]
  },
  {
   "cell_type": "markdown",
   "id": "895ab031-b945-4e20-81bc-2432d886701c",
   "metadata": {
    "tags": []
   },
   "source": [
    "- Baseline Model test(테스트용)"
   ]
  },
  {
   "cell_type": "code",
   "execution_count": 15,
   "id": "19357ca9-730c-46c4-9c55-81718533c320",
   "metadata": {
    "tags": []
   },
   "outputs": [
    {
     "name": "stdout",
     "output_type": "stream",
     "text": [
      "df_tr : MAPE: 40.2481116164333, RMSE: 0.0018618241436034891\n"
     ]
    }
   ],
   "source": [
    "df_tr, df_te = train_test_split(df, test_size=0.2, random_state=42)\n",
    "rf_base(df_tr, df_te, 'df_tr')"
   ]
  },
  {
   "cell_type": "markdown",
   "id": "4bf3166b-7843-4ae8-a732-d6d5eed8114e",
   "metadata": {},
   "source": [
    "#### Stationary(세희)\n",
    "- 정상성 검정 > 차분 "
   ]
  },
  {
   "cell_type": "code",
   "execution_count": null,
   "id": "fa41ce41-545d-4644-b712-a101f91692a1",
   "metadata": {},
   "outputs": [],
   "source": []
  },
  {
   "cell_type": "markdown",
   "id": "47ed1e4c-6bbd-4146-8b55-e6f564400a7c",
   "metadata": {},
   "source": [
    "#### Technical Indicators"
   ]
  },
  {
   "cell_type": "markdown",
   "id": "0200d3f3-c850-4791-8323-1a7e6e801dcd",
   "metadata": {
    "tags": []
   },
   "source": [
    "##### MACD Function\n",
    "Short-term Moving Average (Short MA): Indicates recent price trends in the stock.\n",
    "Long-term Moving Average (Long MA): Represents long-term trends in the stock.\n",
    "MACD Indicator: The difference between the short-term and long-term moving averages, revealing the disparity in short and long-term trends.\n",
    "Signal Line: The moving average of the MACD, signaling potential trend reversals.\n",
    "MACD Oscillator: The difference between the MACD and the Signal Line, used to identify buying or selling points.\n",
    "##### Stochastic Oscillator Function\n",
    "%K: Represents the current position of the stock price within a certain period, expressed as a percentage. Measures the relative position of the stock price.\n",
    "%D: The moving average of %K, indicating the average position of the stock price.\n",
    "Stochastic Oscillator: Identifies overbought or oversold conditions based on the relative position of the stock price.\n",
    "##### ATR Function\n",
    "True Range: A measure of stock volatility, calculated as the maximum of the high-low range, high-close difference, and low-close difference.\n",
    "ATR (Average True Range): The moving average of the True Range, representing the expected volatility of the stock.\n",
    "##### Bollinger Bands Function\n",
    "Moving Average: Computes the average stock price over a specific period.\n",
    "Standard Deviation: Indicates the volatility of the stock price.\n",
    "Upper and Lower Bollinger Bands: Calculated by adding or subtracting a multiple of the standard deviation from the moving average. Represents the relative high or low positions of the stock price."
   ]
  },
  {
   "cell_type": "code",
   "execution_count": 16,
   "id": "559326cd-55c0-4740-94fa-477bf21f13f5",
   "metadata": {
    "tags": []
   },
   "outputs": [],
   "source": [
    "# MACD 함수\n",
    "def MACD(df, short_window, long_window, signal_window):\n",
    "    \n",
    "    df[f'Short_MA_{short_window}'] = df['Close'].ewm(span=short_window, adjust=False).mean()\n",
    "    df[f'Long_MA_{long_window}'] = df['Close'].ewm(span=long_window, adjust=False).mean()\n",
    "    df[f'MACD_{short_window}{long_window}'] = df[f'Short_MA_{short_window}'] - df[f'Long_MA_{long_window}']\n",
    "    df[f'Signal_Line_{signal_window}'] = df[f'MACD_{short_window}{long_window}'].ewm(span=signal_window, adjust=False).mean()\n",
    "    df[f'MACD_Oscillator_{short_window}{long_window}'] = df[f'MACD_{short_window}{long_window}'] - df[f'Signal_Line_{signal_window}']\n",
    "    \n",
    "    return df\n",
    "    \n",
    "# Stochastic Oscillator 함수\n",
    "def cal_stoc_os(df, period=14, m=3): # period = 14 or 20\n",
    "    \n",
    "    # 최근 N일간의 최고가(H)와 최저가(L)\n",
    "    df['highest_high'] = df['High'].rolling(window=period).max()\n",
    "    df['lowest_low'] = df['Low'].rolling(window=period).min()\n",
    "    \n",
    "    # %K 계산\n",
    "    df['%K'] = (df['Close'] - df['lowest_low']) / (df['highest_high'] - df['lowest_low']) * 100\n",
    "    \n",
    "    # %D 계산\n",
    "    df['%D'] = df['%K'].rolling(m).mean()\n",
    "    \n",
    "    return df\n",
    "    \n",
    "# ATR 함수\n",
    "def calculate_atr(df, period=14):\n",
    "    # True Range 계산\n",
    "    df['high-low'] = df['High'] - df['Low']\n",
    "    df['high-close'] = abs(df['High'] - df['Close'].shift())\n",
    "    df['low-close'] = abs(df['Low'] - df['Close'].shift())\n",
    "    \n",
    "    df['true_range'] = df[['high-low', 'high-close', 'low-close']].max(axis=1)\n",
    "    \n",
    "    # ATR 계산\n",
    "    df['atr'] = df['true_range'].rolling(window=period, min_periods=1).mean()\n",
    "    \n",
    "    # 임시 열 삭제\n",
    "    df.drop(['high-low', 'high-close', 'low-close', 'true_range'], axis=1, inplace=True)\n",
    "    \n",
    "    return df\n",
    "\n",
    "def bollinger_bands(df, window=20, num_std_dev=1.5):\n",
    "    \n",
    "    # 이동평균 계산\n",
    "    df['rolling_mean'] = df['price'].rolling(window=window).mean()\n",
    "\n",
    "    # 표준편차 계산\n",
    "    df['rolling_std'] = df['price'].rolling(window=window).std()\n",
    "\n",
    "    # 볼린저 밴드 상단 및 하단 계산\n",
    "    df['upper_band'] = df['rolling_mean'] + (num_std_dev * df['rolling_std'])\n",
    "    df['lower_band'] = df['rolling_mean'] - (num_std_dev * df['rolling_std'])\n",
    "\n",
    "    # 필요없는 컬럼 삭제\n",
    "    df.drop(['rolling_mean', 'rolling_std'], axis=1, inplace=True)\n",
    "\n",
    "    return df"
   ]
  },
  {
   "cell_type": "markdown",
   "id": "f59c8b68-4c61-407d-b838-a963a95ce1bc",
   "metadata": {
    "tags": []
   },
   "source": [
    "#### Technical Indicators - Optimization"
   ]
  },
  {
   "cell_type": "markdown",
   "id": "652cddfc-60cd-46c4-8638-204047761d96",
   "metadata": {
    "tags": []
   },
   "source": [
    "1. 결측치\n",
    "2. 평가지표 비교\n",
    "* 수익률: 볼린저 밴드를 기반으로 한 수익률을 평가하는 지표로, 해당 지표가 가격의 특이값을 얼마나 잘 캐치하고 이에 따른 수익을 얼마나 창출하는지를 측정.\n",
    "* 변동성: 볼린저 밴드를 기반으로 주가의 변동성을 얼마나 잘 포착하는지를 확인하는 지표\n",
    "* 최대 손실: 볼린저 밴드를 기반으로 투자 전략이 어떤 상황에서 최대 손실을 겪는지 확인하는 지표\n",
    "* 승률: 볼린저 밴드의 신호가 실제로 가격의 특이값을 잘 나타내고 있는지 확인하는 지표로, 해당 기준은 상한선('upper_band')를 넘는 경우를 '승리'로 간주."
   ]
  },
  {
   "cell_type": "markdown",
   "id": "2d01a179-f8f2-4b2e-9334-5da580e59cd3",
   "metadata": {
    "tags": []
   },
   "source": [
    "##### Stochastic Oscillator\n",
    "일반적으로는 14와 3을 사용한다. \n",
    "- period의 경우, 주가 데이터의 기간에 따라 최적의 값을 설정할 수 있다. 예를 들어, 10일, 30일, 50일 등 다양한 기간을 선택할 수 있다.\n",
    "- m은 %K의 이동평균을 계산하는데 사용되는 기간이다. 따라서, 2, 5, 10 등 다른 값을 설정할 수도 있다.\n",
    "> 주가 데이터의 특성과 분석 목적에 따라 period와 m의 값을 조정하여 최적의 결과를 얻을 수 있다"
   ]
  },
  {
   "cell_type": "code",
   "execution_count": 17,
   "id": "100524bd-510e-4a43-9d7b-8880fb5367ba",
   "metadata": {
    "tags": []
   },
   "outputs": [
    {
     "name": "stdout",
     "output_type": "stream",
     "text": [
      "Evaluation Results:\n",
      "Period=14, m=2\n",
      "Returns: 1.0265016527662556\n",
      "Volatility: 0.004598917056339164\n",
      "Max Drawdown: 6592.299999999999\n",
      "Win Rate: 0.5072514619883041\n",
      "k_na: 13\n",
      "d_na: 14\n",
      "\n",
      "Period=14, m=3\n",
      "Returns: 1.0265016527662556\n",
      "Volatility: 0.004598917056339164\n",
      "Max Drawdown: 6592.299999999999\n",
      "Win Rate: 0.5025730994152047\n",
      "k_na: 13\n",
      "d_na: 15\n",
      "\n",
      "Period=14, m=5\n",
      "Returns: 1.0265016527662556\n",
      "Volatility: 0.004598917056339164\n",
      "Max Drawdown: 6592.299999999999\n",
      "Win Rate: 0.5009356725146199\n",
      "k_na: 13\n",
      "d_na: 17\n",
      "\n",
      "Period=14, m=10\n",
      "Returns: 1.0265016527662556\n",
      "Volatility: 0.004598917056339164\n",
      "Max Drawdown: 6592.299999999999\n",
      "Win Rate: 0.5052631578947369\n",
      "k_na: 13\n",
      "d_na: 22\n",
      "\n",
      "Period=20, m=2\n",
      "Returns: 1.0265016527662556\n",
      "Volatility: 0.004598917056339164\n",
      "Max Drawdown: 6592.299999999999\n",
      "Win Rate: 0.5042105263157894\n",
      "k_na: 19\n",
      "d_na: 20\n",
      "\n",
      "Period=20, m=3\n",
      "Returns: 1.0265016527662556\n",
      "Volatility: 0.004598917056339164\n",
      "Max Drawdown: 6592.299999999999\n",
      "Win Rate: 0.5012865497076023\n",
      "k_na: 19\n",
      "d_na: 21\n",
      "\n",
      "Period=20, m=5\n",
      "Returns: 1.0265016527662556\n",
      "Volatility: 0.004598917056339164\n",
      "Max Drawdown: 6592.299999999999\n",
      "Win Rate: 0.49953216374269005\n",
      "k_na: 19\n",
      "d_na: 23\n",
      "\n",
      "Period=20, m=10\n",
      "Returns: 1.0265016527662556\n",
      "Volatility: 0.004598917056339164\n",
      "Max Drawdown: 6592.299999999999\n",
      "Win Rate: 0.49415204678362573\n",
      "k_na: 19\n",
      "d_na: 28\n",
      "\n",
      "Period=30, m=2\n",
      "Returns: 1.0265016527662556\n",
      "Volatility: 0.004598917056339164\n",
      "Max Drawdown: 6592.299999999999\n",
      "Win Rate: 0.5016374269005848\n",
      "k_na: 29\n",
      "d_na: 30\n",
      "\n",
      "Period=30, m=3\n",
      "Returns: 1.0265016527662556\n",
      "Volatility: 0.004598917056339164\n",
      "Max Drawdown: 6592.299999999999\n",
      "Win Rate: 0.4978947368421053\n",
      "k_na: 29\n",
      "d_na: 31\n",
      "\n",
      "Period=30, m=5\n",
      "Returns: 1.0265016527662556\n",
      "Volatility: 0.004598917056339164\n",
      "Max Drawdown: 6592.299999999999\n",
      "Win Rate: 0.49964912280701756\n",
      "k_na: 29\n",
      "d_na: 33\n",
      "\n",
      "Period=30, m=10\n",
      "Returns: 1.0265016527662556\n",
      "Volatility: 0.004598917056339164\n",
      "Max Drawdown: 6592.299999999999\n",
      "Win Rate: 0.4911111111111111\n",
      "k_na: 29\n",
      "d_na: 38\n",
      "\n",
      "Best Combination:\n",
      "Period=14, m=2\n"
     ]
    }
   ],
   "source": [
    "# 평가 지표를 저장 딕셔너리\n",
    "evaluation_results = {}\n",
    "\n",
    "# period와 m의 다양한 조합 설정\n",
    "periods = [14, 20, 30]  # 다양한 period\n",
    "ms = [2, 3, 5, 10]  # 다양한 m\n",
    "\n",
    "# 각 조합 평가 지표 계산\n",
    "for period in periods:\n",
    "    for m in ms:\n",
    "        df_copy = df.copy()\n",
    "        df_copy = cal_stoc_os(df_copy, period=period, m=m)\n",
    "        \n",
    "        # 평가 지표 계산 (수익률, 변동성, 최대 손실, 승률)\n",
    "        returns = df_copy['Close'].pct_change().cumsum().iloc[-1]\n",
    "        volatility = df_copy['Close'].pct_change().std() \n",
    "        max_drawdown = (df_copy['Close'].cummax() - df_copy['Close']).max()\n",
    "        win_rate = (df_copy['%K'] > df_copy['%D']).mean()\n",
    "        \n",
    "        # 결측치 계산\n",
    "        k_na = df_copy['%K'].isna().sum()  # 수정된 부분\n",
    "        d_na = df_copy['%D'].isna().sum()  # 수정된 부분\n",
    "        \n",
    "        # 평가 지표 -> 딕셔너리에 저장\n",
    "        evaluation_results[(period, m)] = {\n",
    "            'Returns': returns,\n",
    "            'Volatility': volatility,\n",
    "            'Max Drawdown': max_drawdown,\n",
    "            'Win Rate': win_rate,\n",
    "            'k_na': k_na,\n",
    "            'd_na': d_na\n",
    "            \n",
    "        }\n",
    "\n",
    "# 평가 지표를 기준으로 가장 좋은 조합?\n",
    "best_combination = max(evaluation_results, key=lambda x: evaluation_results[x]['Returns'])\n",
    "\n",
    "# 결과\n",
    "print(\"Evaluation Results:\")\n",
    "for combination, metrics in evaluation_results.items():\n",
    "    print(f\"Period={combination[0]}, m={combination[1]}\")\n",
    "    for metric, value in metrics.items():\n",
    "        print(f\"{metric}: {value}\")\n",
    "    print()\n",
    "\n",
    "print(\"Best Combination:\")\n",
    "print(f\"Period={best_combination[0]}, m={best_combination[1]}\")\n"
   ]
  },
  {
   "cell_type": "markdown",
   "id": "6d6a9783-cb7e-4c98-9605-7aab6a330ae4",
   "metadata": {
    "tags": []
   },
   "source": [
    "##### Boolinger Band\n",
    "일반적으로 20일과 2배수를 사용\n",
    "\n",
    "* window 값 설정은 주가의 변동을 얼마나 민감하게 볼 것인가에 따라 결정함\n",
    "\n",
    "  기본값 : 20일이며, 10일~50일 사이의 값\n",
    "\n",
    "  작은 값으로 설정 시 짧은 주기 동안의 가격 움직임을 빠르게 파악할 수 있고, 큰 값 설정 시 긴 주기의 추세를 부드럽게 나타낼 수 있습니다.\n",
    "\n",
    "* 표준편차 배수 설정은 주가의 움직임을 어느 폭까지 감지할 것인가에 따라 결정할 수 있습니다.\n",
    "\n",
    "  기본값은 2이고, 1.5 또는 2 값이 적절합니다.\n",
    "\n",
    "  작은 값 설정 시 움직임을 파악하는 폭이 좁아져서 특이한 움직임이나 극단적인 상황을 감지하기 어렵고, 큰 값 설정 시 큰 변동성을 감지하기 용이합니다.\n",
    "\n",
    "> **표준편차 배수 : 1.5와 2 확인 필요.**\n",
    "\n",
    "> **window 값 : 짧은 주기 설정이 필요하다는 판단 하에 10일, 15일, 20일 경우 확인.**"
   ]
  },
  {
   "cell_type": "markdown",
   "id": "2a87c5eb-01b1-4055-ac8e-6a0c3a2cd0cc",
   "metadata": {
    "tags": []
   },
   "source": [
    "> window 값이 10이고 표준편차 배수가 1.5일 때 가장 적음"
   ]
  },
  {
   "cell_type": "code",
   "execution_count": 18,
   "id": "1b973810-679c-4405-9ed8-c43e78907146",
   "metadata": {
    "tags": []
   },
   "outputs": [
    {
     "name": "stdout",
     "output_type": "stream",
     "text": [
      "Evaluation Results:\n",
      "window=10, num_std_dev=1.5\n",
      "Returns: 1.0265016527662556\n",
      "Volatility: 0.004598917056339164\n",
      "Max Drawdown: 6592.299999999999\n",
      "Win Rate: 0.14011695906432747\n",
      "Upper Band NA: 9\n",
      "Lower Band NA: 9\n",
      "\n",
      "window=10, num_std_dev=2\n",
      "Returns: 1.0265016527662556\n",
      "Volatility: 0.004598917056339164\n",
      "Max Drawdown: 6592.299999999999\n",
      "Win Rate: 0.07356725146198831\n",
      "Upper Band NA: 9\n",
      "Lower Band NA: 9\n",
      "\n",
      "window=15, num_std_dev=1.5\n",
      "Returns: 1.0265016527662556\n",
      "Volatility: 0.004598917056339164\n",
      "Max Drawdown: 6592.299999999999\n",
      "Win Rate: 0.14748538011695905\n",
      "Upper Band NA: 14\n",
      "Lower Band NA: 14\n",
      "\n",
      "window=15, num_std_dev=2\n",
      "Returns: 1.0265016527662556\n",
      "Volatility: 0.004598917056339164\n",
      "Max Drawdown: 6592.299999999999\n",
      "Win Rate: 0.08105263157894736\n",
      "Upper Band NA: 14\n",
      "Lower Band NA: 14\n",
      "\n",
      "window=20, num_std_dev=1.5\n",
      "Returns: 1.0265016527662556\n",
      "Volatility: 0.004598917056339164\n",
      "Max Drawdown: 6592.299999999999\n",
      "Win Rate: 0.1497076023391813\n",
      "Upper Band NA: 19\n",
      "Lower Band NA: 19\n",
      "\n",
      "window=20, num_std_dev=2\n",
      "Returns: 1.0265016527662556\n",
      "Volatility: 0.004598917056339164\n",
      "Max Drawdown: 6592.299999999999\n",
      "Win Rate: 0.08105263157894736\n",
      "Upper Band NA: 19\n",
      "Lower Band NA: 19\n",
      "\n",
      "Best Combination:\n",
      "window=10, num_std_dev=1.5\n"
     ]
    }
   ],
   "source": [
    "#평가 지표 저장 딕셔너리 생성\n",
    "evaluation_results = {}\n",
    "\n",
    "#가능한 조합의 평가 지표(수익률, 변동성, 최대 손실, 승률) 계산\n",
    "for window in [10, 15, 20]:\n",
    "    for num_std_dev in [1.5, 2]:\n",
    "        \n",
    "        #볼린저 밴드 생성 및 조합 적용\n",
    "        df_copy = df.copy()\n",
    "        df_copy = bollinger_bands(df_copy, window=window, num_std_dev=num_std_dev)\n",
    "        \n",
    "        #평가 지표 계산\n",
    "        returns = df_copy['Close'].pct_change().cumsum().iloc[-1]\n",
    "        volatility = df_copy['Close'].pct_change().std()\n",
    "        max_drawdown = (df_copy['Close'].cummax() - df_copy['Close']).max()\n",
    "        win_rate = (df_copy['Close'] > df_copy['upper_band']).mean()\n",
    "    \n",
    "        #결측치 여부 확인\n",
    "        upper_band_na = df_copy['upper_band'].isna().sum()\n",
    "        lower_band_na = df_copy['lower_band'].isna().sum()\n",
    "        \n",
    "        #평가 지표 및 결측치 저장\n",
    "        evaluation_results[(window, num_std_dev)] = {\n",
    "            'Returns': returns,\n",
    "            'Volatility': volatility,\n",
    "            'Max Drawdown': max_drawdown,\n",
    "            'Win Rate': win_rate,\n",
    "            'Upper Band NA': upper_band_na,\n",
    "            'Lower Band NA': lower_band_na\n",
    "        }\n",
    "\n",
    "#가장 좋은 조합 찾기(returns 기준)\n",
    "best_combination = max(evaluation_results, key=lambda x: evaluation_results[x]['Returns'])\n",
    "\n",
    "# 결과 출력\n",
    "print(\"Evaluation Results:\")\n",
    "for combination, metrics in evaluation_results.items():\n",
    "    print(f\"window={combination[0]}, num_std_dev={combination[1]}\")\n",
    "    for metric, value in metrics.items():\n",
    "        print(f\"{metric}: {value}\")\n",
    "    print()\n",
    "\n",
    "print(\"Best Combination:\")\n",
    "print(f\"window={best_combination[0]}, num_std_dev={best_combination[1]}\")\n"
   ]
  },
  {
   "cell_type": "markdown",
   "id": "8d9a3e52-4361-4821-aa90-bcbb2d96a881",
   "metadata": {
    "tags": []
   },
   "source": [
    "#### Technical Indicators Generation"
   ]
  },
  {
   "cell_type": "code",
   "execution_count": 20,
   "id": "f5d6c751-f3cb-4d85-b096-a9d5857d4cb6",
   "metadata": {
    "tags": []
   },
   "outputs": [
    {
     "data": {
      "text/html": [
       "<div>\n",
       "<style scoped>\n",
       "    .dataframe tbody tr th:only-of-type {\n",
       "        vertical-align: middle;\n",
       "    }\n",
       "\n",
       "    .dataframe tbody tr th {\n",
       "        vertical-align: top;\n",
       "    }\n",
       "\n",
       "    .dataframe thead th {\n",
       "        text-align: right;\n",
       "    }\n",
       "</style>\n",
       "<table border=\"1\" class=\"dataframe\">\n",
       "  <thead>\n",
       "    <tr style=\"text-align: right;\">\n",
       "      <th></th>\n",
       "      <th>Open</th>\n",
       "      <th>High</th>\n",
       "      <th>Low</th>\n",
       "      <th>Close</th>\n",
       "      <th>Volume</th>\n",
       "      <th>returns</th>\n",
       "      <th>volatility</th>\n",
       "      <th>price</th>\n",
       "      <th>quote_qty</th>\n",
       "      <th>is_buyer_maker</th>\n",
       "      <th>...</th>\n",
       "      <th>Short_MA_5</th>\n",
       "      <th>MACD_526</th>\n",
       "      <th>MACD_Oscillator_526</th>\n",
       "      <th>atr</th>\n",
       "      <th>highest_high</th>\n",
       "      <th>lowest_low</th>\n",
       "      <th>%K</th>\n",
       "      <th>%D</th>\n",
       "      <th>upper_band</th>\n",
       "      <th>lower_band</th>\n",
       "    </tr>\n",
       "    <tr>\n",
       "      <th>time</th>\n",
       "      <th></th>\n",
       "      <th></th>\n",
       "      <th></th>\n",
       "      <th></th>\n",
       "      <th></th>\n",
       "      <th></th>\n",
       "      <th></th>\n",
       "      <th></th>\n",
       "      <th></th>\n",
       "      <th></th>\n",
       "      <th></th>\n",
       "      <th></th>\n",
       "      <th></th>\n",
       "      <th></th>\n",
       "      <th></th>\n",
       "      <th></th>\n",
       "      <th></th>\n",
       "      <th></th>\n",
       "      <th></th>\n",
       "      <th></th>\n",
       "      <th></th>\n",
       "    </tr>\n",
       "  </thead>\n",
       "  <tbody>\n",
       "    <tr>\n",
       "      <th>2023-01-01 20:00:00</th>\n",
       "      <td>16596.1</td>\n",
       "      <td>16618.8</td>\n",
       "      <td>16592.0</td>\n",
       "      <td>16593.8</td>\n",
       "      <td>4951.995</td>\n",
       "      <td>-0.000139</td>\n",
       "      <td>0.000824</td>\n",
       "      <td>16604.578969</td>\n",
       "      <td>7755.192178</td>\n",
       "      <td>15436</td>\n",
       "      <td>...</td>\n",
       "      <td>16593.800000</td>\n",
       "      <td>0.000000</td>\n",
       "      <td>0.000000</td>\n",
       "      <td>26.800</td>\n",
       "      <td>NaN</td>\n",
       "      <td>NaN</td>\n",
       "      <td>NaN</td>\n",
       "      <td>NaN</td>\n",
       "      <td>NaN</td>\n",
       "      <td>NaN</td>\n",
       "    </tr>\n",
       "    <tr>\n",
       "      <th>2023-01-01 21:00:00</th>\n",
       "      <td>16593.7</td>\n",
       "      <td>16599.7</td>\n",
       "      <td>16584.1</td>\n",
       "      <td>16597.6</td>\n",
       "      <td>3040.626</td>\n",
       "      <td>0.000229</td>\n",
       "      <td>0.000773</td>\n",
       "      <td>16592.678507</td>\n",
       "      <td>5988.572184</td>\n",
       "      <td>10807</td>\n",
       "      <td>...</td>\n",
       "      <td>16595.066667</td>\n",
       "      <td>0.985185</td>\n",
       "      <td>0.788148</td>\n",
       "      <td>21.200</td>\n",
       "      <td>NaN</td>\n",
       "      <td>NaN</td>\n",
       "      <td>NaN</td>\n",
       "      <td>NaN</td>\n",
       "      <td>NaN</td>\n",
       "      <td>NaN</td>\n",
       "    </tr>\n",
       "    <tr>\n",
       "      <th>2023-01-01 22:00:00</th>\n",
       "      <td>16597.6</td>\n",
       "      <td>16605.4</td>\n",
       "      <td>16579.1</td>\n",
       "      <td>16594.4</td>\n",
       "      <td>3633.682</td>\n",
       "      <td>-0.000193</td>\n",
       "      <td>0.000763</td>\n",
       "      <td>16591.705509</td>\n",
       "      <td>7402.187094</td>\n",
       "      <td>11318</td>\n",
       "      <td>...</td>\n",
       "      <td>16594.844444</td>\n",
       "      <td>0.739369</td>\n",
       "      <td>0.433866</td>\n",
       "      <td>22.900</td>\n",
       "      <td>NaN</td>\n",
       "      <td>NaN</td>\n",
       "      <td>NaN</td>\n",
       "      <td>NaN</td>\n",
       "      <td>NaN</td>\n",
       "      <td>NaN</td>\n",
       "    </tr>\n",
       "    <tr>\n",
       "      <th>2023-01-01 23:00:00</th>\n",
       "      <td>16594.4</td>\n",
       "      <td>16617.4</td>\n",
       "      <td>16594.4</td>\n",
       "      <td>16610.3</td>\n",
       "      <td>5040.212</td>\n",
       "      <td>0.000958</td>\n",
       "      <td>0.000749</td>\n",
       "      <td>16604.731182</td>\n",
       "      <td>8303.054581</td>\n",
       "      <td>13189</td>\n",
       "      <td>...</td>\n",
       "      <td>16599.996296</td>\n",
       "      <td>4.691597</td>\n",
       "      <td>3.508875</td>\n",
       "      <td>22.925</td>\n",
       "      <td>NaN</td>\n",
       "      <td>NaN</td>\n",
       "      <td>NaN</td>\n",
       "      <td>NaN</td>\n",
       "      <td>NaN</td>\n",
       "      <td>NaN</td>\n",
       "    </tr>\n",
       "    <tr>\n",
       "      <th>2023-01-02 00:00:00</th>\n",
       "      <td>16610.4</td>\n",
       "      <td>16618.4</td>\n",
       "      <td>16572.9</td>\n",
       "      <td>16578.0</td>\n",
       "      <td>5774.202</td>\n",
       "      <td>-0.001945</td>\n",
       "      <td>0.000873</td>\n",
       "      <td>16592.870115</td>\n",
       "      <td>7729.667724</td>\n",
       "      <td>18099</td>\n",
       "      <td>...</td>\n",
       "      <td>16592.664198</td>\n",
       "      <td>-1.358672</td>\n",
       "      <td>-2.033116</td>\n",
       "      <td>27.440</td>\n",
       "      <td>NaN</td>\n",
       "      <td>NaN</td>\n",
       "      <td>NaN</td>\n",
       "      <td>NaN</td>\n",
       "      <td>NaN</td>\n",
       "      <td>NaN</td>\n",
       "    </tr>\n",
       "    <tr>\n",
       "      <th>...</th>\n",
       "      <td>...</td>\n",
       "      <td>...</td>\n",
       "      <td>...</td>\n",
       "      <td>...</td>\n",
       "      <td>...</td>\n",
       "      <td>...</td>\n",
       "      <td>...</td>\n",
       "      <td>...</td>\n",
       "      <td>...</td>\n",
       "      <td>...</td>\n",
       "      <td>...</td>\n",
       "      <td>...</td>\n",
       "      <td>...</td>\n",
       "      <td>...</td>\n",
       "      <td>...</td>\n",
       "      <td>...</td>\n",
       "      <td>...</td>\n",
       "      <td>...</td>\n",
       "      <td>...</td>\n",
       "      <td>...</td>\n",
       "      <td>...</td>\n",
       "    </tr>\n",
       "    <tr>\n",
       "      <th>2023-12-31 19:00:00</th>\n",
       "      <td>42701.7</td>\n",
       "      <td>42741.9</td>\n",
       "      <td>42624.7</td>\n",
       "      <td>42659.9</td>\n",
       "      <td>3944.096</td>\n",
       "      <td>-0.000977</td>\n",
       "      <td>0.003040</td>\n",
       "      <td>42679.290530</td>\n",
       "      <td>14458.392200</td>\n",
       "      <td>23305</td>\n",
       "      <td>...</td>\n",
       "      <td>42637.906153</td>\n",
       "      <td>169.125134</td>\n",
       "      <td>15.126558</td>\n",
       "      <td>227.820</td>\n",
       "      <td>42951.0</td>\n",
       "      <td>42001.0</td>\n",
       "      <td>69.357895</td>\n",
       "      <td>70.965061</td>\n",
       "      <td>42759.297406</td>\n",
       "      <td>42450.999570</td>\n",
       "    </tr>\n",
       "    <tr>\n",
       "      <th>2023-12-31 20:00:00</th>\n",
       "      <td>42659.9</td>\n",
       "      <td>42724.5</td>\n",
       "      <td>42543.3</td>\n",
       "      <td>42599.1</td>\n",
       "      <td>4730.936</td>\n",
       "      <td>-0.001425</td>\n",
       "      <td>0.002863</td>\n",
       "      <td>42625.853600</td>\n",
       "      <td>12326.119420</td>\n",
       "      <td>28014</td>\n",
       "      <td>...</td>\n",
       "      <td>42624.970769</td>\n",
       "      <td>146.536492</td>\n",
       "      <td>-5.969668</td>\n",
       "      <td>221.385</td>\n",
       "      <td>42951.0</td>\n",
       "      <td>42001.0</td>\n",
       "      <td>62.957895</td>\n",
       "      <td>69.088831</td>\n",
       "      <td>42721.008996</td>\n",
       "      <td>42467.649282</td>\n",
       "    </tr>\n",
       "    <tr>\n",
       "      <th>2023-12-31 21:00:00</th>\n",
       "      <td>42599.2</td>\n",
       "      <td>42717.0</td>\n",
       "      <td>42558.2</td>\n",
       "      <td>42558.9</td>\n",
       "      <td>3794.010</td>\n",
       "      <td>-0.000944</td>\n",
       "      <td>0.002673</td>\n",
       "      <td>42634.523520</td>\n",
       "      <td>13367.479780</td>\n",
       "      <td>21732</td>\n",
       "      <td>...</td>\n",
       "      <td>42602.947179</td>\n",
       "      <td>118.552478</td>\n",
       "      <td>-27.162945</td>\n",
       "      <td>215.100</td>\n",
       "      <td>42951.0</td>\n",
       "      <td>42001.0</td>\n",
       "      <td>58.726316</td>\n",
       "      <td>67.739478</td>\n",
       "      <td>42722.770296</td>\n",
       "      <td>42467.450398</td>\n",
       "    </tr>\n",
       "    <tr>\n",
       "      <th>2023-12-31 22:00:00</th>\n",
       "      <td>42559.0</td>\n",
       "      <td>42629.5</td>\n",
       "      <td>42111.9</td>\n",
       "      <td>42294.8</td>\n",
       "      <td>11952.346</td>\n",
       "      <td>-0.006206</td>\n",
       "      <td>0.003008</td>\n",
       "      <td>42405.779790</td>\n",
       "      <td>19111.648040</td>\n",
       "      <td>67159</td>\n",
       "      <td>...</td>\n",
       "      <td>42500.231453</td>\n",
       "      <td>29.880804</td>\n",
       "      <td>-92.667696</td>\n",
       "      <td>227.115</td>\n",
       "      <td>42951.0</td>\n",
       "      <td>42001.0</td>\n",
       "      <td>30.926316</td>\n",
       "      <td>64.286785</td>\n",
       "      <td>42755.066028</td>\n",
       "      <td>42406.531398</td>\n",
       "    </tr>\n",
       "    <tr>\n",
       "      <th>2023-12-31 23:00:00</th>\n",
       "      <td>42294.8</td>\n",
       "      <td>42380.1</td>\n",
       "      <td>42083.1</td>\n",
       "      <td>42314.0</td>\n",
       "      <td>11676.465</td>\n",
       "      <td>0.000454</td>\n",
       "      <td>0.002975</td>\n",
       "      <td>42244.204650</td>\n",
       "      <td>16705.045390</td>\n",
       "      <td>58180</td>\n",
       "      <td>...</td>\n",
       "      <td>42438.154302</td>\n",
       "      <td>-20.614817</td>\n",
       "      <td>-114.530654</td>\n",
       "      <td>233.785</td>\n",
       "      <td>42951.0</td>\n",
       "      <td>42001.0</td>\n",
       "      <td>32.947368</td>\n",
       "      <td>60.836340</td>\n",
       "      <td>42828.669946</td>\n",
       "      <td>42279.383698</td>\n",
       "    </tr>\n",
       "  </tbody>\n",
       "</table>\n",
       "<p>8550 rows × 31 columns</p>\n",
       "</div>"
      ],
      "text/plain": [
       "                        Open     High      Low    Close     Volume   returns  \\\n",
       "time                                                                           \n",
       "2023-01-01 20:00:00  16596.1  16618.8  16592.0  16593.8   4951.995 -0.000139   \n",
       "2023-01-01 21:00:00  16593.7  16599.7  16584.1  16597.6   3040.626  0.000229   \n",
       "2023-01-01 22:00:00  16597.6  16605.4  16579.1  16594.4   3633.682 -0.000193   \n",
       "2023-01-01 23:00:00  16594.4  16617.4  16594.4  16610.3   5040.212  0.000958   \n",
       "2023-01-02 00:00:00  16610.4  16618.4  16572.9  16578.0   5774.202 -0.001945   \n",
       "...                      ...      ...      ...      ...        ...       ...   \n",
       "2023-12-31 19:00:00  42701.7  42741.9  42624.7  42659.9   3944.096 -0.000977   \n",
       "2023-12-31 20:00:00  42659.9  42724.5  42543.3  42599.1   4730.936 -0.001425   \n",
       "2023-12-31 21:00:00  42599.2  42717.0  42558.2  42558.9   3794.010 -0.000944   \n",
       "2023-12-31 22:00:00  42559.0  42629.5  42111.9  42294.8  11952.346 -0.006206   \n",
       "2023-12-31 23:00:00  42294.8  42380.1  42083.1  42314.0  11676.465  0.000454   \n",
       "\n",
       "                     volatility         price     quote_qty  is_buyer_maker  \\\n",
       "time                                                                          \n",
       "2023-01-01 20:00:00    0.000824  16604.578969   7755.192178           15436   \n",
       "2023-01-01 21:00:00    0.000773  16592.678507   5988.572184           10807   \n",
       "2023-01-01 22:00:00    0.000763  16591.705509   7402.187094           11318   \n",
       "2023-01-01 23:00:00    0.000749  16604.731182   8303.054581           13189   \n",
       "2023-01-02 00:00:00    0.000873  16592.870115   7729.667724           18099   \n",
       "...                         ...           ...           ...             ...   \n",
       "2023-12-31 19:00:00    0.003040  42679.290530  14458.392200           23305   \n",
       "2023-12-31 20:00:00    0.002863  42625.853600  12326.119420           28014   \n",
       "2023-12-31 21:00:00    0.002673  42634.523520  13367.479780           21732   \n",
       "2023-12-31 22:00:00    0.003008  42405.779790  19111.648040           67159   \n",
       "2023-12-31 23:00:00    0.002975  42244.204650  16705.045390           58180   \n",
       "\n",
       "                     ...    Short_MA_5    MACD_526  MACD_Oscillator_526  \\\n",
       "time                 ...                                                  \n",
       "2023-01-01 20:00:00  ...  16593.800000    0.000000             0.000000   \n",
       "2023-01-01 21:00:00  ...  16595.066667    0.985185             0.788148   \n",
       "2023-01-01 22:00:00  ...  16594.844444    0.739369             0.433866   \n",
       "2023-01-01 23:00:00  ...  16599.996296    4.691597             3.508875   \n",
       "2023-01-02 00:00:00  ...  16592.664198   -1.358672            -2.033116   \n",
       "...                  ...           ...         ...                  ...   \n",
       "2023-12-31 19:00:00  ...  42637.906153  169.125134            15.126558   \n",
       "2023-12-31 20:00:00  ...  42624.970769  146.536492            -5.969668   \n",
       "2023-12-31 21:00:00  ...  42602.947179  118.552478           -27.162945   \n",
       "2023-12-31 22:00:00  ...  42500.231453   29.880804           -92.667696   \n",
       "2023-12-31 23:00:00  ...  42438.154302  -20.614817          -114.530654   \n",
       "\n",
       "                         atr  highest_high  lowest_low         %K         %D  \\\n",
       "time                                                                           \n",
       "2023-01-01 20:00:00   26.800           NaN         NaN        NaN        NaN   \n",
       "2023-01-01 21:00:00   21.200           NaN         NaN        NaN        NaN   \n",
       "2023-01-01 22:00:00   22.900           NaN         NaN        NaN        NaN   \n",
       "2023-01-01 23:00:00   22.925           NaN         NaN        NaN        NaN   \n",
       "2023-01-02 00:00:00   27.440           NaN         NaN        NaN        NaN   \n",
       "...                      ...           ...         ...        ...        ...   \n",
       "2023-12-31 19:00:00  227.820       42951.0     42001.0  69.357895  70.965061   \n",
       "2023-12-31 20:00:00  221.385       42951.0     42001.0  62.957895  69.088831   \n",
       "2023-12-31 21:00:00  215.100       42951.0     42001.0  58.726316  67.739478   \n",
       "2023-12-31 22:00:00  227.115       42951.0     42001.0  30.926316  64.286785   \n",
       "2023-12-31 23:00:00  233.785       42951.0     42001.0  32.947368  60.836340   \n",
       "\n",
       "                       upper_band    lower_band  \n",
       "time                                             \n",
       "2023-01-01 20:00:00           NaN           NaN  \n",
       "2023-01-01 21:00:00           NaN           NaN  \n",
       "2023-01-01 22:00:00           NaN           NaN  \n",
       "2023-01-01 23:00:00           NaN           NaN  \n",
       "2023-01-02 00:00:00           NaN           NaN  \n",
       "...                           ...           ...  \n",
       "2023-12-31 19:00:00  42759.297406  42450.999570  \n",
       "2023-12-31 20:00:00  42721.008996  42467.649282  \n",
       "2023-12-31 21:00:00  42722.770296  42467.450398  \n",
       "2023-12-31 22:00:00  42755.066028  42406.531398  \n",
       "2023-12-31 23:00:00  42828.669946  42279.383698  \n",
       "\n",
       "[8550 rows x 31 columns]"
      ]
     },
     "execution_count": 20,
     "metadata": {},
     "output_type": "execute_result"
    }
   ],
   "source": [
    "MACD(df, 6, 13, 4) # 단기추세 감지 but 노이즈에 민감할 가능성 있음\n",
    "MACD(df, 12, 26, 9) # 일반적인 window 계수 but 변동성이 큰 시장에선 느리게 반응할 수 있음\n",
    "MACD(df, 5, 26, 9) \n",
    "calculate_atr(df)\n",
    "calculate_atr(df, period = 20)\n",
    "\n",
    "cal_stoc_os(df) # periods = 14\n",
    "cal_stoc_os(df, period = 20, m = 2)\n",
    "cal_stoc_os(df, period = 14, m = 2)\n",
    "cal_stoc_os(df, period = 30, m = 2)\n",
    "\n",
    "cal_stoc_os(df, period = 20, m = 3)\n",
    "cal_stoc_os(df, period = 14, m = 3)\n",
    "cal_stoc_os(df, period = 30, m = 3)\n",
    "\n",
    "cal_stoc_os(df, period = 20, m = 5)\n",
    "cal_stoc_os(df, period = 14, m = 5)\n",
    "cal_stoc_os(df, period = 30, m = 5)\n",
    "\n",
    "cal_stoc_os(df, period = 20, m = 10)\n",
    "cal_stoc_os(df, period = 14, m = 10)\n",
    "cal_stoc_os(df, period = 30, m = 10)\n",
    "\n",
    "bollinger_bands(df) # windows = 20\n",
    "bollinger_bands(df, window = 15)\n",
    "bollinger_bands(df, window = 10)\n",
    "bollinger_bands(df, num_std_dev= 2)\n",
    "bollinger_bands(df, window = 15,num_std_dev= 2)\n",
    "bollinger_bands(df, window = 10, num_std_dev= 2)"
   ]
  },
  {
   "cell_type": "code",
   "execution_count": 21,
   "id": "4ae499e8-c2de-4a7e-9f8f-398f7884882f",
   "metadata": {
    "tags": []
   },
   "outputs": [
    {
     "data": {
      "text/plain": [
       "Index(['Open', 'High', 'Low', 'Close', 'Volume', 'returns', 'volatility',\n",
       "       'price', 'quote_qty', 'is_buyer_maker', 'quote_qty_cal', 'Short_MA_6',\n",
       "       'Long_MA_13', 'MACD_613', 'Signal_Line_4', 'MACD_Oscillator_613',\n",
       "       'Short_MA_12', 'Long_MA_26', 'MACD_1226', 'Signal_Line_9',\n",
       "       'MACD_Oscillator_1226', 'Short_MA_5', 'MACD_526', 'MACD_Oscillator_526',\n",
       "       'atr', 'highest_high', 'lowest_low', '%K', '%D', 'upper_band',\n",
       "       'lower_band'],\n",
       "      dtype='object')"
      ]
     },
     "execution_count": 21,
     "metadata": {},
     "output_type": "execute_result"
    }
   ],
   "source": [
    "df.columns"
   ]
  },
  {
   "cell_type": "markdown",
   "id": "fee5770d-3037-4fcc-8e63-c843d86df5a0",
   "metadata": {},
   "source": [
    "### Model Efficiency Optimization"
   ]
  },
  {
   "cell_type": "markdown",
   "id": "ccc0e120-2aa9-4fd6-8401-1b2ea220b333",
   "metadata": {
    "tags": []
   },
   "source": [
    "- kfold"
   ]
  }
 ],
 "metadata": {
  "kernelspec": {
   "display_name": "Python 3 (ipykernel)",
   "language": "python",
   "name": "python3"
  },
  "language_info": {
   "codemirror_mode": {
    "name": "ipython",
    "version": 3
   },
   "file_extension": ".py",
   "mimetype": "text/x-python",
   "name": "python",
   "nbconvert_exporter": "python",
   "pygments_lexer": "ipython3",
   "version": "3.9.7"
  }
 },
 "nbformat": 4,
 "nbformat_minor": 5
}
