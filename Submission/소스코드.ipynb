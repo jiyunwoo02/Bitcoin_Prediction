{
 "cells": [
  {
   "cell_type": "markdown",
   "id": "286ee579-5c51-4aad-884d-910a3225e96e",
   "metadata": {},
   "source": [
    "# Bitcoin Volatility Prediction"
   ]
  },
  {
   "cell_type": "markdown",
   "id": "66a03b45-1dcb-4226-87c3-c58dd823be9a",
   "metadata": {},
   "source": [
    "## Importing Libraries"
   ]
  },
  {
   "cell_type": "code",
   "execution_count": 1,
   "id": "d8e4946d-1dfa-4e0a-8f97-ab954a37cd53",
   "metadata": {},
   "outputs": [],
   "source": [
    "#!pip install -r requirements.txt"
   ]
  },
  {
   "cell_type": "markdown",
   "id": "3e59bed3",
   "metadata": {},
   "source": [
    "#### 파이썬 3.11.4 ver로 작성하였습니다."
   ]
  },
  {
   "cell_type": "code",
   "execution_count": 75,
   "id": "ec8f2548-68f8-4a4f-8872-81c0c92d89c2",
   "metadata": {
    "tags": []
   },
   "outputs": [
    {
     "data": {
      "text/plain": [
       "'3.11.4 (main, Jul  5 2023, 09:00:44) [Clang 14.0.6 ]'"
      ]
     },
     "execution_count": 75,
     "metadata": {},
     "output_type": "execute_result"
    }
   ],
   "source": [
    "import sys\n",
    "sys.version"
   ]
  },
  {
   "cell_type": "code",
   "execution_count": 2,
   "id": "69ac58d8-cf11-47a3-afca-c868c86e7c1f",
   "metadata": {
    "tags": []
   },
   "outputs": [],
   "source": [
    "import dask\n",
    "import pandas as pd\n",
    "import numpy as np\n",
    "import dask.dataframe as dd\n",
    "import pandas as pd\n",
    "\n",
    "import sklearn\n",
    "from sklearn.preprocessing import MinMaxScaler\n",
    "from sklearn.ensemble import RandomForestRegressor\n",
    "from sklearn.model_selection import TimeSeriesSplit\n",
    "from sklearn.metrics import make_scorer, mean_absolute_error, mean_absolute_percentage_error\n",
    "from sklearn.metrics import mean_squared_error\n",
    "from sklearn.model_selection import cross_val_score, train_test_split\n",
    "\n",
    "import BayesianOptimization\n",
    "from bayes_opt import BayesianOptimization\n",
    "\n",
    "import pmdarima as pm #auto_arima\n",
    "from pmdarima.arima.utils import ndiffs\n",
    "from pmdarima import auto_arima\n",
    "import statsmodels.api as sm\n",
    "\n",
    "# Baseline model\n",
    "from sklearn.ensemble import RandomForestRegressor\n",
    "from sklearn.model_selection import TimeSeriesSplit #Timeseires Split\n",
    "\n",
    "import os\n",
    "import warnings #경고 무시"
   ]
  },
  {
   "cell_type": "code",
   "execution_count": 3,
   "id": "bd783ecb-be0b-4057-b45f-0242f2626912",
   "metadata": {
    "tags": []
   },
   "outputs": [
    {
     "name": "stdout",
     "output_type": "stream",
     "text": [
      "dask version: 2023.6.0\n",
      "pandas version: 1.5.3\n",
      "numpy version: 1.24.3\n",
      "scikit-learn version: 1.3.0\n",
      "pmdarima version: 2.0.4\n",
      "statsmodels version: 0.14.0\n"
     ]
    }
   ],
   "source": [
    "# Print version\n",
    "print(\"dask version:\", dask.__version__)\n",
    "print(\"pandas version:\", pd.__version__)\n",
    "print(\"numpy version:\", np.__version__)\n",
    "print(\"scikit-learn version:\", sklearn.__version__)  \n",
    "print(\"pmdarima version:\", pm.__version__)\n",
    "print(\"statsmodels version:\", sm.__version__)"
   ]
  },
  {
   "cell_type": "code",
   "execution_count": 4,
   "id": "0668699d",
   "metadata": {},
   "outputs": [],
   "source": [
    "## 기본 설정 값\n",
    "\n",
    "# fig\n",
    "figsize=(15,5)\n",
    "\n",
    "# 결과창 출력의 최대 행 및 열 수 설정\n",
    "pd.set_option('display.max_rows', 200)\n",
    "pd.set_option('display.max_columns', 200)\n",
    "\n",
    "# 경고 무시 설정\n",
    "# warnings.filterwarnings('ignore')\n",
    "# KPSS에서 경고가 하나 떴는데 큰 영향을 미치지 않는다고 하여 작성\n",
    "# 경고 무시 설정은 다른 코드들 작성할 때 주석 처리해 가며 확인 필요"
   ]
  },
  {
   "cell_type": "markdown",
   "id": "d120e6b7-1bec-40c9-8369-9ef660458b60",
   "metadata": {},
   "source": [
    "- 리샘플링 함수"
   ]
  },
  {
   "cell_type": "code",
   "execution_count": 5,
   "id": "a571227a-7e76-47ca-b09f-7c74dfa8c160",
   "metadata": {
    "tags": []
   },
   "outputs": [],
   "source": [
    "def convert_tick_to_ohlcv(data):\n",
    "    \"\"\"\n",
    "    Converts given Binance tick data into 1-hour interval OHLCV (Open, High, Low, Close, Volume) data.\n",
    "    :param data: DataFrame with Tick data\n",
    "    :return: DataFrame with the Open, High, Low, Close, Volume values\n",
    "    \"\"\"\n",
    "\n",
    "    data['time'] = pd.to_datetime(data['time'], unit='ms')\n",
    "    ohlcv = data.resample('1H', on='time').agg({\n",
    "        'price': ['first', 'max', 'min', 'last'],\n",
    "        'qty': 'sum',\n",
    "        'quote_qty': 'std', # 추가\n",
    "        'is_buyer_maker': 'sum'}) #추가\n",
    "        \n",
    "\n",
    "    ohlcv.columns = ['Open', 'High', 'Low', 'Close', 'Volume','quote_qty','is_buyer_maker']\n",
    "    return ohlcv\n",
    "\n",
    "def calculate_volatility(data, window=20):\n",
    "    \"\"\"\n",
    "    Calculate the rolling volatility using the standard deviation of returns.\n",
    "    :param data: DataFrame with OHLCV data\n",
    "    :param window: The number of periods to use for calculating the standard deviation\n",
    "    :return: DataFrame with the volatility values\n",
    "    \"\"\"\n",
    "\n",
    "    # Calculate daily returns\n",
    "    data['returns'] = data['Close'].pct_change()\n",
    "\n",
    "    # Calculate the rolling standard deviation of returns\n",
    "    data['volatility'] = data['returns'].rolling(window=window).std()\n",
    "\n",
    "    return data"
   ]
  },
  {
   "cell_type": "markdown",
   "id": "2ae15b25-6876-4740-9b1a-aceaf751eabb",
   "metadata": {
    "tags": []
   },
   "source": [
    "### Loading Data"
   ]
  },
  {
   "cell_type": "markdown",
   "id": "6ab21185-4baf-45ff-8289-3d6783d93001",
   "metadata": {},
   "source": [
    "- 제공된 원본 데이터 파일 리스트(경로 수정 필요)"
   ]
  },
  {
   "cell_type": "code",
   "execution_count": 6,
   "id": "53a219bf-f9a4-49a4-bf20-80ab70092a7f",
   "metadata": {
    "tags": []
   },
   "outputs": [],
   "source": [
    "file_list = [\n",
    "    '../data/BTCUSDT-trades-2023-01.csv',\n",
    "    '../data/BTCUSDT-trades-2023-02.csv',\n",
    "    '../data/BTCUSDT-trades-2023-03.csv',\n",
    "    '../data/BTCUSDT-trades-2023-04.csv',\n",
    "    '../data/BTCUSDT-trades-2023-05.csv',\n",
    "    '../data/BTCUSDT-trades-2023-06.csv',\n",
    "    '../data/BTCUSDT-trades-2023-07.csv',\n",
    "    '../data/BTCUSDT-trades-2023-08.csv',\n",
    "    '../data/BTCUSDT-trades-2023-09.csv',\n",
    "    '../data/BTCUSDT-trades-2023-10.csv',\n",
    "    '../data/BTCUSDT-trades-2023-11.csv',\n",
    "    '../data/BTCUSDT-trades-2023-12.csv',\n",
    "    '../data/BTCUSDT-trades-2024-01-01.csv',\n",
    "    '../data/BTCUSDT-trades-2024-01-02.csv',\n",
    "    '../data/BTCUSDT-trades-2024-01-03.csv',\n",
    "    '../data/BTCUSDT-trades-2024-01-04.csv',\n",
    "    '../data/BTCUSDT-trades-2024-01-05.csv',\n",
    "    '../data/BTCUSDT-trades-2024-01-06.csv',\n",
    "    '../data/BTCUSDT-trades-2024-01-07.csv',\n",
    "    '../data/BTCUSDT-trades-2024-01-08.csv',\n",
    "    '../data/BTCUSDT-trades-2024-01-09.csv',\n",
    "    '../data/BTCUSDT-trades-2024-01-10.csv',\n",
    "    '../data/BTCUSDT-trades-2024-01-11.csv',\n",
    "    '../data/BTCUSDT-trades-2024-01-12.csv',\n",
    "    '../data/BTCUSDT-trades-2024-01-13.csv',\n",
    "    '../data/BTCUSDT-trades-2024-01-14.csv',\n",
    "    '../data/BTCUSDT-trades-2024-01-15.csv',\n",
    "    '../data/BTCUSDT-trades-2024-01-16.csv',\n",
    "    '../data/BTCUSDT-trades-2024-01-17.csv',\n",
    "    '../data/BTCUSDT-trades-2024-01-18.csv',\n",
    "    '../data/BTCUSDT-trades-2024-01-19.csv',\n",
    "    '../data/BTCUSDT-trades-2024-01-20.csv',\n",
    "    '../data/BTCUSDT-trades-2024-01-21.csv',\n",
    "    '../data/BTCUSDT-trades-2024-01-22.csv',\n",
    "    '../data/BTCUSDT-trades-2024-01-23.csv',\n",
    "    '../data/BTCUSDT-trades-2024-01-24.csv',\n",
    "    '../data/BTCUSDT-trades-2024-01-25.csv',\n",
    "    '../data/BTCUSDT-trades-2024-01-26.csv',\n",
    "    '../data/BTCUSDT-trades-2024-01-27.csv'   \n",
    "\n",
    "]"
   ]
  },
  {
   "cell_type": "markdown",
   "id": "5031dc0d-7a08-4694-8e32-b3f3588cadad",
   "metadata": {
    "tags": []
   },
   "source": [
    "- 대용량 데이터 처리 > dask 라이브러리 이용\n",
    "    - 처리 순서 : 개별 파일 dask.read_csv > pandas dataframe으로 변경 > 변환함수 적용 > append > 전체 데이터 concat"
   ]
  },
  {
   "cell_type": "code",
   "execution_count": 7,
   "id": "dc8195cf-a9ec-4a03-80af-2e6e2c2310dd",
   "metadata": {
    "tags": []
   },
   "outputs": [
    {
     "name": "stdout",
     "output_type": "stream",
     "text": [
      "Reading and processing file: ../data/BTCUSDT-trades-2023-01.csv\n",
      "Reading and processing file: ../data/BTCUSDT-trades-2023-02.csv\n",
      "Reading and processing file: ../data/BTCUSDT-trades-2023-03.csv\n",
      "Reading and processing file: ../data/BTCUSDT-trades-2023-04.csv\n",
      "Reading and processing file: ../data/BTCUSDT-trades-2023-05.csv\n",
      "Reading and processing file: ../data/BTCUSDT-trades-2023-06.csv\n",
      "Reading and processing file: ../data/BTCUSDT-trades-2023-07.csv\n",
      "Reading and processing file: ../data/BTCUSDT-trades-2023-08.csv\n",
      "Reading and processing file: ../data/BTCUSDT-trades-2023-09.csv\n",
      "Reading and processing file: ../data/BTCUSDT-trades-2023-10.csv\n",
      "Reading and processing file: ../data/BTCUSDT-trades-2023-11.csv\n",
      "Reading and processing file: ../data/BTCUSDT-trades-2023-12.csv\n",
      "Reading and processing file: ../data/BTCUSDT-trades-2024-01-01.csv\n",
      "Reading and processing file: ../data/BTCUSDT-trades-2024-01-02.csv\n",
      "Reading and processing file: ../data/BTCUSDT-trades-2024-01-03.csv\n",
      "Reading and processing file: ../data/BTCUSDT-trades-2024-01-04.csv\n",
      "Reading and processing file: ../data/BTCUSDT-trades-2024-01-05.csv\n",
      "Reading and processing file: ../data/BTCUSDT-trades-2024-01-06.csv\n",
      "Reading and processing file: ../data/BTCUSDT-trades-2024-01-07.csv\n",
      "Reading and processing file: ../data/BTCUSDT-trades-2024-01-08.csv\n",
      "Reading and processing file: ../data/BTCUSDT-trades-2024-01-09.csv\n",
      "Reading and processing file: ../data/BTCUSDT-trades-2024-01-10.csv\n",
      "Reading and processing file: ../data/BTCUSDT-trades-2024-01-11.csv\n",
      "Reading and processing file: ../data/BTCUSDT-trades-2024-01-12.csv\n",
      "Reading and processing file: ../data/BTCUSDT-trades-2024-01-13.csv\n",
      "Reading and processing file: ../data/BTCUSDT-trades-2024-01-14.csv\n",
      "Reading and processing file: ../data/BTCUSDT-trades-2024-01-15.csv\n",
      "Reading and processing file: ../data/BTCUSDT-trades-2024-01-16.csv\n",
      "Reading and processing file: ../data/BTCUSDT-trades-2024-01-17.csv\n",
      "Reading and processing file: ../data/BTCUSDT-trades-2024-01-18.csv\n",
      "Reading and processing file: ../data/BTCUSDT-trades-2024-01-19.csv\n",
      "Reading and processing file: ../data/BTCUSDT-trades-2024-01-20.csv\n",
      "Reading and processing file: ../data/BTCUSDT-trades-2024-01-21.csv\n",
      "Reading and processing file: ../data/BTCUSDT-trades-2024-01-22.csv\n",
      "Reading and processing file: ../data/BTCUSDT-trades-2024-01-23.csv\n",
      "Reading and processing file: ../data/BTCUSDT-trades-2024-01-24.csv\n",
      "Reading and processing file: ../data/BTCUSDT-trades-2024-01-25.csv\n",
      "Reading and processing file: ../data/BTCUSDT-trades-2024-01-26.csv\n",
      "Reading and processing file: ../data/BTCUSDT-trades-2024-01-27.csv\n"
     ]
    }
   ],
   "source": [
    "# 데이터를 담을 빈 리스트 생성\n",
    "combined_dfs = []\n",
    "\n",
    "# 각 파일에 대해 처리\n",
    "for file in file_list:\n",
    "    print(f\"Reading and processing file: {file}\")\n",
    "    \n",
    "    # 파일을 Dask DataFrame으로 읽기\n",
    "    dask_df = dd.read_csv(file, usecols=['price', 'qty', 'quote_qty', 'time', 'is_buyer_maker'], dtype={'price': float, 'qty': float, 'quote_qty': float, 'time': float})\n",
    "    \n",
    "    try:\n",
    "        # 변환 함수 적용\n",
    "        computed_df = dask_df.compute()\n",
    "        # 예외 처리\n",
    "        try:\n",
    "            processed_df = convert_tick_to_ohlcv(computed_df)\n",
    "            combined_dfs.append(processed_df)\n",
    "        except Exception as e:\n",
    "            print(f\"Error processing file {file}: {e}\")\n",
    "    except Exception as e:\n",
    "        print(f\"Error reading file {file}: {e}\")\n",
    "\n",
    "# 모든 파일 처리가 끝나면 리스트에 있는 모든 DataFrame을 concat하여 하나의 DataFrame으로 만듦\n",
    "combined_df = pd.concat(combined_dfs, ignore_index=False)\n"
   ]
  },
  {
   "cell_type": "markdown",
   "id": "9b719a96-08f5-416b-bfbd-eef1e888f5cd",
   "metadata": {},
   "source": [
    "- 변동성 계산"
   ]
  },
  {
   "cell_type": "code",
   "execution_count": 8,
   "id": "f53e0162-db23-476e-b2cd-4b1a28bd2140",
   "metadata": {
    "tags": []
   },
   "outputs": [],
   "source": [
    "volatility_data = calculate_volatility(combined_df)"
   ]
  },
  {
   "cell_type": "code",
   "execution_count": 9,
   "id": "72cfc0f4-8445-4d13-aeaf-d06b0915c9b5",
   "metadata": {
    "tags": []
   },
   "outputs": [],
   "source": [
    "df = volatility_data.copy()"
   ]
  },
  {
   "cell_type": "code",
   "execution_count": 10,
   "id": "b4022271-f8b4-415a-87fd-d9fc9da6152f",
   "metadata": {
    "tags": []
   },
   "outputs": [],
   "source": [
    "#df.set_index('time', inplace=True)\n",
    "df.index = pd.to_datetime(df.index)\n",
    "df.isnull().sum()\n",
    "dfc = df.copy()"
   ]
  },
  {
   "cell_type": "markdown",
   "id": "36473263",
   "metadata": {},
   "source": [
    "### Sloving Caution"
   ]
  },
  {
   "cell_type": "code",
   "execution_count": 11,
   "id": "8a0a3566",
   "metadata": {
    "scrolled": true
   },
   "outputs": [],
   "source": [
    "# 경고 해결용(returns ARIMA) - 인덱스에 주파수 정보 추가\n",
    "\n",
    "# 기존 데이터프레임의 인덱스를 활용하여 새로운 인덱스 생성\n",
    "new_date_rng = pd.date_range(start=df.index.min(), end=df.index.max(), freq='h')\n",
    "\n",
    "# 새로운 인덱스를 기존 데이터프레임의 인덱스로 설정\n",
    "df = df.reindex(new_date_rng)"
   ]
  },
  {
   "cell_type": "markdown",
   "id": "9364fddf-3340-435d-978e-7ba852a333f3",
   "metadata": {},
   "source": [
    "## 1. Preprocessing"
   ]
  },
  {
   "cell_type": "markdown",
   "id": "40e6743f-ad05-48db-8723-55e26d82db2e",
   "metadata": {},
   "source": [
    "### 1-1. Checking Missing Value"
   ]
  },
  {
   "cell_type": "markdown",
   "id": "5ef1b68c-9ef2-4207-b126-f9e5d591274c",
   "metadata": {
    "tags": []
   },
   "source": [
    "#### - price(Open, High, Low, Close, price), quote_qty"
   ]
  },
  {
   "cell_type": "code",
   "execution_count": 12,
   "id": "a706e139-c49b-44c5-a719-a50400e7520a",
   "metadata": {
    "tags": []
   },
   "outputs": [
    {
     "data": {
      "text/plain": [
       "DatetimeIndex(['2023-01-23 21:00:00', '2023-01-23 22:00:00',\n",
       "               '2023-01-23 23:00:00', '2023-01-24 21:00:00',\n",
       "               '2023-01-24 22:00:00', '2023-01-24 23:00:00',\n",
       "               '2023-01-25 16:00:00', '2023-01-25 17:00:00',\n",
       "               '2023-01-25 18:00:00', '2023-01-25 19:00:00',\n",
       "               '2023-01-25 20:00:00', '2023-01-25 21:00:00',\n",
       "               '2023-01-25 22:00:00', '2023-01-25 23:00:00',\n",
       "               '2023-01-26 22:00:00', '2023-01-26 23:00:00',\n",
       "               '2023-03-14 23:00:00', '2023-03-15 22:00:00',\n",
       "               '2023-03-15 23:00:00', '2023-11-21 03:00:00',\n",
       "               '2023-11-21 04:00:00', '2023-11-21 05:00:00',\n",
       "               '2023-11-21 06:00:00', '2023-11-21 07:00:00'],\n",
       "              dtype='datetime64[ns]', freq=None)"
      ]
     },
     "metadata": {},
     "output_type": "display_data"
    }
   ],
   "source": [
    "display(df[df['Open'].isnull()].index)"
   ]
  },
  {
   "cell_type": "markdown",
   "id": "26eeb6a2-fc22-4ed3-a73e-08deea6a5563",
   "metadata": {},
   "source": [
    "#### - returns"
   ]
  },
  {
   "cell_type": "code",
   "execution_count": 13,
   "id": "d45895e5-c9ff-4b35-b7bc-6b76d1d9e106",
   "metadata": {
    "tags": []
   },
   "outputs": [
    {
     "data": {
      "text/plain": [
       "DatetimeIndex(['2023-01-01'], dtype='datetime64[ns]', freq='H')"
      ]
     },
     "execution_count": 13,
     "metadata": {},
     "output_type": "execute_result"
    }
   ],
   "source": [
    "df[df['returns'].isnull()].index # 매달 1일 1시간"
   ]
  },
  {
   "cell_type": "markdown",
   "id": "57fa7b13",
   "metadata": {},
   "source": [
    "#### - volatility"
   ]
  },
  {
   "cell_type": "code",
   "execution_count": 14,
   "id": "3e3c8ef2",
   "metadata": {},
   "outputs": [
    {
     "data": {
      "text/plain": [
       "DatetimeIndex(['2023-01-01 00:00:00', '2023-01-01 01:00:00',\n",
       "               '2023-01-01 02:00:00', '2023-01-01 03:00:00',\n",
       "               '2023-01-01 04:00:00', '2023-01-01 05:00:00',\n",
       "               '2023-01-01 06:00:00', '2023-01-01 07:00:00',\n",
       "               '2023-01-01 08:00:00', '2023-01-01 09:00:00',\n",
       "               '2023-01-01 10:00:00', '2023-01-01 11:00:00',\n",
       "               '2023-01-01 12:00:00', '2023-01-01 13:00:00',\n",
       "               '2023-01-01 14:00:00', '2023-01-01 15:00:00',\n",
       "               '2023-01-01 16:00:00', '2023-01-01 17:00:00',\n",
       "               '2023-01-01 18:00:00', '2023-01-01 19:00:00'],\n",
       "              dtype='datetime64[ns]', freq='H')"
      ]
     },
     "execution_count": 14,
     "metadata": {},
     "output_type": "execute_result"
    }
   ],
   "source": [
    "df[df['volatility'].isnull()].index"
   ]
  },
  {
   "cell_type": "markdown",
   "id": "a60bb1a6",
   "metadata": {},
   "source": [
    "### 1-1-2. Interpolate MIssing Value - functions"
   ]
  },
  {
   "cell_type": "code",
   "execution_count": 15,
   "id": "513f09d4-1011-428c-838c-f2b440b28e0b",
   "metadata": {
    "tags": []
   },
   "outputs": [],
   "source": [
    "# spline 보간\n",
    "def spline_interpolate_column(df, column_name, order=3):\n",
    "    df[column_name] = df[column_name].interpolate(method='spline', order=order)"
   ]
  },
  {
   "cell_type": "code",
   "execution_count": 16,
   "id": "06ab8624",
   "metadata": {},
   "outputs": [],
   "source": [
    "# ARIMA 보간\n",
    "def ARIMA_Interpolate(df, column_list):\n",
    "    \n",
    "    for column in column_list:\n",
    "        df_column = df[column]  # 해당 컬럼 선택\n",
    "\n",
    "        # 최적의 ARIMA 모델 선택\n",
    "        autoarima_model = pm.auto_arima(df_column.dropna(), suppress_warnings=True)\n",
    "        order = autoarima_model.order\n",
    "        print(order)\n",
    "        \n",
    "        # 결측치 보간 전 ARIMA 모델 훈련\n",
    "        model = sm.tsa.ARIMA(df_column.dropna(), order=order)  # p, d, q는 ARIMA 모델의 차수\n",
    "        results = model.fit()\n",
    "\n",
    "        # 보간할 결측치 선택\n",
    "        missing_indices = df_column[df_column.isnull()].index\n",
    "\n",
    "        # 결측치 보간\n",
    "        for idx in missing_indices:\n",
    "            # ARIMA 모델을 사용하여 결측치 예측\n",
    "            predicted_value = results.get_forecast(steps=1).predicted_mean.iloc[0]  # 예측 결과의 첫 번째 값을 사용\n",
    "\n",
    "            # 결측치 보간\n",
    "            df_column[idx] = predicted_value"
   ]
  },
  {
   "cell_type": "markdown",
   "id": "a8af8a2e",
   "metadata": {},
   "source": [
    "### 1-1-3. Interpolate Missing Value - Interpolate"
   ]
  },
  {
   "cell_type": "markdown",
   "id": "0849f121",
   "metadata": {},
   "source": [
    "#### - price(Open, High, Low, Close, price), quote_qty"
   ]
  },
  {
   "cell_type": "code",
   "execution_count": 17,
   "id": "69b28ab4-f149-4bfb-a669-7feb08cf7bd4",
   "metadata": {
    "tags": []
   },
   "outputs": [],
   "source": [
    "columns_to_interpolate = ['Open', 'High', 'Low', 'Close']\n",
    "\n",
    "for column in columns_to_interpolate:\n",
    "    spline_interpolate_column(df, column, order=3)"
   ]
  },
  {
   "cell_type": "code",
   "execution_count": 18,
   "id": "edbb18ca-007d-4d0d-8b98-70f16d265949",
   "metadata": {
    "tags": []
   },
   "outputs": [],
   "source": [
    "columns_to_interpolate_volume = ['quote_qty']\n",
    "\n",
    "for column in columns_to_interpolate_volume:\n",
    "    spline_interpolate_column(df, column, order=3)"
   ]
  },
  {
   "cell_type": "code",
   "execution_count": 19,
   "id": "1782bd00",
   "metadata": {},
   "outputs": [
    {
     "data": {
      "text/plain": [
       "Open               0\n",
       "High               0\n",
       "Low                0\n",
       "Close              0\n",
       "Volume             0\n",
       "quote_qty          0\n",
       "is_buyer_maker     0\n",
       "returns            1\n",
       "volatility        20\n",
       "dtype: int64"
      ]
     },
     "execution_count": 19,
     "metadata": {},
     "output_type": "execute_result"
    }
   ],
   "source": [
    "df.isna().sum()"
   ]
  },
  {
   "cell_type": "markdown",
   "id": "411aebc4",
   "metadata": {},
   "source": [
    "#### - returns"
   ]
  },
  {
   "cell_type": "code",
   "execution_count": 20,
   "id": "6782364b",
   "metadata": {
    "scrolled": true
   },
   "outputs": [
    {
     "name": "stdout",
     "output_type": "stream",
     "text": [
      "(0, 0, 2)\n"
     ]
    },
    {
     "name": "stderr",
     "output_type": "stream",
     "text": [
      "/var/folders/nz/vk3v33x95bs4kf3ymy0z0my00000gn/T/ipykernel_67522/3144430565.py:25: SettingWithCopyWarning: \n",
      "A value is trying to be set on a copy of a slice from a DataFrame\n",
      "\n",
      "See the caveats in the documentation: https://pandas.pydata.org/pandas-docs/stable/user_guide/indexing.html#returning-a-view-versus-a-copy\n",
      "  df_column[idx] = predicted_value\n"
     ]
    }
   ],
   "source": [
    "returns_list=['returns']\n",
    "ARIMA_Interpolate(df, returns_list)"
   ]
  },
  {
   "cell_type": "markdown",
   "id": "4aba49a7-e83f-4429-9980-317d1f81f156",
   "metadata": {},
   "source": [
    "#### - volatility"
   ]
  },
  {
   "cell_type": "code",
   "execution_count": 21,
   "id": "e7408811-bca8-431a-b5f3-e22225d39c5c",
   "metadata": {
    "scrolled": true,
    "tags": []
   },
   "outputs": [
    {
     "name": "stderr",
     "output_type": "stream",
     "text": [
      "/Users/kimsinwoo/anaconda3/lib/python3.11/site-packages/statsmodels/tsa/statespace/sarimax.py:1899: RuntimeWarning: divide by zero encountered in reciprocal\n",
      "  return np.roots(self.polynomial_reduced_ar)**-1\n",
      "/Users/kimsinwoo/anaconda3/lib/python3.11/site-packages/statsmodels/tsa/statespace/sarimax.py:1906: RuntimeWarning: divide by zero encountered in reciprocal\n",
      "  return np.roots(self.polynomial_reduced_ma)**-1\n",
      "/Users/kimsinwoo/anaconda3/lib/python3.11/site-packages/statsmodels/tsa/statespace/sarimax.py:1899: RuntimeWarning: divide by zero encountered in reciprocal\n",
      "  return np.roots(self.polynomial_reduced_ar)**-1\n",
      "/Users/kimsinwoo/anaconda3/lib/python3.11/site-packages/statsmodels/tsa/statespace/sarimax.py:1906: RuntimeWarning: divide by zero encountered in reciprocal\n",
      "  return np.roots(self.polynomial_reduced_ma)**-1\n"
     ]
    },
    {
     "name": "stdout",
     "output_type": "stream",
     "text": [
      "(1, 1, 0)\n"
     ]
    },
    {
     "name": "stderr",
     "output_type": "stream",
     "text": [
      "/Users/kimsinwoo/anaconda3/lib/python3.11/site-packages/statsmodels/base/model.py:607: ConvergenceWarning: Maximum Likelihood optimization failed to converge. Check mle_retvals\n",
      "  warnings.warn(\"Maximum Likelihood optimization failed to \"\n",
      "/var/folders/nz/vk3v33x95bs4kf3ymy0z0my00000gn/T/ipykernel_67522/3144430565.py:25: SettingWithCopyWarning: \n",
      "A value is trying to be set on a copy of a slice from a DataFrame\n",
      "\n",
      "See the caveats in the documentation: https://pandas.pydata.org/pandas-docs/stable/user_guide/indexing.html#returning-a-view-versus-a-copy\n",
      "  df_column[idx] = predicted_value\n"
     ]
    }
   ],
   "source": [
    "volatility_list=['volatility']\n",
    "ARIMA_Interpolate(df, volatility_list)"
   ]
  },
  {
   "cell_type": "code",
   "execution_count": 22,
   "id": "0546c421",
   "metadata": {},
   "outputs": [
    {
     "data": {
      "text/plain": [
       "Open              0\n",
       "High              0\n",
       "Low               0\n",
       "Close             0\n",
       "Volume            0\n",
       "quote_qty         0\n",
       "is_buyer_maker    0\n",
       "returns           0\n",
       "volatility        0\n",
       "dtype: int64"
      ]
     },
     "execution_count": 22,
     "metadata": {},
     "output_type": "execute_result"
    }
   ],
   "source": [
    "df.isna().sum()"
   ]
  },
  {
   "cell_type": "markdown",
   "id": "47ed1e4c-6bbd-4146-8b55-e6f564400a7c",
   "metadata": {},
   "source": [
    "### 1-2. Technical Indicators"
   ]
  },
  {
   "cell_type": "markdown",
   "id": "0200d3f3-c850-4791-8323-1a7e6e801dcd",
   "metadata": {
    "tags": []
   },
   "source": [
    "#### MACD Function (Moving Average Convergence Divergence)\n",
    "Calculates the difference between short-term and long-term moving averages to indicate trends.\n",
    "Quickly detects trends but may be sensitive to noise.\n",
    "#### Stochastic Oscillator Function\n",
    "An indicator that reflects the trend of price fluctuations in financial markets such as stocks.\n",
    "Calculates the relative strength of the price based on the highest (High) and lowest (Low) prices over the last N days.\n",
    "#### ATR Function (Average True Range)\n",
    "An indicator that represents the average range of price movements.\n",
    "Calculates volatility using True Range.\n",
    "#### Bollinger Bands Function\n",
    "An indicator that uses moving averages and standard deviation to assess the relative height of prices.\n",
    "Forms upper and lower bands around the moving average, indicating deviations in stock prices.\n",
    "#### ROC Function (Rate of Change)\n",
    "Measures the relative price change over a certain period.\n",
    "Analyzes the flow of stock prices by comparing the current price with the price a certain period ago.\n",
    "#### RSI Function (Relative Strength Index)\n",
    "Relative Strength Index indicating the relative strength of price movements over a specific period.\n",
    "Generally, values above 70 indicate an uptrend, while values below 30 indicate a downtrend.\n",
    "#### Ultimate Oscillator Function\n",
    "A comprehensive indicator that combines relative strength for various periods.\n",
    "Provides a richer analysis of the stock price trend."
   ]
  },
  {
   "cell_type": "markdown",
   "id": "b92187b5",
   "metadata": {},
   "source": [
    "###  1-2-1. Technical Indicators - functions"
   ]
  },
  {
   "cell_type": "code",
   "execution_count": 23,
   "id": "559326cd-55c0-4740-94fa-477bf21f13f5",
   "metadata": {
    "tags": []
   },
   "outputs": [],
   "source": [
    "# MACD 함수\n",
    "def MACD(data, short_window, long_window, signal_window):\n",
    "    \n",
    "    data[f'Short_MA_{short_window}'] = data['Close'].ewm(span=short_window, adjust=False).mean()\n",
    "    data[f'Long_MA_{long_window}'] = data['Close'].ewm(span=long_window, adjust=False).mean()\n",
    "    data[f'MACD_{short_window}{long_window}'] = data[f'Short_MA_{short_window}'] - data[f'Long_MA_{long_window}']\n",
    "    data[f'Signal_Line_{signal_window}'] = data[f'MACD_{short_window}{long_window}'].ewm(span=signal_window, adjust=False).mean()\n",
    "    data[f'MACD_Oscillator_{short_window}{long_window}'] = data[f'MACD_{short_window}{long_window}'] - data[f'Signal_Line_{signal_window}']\n",
    "    \n",
    "    data.drop([f'Short_MA_{short_window}', f'Long_MA_{long_window}'], axis=1, inplace=True)\n",
    "    \n",
    "    return data\n",
    "    \n",
    "    \n",
    "# Stochastic Oscillator 함수\n",
    "def cal_stoc_os(df, period, m):\n",
    "    \n",
    "    # 최근 N일간의 최고가(H)와 최저가(L)\n",
    "    df[f'SO high_{period}{m}'] = df['High'].rolling(window=period).max()\n",
    "    df[f'SO low_{period}{m}'] = df['Low'].rolling(window=period).min()\n",
    "    \n",
    "    # %K 계산\n",
    "    df[f'SO %K_{period}{m}'] = (df['Close'] - df[f'SO low_{period}{m}']) / (df[f'SO high_{period}{m}'] - df[f'SO low_{period}{m}']) * 100\n",
    "    \n",
    "    # %D 계산\n",
    "    df[f'SO %D_{period}{m}'] = df[f'SO %K_{period}{m}'].rolling(m).mean()\n",
    "    \n",
    "    return df\n",
    "    \n",
    "    \n",
    "# ATR 함수\n",
    "def calculate_atr(df, period):\n",
    "    # True Range 계산\n",
    "    df['high-low'] = df['High'] - df['Low']\n",
    "    df['high-close'] = abs(df['High'] - df['Close'].shift())\n",
    "    df['low-close'] = abs(df['Low'] - df['Close'].shift())\n",
    "    \n",
    "    df['true_range'] = df[['high-low', 'high-close', 'low-close']].max(axis=1)\n",
    "    \n",
    "    # ATR 계산\n",
    "    df[f'atr_{period}'] = df['true_range'].rolling(window=period, min_periods=1).mean()\n",
    "    \n",
    "    # 임시 열 삭제\n",
    "    df.drop(['high-low', 'high-close', 'low-close', 'true_range'], axis=1, inplace=True)\n",
    "    \n",
    "    return df\n",
    "\n",
    "\n",
    "# Bollinger_band 함수\n",
    "def bollinger_bands(df, window, num_std_dev):\n",
    "    \n",
    "    # 이동평균 계산\n",
    "    df['rolling_mean'] = df['Close'].rolling(window=window).mean()\n",
    "\n",
    "    # 표준편차 계산\n",
    "    df['rolling_std'] = df['Close'].rolling(window=window).std()\n",
    "\n",
    "    # 볼린저 밴드 상단 및 하단 계산\n",
    "    df[f'upper_band_{window}'] = df['rolling_mean'] + (num_std_dev * df['rolling_std'])\n",
    "    df[f'lower_band_{window}'] = df['rolling_mean'] - (num_std_dev * df['rolling_std'])\n",
    "\n",
    "    # 필요없는 컬럼 삭제\n",
    "    df.drop(['rolling_mean', 'rolling_std'], axis=1, inplace=True)\n",
    "\n",
    "    return df\n",
    "\n",
    "\n",
    "# ROC 계산 함수\n",
    "def calculate_roc(df, close_column, timeperiod):\n",
    "    prev_close = df[close_column].shift(timeperiod)\n",
    "    df[f'roc_{timeperiod}'] = ((df[close_column] - prev_close) / prev_close) * 100\n",
    "    \n",
    "    return df\n",
    "\n",
    "\n",
    "# RSI 계산 함수\n",
    "def calculate_rsi(df, close_column, timeperiod):\n",
    "    delta = df[close_column].diff(1)\n",
    "    gain = delta.where(delta > 0, 0)\n",
    "    loss = -delta.where(delta < 0, 0)\n",
    "\n",
    "    avg_gain = gain.rolling(window=timeperiod, min_periods=1).mean()\n",
    "    avg_loss = loss.rolling(window=timeperiod, min_periods=1).mean()\n",
    "\n",
    "    rs = avg_gain / avg_loss\n",
    "    df[f'rsi_{timeperiod}'] = 100 - (100 / (1 + rs))\n",
    "    \n",
    "    return df\n",
    "\n",
    "\n",
    "# Ultimate Oscillator 함수\n",
    "def calculate_uo(df, period1, period2, period3):\n",
    "    # True Range 계산\n",
    "    df['true_range'] = df['High'].combine(df['Close'].shift(1), max) - df['Low'].combine(df['Close'].shift(1), min)\n",
    "    \n",
    "    # Average True Range (ATR) 계산\n",
    "    df['avg_true_range1'] = df['true_range'].rolling(window=period1, min_periods=1).mean()\n",
    "    df['avg_true_range2'] = df['true_range'].rolling(window=period2, min_periods=1).mean()\n",
    "    df['avg_true_range3'] = df['true_range'].rolling(window=period3, min_periods=1).mean()\n",
    "\n",
    "    # Buying Pressure 계산\n",
    "    df['buying_pressure'] = df['Close'] - df[['Open', 'Close']].min(axis=1)\n",
    "\n",
    "    # True Buying Pressure (TBP) 계산\n",
    "    df['true_buying_pressure1'] = df['buying_pressure'].rolling(window=period1, min_periods=1).sum()\n",
    "    df['true_buying_pressure2'] = df['buying_pressure'].rolling(window=period2, min_periods=1).sum()\n",
    "    df['true_buying_pressure3'] = df['buying_pressure'].rolling(window=period3, min_periods=1).sum()\n",
    "\n",
    "    # UO 계산\n",
    "    df[f'UO_{period1}{period2}{period3}'] = (\n",
    "        100\n",
    "        * (4 * df['true_buying_pressure1'] / df['avg_true_range1'])\n",
    "        + 2 * (4 * df['true_buying_pressure2'] / df['avg_true_range2'])\n",
    "        + (df['true_buying_pressure3'] / df['avg_true_range3'])\n",
    "    ) / (4 + 2 + 1)\n",
    "\n",
    "    # 필요 없는 열 제거\n",
    "    df = df.drop(['true_range', 'avg_true_range1', 'avg_true_range2', 'avg_true_range3',\n",
    "                  'buying_pressure', 'true_buying_pressure1', 'true_buying_pressure2', 'true_buying_pressure3'], axis=1)\n",
    "\n",
    "    return df"
   ]
  },
  {
   "cell_type": "markdown",
   "id": "8d9a3e52-4361-4821-aa90-bcbb2d96a881",
   "metadata": {
    "tags": []
   },
   "source": [
    "### 1-2-2. Technical Indicators - Generate"
   ]
  },
  {
   "cell_type": "code",
   "execution_count": 24,
   "id": "57803069",
   "metadata": {},
   "outputs": [],
   "source": [
    "# df와 df_idc의 구분을 위한 copy\n",
    "df_copy=df.copy()"
   ]
  },
  {
   "cell_type": "code",
   "execution_count": 25,
   "id": "f5d6c751-f3cb-4d85-b096-a9d5857d4cb6",
   "metadata": {
    "scrolled": true,
    "tags": []
   },
   "outputs": [],
   "source": [
    "df_idc = MACD(df_copy, 6, 13, 4) # 단기추세 감지 but 노이즈에 민감할 가능성 있음\n",
    "df_idc = MACD(df_idc, 12, 26, 9) # 일반적인 window 계수 but 변동성이 큰 시장에선 느리게 반응할 수 있음\n",
    "df_idc = MACD(df_idc, 5, 26, 9) \n",
    "\n",
    "df_idc = calculate_atr(df_idc, period=14) \n",
    "df_idc = calculate_atr(df_idc, period=20)\n",
    "\n",
    "df_idc = cal_stoc_os(df_idc, period=20, m=2)\n",
    "df_idc = cal_stoc_os(df_idc, period=14, m=2)\n",
    "df_idc = cal_stoc_os(df_idc, period=30, m=2)\n",
    "\n",
    "df_idc = cal_stoc_os(df_idc, period=20, m=3)\n",
    "df_idc = cal_stoc_os(df_idc, period=14, m=3)\n",
    "df_idc = cal_stoc_os(df_idc, period=30, m=3)\n",
    "\n",
    "df_idc = cal_stoc_os(df_idc, period=20, m=5)\n",
    "df_idc = cal_stoc_os(df_idc, period=14, m=5)\n",
    "df_idc = cal_stoc_os(df_idc, period=30, m=5)\n",
    "\n",
    "df_idc = cal_stoc_os(df_idc, period=20, m=10)\n",
    "df_idc = cal_stoc_os(df_idc, period=14, m=10)\n",
    "df_idc = cal_stoc_os(df_idc, period=30, m=10)\n",
    "\n",
    "df_idc = bollinger_bands(df_idc, window=20, num_std_dev=1.5)\n",
    "df_idc = bollinger_bands(df_idc, window=15, num_std_dev=1.5)\n",
    "df_idc = bollinger_bands(df_idc, window=10, num_std_dev=1.5)\n",
    "df_idc = bollinger_bands(df_idc, window=20, num_std_dev=2)\n",
    "df_idc = bollinger_bands(df_idc, window=15, num_std_dev=2)\n",
    "df_idc = bollinger_bands(df_idc, window=10, num_std_dev=2)\n",
    "\n",
    "df_idc = calculate_roc(df_idc, close_column='Close', timeperiod=1)\n",
    "df_idc = calculate_roc(df_idc, close_column='Close', timeperiod=2)\n",
    "\n",
    "df_idc = calculate_rsi(df_idc, close_column='Close', timeperiod=7)\n",
    "df_idc = calculate_rsi(df_idc, close_column='Close', timeperiod=9)\n",
    "df_idc = calculate_rsi(df_idc, close_column='Close', timeperiod=14)\n",
    "\n",
    "df_idc_all = calculate_uo(df_idc, 7, 10, 14)\n",
    "df_idc_all = calculate_uo(df_idc, 7, 9, 11)\n",
    "df_idc_all = calculate_uo(df_idc, 7, 10, 12)"
   ]
  },
  {
   "cell_type": "code",
   "execution_count": 26,
   "id": "ab8136ef",
   "metadata": {},
   "outputs": [
    {
     "data": {
      "text/plain": [
       "(9408, 81)"
      ]
     },
     "execution_count": 26,
     "metadata": {},
     "output_type": "execute_result"
    }
   ],
   "source": [
    "df_idc_all.shape"
   ]
  },
  {
   "cell_type": "markdown",
   "id": "95e522df-8627-4bd0-9939-cc592186f787",
   "metadata": {},
   "source": [
    "### 1-3. Checking Missing Value"
   ]
  },
  {
   "cell_type": "code",
   "execution_count": 27,
   "id": "d6d34d64",
   "metadata": {
    "scrolled": true
   },
   "outputs": [
    {
     "data": {
      "text/plain": [
       "Open                     0\n",
       "High                     0\n",
       "Low                      0\n",
       "Close                    0\n",
       "Volume                   0\n",
       "quote_qty                0\n",
       "is_buyer_maker           0\n",
       "returns                  0\n",
       "volatility               0\n",
       "MACD_613                 0\n",
       "Signal_Line_4            0\n",
       "MACD_Oscillator_613      0\n",
       "MACD_1226                0\n",
       "Signal_Line_9            0\n",
       "MACD_Oscillator_1226     0\n",
       "MACD_526                 0\n",
       "MACD_Oscillator_526      0\n",
       "atr_14                   0\n",
       "atr_20                   0\n",
       "SO high_202             19\n",
       "SO low_202              19\n",
       "SO %K_202               19\n",
       "SO %D_202               20\n",
       "SO high_142             13\n",
       "SO low_142              13\n",
       "SO %K_142               13\n",
       "SO %D_142               14\n",
       "SO high_302             29\n",
       "SO low_302              29\n",
       "SO %K_302               29\n",
       "SO %D_302               30\n",
       "SO high_203             19\n",
       "SO low_203              19\n",
       "SO %K_203               19\n",
       "SO %D_203               21\n",
       "SO high_143             13\n",
       "SO low_143              13\n",
       "SO %K_143               13\n",
       "SO %D_143               15\n",
       "SO high_303             29\n",
       "SO low_303              29\n",
       "SO %K_303               29\n",
       "SO %D_303               31\n",
       "SO high_205             19\n",
       "SO low_205              19\n",
       "SO %K_205               19\n",
       "SO %D_205               23\n",
       "SO high_145             13\n",
       "SO low_145              13\n",
       "SO %K_145               13\n",
       "SO %D_145               17\n",
       "SO high_305             29\n",
       "SO low_305              29\n",
       "SO %K_305               29\n",
       "SO %D_305               33\n",
       "SO high_2010            19\n",
       "SO low_2010             19\n",
       "SO %K_2010              19\n",
       "SO %D_2010              28\n",
       "SO high_1410            13\n",
       "SO low_1410             13\n",
       "SO %K_1410              13\n",
       "SO %D_1410              22\n",
       "SO high_3010            29\n",
       "SO low_3010             29\n",
       "SO %K_3010              29\n",
       "SO %D_3010              38\n",
       "upper_band_20           19\n",
       "lower_band_20           19\n",
       "upper_band_15           14\n",
       "lower_band_15           14\n",
       "upper_band_10            9\n",
       "lower_band_10            9\n",
       "roc_1                    1\n",
       "roc_2                    2\n",
       "rsi_7                    1\n",
       "rsi_9                    1\n",
       "rsi_14                   1\n",
       "UO_71014                 0\n",
       "UO_7911                  0\n",
       "UO_71012                 0\n",
       "dtype: int64"
      ]
     },
     "execution_count": 27,
     "metadata": {},
     "output_type": "execute_result"
    }
   ],
   "source": [
    "df_idc_all.isna().sum()"
   ]
  },
  {
   "cell_type": "markdown",
   "id": "dbfdbfaa",
   "metadata": {},
   "source": [
    "#### - SO"
   ]
  },
  {
   "cell_type": "code",
   "execution_count": 28,
   "id": "4b47c52d-28f0-489c-bc7a-ef11582cb4e8",
   "metadata": {
    "scrolled": true,
    "tags": []
   },
   "outputs": [
    {
     "name": "stdout",
     "output_type": "stream",
     "text": [
      "(1, 1, 3)\n"
     ]
    },
    {
     "name": "stderr",
     "output_type": "stream",
     "text": [
      "/var/folders/nz/vk3v33x95bs4kf3ymy0z0my00000gn/T/ipykernel_67522/3144430565.py:25: SettingWithCopyWarning: \n",
      "A value is trying to be set on a copy of a slice from a DataFrame\n",
      "\n",
      "See the caveats in the documentation: https://pandas.pydata.org/pandas-docs/stable/user_guide/indexing.html#returning-a-view-versus-a-copy\n",
      "  df_column[idx] = predicted_value\n"
     ]
    },
    {
     "name": "stdout",
     "output_type": "stream",
     "text": [
      "(1, 1, 2)\n"
     ]
    },
    {
     "name": "stderr",
     "output_type": "stream",
     "text": [
      "/var/folders/nz/vk3v33x95bs4kf3ymy0z0my00000gn/T/ipykernel_67522/3144430565.py:25: SettingWithCopyWarning: \n",
      "A value is trying to be set on a copy of a slice from a DataFrame\n",
      "\n",
      "See the caveats in the documentation: https://pandas.pydata.org/pandas-docs/stable/user_guide/indexing.html#returning-a-view-versus-a-copy\n",
      "  df_column[idx] = predicted_value\n"
     ]
    },
    {
     "name": "stdout",
     "output_type": "stream",
     "text": [
      "(1, 0, 1)\n"
     ]
    },
    {
     "name": "stderr",
     "output_type": "stream",
     "text": [
      "/var/folders/nz/vk3v33x95bs4kf3ymy0z0my00000gn/T/ipykernel_67522/3144430565.py:25: SettingWithCopyWarning: \n",
      "A value is trying to be set on a copy of a slice from a DataFrame\n",
      "\n",
      "See the caveats in the documentation: https://pandas.pydata.org/pandas-docs/stable/user_guide/indexing.html#returning-a-view-versus-a-copy\n",
      "  df_column[idx] = predicted_value\n"
     ]
    },
    {
     "name": "stdout",
     "output_type": "stream",
     "text": [
      "(5, 0, 0)\n"
     ]
    },
    {
     "name": "stderr",
     "output_type": "stream",
     "text": [
      "/var/folders/nz/vk3v33x95bs4kf3ymy0z0my00000gn/T/ipykernel_67522/3144430565.py:25: SettingWithCopyWarning: \n",
      "A value is trying to be set on a copy of a slice from a DataFrame\n",
      "\n",
      "See the caveats in the documentation: https://pandas.pydata.org/pandas-docs/stable/user_guide/indexing.html#returning-a-view-versus-a-copy\n",
      "  df_column[idx] = predicted_value\n"
     ]
    },
    {
     "name": "stdout",
     "output_type": "stream",
     "text": [
      "(2, 1, 1)\n"
     ]
    },
    {
     "name": "stderr",
     "output_type": "stream",
     "text": [
      "/var/folders/nz/vk3v33x95bs4kf3ymy0z0my00000gn/T/ipykernel_67522/3144430565.py:25: SettingWithCopyWarning: \n",
      "A value is trying to be set on a copy of a slice from a DataFrame\n",
      "\n",
      "See the caveats in the documentation: https://pandas.pydata.org/pandas-docs/stable/user_guide/indexing.html#returning-a-view-versus-a-copy\n",
      "  df_column[idx] = predicted_value\n"
     ]
    },
    {
     "name": "stdout",
     "output_type": "stream",
     "text": [
      "(1, 1, 2)\n"
     ]
    },
    {
     "name": "stderr",
     "output_type": "stream",
     "text": [
      "/var/folders/nz/vk3v33x95bs4kf3ymy0z0my00000gn/T/ipykernel_67522/3144430565.py:25: SettingWithCopyWarning: \n",
      "A value is trying to be set on a copy of a slice from a DataFrame\n",
      "\n",
      "See the caveats in the documentation: https://pandas.pydata.org/pandas-docs/stable/user_guide/indexing.html#returning-a-view-versus-a-copy\n",
      "  df_column[idx] = predicted_value\n"
     ]
    },
    {
     "name": "stdout",
     "output_type": "stream",
     "text": [
      "(2, 0, 0)\n"
     ]
    },
    {
     "name": "stderr",
     "output_type": "stream",
     "text": [
      "/var/folders/nz/vk3v33x95bs4kf3ymy0z0my00000gn/T/ipykernel_67522/3144430565.py:25: SettingWithCopyWarning: \n",
      "A value is trying to be set on a copy of a slice from a DataFrame\n",
      "\n",
      "See the caveats in the documentation: https://pandas.pydata.org/pandas-docs/stable/user_guide/indexing.html#returning-a-view-versus-a-copy\n",
      "  df_column[idx] = predicted_value\n"
     ]
    },
    {
     "name": "stdout",
     "output_type": "stream",
     "text": [
      "(5, 0, 0)\n"
     ]
    },
    {
     "name": "stderr",
     "output_type": "stream",
     "text": [
      "/var/folders/nz/vk3v33x95bs4kf3ymy0z0my00000gn/T/ipykernel_67522/3144430565.py:25: SettingWithCopyWarning: \n",
      "A value is trying to be set on a copy of a slice from a DataFrame\n",
      "\n",
      "See the caveats in the documentation: https://pandas.pydata.org/pandas-docs/stable/user_guide/indexing.html#returning-a-view-versus-a-copy\n",
      "  df_column[idx] = predicted_value\n"
     ]
    },
    {
     "name": "stdout",
     "output_type": "stream",
     "text": [
      "(3, 1, 2)\n"
     ]
    },
    {
     "name": "stderr",
     "output_type": "stream",
     "text": [
      "/var/folders/nz/vk3v33x95bs4kf3ymy0z0my00000gn/T/ipykernel_67522/3144430565.py:25: SettingWithCopyWarning: \n",
      "A value is trying to be set on a copy of a slice from a DataFrame\n",
      "\n",
      "See the caveats in the documentation: https://pandas.pydata.org/pandas-docs/stable/user_guide/indexing.html#returning-a-view-versus-a-copy\n",
      "  df_column[idx] = predicted_value\n"
     ]
    },
    {
     "name": "stdout",
     "output_type": "stream",
     "text": [
      "(1, 1, 2)\n"
     ]
    },
    {
     "name": "stderr",
     "output_type": "stream",
     "text": [
      "/var/folders/nz/vk3v33x95bs4kf3ymy0z0my00000gn/T/ipykernel_67522/3144430565.py:25: SettingWithCopyWarning: \n",
      "A value is trying to be set on a copy of a slice from a DataFrame\n",
      "\n",
      "See the caveats in the documentation: https://pandas.pydata.org/pandas-docs/stable/user_guide/indexing.html#returning-a-view-versus-a-copy\n",
      "  df_column[idx] = predicted_value\n"
     ]
    },
    {
     "name": "stdout",
     "output_type": "stream",
     "text": [
      "(2, 0, 1)\n"
     ]
    },
    {
     "name": "stderr",
     "output_type": "stream",
     "text": [
      "/var/folders/nz/vk3v33x95bs4kf3ymy0z0my00000gn/T/ipykernel_67522/3144430565.py:25: SettingWithCopyWarning: \n",
      "A value is trying to be set on a copy of a slice from a DataFrame\n",
      "\n",
      "See the caveats in the documentation: https://pandas.pydata.org/pandas-docs/stable/user_guide/indexing.html#returning-a-view-versus-a-copy\n",
      "  df_column[idx] = predicted_value\n"
     ]
    },
    {
     "name": "stdout",
     "output_type": "stream",
     "text": [
      "(5, 0, 0)\n"
     ]
    },
    {
     "name": "stderr",
     "output_type": "stream",
     "text": [
      "/var/folders/nz/vk3v33x95bs4kf3ymy0z0my00000gn/T/ipykernel_67522/3144430565.py:25: SettingWithCopyWarning: \n",
      "A value is trying to be set on a copy of a slice from a DataFrame\n",
      "\n",
      "See the caveats in the documentation: https://pandas.pydata.org/pandas-docs/stable/user_guide/indexing.html#returning-a-view-versus-a-copy\n",
      "  df_column[idx] = predicted_value\n"
     ]
    },
    {
     "name": "stdout",
     "output_type": "stream",
     "text": [
      "(1, 1, 3)\n"
     ]
    },
    {
     "name": "stderr",
     "output_type": "stream",
     "text": [
      "/var/folders/nz/vk3v33x95bs4kf3ymy0z0my00000gn/T/ipykernel_67522/3144430565.py:25: SettingWithCopyWarning: \n",
      "A value is trying to be set on a copy of a slice from a DataFrame\n",
      "\n",
      "See the caveats in the documentation: https://pandas.pydata.org/pandas-docs/stable/user_guide/indexing.html#returning-a-view-versus-a-copy\n",
      "  df_column[idx] = predicted_value\n"
     ]
    },
    {
     "name": "stdout",
     "output_type": "stream",
     "text": [
      "(1, 1, 2)\n"
     ]
    },
    {
     "name": "stderr",
     "output_type": "stream",
     "text": [
      "/var/folders/nz/vk3v33x95bs4kf3ymy0z0my00000gn/T/ipykernel_67522/3144430565.py:25: SettingWithCopyWarning: \n",
      "A value is trying to be set on a copy of a slice from a DataFrame\n",
      "\n",
      "See the caveats in the documentation: https://pandas.pydata.org/pandas-docs/stable/user_guide/indexing.html#returning-a-view-versus-a-copy\n",
      "  df_column[idx] = predicted_value\n"
     ]
    },
    {
     "name": "stdout",
     "output_type": "stream",
     "text": [
      "(1, 0, 1)\n"
     ]
    },
    {
     "name": "stderr",
     "output_type": "stream",
     "text": [
      "/var/folders/nz/vk3v33x95bs4kf3ymy0z0my00000gn/T/ipykernel_67522/3144430565.py:25: SettingWithCopyWarning: \n",
      "A value is trying to be set on a copy of a slice from a DataFrame\n",
      "\n",
      "See the caveats in the documentation: https://pandas.pydata.org/pandas-docs/stable/user_guide/indexing.html#returning-a-view-versus-a-copy\n",
      "  df_column[idx] = predicted_value\n"
     ]
    },
    {
     "name": "stdout",
     "output_type": "stream",
     "text": [
      "(5, 0, 1)\n"
     ]
    },
    {
     "name": "stderr",
     "output_type": "stream",
     "text": [
      "/var/folders/nz/vk3v33x95bs4kf3ymy0z0my00000gn/T/ipykernel_67522/3144430565.py:25: SettingWithCopyWarning: \n",
      "A value is trying to be set on a copy of a slice from a DataFrame\n",
      "\n",
      "See the caveats in the documentation: https://pandas.pydata.org/pandas-docs/stable/user_guide/indexing.html#returning-a-view-versus-a-copy\n",
      "  df_column[idx] = predicted_value\n"
     ]
    },
    {
     "name": "stdout",
     "output_type": "stream",
     "text": [
      "(2, 1, 1)\n"
     ]
    },
    {
     "name": "stderr",
     "output_type": "stream",
     "text": [
      "/var/folders/nz/vk3v33x95bs4kf3ymy0z0my00000gn/T/ipykernel_67522/3144430565.py:25: SettingWithCopyWarning: \n",
      "A value is trying to be set on a copy of a slice from a DataFrame\n",
      "\n",
      "See the caveats in the documentation: https://pandas.pydata.org/pandas-docs/stable/user_guide/indexing.html#returning-a-view-versus-a-copy\n",
      "  df_column[idx] = predicted_value\n"
     ]
    },
    {
     "name": "stdout",
     "output_type": "stream",
     "text": [
      "(1, 1, 2)\n"
     ]
    },
    {
     "name": "stderr",
     "output_type": "stream",
     "text": [
      "/var/folders/nz/vk3v33x95bs4kf3ymy0z0my00000gn/T/ipykernel_67522/3144430565.py:25: SettingWithCopyWarning: \n",
      "A value is trying to be set on a copy of a slice from a DataFrame\n",
      "\n",
      "See the caveats in the documentation: https://pandas.pydata.org/pandas-docs/stable/user_guide/indexing.html#returning-a-view-versus-a-copy\n",
      "  df_column[idx] = predicted_value\n"
     ]
    },
    {
     "name": "stdout",
     "output_type": "stream",
     "text": [
      "(2, 0, 0)\n"
     ]
    },
    {
     "name": "stderr",
     "output_type": "stream",
     "text": [
      "/var/folders/nz/vk3v33x95bs4kf3ymy0z0my00000gn/T/ipykernel_67522/3144430565.py:25: SettingWithCopyWarning: \n",
      "A value is trying to be set on a copy of a slice from a DataFrame\n",
      "\n",
      "See the caveats in the documentation: https://pandas.pydata.org/pandas-docs/stable/user_guide/indexing.html#returning-a-view-versus-a-copy\n",
      "  df_column[idx] = predicted_value\n"
     ]
    },
    {
     "name": "stdout",
     "output_type": "stream",
     "text": [
      "(5, 0, 1)\n"
     ]
    },
    {
     "name": "stderr",
     "output_type": "stream",
     "text": [
      "/var/folders/nz/vk3v33x95bs4kf3ymy0z0my00000gn/T/ipykernel_67522/3144430565.py:25: SettingWithCopyWarning: \n",
      "A value is trying to be set on a copy of a slice from a DataFrame\n",
      "\n",
      "See the caveats in the documentation: https://pandas.pydata.org/pandas-docs/stable/user_guide/indexing.html#returning-a-view-versus-a-copy\n",
      "  df_column[idx] = predicted_value\n"
     ]
    },
    {
     "name": "stdout",
     "output_type": "stream",
     "text": [
      "(3, 1, 2)\n"
     ]
    },
    {
     "name": "stderr",
     "output_type": "stream",
     "text": [
      "/var/folders/nz/vk3v33x95bs4kf3ymy0z0my00000gn/T/ipykernel_67522/3144430565.py:25: SettingWithCopyWarning: \n",
      "A value is trying to be set on a copy of a slice from a DataFrame\n",
      "\n",
      "See the caveats in the documentation: https://pandas.pydata.org/pandas-docs/stable/user_guide/indexing.html#returning-a-view-versus-a-copy\n",
      "  df_column[idx] = predicted_value\n"
     ]
    },
    {
     "name": "stdout",
     "output_type": "stream",
     "text": [
      "(1, 1, 2)\n"
     ]
    },
    {
     "name": "stderr",
     "output_type": "stream",
     "text": [
      "/var/folders/nz/vk3v33x95bs4kf3ymy0z0my00000gn/T/ipykernel_67522/3144430565.py:25: SettingWithCopyWarning: \n",
      "A value is trying to be set on a copy of a slice from a DataFrame\n",
      "\n",
      "See the caveats in the documentation: https://pandas.pydata.org/pandas-docs/stable/user_guide/indexing.html#returning-a-view-versus-a-copy\n",
      "  df_column[idx] = predicted_value\n"
     ]
    },
    {
     "name": "stdout",
     "output_type": "stream",
     "text": [
      "(2, 0, 1)\n"
     ]
    },
    {
     "name": "stderr",
     "output_type": "stream",
     "text": [
      "/var/folders/nz/vk3v33x95bs4kf3ymy0z0my00000gn/T/ipykernel_67522/3144430565.py:25: SettingWithCopyWarning: \n",
      "A value is trying to be set on a copy of a slice from a DataFrame\n",
      "\n",
      "See the caveats in the documentation: https://pandas.pydata.org/pandas-docs/stable/user_guide/indexing.html#returning-a-view-versus-a-copy\n",
      "  df_column[idx] = predicted_value\n"
     ]
    },
    {
     "name": "stdout",
     "output_type": "stream",
     "text": [
      "(5, 0, 1)\n"
     ]
    },
    {
     "name": "stderr",
     "output_type": "stream",
     "text": [
      "/var/folders/nz/vk3v33x95bs4kf3ymy0z0my00000gn/T/ipykernel_67522/3144430565.py:25: SettingWithCopyWarning: \n",
      "A value is trying to be set on a copy of a slice from a DataFrame\n",
      "\n",
      "See the caveats in the documentation: https://pandas.pydata.org/pandas-docs/stable/user_guide/indexing.html#returning-a-view-versus-a-copy\n",
      "  df_column[idx] = predicted_value\n"
     ]
    },
    {
     "name": "stdout",
     "output_type": "stream",
     "text": [
      "(1, 1, 3)\n"
     ]
    },
    {
     "name": "stderr",
     "output_type": "stream",
     "text": [
      "/var/folders/nz/vk3v33x95bs4kf3ymy0z0my00000gn/T/ipykernel_67522/3144430565.py:25: SettingWithCopyWarning: \n",
      "A value is trying to be set on a copy of a slice from a DataFrame\n",
      "\n",
      "See the caveats in the documentation: https://pandas.pydata.org/pandas-docs/stable/user_guide/indexing.html#returning-a-view-versus-a-copy\n",
      "  df_column[idx] = predicted_value\n"
     ]
    },
    {
     "name": "stdout",
     "output_type": "stream",
     "text": [
      "(1, 1, 2)\n"
     ]
    },
    {
     "name": "stderr",
     "output_type": "stream",
     "text": [
      "/var/folders/nz/vk3v33x95bs4kf3ymy0z0my00000gn/T/ipykernel_67522/3144430565.py:25: SettingWithCopyWarning: \n",
      "A value is trying to be set on a copy of a slice from a DataFrame\n",
      "\n",
      "See the caveats in the documentation: https://pandas.pydata.org/pandas-docs/stable/user_guide/indexing.html#returning-a-view-versus-a-copy\n",
      "  df_column[idx] = predicted_value\n"
     ]
    },
    {
     "name": "stdout",
     "output_type": "stream",
     "text": [
      "(1, 0, 1)\n"
     ]
    },
    {
     "name": "stderr",
     "output_type": "stream",
     "text": [
      "/var/folders/nz/vk3v33x95bs4kf3ymy0z0my00000gn/T/ipykernel_67522/3144430565.py:25: SettingWithCopyWarning: \n",
      "A value is trying to be set on a copy of a slice from a DataFrame\n",
      "\n",
      "See the caveats in the documentation: https://pandas.pydata.org/pandas-docs/stable/user_guide/indexing.html#returning-a-view-versus-a-copy\n",
      "  df_column[idx] = predicted_value\n"
     ]
    },
    {
     "name": "stdout",
     "output_type": "stream",
     "text": [
      "(5, 0, 0)\n"
     ]
    },
    {
     "name": "stderr",
     "output_type": "stream",
     "text": [
      "/var/folders/nz/vk3v33x95bs4kf3ymy0z0my00000gn/T/ipykernel_67522/3144430565.py:25: SettingWithCopyWarning: \n",
      "A value is trying to be set on a copy of a slice from a DataFrame\n",
      "\n",
      "See the caveats in the documentation: https://pandas.pydata.org/pandas-docs/stable/user_guide/indexing.html#returning-a-view-versus-a-copy\n",
      "  df_column[idx] = predicted_value\n"
     ]
    },
    {
     "name": "stdout",
     "output_type": "stream",
     "text": [
      "(2, 1, 1)\n"
     ]
    },
    {
     "name": "stderr",
     "output_type": "stream",
     "text": [
      "/var/folders/nz/vk3v33x95bs4kf3ymy0z0my00000gn/T/ipykernel_67522/3144430565.py:25: SettingWithCopyWarning: \n",
      "A value is trying to be set on a copy of a slice from a DataFrame\n",
      "\n",
      "See the caveats in the documentation: https://pandas.pydata.org/pandas-docs/stable/user_guide/indexing.html#returning-a-view-versus-a-copy\n",
      "  df_column[idx] = predicted_value\n"
     ]
    },
    {
     "name": "stdout",
     "output_type": "stream",
     "text": [
      "(1, 1, 2)\n"
     ]
    },
    {
     "name": "stderr",
     "output_type": "stream",
     "text": [
      "/var/folders/nz/vk3v33x95bs4kf3ymy0z0my00000gn/T/ipykernel_67522/3144430565.py:25: SettingWithCopyWarning: \n",
      "A value is trying to be set on a copy of a slice from a DataFrame\n",
      "\n",
      "See the caveats in the documentation: https://pandas.pydata.org/pandas-docs/stable/user_guide/indexing.html#returning-a-view-versus-a-copy\n",
      "  df_column[idx] = predicted_value\n"
     ]
    },
    {
     "name": "stdout",
     "output_type": "stream",
     "text": [
      "(2, 0, 0)\n"
     ]
    },
    {
     "name": "stderr",
     "output_type": "stream",
     "text": [
      "/var/folders/nz/vk3v33x95bs4kf3ymy0z0my00000gn/T/ipykernel_67522/3144430565.py:25: SettingWithCopyWarning: \n",
      "A value is trying to be set on a copy of a slice from a DataFrame\n",
      "\n",
      "See the caveats in the documentation: https://pandas.pydata.org/pandas-docs/stable/user_guide/indexing.html#returning-a-view-versus-a-copy\n",
      "  df_column[idx] = predicted_value\n"
     ]
    },
    {
     "name": "stdout",
     "output_type": "stream",
     "text": [
      "(5, 0, 1)\n"
     ]
    },
    {
     "name": "stderr",
     "output_type": "stream",
     "text": [
      "/var/folders/nz/vk3v33x95bs4kf3ymy0z0my00000gn/T/ipykernel_67522/3144430565.py:25: SettingWithCopyWarning: \n",
      "A value is trying to be set on a copy of a slice from a DataFrame\n",
      "\n",
      "See the caveats in the documentation: https://pandas.pydata.org/pandas-docs/stable/user_guide/indexing.html#returning-a-view-versus-a-copy\n",
      "  df_column[idx] = predicted_value\n"
     ]
    },
    {
     "name": "stdout",
     "output_type": "stream",
     "text": [
      "(3, 1, 2)\n"
     ]
    },
    {
     "name": "stderr",
     "output_type": "stream",
     "text": [
      "/var/folders/nz/vk3v33x95bs4kf3ymy0z0my00000gn/T/ipykernel_67522/3144430565.py:25: SettingWithCopyWarning: \n",
      "A value is trying to be set on a copy of a slice from a DataFrame\n",
      "\n",
      "See the caveats in the documentation: https://pandas.pydata.org/pandas-docs/stable/user_guide/indexing.html#returning-a-view-versus-a-copy\n",
      "  df_column[idx] = predicted_value\n"
     ]
    },
    {
     "name": "stdout",
     "output_type": "stream",
     "text": [
      "(1, 1, 2)\n"
     ]
    },
    {
     "name": "stderr",
     "output_type": "stream",
     "text": [
      "/var/folders/nz/vk3v33x95bs4kf3ymy0z0my00000gn/T/ipykernel_67522/3144430565.py:25: SettingWithCopyWarning: \n",
      "A value is trying to be set on a copy of a slice from a DataFrame\n",
      "\n",
      "See the caveats in the documentation: https://pandas.pydata.org/pandas-docs/stable/user_guide/indexing.html#returning-a-view-versus-a-copy\n",
      "  df_column[idx] = predicted_value\n"
     ]
    },
    {
     "name": "stdout",
     "output_type": "stream",
     "text": [
      "(2, 0, 1)\n"
     ]
    },
    {
     "name": "stderr",
     "output_type": "stream",
     "text": [
      "/var/folders/nz/vk3v33x95bs4kf3ymy0z0my00000gn/T/ipykernel_67522/3144430565.py:25: SettingWithCopyWarning: \n",
      "A value is trying to be set on a copy of a slice from a DataFrame\n",
      "\n",
      "See the caveats in the documentation: https://pandas.pydata.org/pandas-docs/stable/user_guide/indexing.html#returning-a-view-versus-a-copy\n",
      "  df_column[idx] = predicted_value\n"
     ]
    },
    {
     "name": "stdout",
     "output_type": "stream",
     "text": [
      "(5, 0, 0)\n"
     ]
    },
    {
     "name": "stderr",
     "output_type": "stream",
     "text": [
      "/var/folders/nz/vk3v33x95bs4kf3ymy0z0my00000gn/T/ipykernel_67522/3144430565.py:25: SettingWithCopyWarning: \n",
      "A value is trying to be set on a copy of a slice from a DataFrame\n",
      "\n",
      "See the caveats in the documentation: https://pandas.pydata.org/pandas-docs/stable/user_guide/indexing.html#returning-a-view-versus-a-copy\n",
      "  df_column[idx] = predicted_value\n"
     ]
    },
    {
     "name": "stdout",
     "output_type": "stream",
     "text": [
      "(1, 1, 3)\n"
     ]
    },
    {
     "name": "stderr",
     "output_type": "stream",
     "text": [
      "/var/folders/nz/vk3v33x95bs4kf3ymy0z0my00000gn/T/ipykernel_67522/3144430565.py:25: SettingWithCopyWarning: \n",
      "A value is trying to be set on a copy of a slice from a DataFrame\n",
      "\n",
      "See the caveats in the documentation: https://pandas.pydata.org/pandas-docs/stable/user_guide/indexing.html#returning-a-view-versus-a-copy\n",
      "  df_column[idx] = predicted_value\n"
     ]
    },
    {
     "name": "stdout",
     "output_type": "stream",
     "text": [
      "(1, 1, 2)\n"
     ]
    },
    {
     "name": "stderr",
     "output_type": "stream",
     "text": [
      "/var/folders/nz/vk3v33x95bs4kf3ymy0z0my00000gn/T/ipykernel_67522/3144430565.py:25: SettingWithCopyWarning: \n",
      "A value is trying to be set on a copy of a slice from a DataFrame\n",
      "\n",
      "See the caveats in the documentation: https://pandas.pydata.org/pandas-docs/stable/user_guide/indexing.html#returning-a-view-versus-a-copy\n",
      "  df_column[idx] = predicted_value\n"
     ]
    },
    {
     "name": "stdout",
     "output_type": "stream",
     "text": [
      "(1, 0, 1)\n"
     ]
    },
    {
     "name": "stderr",
     "output_type": "stream",
     "text": [
      "/var/folders/nz/vk3v33x95bs4kf3ymy0z0my00000gn/T/ipykernel_67522/3144430565.py:25: SettingWithCopyWarning: \n",
      "A value is trying to be set on a copy of a slice from a DataFrame\n",
      "\n",
      "See the caveats in the documentation: https://pandas.pydata.org/pandas-docs/stable/user_guide/indexing.html#returning-a-view-versus-a-copy\n",
      "  df_column[idx] = predicted_value\n"
     ]
    },
    {
     "name": "stdout",
     "output_type": "stream",
     "text": [
      "(2, 0, 2)\n"
     ]
    },
    {
     "name": "stderr",
     "output_type": "stream",
     "text": [
      "/var/folders/nz/vk3v33x95bs4kf3ymy0z0my00000gn/T/ipykernel_67522/3144430565.py:25: SettingWithCopyWarning: \n",
      "A value is trying to be set on a copy of a slice from a DataFrame\n",
      "\n",
      "See the caveats in the documentation: https://pandas.pydata.org/pandas-docs/stable/user_guide/indexing.html#returning-a-view-versus-a-copy\n",
      "  df_column[idx] = predicted_value\n"
     ]
    },
    {
     "name": "stdout",
     "output_type": "stream",
     "text": [
      "(2, 1, 1)\n"
     ]
    },
    {
     "name": "stderr",
     "output_type": "stream",
     "text": [
      "/var/folders/nz/vk3v33x95bs4kf3ymy0z0my00000gn/T/ipykernel_67522/3144430565.py:25: SettingWithCopyWarning: \n",
      "A value is trying to be set on a copy of a slice from a DataFrame\n",
      "\n",
      "See the caveats in the documentation: https://pandas.pydata.org/pandas-docs/stable/user_guide/indexing.html#returning-a-view-versus-a-copy\n",
      "  df_column[idx] = predicted_value\n"
     ]
    },
    {
     "name": "stdout",
     "output_type": "stream",
     "text": [
      "(1, 1, 2)\n"
     ]
    },
    {
     "name": "stderr",
     "output_type": "stream",
     "text": [
      "/var/folders/nz/vk3v33x95bs4kf3ymy0z0my00000gn/T/ipykernel_67522/3144430565.py:25: SettingWithCopyWarning: \n",
      "A value is trying to be set on a copy of a slice from a DataFrame\n",
      "\n",
      "See the caveats in the documentation: https://pandas.pydata.org/pandas-docs/stable/user_guide/indexing.html#returning-a-view-versus-a-copy\n",
      "  df_column[idx] = predicted_value\n"
     ]
    },
    {
     "name": "stdout",
     "output_type": "stream",
     "text": [
      "(2, 0, 0)\n"
     ]
    },
    {
     "name": "stderr",
     "output_type": "stream",
     "text": [
      "/var/folders/nz/vk3v33x95bs4kf3ymy0z0my00000gn/T/ipykernel_67522/3144430565.py:25: SettingWithCopyWarning: \n",
      "A value is trying to be set on a copy of a slice from a DataFrame\n",
      "\n",
      "See the caveats in the documentation: https://pandas.pydata.org/pandas-docs/stable/user_guide/indexing.html#returning-a-view-versus-a-copy\n",
      "  df_column[idx] = predicted_value\n"
     ]
    },
    {
     "name": "stdout",
     "output_type": "stream",
     "text": [
      "(4, 0, 3)\n"
     ]
    },
    {
     "name": "stderr",
     "output_type": "stream",
     "text": [
      "/Users/kimsinwoo/anaconda3/lib/python3.11/site-packages/statsmodels/base/model.py:607: ConvergenceWarning: Maximum Likelihood optimization failed to converge. Check mle_retvals\n",
      "  warnings.warn(\"Maximum Likelihood optimization failed to \"\n",
      "/var/folders/nz/vk3v33x95bs4kf3ymy0z0my00000gn/T/ipykernel_67522/3144430565.py:25: SettingWithCopyWarning: \n",
      "A value is trying to be set on a copy of a slice from a DataFrame\n",
      "\n",
      "See the caveats in the documentation: https://pandas.pydata.org/pandas-docs/stable/user_guide/indexing.html#returning-a-view-versus-a-copy\n",
      "  df_column[idx] = predicted_value\n"
     ]
    },
    {
     "name": "stdout",
     "output_type": "stream",
     "text": [
      "(3, 1, 2)\n"
     ]
    },
    {
     "name": "stderr",
     "output_type": "stream",
     "text": [
      "/var/folders/nz/vk3v33x95bs4kf3ymy0z0my00000gn/T/ipykernel_67522/3144430565.py:25: SettingWithCopyWarning: \n",
      "A value is trying to be set on a copy of a slice from a DataFrame\n",
      "\n",
      "See the caveats in the documentation: https://pandas.pydata.org/pandas-docs/stable/user_guide/indexing.html#returning-a-view-versus-a-copy\n",
      "  df_column[idx] = predicted_value\n"
     ]
    },
    {
     "name": "stdout",
     "output_type": "stream",
     "text": [
      "(1, 1, 2)\n"
     ]
    },
    {
     "name": "stderr",
     "output_type": "stream",
     "text": [
      "/var/folders/nz/vk3v33x95bs4kf3ymy0z0my00000gn/T/ipykernel_67522/3144430565.py:25: SettingWithCopyWarning: \n",
      "A value is trying to be set on a copy of a slice from a DataFrame\n",
      "\n",
      "See the caveats in the documentation: https://pandas.pydata.org/pandas-docs/stable/user_guide/indexing.html#returning-a-view-versus-a-copy\n",
      "  df_column[idx] = predicted_value\n"
     ]
    },
    {
     "name": "stdout",
     "output_type": "stream",
     "text": [
      "(2, 0, 1)\n"
     ]
    },
    {
     "name": "stderr",
     "output_type": "stream",
     "text": [
      "/var/folders/nz/vk3v33x95bs4kf3ymy0z0my00000gn/T/ipykernel_67522/3144430565.py:25: SettingWithCopyWarning: \n",
      "A value is trying to be set on a copy of a slice from a DataFrame\n",
      "\n",
      "See the caveats in the documentation: https://pandas.pydata.org/pandas-docs/stable/user_guide/indexing.html#returning-a-view-versus-a-copy\n",
      "  df_column[idx] = predicted_value\n"
     ]
    },
    {
     "name": "stdout",
     "output_type": "stream",
     "text": [
      "(3, 0, 3)\n"
     ]
    },
    {
     "name": "stderr",
     "output_type": "stream",
     "text": [
      "/var/folders/nz/vk3v33x95bs4kf3ymy0z0my00000gn/T/ipykernel_67522/3144430565.py:25: SettingWithCopyWarning: \n",
      "A value is trying to be set on a copy of a slice from a DataFrame\n",
      "\n",
      "See the caveats in the documentation: https://pandas.pydata.org/pandas-docs/stable/user_guide/indexing.html#returning-a-view-versus-a-copy\n",
      "  df_column[idx] = predicted_value\n"
     ]
    }
   ],
   "source": [
    "SO_list = ['SO high_202', 'SO low_202', 'SO %K_202', 'SO %D_202',\n",
    "       'SO high_142', 'SO low_142', 'SO %K_142', 'SO %D_142', 'SO high_302',\n",
    "       'SO low_302', 'SO %K_302', 'SO %D_302', 'SO high_203', 'SO low_203',\n",
    "       'SO %K_203', 'SO %D_203', 'SO high_143', 'SO low_143', 'SO %K_143',\n",
    "       'SO %D_143', 'SO high_303', 'SO low_303', 'SO %K_303', 'SO %D_303',\n",
    "       'SO high_205', 'SO low_205', 'SO %K_205', 'SO %D_205', 'SO high_145',\n",
    "       'SO low_145', 'SO %K_145', 'SO %D_145', 'SO high_305', 'SO low_305',\n",
    "       'SO %K_305', 'SO %D_305', 'SO high_2010', 'SO low_2010', 'SO %K_2010',\n",
    "       'SO %D_2010', 'SO high_1410', 'SO low_1410', 'SO %K_1410', 'SO %D_1410',\n",
    "       'SO high_3010', 'SO low_3010', 'SO %K_3010', 'SO %D_3010']\n",
    "\n",
    "ARIMA_Interpolate(df_idc_all, SO_list)"
   ]
  },
  {
   "cell_type": "markdown",
   "id": "8b61b1db",
   "metadata": {},
   "source": [
    "#### - BB"
   ]
  },
  {
   "cell_type": "code",
   "execution_count": 29,
   "id": "e4034d18-f54d-47da-99ec-e46089959dca",
   "metadata": {
    "tags": []
   },
   "outputs": [
    {
     "name": "stdout",
     "output_type": "stream",
     "text": [
      "(3, 1, 4)\n"
     ]
    },
    {
     "name": "stderr",
     "output_type": "stream",
     "text": [
      "/Users/kimsinwoo/anaconda3/lib/python3.11/site-packages/statsmodels/base/model.py:607: ConvergenceWarning: Maximum Likelihood optimization failed to converge. Check mle_retvals\n",
      "  warnings.warn(\"Maximum Likelihood optimization failed to \"\n",
      "/var/folders/nz/vk3v33x95bs4kf3ymy0z0my00000gn/T/ipykernel_67522/3144430565.py:25: SettingWithCopyWarning: \n",
      "A value is trying to be set on a copy of a slice from a DataFrame\n",
      "\n",
      "See the caveats in the documentation: https://pandas.pydata.org/pandas-docs/stable/user_guide/indexing.html#returning-a-view-versus-a-copy\n",
      "  df_column[idx] = predicted_value\n"
     ]
    },
    {
     "name": "stdout",
     "output_type": "stream",
     "text": [
      "(4, 1, 3)\n"
     ]
    },
    {
     "name": "stderr",
     "output_type": "stream",
     "text": [
      "/Users/kimsinwoo/anaconda3/lib/python3.11/site-packages/statsmodels/base/model.py:607: ConvergenceWarning: Maximum Likelihood optimization failed to converge. Check mle_retvals\n",
      "  warnings.warn(\"Maximum Likelihood optimization failed to \"\n",
      "/var/folders/nz/vk3v33x95bs4kf3ymy0z0my00000gn/T/ipykernel_67522/3144430565.py:25: SettingWithCopyWarning: \n",
      "A value is trying to be set on a copy of a slice from a DataFrame\n",
      "\n",
      "See the caveats in the documentation: https://pandas.pydata.org/pandas-docs/stable/user_guide/indexing.html#returning-a-view-versus-a-copy\n",
      "  df_column[idx] = predicted_value\n"
     ]
    },
    {
     "name": "stdout",
     "output_type": "stream",
     "text": [
      "(3, 1, 5)\n"
     ]
    },
    {
     "name": "stderr",
     "output_type": "stream",
     "text": [
      "/var/folders/nz/vk3v33x95bs4kf3ymy0z0my00000gn/T/ipykernel_67522/3144430565.py:25: SettingWithCopyWarning: \n",
      "A value is trying to be set on a copy of a slice from a DataFrame\n",
      "\n",
      "See the caveats in the documentation: https://pandas.pydata.org/pandas-docs/stable/user_guide/indexing.html#returning-a-view-versus-a-copy\n",
      "  df_column[idx] = predicted_value\n"
     ]
    },
    {
     "name": "stdout",
     "output_type": "stream",
     "text": [
      "(2, 1, 3)\n"
     ]
    },
    {
     "name": "stderr",
     "output_type": "stream",
     "text": [
      "/Users/kimsinwoo/anaconda3/lib/python3.11/site-packages/statsmodels/tsa/statespace/sarimax.py:966: UserWarning: Non-stationary starting autoregressive parameters found. Using zeros as starting parameters.\n",
      "  warn('Non-stationary starting autoregressive parameters'\n",
      "/Users/kimsinwoo/anaconda3/lib/python3.11/site-packages/statsmodels/tsa/statespace/sarimax.py:978: UserWarning: Non-invertible starting MA parameters found. Using zeros as starting parameters.\n",
      "  warn('Non-invertible starting MA parameters found.'\n",
      "/var/folders/nz/vk3v33x95bs4kf3ymy0z0my00000gn/T/ipykernel_67522/3144430565.py:25: SettingWithCopyWarning: \n",
      "A value is trying to be set on a copy of a slice from a DataFrame\n",
      "\n",
      "See the caveats in the documentation: https://pandas.pydata.org/pandas-docs/stable/user_guide/indexing.html#returning-a-view-versus-a-copy\n",
      "  df_column[idx] = predicted_value\n"
     ]
    },
    {
     "name": "stdout",
     "output_type": "stream",
     "text": [
      "(3, 1, 5)\n"
     ]
    },
    {
     "name": "stderr",
     "output_type": "stream",
     "text": [
      "/var/folders/nz/vk3v33x95bs4kf3ymy0z0my00000gn/T/ipykernel_67522/3144430565.py:25: SettingWithCopyWarning: \n",
      "A value is trying to be set on a copy of a slice from a DataFrame\n",
      "\n",
      "See the caveats in the documentation: https://pandas.pydata.org/pandas-docs/stable/user_guide/indexing.html#returning-a-view-versus-a-copy\n",
      "  df_column[idx] = predicted_value\n"
     ]
    },
    {
     "name": "stdout",
     "output_type": "stream",
     "text": [
      "(4, 1, 5)\n"
     ]
    },
    {
     "name": "stderr",
     "output_type": "stream",
     "text": [
      "/Users/kimsinwoo/anaconda3/lib/python3.11/site-packages/statsmodels/base/model.py:607: ConvergenceWarning: Maximum Likelihood optimization failed to converge. Check mle_retvals\n",
      "  warnings.warn(\"Maximum Likelihood optimization failed to \"\n",
      "/var/folders/nz/vk3v33x95bs4kf3ymy0z0my00000gn/T/ipykernel_67522/3144430565.py:25: SettingWithCopyWarning: \n",
      "A value is trying to be set on a copy of a slice from a DataFrame\n",
      "\n",
      "See the caveats in the documentation: https://pandas.pydata.org/pandas-docs/stable/user_guide/indexing.html#returning-a-view-versus-a-copy\n",
      "  df_column[idx] = predicted_value\n"
     ]
    }
   ],
   "source": [
    "BB_list = ['upper_band_20', 'lower_band_20', 'upper_band_15','lower_band_15','upper_band_10','lower_band_10']  \n",
    "\n",
    "ARIMA_Interpolate(df_idc_all, BB_list)"
   ]
  },
  {
   "cell_type": "markdown",
   "id": "1fa188ae",
   "metadata": {},
   "source": [
    "#### - roc, rsi"
   ]
  },
  {
   "cell_type": "code",
   "execution_count": 30,
   "id": "1fdef29b-ff58-4b19-a01b-fe6cbaf4518d",
   "metadata": {},
   "outputs": [],
   "source": [
    "columns_to_bfill = ['roc_1', 'roc_2', 'rsi_7', 'rsi_9', 'rsi_14']\n",
    "\n",
    "for column in columns_to_bfill:\n",
    "    df_idc_all[column] = df_idc_all[column].bfill()"
   ]
  },
  {
   "cell_type": "code",
   "execution_count": 31,
   "id": "fd879842-6b3e-4cad-abef-3e7904dab440",
   "metadata": {
    "tags": []
   },
   "outputs": [
    {
     "data": {
      "text/plain": [
       "Open                    0\n",
       "High                    0\n",
       "Low                     0\n",
       "Close                   0\n",
       "Volume                  0\n",
       "quote_qty               0\n",
       "is_buyer_maker          0\n",
       "returns                 0\n",
       "volatility              0\n",
       "MACD_613                0\n",
       "Signal_Line_4           0\n",
       "MACD_Oscillator_613     0\n",
       "MACD_1226               0\n",
       "Signal_Line_9           0\n",
       "MACD_Oscillator_1226    0\n",
       "MACD_526                0\n",
       "MACD_Oscillator_526     0\n",
       "atr_14                  0\n",
       "atr_20                  0\n",
       "SO high_202             0\n",
       "SO low_202              0\n",
       "SO %K_202               0\n",
       "SO %D_202               0\n",
       "SO high_142             0\n",
       "SO low_142              0\n",
       "SO %K_142               0\n",
       "SO %D_142               0\n",
       "SO high_302             0\n",
       "SO low_302              0\n",
       "SO %K_302               0\n",
       "SO %D_302               0\n",
       "SO high_203             0\n",
       "SO low_203              0\n",
       "SO %K_203               0\n",
       "SO %D_203               0\n",
       "SO high_143             0\n",
       "SO low_143              0\n",
       "SO %K_143               0\n",
       "SO %D_143               0\n",
       "SO high_303             0\n",
       "SO low_303              0\n",
       "SO %K_303               0\n",
       "SO %D_303               0\n",
       "SO high_205             0\n",
       "SO low_205              0\n",
       "SO %K_205               0\n",
       "SO %D_205               0\n",
       "SO high_145             0\n",
       "SO low_145              0\n",
       "SO %K_145               0\n",
       "SO %D_145               0\n",
       "SO high_305             0\n",
       "SO low_305              0\n",
       "SO %K_305               0\n",
       "SO %D_305               0\n",
       "SO high_2010            0\n",
       "SO low_2010             0\n",
       "SO %K_2010              0\n",
       "SO %D_2010              0\n",
       "SO high_1410            0\n",
       "SO low_1410             0\n",
       "SO %K_1410              0\n",
       "SO %D_1410              0\n",
       "SO high_3010            0\n",
       "SO low_3010             0\n",
       "SO %K_3010              0\n",
       "SO %D_3010              0\n",
       "upper_band_20           0\n",
       "lower_band_20           0\n",
       "upper_band_15           0\n",
       "lower_band_15           0\n",
       "upper_band_10           0\n",
       "lower_band_10           0\n",
       "roc_1                   0\n",
       "roc_2                   0\n",
       "rsi_7                   0\n",
       "rsi_9                   0\n",
       "rsi_14                  0\n",
       "UO_71014                0\n",
       "UO_7911                 0\n",
       "UO_71012                0\n",
       "dtype: int64"
      ]
     },
     "execution_count": 31,
     "metadata": {},
     "output_type": "execute_result"
    }
   ],
   "source": [
    "df_idc_all.isna().sum()"
   ]
  },
  {
   "cell_type": "code",
   "execution_count": 32,
   "id": "49d413cd-7289-4703-ac4b-28a404c0ddd0",
   "metadata": {
    "tags": []
   },
   "outputs": [
    {
     "data": {
      "text/html": [
       "<div>\n",
       "<style scoped>\n",
       "    .dataframe tbody tr th:only-of-type {\n",
       "        vertical-align: middle;\n",
       "    }\n",
       "\n",
       "    .dataframe tbody tr th {\n",
       "        vertical-align: top;\n",
       "    }\n",
       "\n",
       "    .dataframe thead th {\n",
       "        text-align: right;\n",
       "    }\n",
       "</style>\n",
       "<table border=\"1\" class=\"dataframe\">\n",
       "  <thead>\n",
       "    <tr style=\"text-align: right;\">\n",
       "      <th></th>\n",
       "      <th>Open</th>\n",
       "      <th>High</th>\n",
       "      <th>Low</th>\n",
       "      <th>Close</th>\n",
       "      <th>Volume</th>\n",
       "      <th>quote_qty</th>\n",
       "      <th>is_buyer_maker</th>\n",
       "      <th>returns</th>\n",
       "      <th>volatility</th>\n",
       "      <th>MACD_613</th>\n",
       "      <th>Signal_Line_4</th>\n",
       "      <th>MACD_Oscillator_613</th>\n",
       "      <th>MACD_1226</th>\n",
       "      <th>Signal_Line_9</th>\n",
       "      <th>MACD_Oscillator_1226</th>\n",
       "      <th>MACD_526</th>\n",
       "      <th>MACD_Oscillator_526</th>\n",
       "      <th>atr_14</th>\n",
       "      <th>atr_20</th>\n",
       "      <th>SO high_202</th>\n",
       "      <th>SO low_202</th>\n",
       "      <th>SO %K_202</th>\n",
       "      <th>SO %D_202</th>\n",
       "      <th>SO high_142</th>\n",
       "      <th>SO low_142</th>\n",
       "      <th>SO %K_142</th>\n",
       "      <th>SO %D_142</th>\n",
       "      <th>SO high_302</th>\n",
       "      <th>SO low_302</th>\n",
       "      <th>SO %K_302</th>\n",
       "      <th>SO %D_302</th>\n",
       "      <th>SO high_203</th>\n",
       "      <th>SO low_203</th>\n",
       "      <th>SO %K_203</th>\n",
       "      <th>SO %D_203</th>\n",
       "      <th>SO high_143</th>\n",
       "      <th>SO low_143</th>\n",
       "      <th>SO %K_143</th>\n",
       "      <th>SO %D_143</th>\n",
       "      <th>SO high_303</th>\n",
       "      <th>SO low_303</th>\n",
       "      <th>SO %K_303</th>\n",
       "      <th>SO %D_303</th>\n",
       "      <th>SO high_205</th>\n",
       "      <th>SO low_205</th>\n",
       "      <th>SO %K_205</th>\n",
       "      <th>SO %D_205</th>\n",
       "      <th>SO high_145</th>\n",
       "      <th>SO low_145</th>\n",
       "      <th>SO %K_145</th>\n",
       "      <th>SO %D_145</th>\n",
       "      <th>SO high_305</th>\n",
       "      <th>SO low_305</th>\n",
       "      <th>SO %K_305</th>\n",
       "      <th>SO %D_305</th>\n",
       "      <th>SO high_2010</th>\n",
       "      <th>SO low_2010</th>\n",
       "      <th>SO %K_2010</th>\n",
       "      <th>SO %D_2010</th>\n",
       "      <th>SO high_1410</th>\n",
       "      <th>SO low_1410</th>\n",
       "      <th>SO %K_1410</th>\n",
       "      <th>SO %D_1410</th>\n",
       "      <th>SO high_3010</th>\n",
       "      <th>SO low_3010</th>\n",
       "      <th>SO %K_3010</th>\n",
       "      <th>SO %D_3010</th>\n",
       "      <th>upper_band_20</th>\n",
       "      <th>lower_band_20</th>\n",
       "      <th>upper_band_15</th>\n",
       "      <th>lower_band_15</th>\n",
       "      <th>upper_band_10</th>\n",
       "      <th>lower_band_10</th>\n",
       "      <th>roc_1</th>\n",
       "      <th>roc_2</th>\n",
       "      <th>rsi_7</th>\n",
       "      <th>rsi_9</th>\n",
       "      <th>rsi_14</th>\n",
       "      <th>UO_71014</th>\n",
       "      <th>UO_7911</th>\n",
       "      <th>UO_71012</th>\n",
       "    </tr>\n",
       "  </thead>\n",
       "  <tbody>\n",
       "    <tr>\n",
       "      <th>2023-01-01 00:00:00</th>\n",
       "      <td>16537.5</td>\n",
       "      <td>16540.9</td>\n",
       "      <td>16504.0</td>\n",
       "      <td>16527.0</td>\n",
       "      <td>5381.399</td>\n",
       "      <td>7264.129209</td>\n",
       "      <td>16494</td>\n",
       "      <td>0.000138</td>\n",
       "      <td>0.002201</td>\n",
       "      <td>0.000000</td>\n",
       "      <td>0.000000</td>\n",
       "      <td>0.000000</td>\n",
       "      <td>0.000000</td>\n",
       "      <td>0.000000</td>\n",
       "      <td>0.000000</td>\n",
       "      <td>0.000000</td>\n",
       "      <td>0.000000</td>\n",
       "      <td>36.900</td>\n",
       "      <td>36.900</td>\n",
       "      <td>42190.943432</td>\n",
       "      <td>41361.354455</td>\n",
       "      <td>84.709818</td>\n",
       "      <td>86.669582</td>\n",
       "      <td>42196.353535</td>\n",
       "      <td>41684.151335</td>\n",
       "      <td>78.576192</td>\n",
       "      <td>82.587995</td>\n",
       "      <td>42239.620585</td>\n",
       "      <td>41380.319044</td>\n",
       "      <td>81.510047</td>\n",
       "      <td>82.825469</td>\n",
       "      <td>42190.943432</td>\n",
       "      <td>41361.354455</td>\n",
       "      <td>84.709818</td>\n",
       "      <td>88.586779</td>\n",
       "      <td>42196.353535</td>\n",
       "      <td>41684.151335</td>\n",
       "      <td>78.576192</td>\n",
       "      <td>85.249226</td>\n",
       "      <td>42239.620585</td>\n",
       "      <td>41380.319044</td>\n",
       "      <td>81.510047</td>\n",
       "      <td>84.766218</td>\n",
       "      <td>42190.943432</td>\n",
       "      <td>41361.354455</td>\n",
       "      <td>84.709818</td>\n",
       "      <td>93.252345</td>\n",
       "      <td>42196.353535</td>\n",
       "      <td>41684.151335</td>\n",
       "      <td>78.576192</td>\n",
       "      <td>89.571255</td>\n",
       "      <td>42239.620585</td>\n",
       "      <td>41380.319044</td>\n",
       "      <td>81.510047</td>\n",
       "      <td>85.094916</td>\n",
       "      <td>42190.943432</td>\n",
       "      <td>41361.354455</td>\n",
       "      <td>84.709818</td>\n",
       "      <td>79.153116</td>\n",
       "      <td>42196.353535</td>\n",
       "      <td>41684.151335</td>\n",
       "      <td>78.576192</td>\n",
       "      <td>86.038363</td>\n",
       "      <td>42239.620585</td>\n",
       "      <td>41380.319044</td>\n",
       "      <td>81.510047</td>\n",
       "      <td>77.751956</td>\n",
       "      <td>42189.870974</td>\n",
       "      <td>41457.938516</td>\n",
       "      <td>42210.006458</td>\n",
       "      <td>41562.774542</td>\n",
       "      <td>42286.896445</td>\n",
       "      <td>41602.459445</td>\n",
       "      <td>0.141586</td>\n",
       "      <td>0.093181</td>\n",
       "      <td>100.000000</td>\n",
       "      <td>100.000000</td>\n",
       "      <td>100.000000</td>\n",
       "      <td>0.000000</td>\n",
       "      <td>0.000000</td>\n",
       "      <td>0.000000</td>\n",
       "    </tr>\n",
       "    <tr>\n",
       "      <th>2023-01-01 01:00:00</th>\n",
       "      <td>16527.1</td>\n",
       "      <td>16554.3</td>\n",
       "      <td>16524.1</td>\n",
       "      <td>16550.4</td>\n",
       "      <td>3210.826</td>\n",
       "      <td>6819.889969</td>\n",
       "      <td>8705</td>\n",
       "      <td>0.001416</td>\n",
       "      <td>0.002201</td>\n",
       "      <td>3.342857</td>\n",
       "      <td>1.337143</td>\n",
       "      <td>2.005714</td>\n",
       "      <td>1.866667</td>\n",
       "      <td>1.213333</td>\n",
       "      <td>1.493333</td>\n",
       "      <td>6.066667</td>\n",
       "      <td>4.853333</td>\n",
       "      <td>33.550</td>\n",
       "      <td>33.550</td>\n",
       "      <td>42190.943432</td>\n",
       "      <td>41361.354455</td>\n",
       "      <td>84.709818</td>\n",
       "      <td>86.669582</td>\n",
       "      <td>42196.353535</td>\n",
       "      <td>41684.151335</td>\n",
       "      <td>78.576192</td>\n",
       "      <td>82.587995</td>\n",
       "      <td>42239.620585</td>\n",
       "      <td>41380.319044</td>\n",
       "      <td>81.510047</td>\n",
       "      <td>82.825469</td>\n",
       "      <td>42190.943432</td>\n",
       "      <td>41361.354455</td>\n",
       "      <td>84.709818</td>\n",
       "      <td>88.586779</td>\n",
       "      <td>42196.353535</td>\n",
       "      <td>41684.151335</td>\n",
       "      <td>78.576192</td>\n",
       "      <td>85.249226</td>\n",
       "      <td>42239.620585</td>\n",
       "      <td>41380.319044</td>\n",
       "      <td>81.510047</td>\n",
       "      <td>84.766218</td>\n",
       "      <td>42190.943432</td>\n",
       "      <td>41361.354455</td>\n",
       "      <td>84.709818</td>\n",
       "      <td>93.252345</td>\n",
       "      <td>42196.353535</td>\n",
       "      <td>41684.151335</td>\n",
       "      <td>78.576192</td>\n",
       "      <td>89.571255</td>\n",
       "      <td>42239.620585</td>\n",
       "      <td>41380.319044</td>\n",
       "      <td>81.510047</td>\n",
       "      <td>85.094916</td>\n",
       "      <td>42190.943432</td>\n",
       "      <td>41361.354455</td>\n",
       "      <td>84.709818</td>\n",
       "      <td>79.153116</td>\n",
       "      <td>42196.353535</td>\n",
       "      <td>41684.151335</td>\n",
       "      <td>78.576192</td>\n",
       "      <td>86.038363</td>\n",
       "      <td>42239.620585</td>\n",
       "      <td>41380.319044</td>\n",
       "      <td>81.510047</td>\n",
       "      <td>77.751956</td>\n",
       "      <td>42189.870974</td>\n",
       "      <td>41457.938516</td>\n",
       "      <td>42210.006458</td>\n",
       "      <td>41562.774542</td>\n",
       "      <td>42286.896445</td>\n",
       "      <td>41602.459445</td>\n",
       "      <td>0.141586</td>\n",
       "      <td>0.093181</td>\n",
       "      <td>100.000000</td>\n",
       "      <td>100.000000</td>\n",
       "      <td>100.000000</td>\n",
       "      <td>40.577816</td>\n",
       "      <td>40.577816</td>\n",
       "      <td>40.577816</td>\n",
       "    </tr>\n",
       "    <tr>\n",
       "      <th>2023-01-01 02:00:00</th>\n",
       "      <td>16550.5</td>\n",
       "      <td>16557.1</td>\n",
       "      <td>16534.8</td>\n",
       "      <td>16542.4</td>\n",
       "      <td>2399.668</td>\n",
       "      <td>6030.420093</td>\n",
       "      <td>8468</td>\n",
       "      <td>-0.000483</td>\n",
       "      <td>0.002201</td>\n",
       "      <td>4.110204</td>\n",
       "      <td>2.446367</td>\n",
       "      <td>1.663837</td>\n",
       "      <td>2.669706</td>\n",
       "      <td>2.488198</td>\n",
       "      <td>1.837098</td>\n",
       "      <td>7.587654</td>\n",
       "      <td>5.099457</td>\n",
       "      <td>29.800</td>\n",
       "      <td>29.800</td>\n",
       "      <td>42190.943432</td>\n",
       "      <td>41361.354455</td>\n",
       "      <td>84.709818</td>\n",
       "      <td>86.669582</td>\n",
       "      <td>42196.353535</td>\n",
       "      <td>41684.151335</td>\n",
       "      <td>78.576192</td>\n",
       "      <td>82.587995</td>\n",
       "      <td>42239.620585</td>\n",
       "      <td>41380.319044</td>\n",
       "      <td>81.510047</td>\n",
       "      <td>82.825469</td>\n",
       "      <td>42190.943432</td>\n",
       "      <td>41361.354455</td>\n",
       "      <td>84.709818</td>\n",
       "      <td>88.586779</td>\n",
       "      <td>42196.353535</td>\n",
       "      <td>41684.151335</td>\n",
       "      <td>78.576192</td>\n",
       "      <td>85.249226</td>\n",
       "      <td>42239.620585</td>\n",
       "      <td>41380.319044</td>\n",
       "      <td>81.510047</td>\n",
       "      <td>84.766218</td>\n",
       "      <td>42190.943432</td>\n",
       "      <td>41361.354455</td>\n",
       "      <td>84.709818</td>\n",
       "      <td>93.252345</td>\n",
       "      <td>42196.353535</td>\n",
       "      <td>41684.151335</td>\n",
       "      <td>78.576192</td>\n",
       "      <td>89.571255</td>\n",
       "      <td>42239.620585</td>\n",
       "      <td>41380.319044</td>\n",
       "      <td>81.510047</td>\n",
       "      <td>85.094916</td>\n",
       "      <td>42190.943432</td>\n",
       "      <td>41361.354455</td>\n",
       "      <td>84.709818</td>\n",
       "      <td>79.153116</td>\n",
       "      <td>42196.353535</td>\n",
       "      <td>41684.151335</td>\n",
       "      <td>78.576192</td>\n",
       "      <td>86.038363</td>\n",
       "      <td>42239.620585</td>\n",
       "      <td>41380.319044</td>\n",
       "      <td>81.510047</td>\n",
       "      <td>77.751956</td>\n",
       "      <td>42189.870974</td>\n",
       "      <td>41457.938516</td>\n",
       "      <td>42210.006458</td>\n",
       "      <td>41562.774542</td>\n",
       "      <td>42286.896445</td>\n",
       "      <td>41602.459445</td>\n",
       "      <td>-0.048337</td>\n",
       "      <td>0.093181</td>\n",
       "      <td>74.522293</td>\n",
       "      <td>74.522293</td>\n",
       "      <td>74.522293</td>\n",
       "      <td>45.684084</td>\n",
       "      <td>45.684084</td>\n",
       "      <td>45.684084</td>\n",
       "    </tr>\n",
       "    <tr>\n",
       "      <th>2023-01-01 03:00:00</th>\n",
       "      <td>16542.5</td>\n",
       "      <td>16542.5</td>\n",
       "      <td>16515.0</td>\n",
       "      <td>16529.3</td>\n",
       "      <td>3214.480</td>\n",
       "      <td>7003.352799</td>\n",
       "      <td>10007</td>\n",
       "      <td>-0.000792</td>\n",
       "      <td>0.002201</td>\n",
       "      <td>2.540816</td>\n",
       "      <td>2.484147</td>\n",
       "      <td>0.056669</td>\n",
       "      <td>2.223429</td>\n",
       "      <td>2.979136</td>\n",
       "      <td>1.112657</td>\n",
       "      <td>4.942890</td>\n",
       "      <td>1.963754</td>\n",
       "      <td>29.225</td>\n",
       "      <td>29.225</td>\n",
       "      <td>42190.943432</td>\n",
       "      <td>41361.354455</td>\n",
       "      <td>84.709818</td>\n",
       "      <td>86.669582</td>\n",
       "      <td>42196.353535</td>\n",
       "      <td>41684.151335</td>\n",
       "      <td>78.576192</td>\n",
       "      <td>82.587995</td>\n",
       "      <td>42239.620585</td>\n",
       "      <td>41380.319044</td>\n",
       "      <td>81.510047</td>\n",
       "      <td>82.825469</td>\n",
       "      <td>42190.943432</td>\n",
       "      <td>41361.354455</td>\n",
       "      <td>84.709818</td>\n",
       "      <td>88.586779</td>\n",
       "      <td>42196.353535</td>\n",
       "      <td>41684.151335</td>\n",
       "      <td>78.576192</td>\n",
       "      <td>85.249226</td>\n",
       "      <td>42239.620585</td>\n",
       "      <td>41380.319044</td>\n",
       "      <td>81.510047</td>\n",
       "      <td>84.766218</td>\n",
       "      <td>42190.943432</td>\n",
       "      <td>41361.354455</td>\n",
       "      <td>84.709818</td>\n",
       "      <td>93.252345</td>\n",
       "      <td>42196.353535</td>\n",
       "      <td>41684.151335</td>\n",
       "      <td>78.576192</td>\n",
       "      <td>89.571255</td>\n",
       "      <td>42239.620585</td>\n",
       "      <td>41380.319044</td>\n",
       "      <td>81.510047</td>\n",
       "      <td>85.094916</td>\n",
       "      <td>42190.943432</td>\n",
       "      <td>41361.354455</td>\n",
       "      <td>84.709818</td>\n",
       "      <td>79.153116</td>\n",
       "      <td>42196.353535</td>\n",
       "      <td>41684.151335</td>\n",
       "      <td>78.576192</td>\n",
       "      <td>86.038363</td>\n",
       "      <td>42239.620585</td>\n",
       "      <td>41380.319044</td>\n",
       "      <td>81.510047</td>\n",
       "      <td>77.751956</td>\n",
       "      <td>42189.870974</td>\n",
       "      <td>41457.938516</td>\n",
       "      <td>42210.006458</td>\n",
       "      <td>41562.774542</td>\n",
       "      <td>42286.896445</td>\n",
       "      <td>41602.459445</td>\n",
       "      <td>-0.079190</td>\n",
       "      <td>-0.127489</td>\n",
       "      <td>52.584270</td>\n",
       "      <td>52.584270</td>\n",
       "      <td>52.584270</td>\n",
       "      <td>46.582916</td>\n",
       "      <td>46.582916</td>\n",
       "      <td>46.582916</td>\n",
       "    </tr>\n",
       "    <tr>\n",
       "      <th>2023-01-01 04:00:00</th>\n",
       "      <td>16529.2</td>\n",
       "      <td>16530.4</td>\n",
       "      <td>16508.8</td>\n",
       "      <td>16517.8</td>\n",
       "      <td>3150.954</td>\n",
       "      <td>7378.899423</td>\n",
       "      <td>9476</td>\n",
       "      <td>-0.000696</td>\n",
       "      <td>0.002201</td>\n",
       "      <td>-0.166597</td>\n",
       "      <td>1.423849</td>\n",
       "      <td>-1.590447</td>\n",
       "      <td>0.931065</td>\n",
       "      <td>2.424667</td>\n",
       "      <td>-0.143766</td>\n",
       "      <td>0.206791</td>\n",
       "      <td>-2.217876</td>\n",
       "      <td>27.700</td>\n",
       "      <td>27.700</td>\n",
       "      <td>42190.943432</td>\n",
       "      <td>41361.354455</td>\n",
       "      <td>84.709818</td>\n",
       "      <td>86.669582</td>\n",
       "      <td>42196.353535</td>\n",
       "      <td>41684.151335</td>\n",
       "      <td>78.576192</td>\n",
       "      <td>82.587995</td>\n",
       "      <td>42239.620585</td>\n",
       "      <td>41380.319044</td>\n",
       "      <td>81.510047</td>\n",
       "      <td>82.825469</td>\n",
       "      <td>42190.943432</td>\n",
       "      <td>41361.354455</td>\n",
       "      <td>84.709818</td>\n",
       "      <td>88.586779</td>\n",
       "      <td>42196.353535</td>\n",
       "      <td>41684.151335</td>\n",
       "      <td>78.576192</td>\n",
       "      <td>85.249226</td>\n",
       "      <td>42239.620585</td>\n",
       "      <td>41380.319044</td>\n",
       "      <td>81.510047</td>\n",
       "      <td>84.766218</td>\n",
       "      <td>42190.943432</td>\n",
       "      <td>41361.354455</td>\n",
       "      <td>84.709818</td>\n",
       "      <td>93.252345</td>\n",
       "      <td>42196.353535</td>\n",
       "      <td>41684.151335</td>\n",
       "      <td>78.576192</td>\n",
       "      <td>89.571255</td>\n",
       "      <td>42239.620585</td>\n",
       "      <td>41380.319044</td>\n",
       "      <td>81.510047</td>\n",
       "      <td>85.094916</td>\n",
       "      <td>42190.943432</td>\n",
       "      <td>41361.354455</td>\n",
       "      <td>84.709818</td>\n",
       "      <td>79.153116</td>\n",
       "      <td>42196.353535</td>\n",
       "      <td>41684.151335</td>\n",
       "      <td>78.576192</td>\n",
       "      <td>86.038363</td>\n",
       "      <td>42239.620585</td>\n",
       "      <td>41380.319044</td>\n",
       "      <td>81.510047</td>\n",
       "      <td>77.751956</td>\n",
       "      <td>42189.870974</td>\n",
       "      <td>41457.938516</td>\n",
       "      <td>42210.006458</td>\n",
       "      <td>41562.774542</td>\n",
       "      <td>42286.896445</td>\n",
       "      <td>41602.459445</td>\n",
       "      <td>-0.069573</td>\n",
       "      <td>-0.148709</td>\n",
       "      <td>41.785714</td>\n",
       "      <td>41.785714</td>\n",
       "      <td>41.785714</td>\n",
       "      <td>49.147499</td>\n",
       "      <td>49.147499</td>\n",
       "      <td>49.147499</td>\n",
       "    </tr>\n",
       "  </tbody>\n",
       "</table>\n",
       "</div>"
      ],
      "text/plain": [
       "                        Open     High      Low    Close    Volume  \\\n",
       "2023-01-01 00:00:00  16537.5  16540.9  16504.0  16527.0  5381.399   \n",
       "2023-01-01 01:00:00  16527.1  16554.3  16524.1  16550.4  3210.826   \n",
       "2023-01-01 02:00:00  16550.5  16557.1  16534.8  16542.4  2399.668   \n",
       "2023-01-01 03:00:00  16542.5  16542.5  16515.0  16529.3  3214.480   \n",
       "2023-01-01 04:00:00  16529.2  16530.4  16508.8  16517.8  3150.954   \n",
       "\n",
       "                       quote_qty  is_buyer_maker   returns  volatility  \\\n",
       "2023-01-01 00:00:00  7264.129209           16494  0.000138    0.002201   \n",
       "2023-01-01 01:00:00  6819.889969            8705  0.001416    0.002201   \n",
       "2023-01-01 02:00:00  6030.420093            8468 -0.000483    0.002201   \n",
       "2023-01-01 03:00:00  7003.352799           10007 -0.000792    0.002201   \n",
       "2023-01-01 04:00:00  7378.899423            9476 -0.000696    0.002201   \n",
       "\n",
       "                     MACD_613  Signal_Line_4  MACD_Oscillator_613  MACD_1226  \\\n",
       "2023-01-01 00:00:00  0.000000       0.000000             0.000000   0.000000   \n",
       "2023-01-01 01:00:00  3.342857       1.337143             2.005714   1.866667   \n",
       "2023-01-01 02:00:00  4.110204       2.446367             1.663837   2.669706   \n",
       "2023-01-01 03:00:00  2.540816       2.484147             0.056669   2.223429   \n",
       "2023-01-01 04:00:00 -0.166597       1.423849            -1.590447   0.931065   \n",
       "\n",
       "                     Signal_Line_9  MACD_Oscillator_1226  MACD_526  \\\n",
       "2023-01-01 00:00:00       0.000000              0.000000  0.000000   \n",
       "2023-01-01 01:00:00       1.213333              1.493333  6.066667   \n",
       "2023-01-01 02:00:00       2.488198              1.837098  7.587654   \n",
       "2023-01-01 03:00:00       2.979136              1.112657  4.942890   \n",
       "2023-01-01 04:00:00       2.424667             -0.143766  0.206791   \n",
       "\n",
       "                     MACD_Oscillator_526  atr_14  atr_20   SO high_202  \\\n",
       "2023-01-01 00:00:00             0.000000  36.900  36.900  42190.943432   \n",
       "2023-01-01 01:00:00             4.853333  33.550  33.550  42190.943432   \n",
       "2023-01-01 02:00:00             5.099457  29.800  29.800  42190.943432   \n",
       "2023-01-01 03:00:00             1.963754  29.225  29.225  42190.943432   \n",
       "2023-01-01 04:00:00            -2.217876  27.700  27.700  42190.943432   \n",
       "\n",
       "                       SO low_202  SO %K_202  SO %D_202   SO high_142  \\\n",
       "2023-01-01 00:00:00  41361.354455  84.709818  86.669582  42196.353535   \n",
       "2023-01-01 01:00:00  41361.354455  84.709818  86.669582  42196.353535   \n",
       "2023-01-01 02:00:00  41361.354455  84.709818  86.669582  42196.353535   \n",
       "2023-01-01 03:00:00  41361.354455  84.709818  86.669582  42196.353535   \n",
       "2023-01-01 04:00:00  41361.354455  84.709818  86.669582  42196.353535   \n",
       "\n",
       "                       SO low_142  SO %K_142  SO %D_142   SO high_302  \\\n",
       "2023-01-01 00:00:00  41684.151335  78.576192  82.587995  42239.620585   \n",
       "2023-01-01 01:00:00  41684.151335  78.576192  82.587995  42239.620585   \n",
       "2023-01-01 02:00:00  41684.151335  78.576192  82.587995  42239.620585   \n",
       "2023-01-01 03:00:00  41684.151335  78.576192  82.587995  42239.620585   \n",
       "2023-01-01 04:00:00  41684.151335  78.576192  82.587995  42239.620585   \n",
       "\n",
       "                       SO low_302  SO %K_302  SO %D_302   SO high_203  \\\n",
       "2023-01-01 00:00:00  41380.319044  81.510047  82.825469  42190.943432   \n",
       "2023-01-01 01:00:00  41380.319044  81.510047  82.825469  42190.943432   \n",
       "2023-01-01 02:00:00  41380.319044  81.510047  82.825469  42190.943432   \n",
       "2023-01-01 03:00:00  41380.319044  81.510047  82.825469  42190.943432   \n",
       "2023-01-01 04:00:00  41380.319044  81.510047  82.825469  42190.943432   \n",
       "\n",
       "                       SO low_203  SO %K_203  SO %D_203   SO high_143  \\\n",
       "2023-01-01 00:00:00  41361.354455  84.709818  88.586779  42196.353535   \n",
       "2023-01-01 01:00:00  41361.354455  84.709818  88.586779  42196.353535   \n",
       "2023-01-01 02:00:00  41361.354455  84.709818  88.586779  42196.353535   \n",
       "2023-01-01 03:00:00  41361.354455  84.709818  88.586779  42196.353535   \n",
       "2023-01-01 04:00:00  41361.354455  84.709818  88.586779  42196.353535   \n",
       "\n",
       "                       SO low_143  SO %K_143  SO %D_143   SO high_303  \\\n",
       "2023-01-01 00:00:00  41684.151335  78.576192  85.249226  42239.620585   \n",
       "2023-01-01 01:00:00  41684.151335  78.576192  85.249226  42239.620585   \n",
       "2023-01-01 02:00:00  41684.151335  78.576192  85.249226  42239.620585   \n",
       "2023-01-01 03:00:00  41684.151335  78.576192  85.249226  42239.620585   \n",
       "2023-01-01 04:00:00  41684.151335  78.576192  85.249226  42239.620585   \n",
       "\n",
       "                       SO low_303  SO %K_303  SO %D_303   SO high_205  \\\n",
       "2023-01-01 00:00:00  41380.319044  81.510047  84.766218  42190.943432   \n",
       "2023-01-01 01:00:00  41380.319044  81.510047  84.766218  42190.943432   \n",
       "2023-01-01 02:00:00  41380.319044  81.510047  84.766218  42190.943432   \n",
       "2023-01-01 03:00:00  41380.319044  81.510047  84.766218  42190.943432   \n",
       "2023-01-01 04:00:00  41380.319044  81.510047  84.766218  42190.943432   \n",
       "\n",
       "                       SO low_205  SO %K_205  SO %D_205   SO high_145  \\\n",
       "2023-01-01 00:00:00  41361.354455  84.709818  93.252345  42196.353535   \n",
       "2023-01-01 01:00:00  41361.354455  84.709818  93.252345  42196.353535   \n",
       "2023-01-01 02:00:00  41361.354455  84.709818  93.252345  42196.353535   \n",
       "2023-01-01 03:00:00  41361.354455  84.709818  93.252345  42196.353535   \n",
       "2023-01-01 04:00:00  41361.354455  84.709818  93.252345  42196.353535   \n",
       "\n",
       "                       SO low_145  SO %K_145  SO %D_145   SO high_305  \\\n",
       "2023-01-01 00:00:00  41684.151335  78.576192  89.571255  42239.620585   \n",
       "2023-01-01 01:00:00  41684.151335  78.576192  89.571255  42239.620585   \n",
       "2023-01-01 02:00:00  41684.151335  78.576192  89.571255  42239.620585   \n",
       "2023-01-01 03:00:00  41684.151335  78.576192  89.571255  42239.620585   \n",
       "2023-01-01 04:00:00  41684.151335  78.576192  89.571255  42239.620585   \n",
       "\n",
       "                       SO low_305  SO %K_305  SO %D_305  SO high_2010  \\\n",
       "2023-01-01 00:00:00  41380.319044  81.510047  85.094916  42190.943432   \n",
       "2023-01-01 01:00:00  41380.319044  81.510047  85.094916  42190.943432   \n",
       "2023-01-01 02:00:00  41380.319044  81.510047  85.094916  42190.943432   \n",
       "2023-01-01 03:00:00  41380.319044  81.510047  85.094916  42190.943432   \n",
       "2023-01-01 04:00:00  41380.319044  81.510047  85.094916  42190.943432   \n",
       "\n",
       "                      SO low_2010  SO %K_2010  SO %D_2010  SO high_1410  \\\n",
       "2023-01-01 00:00:00  41361.354455   84.709818   79.153116  42196.353535   \n",
       "2023-01-01 01:00:00  41361.354455   84.709818   79.153116  42196.353535   \n",
       "2023-01-01 02:00:00  41361.354455   84.709818   79.153116  42196.353535   \n",
       "2023-01-01 03:00:00  41361.354455   84.709818   79.153116  42196.353535   \n",
       "2023-01-01 04:00:00  41361.354455   84.709818   79.153116  42196.353535   \n",
       "\n",
       "                      SO low_1410  SO %K_1410  SO %D_1410  SO high_3010  \\\n",
       "2023-01-01 00:00:00  41684.151335   78.576192   86.038363  42239.620585   \n",
       "2023-01-01 01:00:00  41684.151335   78.576192   86.038363  42239.620585   \n",
       "2023-01-01 02:00:00  41684.151335   78.576192   86.038363  42239.620585   \n",
       "2023-01-01 03:00:00  41684.151335   78.576192   86.038363  42239.620585   \n",
       "2023-01-01 04:00:00  41684.151335   78.576192   86.038363  42239.620585   \n",
       "\n",
       "                      SO low_3010  SO %K_3010  SO %D_3010  upper_band_20  \\\n",
       "2023-01-01 00:00:00  41380.319044   81.510047   77.751956   42189.870974   \n",
       "2023-01-01 01:00:00  41380.319044   81.510047   77.751956   42189.870974   \n",
       "2023-01-01 02:00:00  41380.319044   81.510047   77.751956   42189.870974   \n",
       "2023-01-01 03:00:00  41380.319044   81.510047   77.751956   42189.870974   \n",
       "2023-01-01 04:00:00  41380.319044   81.510047   77.751956   42189.870974   \n",
       "\n",
       "                     lower_band_20  upper_band_15  lower_band_15  \\\n",
       "2023-01-01 00:00:00   41457.938516   42210.006458   41562.774542   \n",
       "2023-01-01 01:00:00   41457.938516   42210.006458   41562.774542   \n",
       "2023-01-01 02:00:00   41457.938516   42210.006458   41562.774542   \n",
       "2023-01-01 03:00:00   41457.938516   42210.006458   41562.774542   \n",
       "2023-01-01 04:00:00   41457.938516   42210.006458   41562.774542   \n",
       "\n",
       "                     upper_band_10  lower_band_10     roc_1     roc_2  \\\n",
       "2023-01-01 00:00:00   42286.896445   41602.459445  0.141586  0.093181   \n",
       "2023-01-01 01:00:00   42286.896445   41602.459445  0.141586  0.093181   \n",
       "2023-01-01 02:00:00   42286.896445   41602.459445 -0.048337  0.093181   \n",
       "2023-01-01 03:00:00   42286.896445   41602.459445 -0.079190 -0.127489   \n",
       "2023-01-01 04:00:00   42286.896445   41602.459445 -0.069573 -0.148709   \n",
       "\n",
       "                          rsi_7       rsi_9      rsi_14   UO_71014    UO_7911  \\\n",
       "2023-01-01 00:00:00  100.000000  100.000000  100.000000   0.000000   0.000000   \n",
       "2023-01-01 01:00:00  100.000000  100.000000  100.000000  40.577816  40.577816   \n",
       "2023-01-01 02:00:00   74.522293   74.522293   74.522293  45.684084  45.684084   \n",
       "2023-01-01 03:00:00   52.584270   52.584270   52.584270  46.582916  46.582916   \n",
       "2023-01-01 04:00:00   41.785714   41.785714   41.785714  49.147499  49.147499   \n",
       "\n",
       "                      UO_71012  \n",
       "2023-01-01 00:00:00   0.000000  \n",
       "2023-01-01 01:00:00  40.577816  \n",
       "2023-01-01 02:00:00  45.684084  \n",
       "2023-01-01 03:00:00  46.582916  \n",
       "2023-01-01 04:00:00  49.147499  "
      ]
     },
     "execution_count": 32,
     "metadata": {},
     "output_type": "execute_result"
    }
   ],
   "source": [
    "df_idc_all.head()"
   ]
  },
  {
   "cell_type": "code",
   "execution_count": 33,
   "id": "a425ebb4-bcd8-48bb-9d5e-75922f7fc830",
   "metadata": {
    "tags": []
   },
   "outputs": [
    {
     "data": {
      "text/html": [
       "<div>\n",
       "<style scoped>\n",
       "    .dataframe tbody tr th:only-of-type {\n",
       "        vertical-align: middle;\n",
       "    }\n",
       "\n",
       "    .dataframe tbody tr th {\n",
       "        vertical-align: top;\n",
       "    }\n",
       "\n",
       "    .dataframe thead th {\n",
       "        text-align: right;\n",
       "    }\n",
       "</style>\n",
       "<table border=\"1\" class=\"dataframe\">\n",
       "  <thead>\n",
       "    <tr style=\"text-align: right;\">\n",
       "      <th></th>\n",
       "      <th>Open</th>\n",
       "      <th>High</th>\n",
       "      <th>Low</th>\n",
       "      <th>Close</th>\n",
       "      <th>Volume</th>\n",
       "      <th>quote_qty</th>\n",
       "      <th>is_buyer_maker</th>\n",
       "      <th>returns</th>\n",
       "      <th>volatility</th>\n",
       "      <th>MACD_613</th>\n",
       "      <th>Signal_Line_4</th>\n",
       "      <th>MACD_Oscillator_613</th>\n",
       "      <th>MACD_1226</th>\n",
       "      <th>Signal_Line_9</th>\n",
       "      <th>MACD_Oscillator_1226</th>\n",
       "      <th>MACD_526</th>\n",
       "      <th>MACD_Oscillator_526</th>\n",
       "      <th>atr_14</th>\n",
       "      <th>atr_20</th>\n",
       "      <th>SO high_202</th>\n",
       "      <th>SO low_202</th>\n",
       "      <th>SO %K_202</th>\n",
       "      <th>SO %D_202</th>\n",
       "      <th>SO high_142</th>\n",
       "      <th>SO low_142</th>\n",
       "      <th>SO %K_142</th>\n",
       "      <th>SO %D_142</th>\n",
       "      <th>SO high_302</th>\n",
       "      <th>SO low_302</th>\n",
       "      <th>SO %K_302</th>\n",
       "      <th>SO %D_302</th>\n",
       "      <th>SO high_203</th>\n",
       "      <th>SO low_203</th>\n",
       "      <th>SO %K_203</th>\n",
       "      <th>SO %D_203</th>\n",
       "      <th>SO high_143</th>\n",
       "      <th>SO low_143</th>\n",
       "      <th>SO %K_143</th>\n",
       "      <th>SO %D_143</th>\n",
       "      <th>SO high_303</th>\n",
       "      <th>SO low_303</th>\n",
       "      <th>SO %K_303</th>\n",
       "      <th>SO %D_303</th>\n",
       "      <th>SO high_205</th>\n",
       "      <th>SO low_205</th>\n",
       "      <th>SO %K_205</th>\n",
       "      <th>SO %D_205</th>\n",
       "      <th>SO high_145</th>\n",
       "      <th>SO low_145</th>\n",
       "      <th>SO %K_145</th>\n",
       "      <th>SO %D_145</th>\n",
       "      <th>SO high_305</th>\n",
       "      <th>SO low_305</th>\n",
       "      <th>SO %K_305</th>\n",
       "      <th>SO %D_305</th>\n",
       "      <th>SO high_2010</th>\n",
       "      <th>SO low_2010</th>\n",
       "      <th>SO %K_2010</th>\n",
       "      <th>SO %D_2010</th>\n",
       "      <th>SO high_1410</th>\n",
       "      <th>SO low_1410</th>\n",
       "      <th>SO %K_1410</th>\n",
       "      <th>SO %D_1410</th>\n",
       "      <th>SO high_3010</th>\n",
       "      <th>SO low_3010</th>\n",
       "      <th>SO %K_3010</th>\n",
       "      <th>SO %D_3010</th>\n",
       "      <th>upper_band_20</th>\n",
       "      <th>lower_band_20</th>\n",
       "      <th>upper_band_15</th>\n",
       "      <th>lower_band_15</th>\n",
       "      <th>upper_band_10</th>\n",
       "      <th>lower_band_10</th>\n",
       "      <th>roc_1</th>\n",
       "      <th>roc_2</th>\n",
       "      <th>rsi_7</th>\n",
       "      <th>rsi_9</th>\n",
       "      <th>rsi_14</th>\n",
       "      <th>UO_71014</th>\n",
       "      <th>UO_7911</th>\n",
       "      <th>UO_71012</th>\n",
       "    </tr>\n",
       "  </thead>\n",
       "  <tbody>\n",
       "    <tr>\n",
       "      <th>2024-01-27 19:00:00</th>\n",
       "      <td>41785.0</td>\n",
       "      <td>41977.0</td>\n",
       "      <td>41775.1</td>\n",
       "      <td>41896.4</td>\n",
       "      <td>7765.565</td>\n",
       "      <td>18797.517191</td>\n",
       "      <td>38285</td>\n",
       "      <td>0.002668</td>\n",
       "      <td>0.002019</td>\n",
       "      <td>40.403682</td>\n",
       "      <td>30.996484</td>\n",
       "      <td>9.407198</td>\n",
       "      <td>146.529443</td>\n",
       "      <td>210.556287</td>\n",
       "      <td>-34.805681</td>\n",
       "      <td>189.875650</td>\n",
       "      <td>-20.680636</td>\n",
       "      <td>152.521429</td>\n",
       "      <td>145.215</td>\n",
       "      <td>41977.0</td>\n",
       "      <td>41360.1</td>\n",
       "      <td>86.934673</td>\n",
       "      <td>78.656203</td>\n",
       "      <td>41977.0</td>\n",
       "      <td>41360.1</td>\n",
       "      <td>86.934673</td>\n",
       "      <td>84.282095</td>\n",
       "      <td>42239.3</td>\n",
       "      <td>41002.1</td>\n",
       "      <td>72.284190</td>\n",
       "      <td>69.303734</td>\n",
       "      <td>41977.0</td>\n",
       "      <td>41360.1</td>\n",
       "      <td>86.934673</td>\n",
       "      <td>73.936576</td>\n",
       "      <td>41977.0</td>\n",
       "      <td>41360.1</td>\n",
       "      <td>86.934673</td>\n",
       "      <td>82.405076</td>\n",
       "      <td>42239.3</td>\n",
       "      <td>41002.1</td>\n",
       "      <td>72.284190</td>\n",
       "      <td>67.927335</td>\n",
       "      <td>41977.0</td>\n",
       "      <td>41360.1</td>\n",
       "      <td>86.934673</td>\n",
       "      <td>67.082359</td>\n",
       "      <td>41977.0</td>\n",
       "      <td>41360.1</td>\n",
       "      <td>86.934673</td>\n",
       "      <td>82.564744</td>\n",
       "      <td>42239.3</td>\n",
       "      <td>41002.1</td>\n",
       "      <td>72.284190</td>\n",
       "      <td>70.994755</td>\n",
       "      <td>41977.0</td>\n",
       "      <td>41360.1</td>\n",
       "      <td>86.934673</td>\n",
       "      <td>55.794468</td>\n",
       "      <td>41977.0</td>\n",
       "      <td>41360.1</td>\n",
       "      <td>86.934673</td>\n",
       "      <td>72.340528</td>\n",
       "      <td>42239.3</td>\n",
       "      <td>41002.1</td>\n",
       "      <td>72.284190</td>\n",
       "      <td>74.633851</td>\n",
       "      <td>41926.282235</td>\n",
       "      <td>41574.097765</td>\n",
       "      <td>41919.616474</td>\n",
       "      <td>41543.050193</td>\n",
       "      <td>41873.682804</td>\n",
       "      <td>41669.537196</td>\n",
       "      <td>0.266843</td>\n",
       "      <td>0.304050</td>\n",
       "      <td>86.169284</td>\n",
       "      <td>82.137285</td>\n",
       "      <td>58.884892</td>\n",
       "      <td>98.254035</td>\n",
       "      <td>97.631804</td>\n",
       "      <td>98.239248</td>\n",
       "    </tr>\n",
       "    <tr>\n",
       "      <th>2024-01-27 20:00:00</th>\n",
       "      <td>41896.5</td>\n",
       "      <td>42070.0</td>\n",
       "      <td>41896.4</td>\n",
       "      <td>42049.6</td>\n",
       "      <td>5408.243</td>\n",
       "      <td>16324.490996</td>\n",
       "      <td>35317</td>\n",
       "      <td>0.003657</td>\n",
       "      <td>0.002154</td>\n",
       "      <td>69.666208</td>\n",
       "      <td>46.464374</td>\n",
       "      <td>23.201834</td>\n",
       "      <td>157.992808</td>\n",
       "      <td>215.865915</td>\n",
       "      <td>-18.673852</td>\n",
       "      <td>237.104426</td>\n",
       "      <td>21.238511</td>\n",
       "      <td>155.557143</td>\n",
       "      <td>145.490</td>\n",
       "      <td>42070.0</td>\n",
       "      <td>41360.1</td>\n",
       "      <td>97.126356</td>\n",
       "      <td>92.030515</td>\n",
       "      <td>42070.0</td>\n",
       "      <td>41360.1</td>\n",
       "      <td>97.126356</td>\n",
       "      <td>92.030515</td>\n",
       "      <td>42239.3</td>\n",
       "      <td>41200.0</td>\n",
       "      <td>81.747330</td>\n",
       "      <td>77.015760</td>\n",
       "      <td>42070.0</td>\n",
       "      <td>41360.1</td>\n",
       "      <td>97.126356</td>\n",
       "      <td>84.812921</td>\n",
       "      <td>42070.0</td>\n",
       "      <td>41360.1</td>\n",
       "      <td>97.126356</td>\n",
       "      <td>88.563515</td>\n",
       "      <td>42239.3</td>\n",
       "      <td>41200.0</td>\n",
       "      <td>81.747330</td>\n",
       "      <td>73.451600</td>\n",
       "      <td>42070.0</td>\n",
       "      <td>41360.1</td>\n",
       "      <td>97.126356</td>\n",
       "      <td>76.559951</td>\n",
       "      <td>42070.0</td>\n",
       "      <td>41360.1</td>\n",
       "      <td>97.126356</td>\n",
       "      <td>85.359477</td>\n",
       "      <td>42239.3</td>\n",
       "      <td>41200.0</td>\n",
       "      <td>81.747330</td>\n",
       "      <td>71.387407</td>\n",
       "      <td>42070.0</td>\n",
       "      <td>41360.1</td>\n",
       "      <td>97.126356</td>\n",
       "      <td>60.392123</td>\n",
       "      <td>42070.0</td>\n",
       "      <td>41360.1</td>\n",
       "      <td>97.126356</td>\n",
       "      <td>76.524067</td>\n",
       "      <td>42239.3</td>\n",
       "      <td>41200.0</td>\n",
       "      <td>81.747330</td>\n",
       "      <td>74.961314</td>\n",
       "      <td>41985.315470</td>\n",
       "      <td>41542.744530</td>\n",
       "      <td>42001.586587</td>\n",
       "      <td>41501.266747</td>\n",
       "      <td>42002.304354</td>\n",
       "      <td>41604.515646</td>\n",
       "      <td>0.365664</td>\n",
       "      <td>0.633482</td>\n",
       "      <td>92.606285</td>\n",
       "      <td>88.448928</td>\n",
       "      <td>68.997644</td>\n",
       "      <td>157.603487</td>\n",
       "      <td>157.318754</td>\n",
       "      <td>157.646731</td>\n",
       "    </tr>\n",
       "    <tr>\n",
       "      <th>2024-01-27 21:00:00</th>\n",
       "      <td>42049.6</td>\n",
       "      <td>42165.6</td>\n",
       "      <td>42001.8</td>\n",
       "      <td>42137.8</td>\n",
       "      <td>5859.277</td>\n",
       "      <td>12457.410066</td>\n",
       "      <td>42103</td>\n",
       "      <td>0.002098</td>\n",
       "      <td>0.002189</td>\n",
       "      <td>97.338521</td>\n",
       "      <td>66.814032</td>\n",
       "      <td>30.524488</td>\n",
       "      <td>172.209487</td>\n",
       "      <td>229.346777</td>\n",
       "      <td>-3.565739</td>\n",
       "      <td>283.270228</td>\n",
       "      <td>53.923450</td>\n",
       "      <td>157.992857</td>\n",
       "      <td>145.190</td>\n",
       "      <td>42165.6</td>\n",
       "      <td>41360.1</td>\n",
       "      <td>96.548727</td>\n",
       "      <td>96.837542</td>\n",
       "      <td>42165.6</td>\n",
       "      <td>41360.1</td>\n",
       "      <td>96.548727</td>\n",
       "      <td>96.837542</td>\n",
       "      <td>42239.3</td>\n",
       "      <td>41360.1</td>\n",
       "      <td>88.455414</td>\n",
       "      <td>85.101372</td>\n",
       "      <td>42165.6</td>\n",
       "      <td>41360.1</td>\n",
       "      <td>96.548727</td>\n",
       "      <td>93.536586</td>\n",
       "      <td>42165.6</td>\n",
       "      <td>41360.1</td>\n",
       "      <td>96.548727</td>\n",
       "      <td>93.536586</td>\n",
       "      <td>42239.3</td>\n",
       "      <td>41360.1</td>\n",
       "      <td>88.455414</td>\n",
       "      <td>80.828978</td>\n",
       "      <td>42165.6</td>\n",
       "      <td>41360.1</td>\n",
       "      <td>96.548727</td>\n",
       "      <td>83.096962</td>\n",
       "      <td>42165.6</td>\n",
       "      <td>41360.1</td>\n",
       "      <td>96.548727</td>\n",
       "      <td>88.178062</td>\n",
       "      <td>42239.3</td>\n",
       "      <td>41360.1</td>\n",
       "      <td>88.455414</td>\n",
       "      <td>74.796950</td>\n",
       "      <td>42165.6</td>\n",
       "      <td>41360.1</td>\n",
       "      <td>96.548727</td>\n",
       "      <td>65.672564</td>\n",
       "      <td>42165.6</td>\n",
       "      <td>41360.1</td>\n",
       "      <td>96.548727</td>\n",
       "      <td>80.118429</td>\n",
       "      <td>42239.3</td>\n",
       "      <td>41360.1</td>\n",
       "      <td>88.455414</td>\n",
       "      <td>75.904040</td>\n",
       "      <td>42057.912127</td>\n",
       "      <td>41503.437873</td>\n",
       "      <td>42098.101003</td>\n",
       "      <td>41463.818997</td>\n",
       "      <td>42127.070891</td>\n",
       "      <td>41558.369109</td>\n",
       "      <td>0.209752</td>\n",
       "      <td>0.576183</td>\n",
       "      <td>93.761141</td>\n",
       "      <td>93.263918</td>\n",
       "      <td>71.553503</td>\n",
       "      <td>177.524225</td>\n",
       "      <td>177.319810</td>\n",
       "      <td>177.457956</td>\n",
       "    </tr>\n",
       "    <tr>\n",
       "      <th>2024-01-27 22:00:00</th>\n",
       "      <td>42137.8</td>\n",
       "      <td>42187.1</td>\n",
       "      <td>42057.6</td>\n",
       "      <td>42135.3</td>\n",
       "      <td>5271.863</td>\n",
       "      <td>16107.925688</td>\n",
       "      <td>39498</td>\n",
       "      <td>-0.000059</td>\n",
       "      <td>0.002191</td>\n",
       "      <td>109.950610</td>\n",
       "      <td>84.068663</td>\n",
       "      <td>25.881946</td>\n",
       "      <td>181.185979</td>\n",
       "      <td>244.302454</td>\n",
       "      <td>4.328603</td>\n",
       "      <td>304.125161</td>\n",
       "      <td>59.822707</td>\n",
       "      <td>144.371429</td>\n",
       "      <td>147.450</td>\n",
       "      <td>42187.1</td>\n",
       "      <td>41360.1</td>\n",
       "      <td>93.736397</td>\n",
       "      <td>95.142562</td>\n",
       "      <td>42187.1</td>\n",
       "      <td>41360.1</td>\n",
       "      <td>93.736397</td>\n",
       "      <td>95.142562</td>\n",
       "      <td>42239.3</td>\n",
       "      <td>41360.1</td>\n",
       "      <td>88.171065</td>\n",
       "      <td>88.313239</td>\n",
       "      <td>42187.1</td>\n",
       "      <td>41360.1</td>\n",
       "      <td>93.736397</td>\n",
       "      <td>95.803827</td>\n",
       "      <td>42187.1</td>\n",
       "      <td>41360.1</td>\n",
       "      <td>93.736397</td>\n",
       "      <td>95.803827</td>\n",
       "      <td>42239.3</td>\n",
       "      <td>41360.1</td>\n",
       "      <td>88.171065</td>\n",
       "      <td>86.124603</td>\n",
       "      <td>42187.1</td>\n",
       "      <td>41360.1</td>\n",
       "      <td>93.736397</td>\n",
       "      <td>88.944777</td>\n",
       "      <td>42187.1</td>\n",
       "      <td>41360.1</td>\n",
       "      <td>93.736397</td>\n",
       "      <td>91.195134</td>\n",
       "      <td>42239.3</td>\n",
       "      <td>41360.1</td>\n",
       "      <td>88.171065</td>\n",
       "      <td>79.396255</td>\n",
       "      <td>42187.1</td>\n",
       "      <td>41360.1</td>\n",
       "      <td>93.736397</td>\n",
       "      <td>70.832146</td>\n",
       "      <td>42187.1</td>\n",
       "      <td>41360.1</td>\n",
       "      <td>93.736397</td>\n",
       "      <td>83.353898</td>\n",
       "      <td>42239.3</td>\n",
       "      <td>41360.1</td>\n",
       "      <td>88.171065</td>\n",
       "      <td>76.878118</td>\n",
       "      <td>42115.612090</td>\n",
       "      <td>41477.047910</td>\n",
       "      <td>42171.859030</td>\n",
       "      <td>41448.220970</td>\n",
       "      <td>42208.820103</td>\n",
       "      <td>41557.559897</td>\n",
       "      <td>-0.005933</td>\n",
       "      <td>0.203807</td>\n",
       "      <td>92.353973</td>\n",
       "      <td>93.502343</td>\n",
       "      <td>93.779781</td>\n",
       "      <td>162.103538</td>\n",
       "      <td>161.749787</td>\n",
       "      <td>161.898956</td>\n",
       "    </tr>\n",
       "    <tr>\n",
       "      <th>2024-01-27 23:00:00</th>\n",
       "      <td>42135.4</td>\n",
       "      <td>42156.7</td>\n",
       "      <td>42055.4</td>\n",
       "      <td>42102.2</td>\n",
       "      <td>4399.800</td>\n",
       "      <td>14341.036645</td>\n",
       "      <td>33102</td>\n",
       "      <td>-0.000786</td>\n",
       "      <td>0.002200</td>\n",
       "      <td>108.455945</td>\n",
       "      <td>93.823576</td>\n",
       "      <td>14.632369</td>\n",
       "      <td>183.513590</td>\n",
       "      <td>255.623530</td>\n",
       "      <td>5.324971</td>\n",
       "      <td>300.907832</td>\n",
       "      <td>45.284303</td>\n",
       "      <td>125.471429</td>\n",
       "      <td>147.565</td>\n",
       "      <td>42187.1</td>\n",
       "      <td>41360.1</td>\n",
       "      <td>89.733978</td>\n",
       "      <td>91.735187</td>\n",
       "      <td>42187.1</td>\n",
       "      <td>41632.0</td>\n",
       "      <td>84.705458</td>\n",
       "      <td>89.220928</td>\n",
       "      <td>42239.3</td>\n",
       "      <td>41360.1</td>\n",
       "      <td>84.406278</td>\n",
       "      <td>86.288672</td>\n",
       "      <td>42187.1</td>\n",
       "      <td>41360.1</td>\n",
       "      <td>89.733978</td>\n",
       "      <td>93.339701</td>\n",
       "      <td>42187.1</td>\n",
       "      <td>41632.0</td>\n",
       "      <td>84.705458</td>\n",
       "      <td>91.663528</td>\n",
       "      <td>42239.3</td>\n",
       "      <td>41360.1</td>\n",
       "      <td>84.406278</td>\n",
       "      <td>87.010919</td>\n",
       "      <td>42187.1</td>\n",
       "      <td>41360.1</td>\n",
       "      <td>89.733978</td>\n",
       "      <td>92.816026</td>\n",
       "      <td>42187.1</td>\n",
       "      <td>41632.0</td>\n",
       "      <td>84.705458</td>\n",
       "      <td>91.810322</td>\n",
       "      <td>42239.3</td>\n",
       "      <td>41360.1</td>\n",
       "      <td>84.406278</td>\n",
       "      <td>83.012855</td>\n",
       "      <td>42187.1</td>\n",
       "      <td>41360.1</td>\n",
       "      <td>89.733978</td>\n",
       "      <td>75.633569</td>\n",
       "      <td>42187.1</td>\n",
       "      <td>41632.0</td>\n",
       "      <td>84.705458</td>\n",
       "      <td>85.319744</td>\n",
       "      <td>42239.3</td>\n",
       "      <td>41360.1</td>\n",
       "      <td>84.406278</td>\n",
       "      <td>77.551814</td>\n",
       "      <td>42158.587642</td>\n",
       "      <td>41463.772358</td>\n",
       "      <td>42186.923584</td>\n",
       "      <td>41519.396416</td>\n",
       "      <td>42252.739060</td>\n",
       "      <td>41588.700940</td>\n",
       "      <td>-0.078556</td>\n",
       "      <td>-0.084485</td>\n",
       "      <td>86.927796</td>\n",
       "      <td>86.870355</td>\n",
       "      <td>86.625041</td>\n",
       "      <td>163.501062</td>\n",
       "      <td>163.153819</td>\n",
       "      <td>163.400034</td>\n",
       "    </tr>\n",
       "  </tbody>\n",
       "</table>\n",
       "</div>"
      ],
      "text/plain": [
       "                        Open     High      Low    Close    Volume  \\\n",
       "2024-01-27 19:00:00  41785.0  41977.0  41775.1  41896.4  7765.565   \n",
       "2024-01-27 20:00:00  41896.5  42070.0  41896.4  42049.6  5408.243   \n",
       "2024-01-27 21:00:00  42049.6  42165.6  42001.8  42137.8  5859.277   \n",
       "2024-01-27 22:00:00  42137.8  42187.1  42057.6  42135.3  5271.863   \n",
       "2024-01-27 23:00:00  42135.4  42156.7  42055.4  42102.2  4399.800   \n",
       "\n",
       "                        quote_qty  is_buyer_maker   returns  volatility  \\\n",
       "2024-01-27 19:00:00  18797.517191           38285  0.002668    0.002019   \n",
       "2024-01-27 20:00:00  16324.490996           35317  0.003657    0.002154   \n",
       "2024-01-27 21:00:00  12457.410066           42103  0.002098    0.002189   \n",
       "2024-01-27 22:00:00  16107.925688           39498 -0.000059    0.002191   \n",
       "2024-01-27 23:00:00  14341.036645           33102 -0.000786    0.002200   \n",
       "\n",
       "                       MACD_613  Signal_Line_4  MACD_Oscillator_613  \\\n",
       "2024-01-27 19:00:00   40.403682      30.996484             9.407198   \n",
       "2024-01-27 20:00:00   69.666208      46.464374            23.201834   \n",
       "2024-01-27 21:00:00   97.338521      66.814032            30.524488   \n",
       "2024-01-27 22:00:00  109.950610      84.068663            25.881946   \n",
       "2024-01-27 23:00:00  108.455945      93.823576            14.632369   \n",
       "\n",
       "                      MACD_1226  Signal_Line_9  MACD_Oscillator_1226  \\\n",
       "2024-01-27 19:00:00  146.529443     210.556287            -34.805681   \n",
       "2024-01-27 20:00:00  157.992808     215.865915            -18.673852   \n",
       "2024-01-27 21:00:00  172.209487     229.346777             -3.565739   \n",
       "2024-01-27 22:00:00  181.185979     244.302454              4.328603   \n",
       "2024-01-27 23:00:00  183.513590     255.623530              5.324971   \n",
       "\n",
       "                       MACD_526  MACD_Oscillator_526      atr_14   atr_20  \\\n",
       "2024-01-27 19:00:00  189.875650           -20.680636  152.521429  145.215   \n",
       "2024-01-27 20:00:00  237.104426            21.238511  155.557143  145.490   \n",
       "2024-01-27 21:00:00  283.270228            53.923450  157.992857  145.190   \n",
       "2024-01-27 22:00:00  304.125161            59.822707  144.371429  147.450   \n",
       "2024-01-27 23:00:00  300.907832            45.284303  125.471429  147.565   \n",
       "\n",
       "                     SO high_202  SO low_202  SO %K_202  SO %D_202  \\\n",
       "2024-01-27 19:00:00      41977.0     41360.1  86.934673  78.656203   \n",
       "2024-01-27 20:00:00      42070.0     41360.1  97.126356  92.030515   \n",
       "2024-01-27 21:00:00      42165.6     41360.1  96.548727  96.837542   \n",
       "2024-01-27 22:00:00      42187.1     41360.1  93.736397  95.142562   \n",
       "2024-01-27 23:00:00      42187.1     41360.1  89.733978  91.735187   \n",
       "\n",
       "                     SO high_142  SO low_142  SO %K_142  SO %D_142  \\\n",
       "2024-01-27 19:00:00      41977.0     41360.1  86.934673  84.282095   \n",
       "2024-01-27 20:00:00      42070.0     41360.1  97.126356  92.030515   \n",
       "2024-01-27 21:00:00      42165.6     41360.1  96.548727  96.837542   \n",
       "2024-01-27 22:00:00      42187.1     41360.1  93.736397  95.142562   \n",
       "2024-01-27 23:00:00      42187.1     41632.0  84.705458  89.220928   \n",
       "\n",
       "                     SO high_302  SO low_302  SO %K_302  SO %D_302  \\\n",
       "2024-01-27 19:00:00      42239.3     41002.1  72.284190  69.303734   \n",
       "2024-01-27 20:00:00      42239.3     41200.0  81.747330  77.015760   \n",
       "2024-01-27 21:00:00      42239.3     41360.1  88.455414  85.101372   \n",
       "2024-01-27 22:00:00      42239.3     41360.1  88.171065  88.313239   \n",
       "2024-01-27 23:00:00      42239.3     41360.1  84.406278  86.288672   \n",
       "\n",
       "                     SO high_203  SO low_203  SO %K_203  SO %D_203  \\\n",
       "2024-01-27 19:00:00      41977.0     41360.1  86.934673  73.936576   \n",
       "2024-01-27 20:00:00      42070.0     41360.1  97.126356  84.812921   \n",
       "2024-01-27 21:00:00      42165.6     41360.1  96.548727  93.536586   \n",
       "2024-01-27 22:00:00      42187.1     41360.1  93.736397  95.803827   \n",
       "2024-01-27 23:00:00      42187.1     41360.1  89.733978  93.339701   \n",
       "\n",
       "                     SO high_143  SO low_143  SO %K_143  SO %D_143  \\\n",
       "2024-01-27 19:00:00      41977.0     41360.1  86.934673  82.405076   \n",
       "2024-01-27 20:00:00      42070.0     41360.1  97.126356  88.563515   \n",
       "2024-01-27 21:00:00      42165.6     41360.1  96.548727  93.536586   \n",
       "2024-01-27 22:00:00      42187.1     41360.1  93.736397  95.803827   \n",
       "2024-01-27 23:00:00      42187.1     41632.0  84.705458  91.663528   \n",
       "\n",
       "                     SO high_303  SO low_303  SO %K_303  SO %D_303  \\\n",
       "2024-01-27 19:00:00      42239.3     41002.1  72.284190  67.927335   \n",
       "2024-01-27 20:00:00      42239.3     41200.0  81.747330  73.451600   \n",
       "2024-01-27 21:00:00      42239.3     41360.1  88.455414  80.828978   \n",
       "2024-01-27 22:00:00      42239.3     41360.1  88.171065  86.124603   \n",
       "2024-01-27 23:00:00      42239.3     41360.1  84.406278  87.010919   \n",
       "\n",
       "                     SO high_205  SO low_205  SO %K_205  SO %D_205  \\\n",
       "2024-01-27 19:00:00      41977.0     41360.1  86.934673  67.082359   \n",
       "2024-01-27 20:00:00      42070.0     41360.1  97.126356  76.559951   \n",
       "2024-01-27 21:00:00      42165.6     41360.1  96.548727  83.096962   \n",
       "2024-01-27 22:00:00      42187.1     41360.1  93.736397  88.944777   \n",
       "2024-01-27 23:00:00      42187.1     41360.1  89.733978  92.816026   \n",
       "\n",
       "                     SO high_145  SO low_145  SO %K_145  SO %D_145  \\\n",
       "2024-01-27 19:00:00      41977.0     41360.1  86.934673  82.564744   \n",
       "2024-01-27 20:00:00      42070.0     41360.1  97.126356  85.359477   \n",
       "2024-01-27 21:00:00      42165.6     41360.1  96.548727  88.178062   \n",
       "2024-01-27 22:00:00      42187.1     41360.1  93.736397  91.195134   \n",
       "2024-01-27 23:00:00      42187.1     41632.0  84.705458  91.810322   \n",
       "\n",
       "                     SO high_305  SO low_305  SO %K_305  SO %D_305  \\\n",
       "2024-01-27 19:00:00      42239.3     41002.1  72.284190  70.994755   \n",
       "2024-01-27 20:00:00      42239.3     41200.0  81.747330  71.387407   \n",
       "2024-01-27 21:00:00      42239.3     41360.1  88.455414  74.796950   \n",
       "2024-01-27 22:00:00      42239.3     41360.1  88.171065  79.396255   \n",
       "2024-01-27 23:00:00      42239.3     41360.1  84.406278  83.012855   \n",
       "\n",
       "                     SO high_2010  SO low_2010  SO %K_2010  SO %D_2010  \\\n",
       "2024-01-27 19:00:00       41977.0      41360.1   86.934673   55.794468   \n",
       "2024-01-27 20:00:00       42070.0      41360.1   97.126356   60.392123   \n",
       "2024-01-27 21:00:00       42165.6      41360.1   96.548727   65.672564   \n",
       "2024-01-27 22:00:00       42187.1      41360.1   93.736397   70.832146   \n",
       "2024-01-27 23:00:00       42187.1      41360.1   89.733978   75.633569   \n",
       "\n",
       "                     SO high_1410  SO low_1410  SO %K_1410  SO %D_1410  \\\n",
       "2024-01-27 19:00:00       41977.0      41360.1   86.934673   72.340528   \n",
       "2024-01-27 20:00:00       42070.0      41360.1   97.126356   76.524067   \n",
       "2024-01-27 21:00:00       42165.6      41360.1   96.548727   80.118429   \n",
       "2024-01-27 22:00:00       42187.1      41360.1   93.736397   83.353898   \n",
       "2024-01-27 23:00:00       42187.1      41632.0   84.705458   85.319744   \n",
       "\n",
       "                     SO high_3010  SO low_3010  SO %K_3010  SO %D_3010  \\\n",
       "2024-01-27 19:00:00       42239.3      41002.1   72.284190   74.633851   \n",
       "2024-01-27 20:00:00       42239.3      41200.0   81.747330   74.961314   \n",
       "2024-01-27 21:00:00       42239.3      41360.1   88.455414   75.904040   \n",
       "2024-01-27 22:00:00       42239.3      41360.1   88.171065   76.878118   \n",
       "2024-01-27 23:00:00       42239.3      41360.1   84.406278   77.551814   \n",
       "\n",
       "                     upper_band_20  lower_band_20  upper_band_15  \\\n",
       "2024-01-27 19:00:00   41926.282235   41574.097765   41919.616474   \n",
       "2024-01-27 20:00:00   41985.315470   41542.744530   42001.586587   \n",
       "2024-01-27 21:00:00   42057.912127   41503.437873   42098.101003   \n",
       "2024-01-27 22:00:00   42115.612090   41477.047910   42171.859030   \n",
       "2024-01-27 23:00:00   42158.587642   41463.772358   42186.923584   \n",
       "\n",
       "                     lower_band_15  upper_band_10  lower_band_10     roc_1  \\\n",
       "2024-01-27 19:00:00   41543.050193   41873.682804   41669.537196  0.266843   \n",
       "2024-01-27 20:00:00   41501.266747   42002.304354   41604.515646  0.365664   \n",
       "2024-01-27 21:00:00   41463.818997   42127.070891   41558.369109  0.209752   \n",
       "2024-01-27 22:00:00   41448.220970   42208.820103   41557.559897 -0.005933   \n",
       "2024-01-27 23:00:00   41519.396416   42252.739060   41588.700940 -0.078556   \n",
       "\n",
       "                        roc_2      rsi_7      rsi_9     rsi_14    UO_71014  \\\n",
       "2024-01-27 19:00:00  0.304050  86.169284  82.137285  58.884892   98.254035   \n",
       "2024-01-27 20:00:00  0.633482  92.606285  88.448928  68.997644  157.603487   \n",
       "2024-01-27 21:00:00  0.576183  93.761141  93.263918  71.553503  177.524225   \n",
       "2024-01-27 22:00:00  0.203807  92.353973  93.502343  93.779781  162.103538   \n",
       "2024-01-27 23:00:00 -0.084485  86.927796  86.870355  86.625041  163.501062   \n",
       "\n",
       "                        UO_7911    UO_71012  \n",
       "2024-01-27 19:00:00   97.631804   98.239248  \n",
       "2024-01-27 20:00:00  157.318754  157.646731  \n",
       "2024-01-27 21:00:00  177.319810  177.457956  \n",
       "2024-01-27 22:00:00  161.749787  161.898956  \n",
       "2024-01-27 23:00:00  163.153819  163.400034  "
      ]
     },
     "execution_count": 33,
     "metadata": {},
     "output_type": "execute_result"
    }
   ],
   "source": [
    "df_idc_all.tail()"
   ]
  },
  {
   "cell_type": "code",
   "execution_count": 34,
   "id": "d57944bf-423a-4260-8ad4-a8b4631bab6a",
   "metadata": {
    "tags": []
   },
   "outputs": [],
   "source": [
    "#df_idc_all.to_csv('../data/final_dask.csv', index_label='time')"
   ]
  },
  {
   "cell_type": "markdown",
   "id": "9050c92f-30cb-4cf0-ab2c-4cfb4165b9e0",
   "metadata": {},
   "source": [
    "## 2. Feature Engineering"
   ]
  },
  {
   "cell_type": "markdown",
   "id": "df8b7f26",
   "metadata": {},
   "source": [
    "### 2-1. Feature combination optimization"
   ]
  },
  {
   "cell_type": "code",
   "execution_count": 35,
   "id": "d13ee952",
   "metadata": {},
   "outputs": [],
   "source": [
    "# Test model\n",
    "\n",
    "def calculate_rmse(y_true, y_pred):\n",
    "    return np.sqrt(mean_squared_error(y_true, y_pred))\n",
    "\n",
    "def rf_base(df, df_name, n_splits): \n",
    "    \n",
    "    # Feature와 Target 나누기\n",
    "    X = df.drop(columns=['volatility'])\n",
    "    y = df['volatility']\n",
    "\n",
    "    tscv = TimeSeriesSplit(n_splits)\n",
    "    \n",
    "    mape_list = []\n",
    "    rmse_list = []\n",
    "\n",
    "    # TimeSeriesSplit을 사용하여 데이터 분할\n",
    "    for train_index, test_index in tscv.split(X):\n",
    "        X_train, X_test = X.iloc[train_index], X.iloc[test_index]\n",
    "        y_train, y_test = y.iloc[train_index], y.iloc[test_index]\n",
    "        \n",
    "\n",
    "        # RandomForestRegressor(베이지안옵티마이저 )\n",
    "        rf_model = RandomForestRegressor(max_depth=None,\n",
    "                                         max_features='sqrt',\n",
    "                                         n_estimators=200,\n",
    "                                         min_samples_split=5, \n",
    "                                         min_samples_leaf=2, \n",
    "                                         max_leaf_nodes=None,\n",
    "                                         random_state=42)  # random_state 추가\n",
    "\n",
    "\n",
    "        # 모델 학습\n",
    "        rf_model.fit(X_train, y_train)\n",
    "\n",
    "        # 예측\n",
    "        y_pred = rf_model.predict(X_test)\n",
    "\n",
    "        # 평가지표(MAPE, RMSE)\n",
    "        test_mape = mean_absolute_percentage_error(y_test, y_pred)\n",
    "        test_rmse = calculate_rmse(y_test, y_pred)\n",
    "        \n",
    "        # 결과 저장\n",
    "        mape_list.append(test_mape)\n",
    "        rmse_list.append(test_rmse)\n",
    "        \n",
    "        print(f'{df_name} : MAPE: {test_mape}, RMSE: {test_rmse}')\n",
    "    \n",
    "    # 평균 결과\n",
    "    print(f'{df_name} : Average MAPE: {np.mean(mape_list)}, Average RMSE: {np.mean(rmse_list)}')"
   ]
  },
  {
   "cell_type": "code",
   "execution_count": 36,
   "id": "e2729336",
   "metadata": {},
   "outputs": [
    {
     "data": {
      "text/plain": [
       "Index(['Open', 'High', 'Low', 'Close', 'Volume', 'quote_qty', 'is_buyer_maker',\n",
       "       'returns', 'volatility', 'MACD_613', 'Signal_Line_4',\n",
       "       'MACD_Oscillator_613', 'MACD_1226', 'Signal_Line_9',\n",
       "       'MACD_Oscillator_1226', 'MACD_526', 'MACD_Oscillator_526', 'atr_14',\n",
       "       'atr_20', 'SO high_202', 'SO low_202', 'SO %K_202', 'SO %D_202',\n",
       "       'SO high_142', 'SO low_142', 'SO %K_142', 'SO %D_142', 'SO high_302',\n",
       "       'SO low_302', 'SO %K_302', 'SO %D_302', 'SO high_203', 'SO low_203',\n",
       "       'SO %K_203', 'SO %D_203', 'SO high_143', 'SO low_143', 'SO %K_143',\n",
       "       'SO %D_143', 'SO high_303', 'SO low_303', 'SO %K_303', 'SO %D_303',\n",
       "       'SO high_205', 'SO low_205', 'SO %K_205', 'SO %D_205', 'SO high_145',\n",
       "       'SO low_145', 'SO %K_145', 'SO %D_145', 'SO high_305', 'SO low_305',\n",
       "       'SO %K_305', 'SO %D_305', 'SO high_2010', 'SO low_2010', 'SO %K_2010',\n",
       "       'SO %D_2010', 'SO high_1410', 'SO low_1410', 'SO %K_1410', 'SO %D_1410',\n",
       "       'SO high_3010', 'SO low_3010', 'SO %K_3010', 'SO %D_3010',\n",
       "       'upper_band_20', 'lower_band_20', 'upper_band_15', 'lower_band_15',\n",
       "       'upper_band_10', 'lower_band_10', 'roc_1', 'roc_2', 'rsi_7', 'rsi_9',\n",
       "       'rsi_14', 'UO_71014', 'UO_7911', 'UO_71012'],\n",
       "      dtype='object')"
      ]
     },
     "execution_count": 36,
     "metadata": {},
     "output_type": "execute_result"
    }
   ],
   "source": [
    "df_idc_all.columns"
   ]
  },
  {
   "cell_type": "code",
   "execution_count": 37,
   "id": "1448e2ba",
   "metadata": {
    "scrolled": true
   },
   "outputs": [
    {
     "data": {
      "text/html": [
       "<div>\n",
       "<style scoped>\n",
       "    .dataframe tbody tr th:only-of-type {\n",
       "        vertical-align: middle;\n",
       "    }\n",
       "\n",
       "    .dataframe tbody tr th {\n",
       "        vertical-align: top;\n",
       "    }\n",
       "\n",
       "    .dataframe thead th {\n",
       "        text-align: right;\n",
       "    }\n",
       "</style>\n",
       "<table border=\"1\" class=\"dataframe\">\n",
       "  <thead>\n",
       "    <tr style=\"text-align: right;\">\n",
       "      <th></th>\n",
       "      <th>Open</th>\n",
       "      <th>High</th>\n",
       "      <th>Low</th>\n",
       "      <th>Close</th>\n",
       "      <th>Volume</th>\n",
       "      <th>quote_qty</th>\n",
       "      <th>is_buyer_maker</th>\n",
       "      <th>returns</th>\n",
       "      <th>volatility</th>\n",
       "      <th>MACD_613</th>\n",
       "      <th>Signal_Line_4</th>\n",
       "      <th>MACD_Oscillator_613</th>\n",
       "      <th>MACD_1226</th>\n",
       "      <th>Signal_Line_9</th>\n",
       "      <th>MACD_Oscillator_1226</th>\n",
       "      <th>MACD_526</th>\n",
       "      <th>MACD_Oscillator_526</th>\n",
       "      <th>atr_14</th>\n",
       "      <th>atr_20</th>\n",
       "      <th>SO high_202</th>\n",
       "      <th>SO low_202</th>\n",
       "      <th>SO %K_202</th>\n",
       "      <th>SO %D_202</th>\n",
       "      <th>SO high_142</th>\n",
       "      <th>SO low_142</th>\n",
       "      <th>SO %K_142</th>\n",
       "      <th>SO %D_142</th>\n",
       "      <th>SO high_302</th>\n",
       "      <th>SO low_302</th>\n",
       "      <th>SO %K_302</th>\n",
       "      <th>SO %D_302</th>\n",
       "      <th>SO high_203</th>\n",
       "      <th>SO low_203</th>\n",
       "      <th>SO %K_203</th>\n",
       "      <th>SO %D_203</th>\n",
       "      <th>SO high_143</th>\n",
       "      <th>SO low_143</th>\n",
       "      <th>SO %K_143</th>\n",
       "      <th>SO %D_143</th>\n",
       "      <th>SO high_303</th>\n",
       "      <th>SO low_303</th>\n",
       "      <th>SO %K_303</th>\n",
       "      <th>SO %D_303</th>\n",
       "      <th>SO high_205</th>\n",
       "      <th>SO low_205</th>\n",
       "      <th>SO %K_205</th>\n",
       "      <th>SO %D_205</th>\n",
       "      <th>SO high_145</th>\n",
       "      <th>SO low_145</th>\n",
       "      <th>SO %K_145</th>\n",
       "      <th>SO %D_145</th>\n",
       "      <th>SO high_305</th>\n",
       "      <th>SO low_305</th>\n",
       "      <th>SO %K_305</th>\n",
       "      <th>SO %D_305</th>\n",
       "      <th>SO high_2010</th>\n",
       "      <th>SO low_2010</th>\n",
       "      <th>SO %K_2010</th>\n",
       "      <th>SO %D_2010</th>\n",
       "      <th>SO high_1410</th>\n",
       "      <th>SO low_1410</th>\n",
       "      <th>SO %K_1410</th>\n",
       "      <th>SO %D_1410</th>\n",
       "      <th>SO high_3010</th>\n",
       "      <th>SO low_3010</th>\n",
       "      <th>SO %K_3010</th>\n",
       "      <th>SO %D_3010</th>\n",
       "      <th>upper_band_20</th>\n",
       "      <th>lower_band_20</th>\n",
       "      <th>upper_band_15</th>\n",
       "      <th>lower_band_15</th>\n",
       "      <th>upper_band_10</th>\n",
       "      <th>lower_band_10</th>\n",
       "      <th>roc_1</th>\n",
       "      <th>roc_2</th>\n",
       "      <th>rsi_7</th>\n",
       "      <th>rsi_9</th>\n",
       "      <th>rsi_14</th>\n",
       "      <th>UO_71014</th>\n",
       "      <th>UO_7911</th>\n",
       "      <th>UO_71012</th>\n",
       "    </tr>\n",
       "  </thead>\n",
       "  <tbody>\n",
       "    <tr>\n",
       "      <th>2023-01-01 00:00:00</th>\n",
       "      <td>16537.5</td>\n",
       "      <td>16540.9</td>\n",
       "      <td>16504.0</td>\n",
       "      <td>16527.0</td>\n",
       "      <td>5381.399</td>\n",
       "      <td>7264.129209</td>\n",
       "      <td>16494</td>\n",
       "      <td>0.000138</td>\n",
       "      <td>0.002201</td>\n",
       "      <td>0.000000</td>\n",
       "      <td>0.000000</td>\n",
       "      <td>0.000000</td>\n",
       "      <td>0.000000</td>\n",
       "      <td>0.000000</td>\n",
       "      <td>0.000000</td>\n",
       "      <td>0.000000</td>\n",
       "      <td>0.000000</td>\n",
       "      <td>36.900000</td>\n",
       "      <td>36.900</td>\n",
       "      <td>42190.943432</td>\n",
       "      <td>41361.354455</td>\n",
       "      <td>84.709818</td>\n",
       "      <td>86.669582</td>\n",
       "      <td>42196.353535</td>\n",
       "      <td>41684.151335</td>\n",
       "      <td>78.576192</td>\n",
       "      <td>82.587995</td>\n",
       "      <td>42239.620585</td>\n",
       "      <td>41380.319044</td>\n",
       "      <td>81.510047</td>\n",
       "      <td>82.825469</td>\n",
       "      <td>42190.943432</td>\n",
       "      <td>41361.354455</td>\n",
       "      <td>84.709818</td>\n",
       "      <td>88.586779</td>\n",
       "      <td>42196.353535</td>\n",
       "      <td>41684.151335</td>\n",
       "      <td>78.576192</td>\n",
       "      <td>85.249226</td>\n",
       "      <td>42239.620585</td>\n",
       "      <td>41380.319044</td>\n",
       "      <td>81.510047</td>\n",
       "      <td>84.766218</td>\n",
       "      <td>42190.943432</td>\n",
       "      <td>41361.354455</td>\n",
       "      <td>84.709818</td>\n",
       "      <td>93.252345</td>\n",
       "      <td>42196.353535</td>\n",
       "      <td>41684.151335</td>\n",
       "      <td>78.576192</td>\n",
       "      <td>89.571255</td>\n",
       "      <td>42239.620585</td>\n",
       "      <td>41380.319044</td>\n",
       "      <td>81.510047</td>\n",
       "      <td>85.094916</td>\n",
       "      <td>42190.943432</td>\n",
       "      <td>41361.354455</td>\n",
       "      <td>84.709818</td>\n",
       "      <td>79.153116</td>\n",
       "      <td>42196.353535</td>\n",
       "      <td>41684.151335</td>\n",
       "      <td>78.576192</td>\n",
       "      <td>86.038363</td>\n",
       "      <td>42239.620585</td>\n",
       "      <td>41380.319044</td>\n",
       "      <td>81.510047</td>\n",
       "      <td>77.751956</td>\n",
       "      <td>42189.870974</td>\n",
       "      <td>41457.938516</td>\n",
       "      <td>42210.006458</td>\n",
       "      <td>41562.774542</td>\n",
       "      <td>42286.896445</td>\n",
       "      <td>41602.459445</td>\n",
       "      <td>0.141586</td>\n",
       "      <td>0.093181</td>\n",
       "      <td>100.000000</td>\n",
       "      <td>100.000000</td>\n",
       "      <td>100.000000</td>\n",
       "      <td>0.000000</td>\n",
       "      <td>0.000000</td>\n",
       "      <td>0.000000</td>\n",
       "    </tr>\n",
       "    <tr>\n",
       "      <th>2023-01-01 01:00:00</th>\n",
       "      <td>16527.1</td>\n",
       "      <td>16554.3</td>\n",
       "      <td>16524.1</td>\n",
       "      <td>16550.4</td>\n",
       "      <td>3210.826</td>\n",
       "      <td>6819.889969</td>\n",
       "      <td>8705</td>\n",
       "      <td>0.001416</td>\n",
       "      <td>0.002201</td>\n",
       "      <td>3.342857</td>\n",
       "      <td>1.337143</td>\n",
       "      <td>2.005714</td>\n",
       "      <td>1.866667</td>\n",
       "      <td>1.213333</td>\n",
       "      <td>1.493333</td>\n",
       "      <td>6.066667</td>\n",
       "      <td>4.853333</td>\n",
       "      <td>33.550000</td>\n",
       "      <td>33.550</td>\n",
       "      <td>42190.943432</td>\n",
       "      <td>41361.354455</td>\n",
       "      <td>84.709818</td>\n",
       "      <td>86.669582</td>\n",
       "      <td>42196.353535</td>\n",
       "      <td>41684.151335</td>\n",
       "      <td>78.576192</td>\n",
       "      <td>82.587995</td>\n",
       "      <td>42239.620585</td>\n",
       "      <td>41380.319044</td>\n",
       "      <td>81.510047</td>\n",
       "      <td>82.825469</td>\n",
       "      <td>42190.943432</td>\n",
       "      <td>41361.354455</td>\n",
       "      <td>84.709818</td>\n",
       "      <td>88.586779</td>\n",
       "      <td>42196.353535</td>\n",
       "      <td>41684.151335</td>\n",
       "      <td>78.576192</td>\n",
       "      <td>85.249226</td>\n",
       "      <td>42239.620585</td>\n",
       "      <td>41380.319044</td>\n",
       "      <td>81.510047</td>\n",
       "      <td>84.766218</td>\n",
       "      <td>42190.943432</td>\n",
       "      <td>41361.354455</td>\n",
       "      <td>84.709818</td>\n",
       "      <td>93.252345</td>\n",
       "      <td>42196.353535</td>\n",
       "      <td>41684.151335</td>\n",
       "      <td>78.576192</td>\n",
       "      <td>89.571255</td>\n",
       "      <td>42239.620585</td>\n",
       "      <td>41380.319044</td>\n",
       "      <td>81.510047</td>\n",
       "      <td>85.094916</td>\n",
       "      <td>42190.943432</td>\n",
       "      <td>41361.354455</td>\n",
       "      <td>84.709818</td>\n",
       "      <td>79.153116</td>\n",
       "      <td>42196.353535</td>\n",
       "      <td>41684.151335</td>\n",
       "      <td>78.576192</td>\n",
       "      <td>86.038363</td>\n",
       "      <td>42239.620585</td>\n",
       "      <td>41380.319044</td>\n",
       "      <td>81.510047</td>\n",
       "      <td>77.751956</td>\n",
       "      <td>42189.870974</td>\n",
       "      <td>41457.938516</td>\n",
       "      <td>42210.006458</td>\n",
       "      <td>41562.774542</td>\n",
       "      <td>42286.896445</td>\n",
       "      <td>41602.459445</td>\n",
       "      <td>0.141586</td>\n",
       "      <td>0.093181</td>\n",
       "      <td>100.000000</td>\n",
       "      <td>100.000000</td>\n",
       "      <td>100.000000</td>\n",
       "      <td>40.577816</td>\n",
       "      <td>40.577816</td>\n",
       "      <td>40.577816</td>\n",
       "    </tr>\n",
       "    <tr>\n",
       "      <th>2023-01-01 02:00:00</th>\n",
       "      <td>16550.5</td>\n",
       "      <td>16557.1</td>\n",
       "      <td>16534.8</td>\n",
       "      <td>16542.4</td>\n",
       "      <td>2399.668</td>\n",
       "      <td>6030.420093</td>\n",
       "      <td>8468</td>\n",
       "      <td>-0.000483</td>\n",
       "      <td>0.002201</td>\n",
       "      <td>4.110204</td>\n",
       "      <td>2.446367</td>\n",
       "      <td>1.663837</td>\n",
       "      <td>2.669706</td>\n",
       "      <td>2.488198</td>\n",
       "      <td>1.837098</td>\n",
       "      <td>7.587654</td>\n",
       "      <td>5.099457</td>\n",
       "      <td>29.800000</td>\n",
       "      <td>29.800</td>\n",
       "      <td>42190.943432</td>\n",
       "      <td>41361.354455</td>\n",
       "      <td>84.709818</td>\n",
       "      <td>86.669582</td>\n",
       "      <td>42196.353535</td>\n",
       "      <td>41684.151335</td>\n",
       "      <td>78.576192</td>\n",
       "      <td>82.587995</td>\n",
       "      <td>42239.620585</td>\n",
       "      <td>41380.319044</td>\n",
       "      <td>81.510047</td>\n",
       "      <td>82.825469</td>\n",
       "      <td>42190.943432</td>\n",
       "      <td>41361.354455</td>\n",
       "      <td>84.709818</td>\n",
       "      <td>88.586779</td>\n",
       "      <td>42196.353535</td>\n",
       "      <td>41684.151335</td>\n",
       "      <td>78.576192</td>\n",
       "      <td>85.249226</td>\n",
       "      <td>42239.620585</td>\n",
       "      <td>41380.319044</td>\n",
       "      <td>81.510047</td>\n",
       "      <td>84.766218</td>\n",
       "      <td>42190.943432</td>\n",
       "      <td>41361.354455</td>\n",
       "      <td>84.709818</td>\n",
       "      <td>93.252345</td>\n",
       "      <td>42196.353535</td>\n",
       "      <td>41684.151335</td>\n",
       "      <td>78.576192</td>\n",
       "      <td>89.571255</td>\n",
       "      <td>42239.620585</td>\n",
       "      <td>41380.319044</td>\n",
       "      <td>81.510047</td>\n",
       "      <td>85.094916</td>\n",
       "      <td>42190.943432</td>\n",
       "      <td>41361.354455</td>\n",
       "      <td>84.709818</td>\n",
       "      <td>79.153116</td>\n",
       "      <td>42196.353535</td>\n",
       "      <td>41684.151335</td>\n",
       "      <td>78.576192</td>\n",
       "      <td>86.038363</td>\n",
       "      <td>42239.620585</td>\n",
       "      <td>41380.319044</td>\n",
       "      <td>81.510047</td>\n",
       "      <td>77.751956</td>\n",
       "      <td>42189.870974</td>\n",
       "      <td>41457.938516</td>\n",
       "      <td>42210.006458</td>\n",
       "      <td>41562.774542</td>\n",
       "      <td>42286.896445</td>\n",
       "      <td>41602.459445</td>\n",
       "      <td>-0.048337</td>\n",
       "      <td>0.093181</td>\n",
       "      <td>74.522293</td>\n",
       "      <td>74.522293</td>\n",
       "      <td>74.522293</td>\n",
       "      <td>45.684084</td>\n",
       "      <td>45.684084</td>\n",
       "      <td>45.684084</td>\n",
       "    </tr>\n",
       "    <tr>\n",
       "      <th>2023-01-01 03:00:00</th>\n",
       "      <td>16542.5</td>\n",
       "      <td>16542.5</td>\n",
       "      <td>16515.0</td>\n",
       "      <td>16529.3</td>\n",
       "      <td>3214.480</td>\n",
       "      <td>7003.352799</td>\n",
       "      <td>10007</td>\n",
       "      <td>-0.000792</td>\n",
       "      <td>0.002201</td>\n",
       "      <td>2.540816</td>\n",
       "      <td>2.484147</td>\n",
       "      <td>0.056669</td>\n",
       "      <td>2.223429</td>\n",
       "      <td>2.979136</td>\n",
       "      <td>1.112657</td>\n",
       "      <td>4.942890</td>\n",
       "      <td>1.963754</td>\n",
       "      <td>29.225000</td>\n",
       "      <td>29.225</td>\n",
       "      <td>42190.943432</td>\n",
       "      <td>41361.354455</td>\n",
       "      <td>84.709818</td>\n",
       "      <td>86.669582</td>\n",
       "      <td>42196.353535</td>\n",
       "      <td>41684.151335</td>\n",
       "      <td>78.576192</td>\n",
       "      <td>82.587995</td>\n",
       "      <td>42239.620585</td>\n",
       "      <td>41380.319044</td>\n",
       "      <td>81.510047</td>\n",
       "      <td>82.825469</td>\n",
       "      <td>42190.943432</td>\n",
       "      <td>41361.354455</td>\n",
       "      <td>84.709818</td>\n",
       "      <td>88.586779</td>\n",
       "      <td>42196.353535</td>\n",
       "      <td>41684.151335</td>\n",
       "      <td>78.576192</td>\n",
       "      <td>85.249226</td>\n",
       "      <td>42239.620585</td>\n",
       "      <td>41380.319044</td>\n",
       "      <td>81.510047</td>\n",
       "      <td>84.766218</td>\n",
       "      <td>42190.943432</td>\n",
       "      <td>41361.354455</td>\n",
       "      <td>84.709818</td>\n",
       "      <td>93.252345</td>\n",
       "      <td>42196.353535</td>\n",
       "      <td>41684.151335</td>\n",
       "      <td>78.576192</td>\n",
       "      <td>89.571255</td>\n",
       "      <td>42239.620585</td>\n",
       "      <td>41380.319044</td>\n",
       "      <td>81.510047</td>\n",
       "      <td>85.094916</td>\n",
       "      <td>42190.943432</td>\n",
       "      <td>41361.354455</td>\n",
       "      <td>84.709818</td>\n",
       "      <td>79.153116</td>\n",
       "      <td>42196.353535</td>\n",
       "      <td>41684.151335</td>\n",
       "      <td>78.576192</td>\n",
       "      <td>86.038363</td>\n",
       "      <td>42239.620585</td>\n",
       "      <td>41380.319044</td>\n",
       "      <td>81.510047</td>\n",
       "      <td>77.751956</td>\n",
       "      <td>42189.870974</td>\n",
       "      <td>41457.938516</td>\n",
       "      <td>42210.006458</td>\n",
       "      <td>41562.774542</td>\n",
       "      <td>42286.896445</td>\n",
       "      <td>41602.459445</td>\n",
       "      <td>-0.079190</td>\n",
       "      <td>-0.127489</td>\n",
       "      <td>52.584270</td>\n",
       "      <td>52.584270</td>\n",
       "      <td>52.584270</td>\n",
       "      <td>46.582916</td>\n",
       "      <td>46.582916</td>\n",
       "      <td>46.582916</td>\n",
       "    </tr>\n",
       "    <tr>\n",
       "      <th>2023-01-01 04:00:00</th>\n",
       "      <td>16529.2</td>\n",
       "      <td>16530.4</td>\n",
       "      <td>16508.8</td>\n",
       "      <td>16517.8</td>\n",
       "      <td>3150.954</td>\n",
       "      <td>7378.899423</td>\n",
       "      <td>9476</td>\n",
       "      <td>-0.000696</td>\n",
       "      <td>0.002201</td>\n",
       "      <td>-0.166597</td>\n",
       "      <td>1.423849</td>\n",
       "      <td>-1.590447</td>\n",
       "      <td>0.931065</td>\n",
       "      <td>2.424667</td>\n",
       "      <td>-0.143766</td>\n",
       "      <td>0.206791</td>\n",
       "      <td>-2.217876</td>\n",
       "      <td>27.700000</td>\n",
       "      <td>27.700</td>\n",
       "      <td>42190.943432</td>\n",
       "      <td>41361.354455</td>\n",
       "      <td>84.709818</td>\n",
       "      <td>86.669582</td>\n",
       "      <td>42196.353535</td>\n",
       "      <td>41684.151335</td>\n",
       "      <td>78.576192</td>\n",
       "      <td>82.587995</td>\n",
       "      <td>42239.620585</td>\n",
       "      <td>41380.319044</td>\n",
       "      <td>81.510047</td>\n",
       "      <td>82.825469</td>\n",
       "      <td>42190.943432</td>\n",
       "      <td>41361.354455</td>\n",
       "      <td>84.709818</td>\n",
       "      <td>88.586779</td>\n",
       "      <td>42196.353535</td>\n",
       "      <td>41684.151335</td>\n",
       "      <td>78.576192</td>\n",
       "      <td>85.249226</td>\n",
       "      <td>42239.620585</td>\n",
       "      <td>41380.319044</td>\n",
       "      <td>81.510047</td>\n",
       "      <td>84.766218</td>\n",
       "      <td>42190.943432</td>\n",
       "      <td>41361.354455</td>\n",
       "      <td>84.709818</td>\n",
       "      <td>93.252345</td>\n",
       "      <td>42196.353535</td>\n",
       "      <td>41684.151335</td>\n",
       "      <td>78.576192</td>\n",
       "      <td>89.571255</td>\n",
       "      <td>42239.620585</td>\n",
       "      <td>41380.319044</td>\n",
       "      <td>81.510047</td>\n",
       "      <td>85.094916</td>\n",
       "      <td>42190.943432</td>\n",
       "      <td>41361.354455</td>\n",
       "      <td>84.709818</td>\n",
       "      <td>79.153116</td>\n",
       "      <td>42196.353535</td>\n",
       "      <td>41684.151335</td>\n",
       "      <td>78.576192</td>\n",
       "      <td>86.038363</td>\n",
       "      <td>42239.620585</td>\n",
       "      <td>41380.319044</td>\n",
       "      <td>81.510047</td>\n",
       "      <td>77.751956</td>\n",
       "      <td>42189.870974</td>\n",
       "      <td>41457.938516</td>\n",
       "      <td>42210.006458</td>\n",
       "      <td>41562.774542</td>\n",
       "      <td>42286.896445</td>\n",
       "      <td>41602.459445</td>\n",
       "      <td>-0.069573</td>\n",
       "      <td>-0.148709</td>\n",
       "      <td>41.785714</td>\n",
       "      <td>41.785714</td>\n",
       "      <td>41.785714</td>\n",
       "      <td>49.147499</td>\n",
       "      <td>49.147499</td>\n",
       "      <td>49.147499</td>\n",
       "    </tr>\n",
       "    <tr>\n",
       "      <th>...</th>\n",
       "      <td>...</td>\n",
       "      <td>...</td>\n",
       "      <td>...</td>\n",
       "      <td>...</td>\n",
       "      <td>...</td>\n",
       "      <td>...</td>\n",
       "      <td>...</td>\n",
       "      <td>...</td>\n",
       "      <td>...</td>\n",
       "      <td>...</td>\n",
       "      <td>...</td>\n",
       "      <td>...</td>\n",
       "      <td>...</td>\n",
       "      <td>...</td>\n",
       "      <td>...</td>\n",
       "      <td>...</td>\n",
       "      <td>...</td>\n",
       "      <td>...</td>\n",
       "      <td>...</td>\n",
       "      <td>...</td>\n",
       "      <td>...</td>\n",
       "      <td>...</td>\n",
       "      <td>...</td>\n",
       "      <td>...</td>\n",
       "      <td>...</td>\n",
       "      <td>...</td>\n",
       "      <td>...</td>\n",
       "      <td>...</td>\n",
       "      <td>...</td>\n",
       "      <td>...</td>\n",
       "      <td>...</td>\n",
       "      <td>...</td>\n",
       "      <td>...</td>\n",
       "      <td>...</td>\n",
       "      <td>...</td>\n",
       "      <td>...</td>\n",
       "      <td>...</td>\n",
       "      <td>...</td>\n",
       "      <td>...</td>\n",
       "      <td>...</td>\n",
       "      <td>...</td>\n",
       "      <td>...</td>\n",
       "      <td>...</td>\n",
       "      <td>...</td>\n",
       "      <td>...</td>\n",
       "      <td>...</td>\n",
       "      <td>...</td>\n",
       "      <td>...</td>\n",
       "      <td>...</td>\n",
       "      <td>...</td>\n",
       "      <td>...</td>\n",
       "      <td>...</td>\n",
       "      <td>...</td>\n",
       "      <td>...</td>\n",
       "      <td>...</td>\n",
       "      <td>...</td>\n",
       "      <td>...</td>\n",
       "      <td>...</td>\n",
       "      <td>...</td>\n",
       "      <td>...</td>\n",
       "      <td>...</td>\n",
       "      <td>...</td>\n",
       "      <td>...</td>\n",
       "      <td>...</td>\n",
       "      <td>...</td>\n",
       "      <td>...</td>\n",
       "      <td>...</td>\n",
       "      <td>...</td>\n",
       "      <td>...</td>\n",
       "      <td>...</td>\n",
       "      <td>...</td>\n",
       "      <td>...</td>\n",
       "      <td>...</td>\n",
       "      <td>...</td>\n",
       "      <td>...</td>\n",
       "      <td>...</td>\n",
       "      <td>...</td>\n",
       "      <td>...</td>\n",
       "      <td>...</td>\n",
       "      <td>...</td>\n",
       "      <td>...</td>\n",
       "    </tr>\n",
       "    <tr>\n",
       "      <th>2024-01-27 19:00:00</th>\n",
       "      <td>41785.0</td>\n",
       "      <td>41977.0</td>\n",
       "      <td>41775.1</td>\n",
       "      <td>41896.4</td>\n",
       "      <td>7765.565</td>\n",
       "      <td>18797.517191</td>\n",
       "      <td>38285</td>\n",
       "      <td>0.002668</td>\n",
       "      <td>0.002019</td>\n",
       "      <td>40.403682</td>\n",
       "      <td>30.996484</td>\n",
       "      <td>9.407198</td>\n",
       "      <td>146.529443</td>\n",
       "      <td>210.556287</td>\n",
       "      <td>-34.805681</td>\n",
       "      <td>189.875650</td>\n",
       "      <td>-20.680636</td>\n",
       "      <td>152.521429</td>\n",
       "      <td>145.215</td>\n",
       "      <td>41977.000000</td>\n",
       "      <td>41360.100000</td>\n",
       "      <td>86.934673</td>\n",
       "      <td>78.656203</td>\n",
       "      <td>41977.000000</td>\n",
       "      <td>41360.100000</td>\n",
       "      <td>86.934673</td>\n",
       "      <td>84.282095</td>\n",
       "      <td>42239.300000</td>\n",
       "      <td>41002.100000</td>\n",
       "      <td>72.284190</td>\n",
       "      <td>69.303734</td>\n",
       "      <td>41977.000000</td>\n",
       "      <td>41360.100000</td>\n",
       "      <td>86.934673</td>\n",
       "      <td>73.936576</td>\n",
       "      <td>41977.000000</td>\n",
       "      <td>41360.100000</td>\n",
       "      <td>86.934673</td>\n",
       "      <td>82.405076</td>\n",
       "      <td>42239.300000</td>\n",
       "      <td>41002.100000</td>\n",
       "      <td>72.284190</td>\n",
       "      <td>67.927335</td>\n",
       "      <td>41977.000000</td>\n",
       "      <td>41360.100000</td>\n",
       "      <td>86.934673</td>\n",
       "      <td>67.082359</td>\n",
       "      <td>41977.000000</td>\n",
       "      <td>41360.100000</td>\n",
       "      <td>86.934673</td>\n",
       "      <td>82.564744</td>\n",
       "      <td>42239.300000</td>\n",
       "      <td>41002.100000</td>\n",
       "      <td>72.284190</td>\n",
       "      <td>70.994755</td>\n",
       "      <td>41977.000000</td>\n",
       "      <td>41360.100000</td>\n",
       "      <td>86.934673</td>\n",
       "      <td>55.794468</td>\n",
       "      <td>41977.000000</td>\n",
       "      <td>41360.100000</td>\n",
       "      <td>86.934673</td>\n",
       "      <td>72.340528</td>\n",
       "      <td>42239.300000</td>\n",
       "      <td>41002.100000</td>\n",
       "      <td>72.284190</td>\n",
       "      <td>74.633851</td>\n",
       "      <td>41926.282235</td>\n",
       "      <td>41574.097765</td>\n",
       "      <td>41919.616474</td>\n",
       "      <td>41543.050193</td>\n",
       "      <td>41873.682804</td>\n",
       "      <td>41669.537196</td>\n",
       "      <td>0.266843</td>\n",
       "      <td>0.304050</td>\n",
       "      <td>86.169284</td>\n",
       "      <td>82.137285</td>\n",
       "      <td>58.884892</td>\n",
       "      <td>98.254035</td>\n",
       "      <td>97.631804</td>\n",
       "      <td>98.239248</td>\n",
       "    </tr>\n",
       "    <tr>\n",
       "      <th>2024-01-27 20:00:00</th>\n",
       "      <td>41896.5</td>\n",
       "      <td>42070.0</td>\n",
       "      <td>41896.4</td>\n",
       "      <td>42049.6</td>\n",
       "      <td>5408.243</td>\n",
       "      <td>16324.490996</td>\n",
       "      <td>35317</td>\n",
       "      <td>0.003657</td>\n",
       "      <td>0.002154</td>\n",
       "      <td>69.666208</td>\n",
       "      <td>46.464374</td>\n",
       "      <td>23.201834</td>\n",
       "      <td>157.992808</td>\n",
       "      <td>215.865915</td>\n",
       "      <td>-18.673852</td>\n",
       "      <td>237.104426</td>\n",
       "      <td>21.238511</td>\n",
       "      <td>155.557143</td>\n",
       "      <td>145.490</td>\n",
       "      <td>42070.000000</td>\n",
       "      <td>41360.100000</td>\n",
       "      <td>97.126356</td>\n",
       "      <td>92.030515</td>\n",
       "      <td>42070.000000</td>\n",
       "      <td>41360.100000</td>\n",
       "      <td>97.126356</td>\n",
       "      <td>92.030515</td>\n",
       "      <td>42239.300000</td>\n",
       "      <td>41200.000000</td>\n",
       "      <td>81.747330</td>\n",
       "      <td>77.015760</td>\n",
       "      <td>42070.000000</td>\n",
       "      <td>41360.100000</td>\n",
       "      <td>97.126356</td>\n",
       "      <td>84.812921</td>\n",
       "      <td>42070.000000</td>\n",
       "      <td>41360.100000</td>\n",
       "      <td>97.126356</td>\n",
       "      <td>88.563515</td>\n",
       "      <td>42239.300000</td>\n",
       "      <td>41200.000000</td>\n",
       "      <td>81.747330</td>\n",
       "      <td>73.451600</td>\n",
       "      <td>42070.000000</td>\n",
       "      <td>41360.100000</td>\n",
       "      <td>97.126356</td>\n",
       "      <td>76.559951</td>\n",
       "      <td>42070.000000</td>\n",
       "      <td>41360.100000</td>\n",
       "      <td>97.126356</td>\n",
       "      <td>85.359477</td>\n",
       "      <td>42239.300000</td>\n",
       "      <td>41200.000000</td>\n",
       "      <td>81.747330</td>\n",
       "      <td>71.387407</td>\n",
       "      <td>42070.000000</td>\n",
       "      <td>41360.100000</td>\n",
       "      <td>97.126356</td>\n",
       "      <td>60.392123</td>\n",
       "      <td>42070.000000</td>\n",
       "      <td>41360.100000</td>\n",
       "      <td>97.126356</td>\n",
       "      <td>76.524067</td>\n",
       "      <td>42239.300000</td>\n",
       "      <td>41200.000000</td>\n",
       "      <td>81.747330</td>\n",
       "      <td>74.961314</td>\n",
       "      <td>41985.315470</td>\n",
       "      <td>41542.744530</td>\n",
       "      <td>42001.586587</td>\n",
       "      <td>41501.266747</td>\n",
       "      <td>42002.304354</td>\n",
       "      <td>41604.515646</td>\n",
       "      <td>0.365664</td>\n",
       "      <td>0.633482</td>\n",
       "      <td>92.606285</td>\n",
       "      <td>88.448928</td>\n",
       "      <td>68.997644</td>\n",
       "      <td>157.603487</td>\n",
       "      <td>157.318754</td>\n",
       "      <td>157.646731</td>\n",
       "    </tr>\n",
       "    <tr>\n",
       "      <th>2024-01-27 21:00:00</th>\n",
       "      <td>42049.6</td>\n",
       "      <td>42165.6</td>\n",
       "      <td>42001.8</td>\n",
       "      <td>42137.8</td>\n",
       "      <td>5859.277</td>\n",
       "      <td>12457.410066</td>\n",
       "      <td>42103</td>\n",
       "      <td>0.002098</td>\n",
       "      <td>0.002189</td>\n",
       "      <td>97.338521</td>\n",
       "      <td>66.814032</td>\n",
       "      <td>30.524488</td>\n",
       "      <td>172.209487</td>\n",
       "      <td>229.346777</td>\n",
       "      <td>-3.565739</td>\n",
       "      <td>283.270228</td>\n",
       "      <td>53.923450</td>\n",
       "      <td>157.992857</td>\n",
       "      <td>145.190</td>\n",
       "      <td>42165.600000</td>\n",
       "      <td>41360.100000</td>\n",
       "      <td>96.548727</td>\n",
       "      <td>96.837542</td>\n",
       "      <td>42165.600000</td>\n",
       "      <td>41360.100000</td>\n",
       "      <td>96.548727</td>\n",
       "      <td>96.837542</td>\n",
       "      <td>42239.300000</td>\n",
       "      <td>41360.100000</td>\n",
       "      <td>88.455414</td>\n",
       "      <td>85.101372</td>\n",
       "      <td>42165.600000</td>\n",
       "      <td>41360.100000</td>\n",
       "      <td>96.548727</td>\n",
       "      <td>93.536586</td>\n",
       "      <td>42165.600000</td>\n",
       "      <td>41360.100000</td>\n",
       "      <td>96.548727</td>\n",
       "      <td>93.536586</td>\n",
       "      <td>42239.300000</td>\n",
       "      <td>41360.100000</td>\n",
       "      <td>88.455414</td>\n",
       "      <td>80.828978</td>\n",
       "      <td>42165.600000</td>\n",
       "      <td>41360.100000</td>\n",
       "      <td>96.548727</td>\n",
       "      <td>83.096962</td>\n",
       "      <td>42165.600000</td>\n",
       "      <td>41360.100000</td>\n",
       "      <td>96.548727</td>\n",
       "      <td>88.178062</td>\n",
       "      <td>42239.300000</td>\n",
       "      <td>41360.100000</td>\n",
       "      <td>88.455414</td>\n",
       "      <td>74.796950</td>\n",
       "      <td>42165.600000</td>\n",
       "      <td>41360.100000</td>\n",
       "      <td>96.548727</td>\n",
       "      <td>65.672564</td>\n",
       "      <td>42165.600000</td>\n",
       "      <td>41360.100000</td>\n",
       "      <td>96.548727</td>\n",
       "      <td>80.118429</td>\n",
       "      <td>42239.300000</td>\n",
       "      <td>41360.100000</td>\n",
       "      <td>88.455414</td>\n",
       "      <td>75.904040</td>\n",
       "      <td>42057.912127</td>\n",
       "      <td>41503.437873</td>\n",
       "      <td>42098.101003</td>\n",
       "      <td>41463.818997</td>\n",
       "      <td>42127.070891</td>\n",
       "      <td>41558.369109</td>\n",
       "      <td>0.209752</td>\n",
       "      <td>0.576183</td>\n",
       "      <td>93.761141</td>\n",
       "      <td>93.263918</td>\n",
       "      <td>71.553503</td>\n",
       "      <td>177.524225</td>\n",
       "      <td>177.319810</td>\n",
       "      <td>177.457956</td>\n",
       "    </tr>\n",
       "    <tr>\n",
       "      <th>2024-01-27 22:00:00</th>\n",
       "      <td>42137.8</td>\n",
       "      <td>42187.1</td>\n",
       "      <td>42057.6</td>\n",
       "      <td>42135.3</td>\n",
       "      <td>5271.863</td>\n",
       "      <td>16107.925688</td>\n",
       "      <td>39498</td>\n",
       "      <td>-0.000059</td>\n",
       "      <td>0.002191</td>\n",
       "      <td>109.950610</td>\n",
       "      <td>84.068663</td>\n",
       "      <td>25.881946</td>\n",
       "      <td>181.185979</td>\n",
       "      <td>244.302454</td>\n",
       "      <td>4.328603</td>\n",
       "      <td>304.125161</td>\n",
       "      <td>59.822707</td>\n",
       "      <td>144.371429</td>\n",
       "      <td>147.450</td>\n",
       "      <td>42187.100000</td>\n",
       "      <td>41360.100000</td>\n",
       "      <td>93.736397</td>\n",
       "      <td>95.142562</td>\n",
       "      <td>42187.100000</td>\n",
       "      <td>41360.100000</td>\n",
       "      <td>93.736397</td>\n",
       "      <td>95.142562</td>\n",
       "      <td>42239.300000</td>\n",
       "      <td>41360.100000</td>\n",
       "      <td>88.171065</td>\n",
       "      <td>88.313239</td>\n",
       "      <td>42187.100000</td>\n",
       "      <td>41360.100000</td>\n",
       "      <td>93.736397</td>\n",
       "      <td>95.803827</td>\n",
       "      <td>42187.100000</td>\n",
       "      <td>41360.100000</td>\n",
       "      <td>93.736397</td>\n",
       "      <td>95.803827</td>\n",
       "      <td>42239.300000</td>\n",
       "      <td>41360.100000</td>\n",
       "      <td>88.171065</td>\n",
       "      <td>86.124603</td>\n",
       "      <td>42187.100000</td>\n",
       "      <td>41360.100000</td>\n",
       "      <td>93.736397</td>\n",
       "      <td>88.944777</td>\n",
       "      <td>42187.100000</td>\n",
       "      <td>41360.100000</td>\n",
       "      <td>93.736397</td>\n",
       "      <td>91.195134</td>\n",
       "      <td>42239.300000</td>\n",
       "      <td>41360.100000</td>\n",
       "      <td>88.171065</td>\n",
       "      <td>79.396255</td>\n",
       "      <td>42187.100000</td>\n",
       "      <td>41360.100000</td>\n",
       "      <td>93.736397</td>\n",
       "      <td>70.832146</td>\n",
       "      <td>42187.100000</td>\n",
       "      <td>41360.100000</td>\n",
       "      <td>93.736397</td>\n",
       "      <td>83.353898</td>\n",
       "      <td>42239.300000</td>\n",
       "      <td>41360.100000</td>\n",
       "      <td>88.171065</td>\n",
       "      <td>76.878118</td>\n",
       "      <td>42115.612090</td>\n",
       "      <td>41477.047910</td>\n",
       "      <td>42171.859030</td>\n",
       "      <td>41448.220970</td>\n",
       "      <td>42208.820103</td>\n",
       "      <td>41557.559897</td>\n",
       "      <td>-0.005933</td>\n",
       "      <td>0.203807</td>\n",
       "      <td>92.353973</td>\n",
       "      <td>93.502343</td>\n",
       "      <td>93.779781</td>\n",
       "      <td>162.103538</td>\n",
       "      <td>161.749787</td>\n",
       "      <td>161.898956</td>\n",
       "    </tr>\n",
       "    <tr>\n",
       "      <th>2024-01-27 23:00:00</th>\n",
       "      <td>42135.4</td>\n",
       "      <td>42156.7</td>\n",
       "      <td>42055.4</td>\n",
       "      <td>42102.2</td>\n",
       "      <td>4399.800</td>\n",
       "      <td>14341.036645</td>\n",
       "      <td>33102</td>\n",
       "      <td>-0.000786</td>\n",
       "      <td>0.002200</td>\n",
       "      <td>108.455945</td>\n",
       "      <td>93.823576</td>\n",
       "      <td>14.632369</td>\n",
       "      <td>183.513590</td>\n",
       "      <td>255.623530</td>\n",
       "      <td>5.324971</td>\n",
       "      <td>300.907832</td>\n",
       "      <td>45.284303</td>\n",
       "      <td>125.471429</td>\n",
       "      <td>147.565</td>\n",
       "      <td>42187.100000</td>\n",
       "      <td>41360.100000</td>\n",
       "      <td>89.733978</td>\n",
       "      <td>91.735187</td>\n",
       "      <td>42187.100000</td>\n",
       "      <td>41632.000000</td>\n",
       "      <td>84.705458</td>\n",
       "      <td>89.220928</td>\n",
       "      <td>42239.300000</td>\n",
       "      <td>41360.100000</td>\n",
       "      <td>84.406278</td>\n",
       "      <td>86.288672</td>\n",
       "      <td>42187.100000</td>\n",
       "      <td>41360.100000</td>\n",
       "      <td>89.733978</td>\n",
       "      <td>93.339701</td>\n",
       "      <td>42187.100000</td>\n",
       "      <td>41632.000000</td>\n",
       "      <td>84.705458</td>\n",
       "      <td>91.663528</td>\n",
       "      <td>42239.300000</td>\n",
       "      <td>41360.100000</td>\n",
       "      <td>84.406278</td>\n",
       "      <td>87.010919</td>\n",
       "      <td>42187.100000</td>\n",
       "      <td>41360.100000</td>\n",
       "      <td>89.733978</td>\n",
       "      <td>92.816026</td>\n",
       "      <td>42187.100000</td>\n",
       "      <td>41632.000000</td>\n",
       "      <td>84.705458</td>\n",
       "      <td>91.810322</td>\n",
       "      <td>42239.300000</td>\n",
       "      <td>41360.100000</td>\n",
       "      <td>84.406278</td>\n",
       "      <td>83.012855</td>\n",
       "      <td>42187.100000</td>\n",
       "      <td>41360.100000</td>\n",
       "      <td>89.733978</td>\n",
       "      <td>75.633569</td>\n",
       "      <td>42187.100000</td>\n",
       "      <td>41632.000000</td>\n",
       "      <td>84.705458</td>\n",
       "      <td>85.319744</td>\n",
       "      <td>42239.300000</td>\n",
       "      <td>41360.100000</td>\n",
       "      <td>84.406278</td>\n",
       "      <td>77.551814</td>\n",
       "      <td>42158.587642</td>\n",
       "      <td>41463.772358</td>\n",
       "      <td>42186.923584</td>\n",
       "      <td>41519.396416</td>\n",
       "      <td>42252.739060</td>\n",
       "      <td>41588.700940</td>\n",
       "      <td>-0.078556</td>\n",
       "      <td>-0.084485</td>\n",
       "      <td>86.927796</td>\n",
       "      <td>86.870355</td>\n",
       "      <td>86.625041</td>\n",
       "      <td>163.501062</td>\n",
       "      <td>163.153819</td>\n",
       "      <td>163.400034</td>\n",
       "    </tr>\n",
       "  </tbody>\n",
       "</table>\n",
       "<p>9408 rows × 81 columns</p>\n",
       "</div>"
      ],
      "text/plain": [
       "                        Open     High      Low    Close    Volume  \\\n",
       "2023-01-01 00:00:00  16537.5  16540.9  16504.0  16527.0  5381.399   \n",
       "2023-01-01 01:00:00  16527.1  16554.3  16524.1  16550.4  3210.826   \n",
       "2023-01-01 02:00:00  16550.5  16557.1  16534.8  16542.4  2399.668   \n",
       "2023-01-01 03:00:00  16542.5  16542.5  16515.0  16529.3  3214.480   \n",
       "2023-01-01 04:00:00  16529.2  16530.4  16508.8  16517.8  3150.954   \n",
       "...                      ...      ...      ...      ...       ...   \n",
       "2024-01-27 19:00:00  41785.0  41977.0  41775.1  41896.4  7765.565   \n",
       "2024-01-27 20:00:00  41896.5  42070.0  41896.4  42049.6  5408.243   \n",
       "2024-01-27 21:00:00  42049.6  42165.6  42001.8  42137.8  5859.277   \n",
       "2024-01-27 22:00:00  42137.8  42187.1  42057.6  42135.3  5271.863   \n",
       "2024-01-27 23:00:00  42135.4  42156.7  42055.4  42102.2  4399.800   \n",
       "\n",
       "                        quote_qty  is_buyer_maker   returns  volatility  \\\n",
       "2023-01-01 00:00:00   7264.129209           16494  0.000138    0.002201   \n",
       "2023-01-01 01:00:00   6819.889969            8705  0.001416    0.002201   \n",
       "2023-01-01 02:00:00   6030.420093            8468 -0.000483    0.002201   \n",
       "2023-01-01 03:00:00   7003.352799           10007 -0.000792    0.002201   \n",
       "2023-01-01 04:00:00   7378.899423            9476 -0.000696    0.002201   \n",
       "...                           ...             ...       ...         ...   \n",
       "2024-01-27 19:00:00  18797.517191           38285  0.002668    0.002019   \n",
       "2024-01-27 20:00:00  16324.490996           35317  0.003657    0.002154   \n",
       "2024-01-27 21:00:00  12457.410066           42103  0.002098    0.002189   \n",
       "2024-01-27 22:00:00  16107.925688           39498 -0.000059    0.002191   \n",
       "2024-01-27 23:00:00  14341.036645           33102 -0.000786    0.002200   \n",
       "\n",
       "                       MACD_613  Signal_Line_4  MACD_Oscillator_613  \\\n",
       "2023-01-01 00:00:00    0.000000       0.000000             0.000000   \n",
       "2023-01-01 01:00:00    3.342857       1.337143             2.005714   \n",
       "2023-01-01 02:00:00    4.110204       2.446367             1.663837   \n",
       "2023-01-01 03:00:00    2.540816       2.484147             0.056669   \n",
       "2023-01-01 04:00:00   -0.166597       1.423849            -1.590447   \n",
       "...                         ...            ...                  ...   \n",
       "2024-01-27 19:00:00   40.403682      30.996484             9.407198   \n",
       "2024-01-27 20:00:00   69.666208      46.464374            23.201834   \n",
       "2024-01-27 21:00:00   97.338521      66.814032            30.524488   \n",
       "2024-01-27 22:00:00  109.950610      84.068663            25.881946   \n",
       "2024-01-27 23:00:00  108.455945      93.823576            14.632369   \n",
       "\n",
       "                      MACD_1226  Signal_Line_9  MACD_Oscillator_1226  \\\n",
       "2023-01-01 00:00:00    0.000000       0.000000              0.000000   \n",
       "2023-01-01 01:00:00    1.866667       1.213333              1.493333   \n",
       "2023-01-01 02:00:00    2.669706       2.488198              1.837098   \n",
       "2023-01-01 03:00:00    2.223429       2.979136              1.112657   \n",
       "2023-01-01 04:00:00    0.931065       2.424667             -0.143766   \n",
       "...                         ...            ...                   ...   \n",
       "2024-01-27 19:00:00  146.529443     210.556287            -34.805681   \n",
       "2024-01-27 20:00:00  157.992808     215.865915            -18.673852   \n",
       "2024-01-27 21:00:00  172.209487     229.346777             -3.565739   \n",
       "2024-01-27 22:00:00  181.185979     244.302454              4.328603   \n",
       "2024-01-27 23:00:00  183.513590     255.623530              5.324971   \n",
       "\n",
       "                       MACD_526  MACD_Oscillator_526      atr_14   atr_20  \\\n",
       "2023-01-01 00:00:00    0.000000             0.000000   36.900000   36.900   \n",
       "2023-01-01 01:00:00    6.066667             4.853333   33.550000   33.550   \n",
       "2023-01-01 02:00:00    7.587654             5.099457   29.800000   29.800   \n",
       "2023-01-01 03:00:00    4.942890             1.963754   29.225000   29.225   \n",
       "2023-01-01 04:00:00    0.206791            -2.217876   27.700000   27.700   \n",
       "...                         ...                  ...         ...      ...   \n",
       "2024-01-27 19:00:00  189.875650           -20.680636  152.521429  145.215   \n",
       "2024-01-27 20:00:00  237.104426            21.238511  155.557143  145.490   \n",
       "2024-01-27 21:00:00  283.270228            53.923450  157.992857  145.190   \n",
       "2024-01-27 22:00:00  304.125161            59.822707  144.371429  147.450   \n",
       "2024-01-27 23:00:00  300.907832            45.284303  125.471429  147.565   \n",
       "\n",
       "                      SO high_202    SO low_202  SO %K_202  SO %D_202  \\\n",
       "2023-01-01 00:00:00  42190.943432  41361.354455  84.709818  86.669582   \n",
       "2023-01-01 01:00:00  42190.943432  41361.354455  84.709818  86.669582   \n",
       "2023-01-01 02:00:00  42190.943432  41361.354455  84.709818  86.669582   \n",
       "2023-01-01 03:00:00  42190.943432  41361.354455  84.709818  86.669582   \n",
       "2023-01-01 04:00:00  42190.943432  41361.354455  84.709818  86.669582   \n",
       "...                           ...           ...        ...        ...   \n",
       "2024-01-27 19:00:00  41977.000000  41360.100000  86.934673  78.656203   \n",
       "2024-01-27 20:00:00  42070.000000  41360.100000  97.126356  92.030515   \n",
       "2024-01-27 21:00:00  42165.600000  41360.100000  96.548727  96.837542   \n",
       "2024-01-27 22:00:00  42187.100000  41360.100000  93.736397  95.142562   \n",
       "2024-01-27 23:00:00  42187.100000  41360.100000  89.733978  91.735187   \n",
       "\n",
       "                      SO high_142    SO low_142  SO %K_142  SO %D_142  \\\n",
       "2023-01-01 00:00:00  42196.353535  41684.151335  78.576192  82.587995   \n",
       "2023-01-01 01:00:00  42196.353535  41684.151335  78.576192  82.587995   \n",
       "2023-01-01 02:00:00  42196.353535  41684.151335  78.576192  82.587995   \n",
       "2023-01-01 03:00:00  42196.353535  41684.151335  78.576192  82.587995   \n",
       "2023-01-01 04:00:00  42196.353535  41684.151335  78.576192  82.587995   \n",
       "...                           ...           ...        ...        ...   \n",
       "2024-01-27 19:00:00  41977.000000  41360.100000  86.934673  84.282095   \n",
       "2024-01-27 20:00:00  42070.000000  41360.100000  97.126356  92.030515   \n",
       "2024-01-27 21:00:00  42165.600000  41360.100000  96.548727  96.837542   \n",
       "2024-01-27 22:00:00  42187.100000  41360.100000  93.736397  95.142562   \n",
       "2024-01-27 23:00:00  42187.100000  41632.000000  84.705458  89.220928   \n",
       "\n",
       "                      SO high_302    SO low_302  SO %K_302  SO %D_302  \\\n",
       "2023-01-01 00:00:00  42239.620585  41380.319044  81.510047  82.825469   \n",
       "2023-01-01 01:00:00  42239.620585  41380.319044  81.510047  82.825469   \n",
       "2023-01-01 02:00:00  42239.620585  41380.319044  81.510047  82.825469   \n",
       "2023-01-01 03:00:00  42239.620585  41380.319044  81.510047  82.825469   \n",
       "2023-01-01 04:00:00  42239.620585  41380.319044  81.510047  82.825469   \n",
       "...                           ...           ...        ...        ...   \n",
       "2024-01-27 19:00:00  42239.300000  41002.100000  72.284190  69.303734   \n",
       "2024-01-27 20:00:00  42239.300000  41200.000000  81.747330  77.015760   \n",
       "2024-01-27 21:00:00  42239.300000  41360.100000  88.455414  85.101372   \n",
       "2024-01-27 22:00:00  42239.300000  41360.100000  88.171065  88.313239   \n",
       "2024-01-27 23:00:00  42239.300000  41360.100000  84.406278  86.288672   \n",
       "\n",
       "                      SO high_203    SO low_203  SO %K_203  SO %D_203  \\\n",
       "2023-01-01 00:00:00  42190.943432  41361.354455  84.709818  88.586779   \n",
       "2023-01-01 01:00:00  42190.943432  41361.354455  84.709818  88.586779   \n",
       "2023-01-01 02:00:00  42190.943432  41361.354455  84.709818  88.586779   \n",
       "2023-01-01 03:00:00  42190.943432  41361.354455  84.709818  88.586779   \n",
       "2023-01-01 04:00:00  42190.943432  41361.354455  84.709818  88.586779   \n",
       "...                           ...           ...        ...        ...   \n",
       "2024-01-27 19:00:00  41977.000000  41360.100000  86.934673  73.936576   \n",
       "2024-01-27 20:00:00  42070.000000  41360.100000  97.126356  84.812921   \n",
       "2024-01-27 21:00:00  42165.600000  41360.100000  96.548727  93.536586   \n",
       "2024-01-27 22:00:00  42187.100000  41360.100000  93.736397  95.803827   \n",
       "2024-01-27 23:00:00  42187.100000  41360.100000  89.733978  93.339701   \n",
       "\n",
       "                      SO high_143    SO low_143  SO %K_143  SO %D_143  \\\n",
       "2023-01-01 00:00:00  42196.353535  41684.151335  78.576192  85.249226   \n",
       "2023-01-01 01:00:00  42196.353535  41684.151335  78.576192  85.249226   \n",
       "2023-01-01 02:00:00  42196.353535  41684.151335  78.576192  85.249226   \n",
       "2023-01-01 03:00:00  42196.353535  41684.151335  78.576192  85.249226   \n",
       "2023-01-01 04:00:00  42196.353535  41684.151335  78.576192  85.249226   \n",
       "...                           ...           ...        ...        ...   \n",
       "2024-01-27 19:00:00  41977.000000  41360.100000  86.934673  82.405076   \n",
       "2024-01-27 20:00:00  42070.000000  41360.100000  97.126356  88.563515   \n",
       "2024-01-27 21:00:00  42165.600000  41360.100000  96.548727  93.536586   \n",
       "2024-01-27 22:00:00  42187.100000  41360.100000  93.736397  95.803827   \n",
       "2024-01-27 23:00:00  42187.100000  41632.000000  84.705458  91.663528   \n",
       "\n",
       "                      SO high_303    SO low_303  SO %K_303  SO %D_303  \\\n",
       "2023-01-01 00:00:00  42239.620585  41380.319044  81.510047  84.766218   \n",
       "2023-01-01 01:00:00  42239.620585  41380.319044  81.510047  84.766218   \n",
       "2023-01-01 02:00:00  42239.620585  41380.319044  81.510047  84.766218   \n",
       "2023-01-01 03:00:00  42239.620585  41380.319044  81.510047  84.766218   \n",
       "2023-01-01 04:00:00  42239.620585  41380.319044  81.510047  84.766218   \n",
       "...                           ...           ...        ...        ...   \n",
       "2024-01-27 19:00:00  42239.300000  41002.100000  72.284190  67.927335   \n",
       "2024-01-27 20:00:00  42239.300000  41200.000000  81.747330  73.451600   \n",
       "2024-01-27 21:00:00  42239.300000  41360.100000  88.455414  80.828978   \n",
       "2024-01-27 22:00:00  42239.300000  41360.100000  88.171065  86.124603   \n",
       "2024-01-27 23:00:00  42239.300000  41360.100000  84.406278  87.010919   \n",
       "\n",
       "                      SO high_205    SO low_205  SO %K_205  SO %D_205  \\\n",
       "2023-01-01 00:00:00  42190.943432  41361.354455  84.709818  93.252345   \n",
       "2023-01-01 01:00:00  42190.943432  41361.354455  84.709818  93.252345   \n",
       "2023-01-01 02:00:00  42190.943432  41361.354455  84.709818  93.252345   \n",
       "2023-01-01 03:00:00  42190.943432  41361.354455  84.709818  93.252345   \n",
       "2023-01-01 04:00:00  42190.943432  41361.354455  84.709818  93.252345   \n",
       "...                           ...           ...        ...        ...   \n",
       "2024-01-27 19:00:00  41977.000000  41360.100000  86.934673  67.082359   \n",
       "2024-01-27 20:00:00  42070.000000  41360.100000  97.126356  76.559951   \n",
       "2024-01-27 21:00:00  42165.600000  41360.100000  96.548727  83.096962   \n",
       "2024-01-27 22:00:00  42187.100000  41360.100000  93.736397  88.944777   \n",
       "2024-01-27 23:00:00  42187.100000  41360.100000  89.733978  92.816026   \n",
       "\n",
       "                      SO high_145    SO low_145  SO %K_145  SO %D_145  \\\n",
       "2023-01-01 00:00:00  42196.353535  41684.151335  78.576192  89.571255   \n",
       "2023-01-01 01:00:00  42196.353535  41684.151335  78.576192  89.571255   \n",
       "2023-01-01 02:00:00  42196.353535  41684.151335  78.576192  89.571255   \n",
       "2023-01-01 03:00:00  42196.353535  41684.151335  78.576192  89.571255   \n",
       "2023-01-01 04:00:00  42196.353535  41684.151335  78.576192  89.571255   \n",
       "...                           ...           ...        ...        ...   \n",
       "2024-01-27 19:00:00  41977.000000  41360.100000  86.934673  82.564744   \n",
       "2024-01-27 20:00:00  42070.000000  41360.100000  97.126356  85.359477   \n",
       "2024-01-27 21:00:00  42165.600000  41360.100000  96.548727  88.178062   \n",
       "2024-01-27 22:00:00  42187.100000  41360.100000  93.736397  91.195134   \n",
       "2024-01-27 23:00:00  42187.100000  41632.000000  84.705458  91.810322   \n",
       "\n",
       "                      SO high_305    SO low_305  SO %K_305  SO %D_305  \\\n",
       "2023-01-01 00:00:00  42239.620585  41380.319044  81.510047  85.094916   \n",
       "2023-01-01 01:00:00  42239.620585  41380.319044  81.510047  85.094916   \n",
       "2023-01-01 02:00:00  42239.620585  41380.319044  81.510047  85.094916   \n",
       "2023-01-01 03:00:00  42239.620585  41380.319044  81.510047  85.094916   \n",
       "2023-01-01 04:00:00  42239.620585  41380.319044  81.510047  85.094916   \n",
       "...                           ...           ...        ...        ...   \n",
       "2024-01-27 19:00:00  42239.300000  41002.100000  72.284190  70.994755   \n",
       "2024-01-27 20:00:00  42239.300000  41200.000000  81.747330  71.387407   \n",
       "2024-01-27 21:00:00  42239.300000  41360.100000  88.455414  74.796950   \n",
       "2024-01-27 22:00:00  42239.300000  41360.100000  88.171065  79.396255   \n",
       "2024-01-27 23:00:00  42239.300000  41360.100000  84.406278  83.012855   \n",
       "\n",
       "                     SO high_2010   SO low_2010  SO %K_2010  SO %D_2010  \\\n",
       "2023-01-01 00:00:00  42190.943432  41361.354455   84.709818   79.153116   \n",
       "2023-01-01 01:00:00  42190.943432  41361.354455   84.709818   79.153116   \n",
       "2023-01-01 02:00:00  42190.943432  41361.354455   84.709818   79.153116   \n",
       "2023-01-01 03:00:00  42190.943432  41361.354455   84.709818   79.153116   \n",
       "2023-01-01 04:00:00  42190.943432  41361.354455   84.709818   79.153116   \n",
       "...                           ...           ...         ...         ...   \n",
       "2024-01-27 19:00:00  41977.000000  41360.100000   86.934673   55.794468   \n",
       "2024-01-27 20:00:00  42070.000000  41360.100000   97.126356   60.392123   \n",
       "2024-01-27 21:00:00  42165.600000  41360.100000   96.548727   65.672564   \n",
       "2024-01-27 22:00:00  42187.100000  41360.100000   93.736397   70.832146   \n",
       "2024-01-27 23:00:00  42187.100000  41360.100000   89.733978   75.633569   \n",
       "\n",
       "                     SO high_1410   SO low_1410  SO %K_1410  SO %D_1410  \\\n",
       "2023-01-01 00:00:00  42196.353535  41684.151335   78.576192   86.038363   \n",
       "2023-01-01 01:00:00  42196.353535  41684.151335   78.576192   86.038363   \n",
       "2023-01-01 02:00:00  42196.353535  41684.151335   78.576192   86.038363   \n",
       "2023-01-01 03:00:00  42196.353535  41684.151335   78.576192   86.038363   \n",
       "2023-01-01 04:00:00  42196.353535  41684.151335   78.576192   86.038363   \n",
       "...                           ...           ...         ...         ...   \n",
       "2024-01-27 19:00:00  41977.000000  41360.100000   86.934673   72.340528   \n",
       "2024-01-27 20:00:00  42070.000000  41360.100000   97.126356   76.524067   \n",
       "2024-01-27 21:00:00  42165.600000  41360.100000   96.548727   80.118429   \n",
       "2024-01-27 22:00:00  42187.100000  41360.100000   93.736397   83.353898   \n",
       "2024-01-27 23:00:00  42187.100000  41632.000000   84.705458   85.319744   \n",
       "\n",
       "                     SO high_3010   SO low_3010  SO %K_3010  SO %D_3010  \\\n",
       "2023-01-01 00:00:00  42239.620585  41380.319044   81.510047   77.751956   \n",
       "2023-01-01 01:00:00  42239.620585  41380.319044   81.510047   77.751956   \n",
       "2023-01-01 02:00:00  42239.620585  41380.319044   81.510047   77.751956   \n",
       "2023-01-01 03:00:00  42239.620585  41380.319044   81.510047   77.751956   \n",
       "2023-01-01 04:00:00  42239.620585  41380.319044   81.510047   77.751956   \n",
       "...                           ...           ...         ...         ...   \n",
       "2024-01-27 19:00:00  42239.300000  41002.100000   72.284190   74.633851   \n",
       "2024-01-27 20:00:00  42239.300000  41200.000000   81.747330   74.961314   \n",
       "2024-01-27 21:00:00  42239.300000  41360.100000   88.455414   75.904040   \n",
       "2024-01-27 22:00:00  42239.300000  41360.100000   88.171065   76.878118   \n",
       "2024-01-27 23:00:00  42239.300000  41360.100000   84.406278   77.551814   \n",
       "\n",
       "                     upper_band_20  lower_band_20  upper_band_15  \\\n",
       "2023-01-01 00:00:00   42189.870974   41457.938516   42210.006458   \n",
       "2023-01-01 01:00:00   42189.870974   41457.938516   42210.006458   \n",
       "2023-01-01 02:00:00   42189.870974   41457.938516   42210.006458   \n",
       "2023-01-01 03:00:00   42189.870974   41457.938516   42210.006458   \n",
       "2023-01-01 04:00:00   42189.870974   41457.938516   42210.006458   \n",
       "...                            ...            ...            ...   \n",
       "2024-01-27 19:00:00   41926.282235   41574.097765   41919.616474   \n",
       "2024-01-27 20:00:00   41985.315470   41542.744530   42001.586587   \n",
       "2024-01-27 21:00:00   42057.912127   41503.437873   42098.101003   \n",
       "2024-01-27 22:00:00   42115.612090   41477.047910   42171.859030   \n",
       "2024-01-27 23:00:00   42158.587642   41463.772358   42186.923584   \n",
       "\n",
       "                     lower_band_15  upper_band_10  lower_band_10     roc_1  \\\n",
       "2023-01-01 00:00:00   41562.774542   42286.896445   41602.459445  0.141586   \n",
       "2023-01-01 01:00:00   41562.774542   42286.896445   41602.459445  0.141586   \n",
       "2023-01-01 02:00:00   41562.774542   42286.896445   41602.459445 -0.048337   \n",
       "2023-01-01 03:00:00   41562.774542   42286.896445   41602.459445 -0.079190   \n",
       "2023-01-01 04:00:00   41562.774542   42286.896445   41602.459445 -0.069573   \n",
       "...                            ...            ...            ...       ...   \n",
       "2024-01-27 19:00:00   41543.050193   41873.682804   41669.537196  0.266843   \n",
       "2024-01-27 20:00:00   41501.266747   42002.304354   41604.515646  0.365664   \n",
       "2024-01-27 21:00:00   41463.818997   42127.070891   41558.369109  0.209752   \n",
       "2024-01-27 22:00:00   41448.220970   42208.820103   41557.559897 -0.005933   \n",
       "2024-01-27 23:00:00   41519.396416   42252.739060   41588.700940 -0.078556   \n",
       "\n",
       "                        roc_2       rsi_7       rsi_9      rsi_14    UO_71014  \\\n",
       "2023-01-01 00:00:00  0.093181  100.000000  100.000000  100.000000    0.000000   \n",
       "2023-01-01 01:00:00  0.093181  100.000000  100.000000  100.000000   40.577816   \n",
       "2023-01-01 02:00:00  0.093181   74.522293   74.522293   74.522293   45.684084   \n",
       "2023-01-01 03:00:00 -0.127489   52.584270   52.584270   52.584270   46.582916   \n",
       "2023-01-01 04:00:00 -0.148709   41.785714   41.785714   41.785714   49.147499   \n",
       "...                       ...         ...         ...         ...         ...   \n",
       "2024-01-27 19:00:00  0.304050   86.169284   82.137285   58.884892   98.254035   \n",
       "2024-01-27 20:00:00  0.633482   92.606285   88.448928   68.997644  157.603487   \n",
       "2024-01-27 21:00:00  0.576183   93.761141   93.263918   71.553503  177.524225   \n",
       "2024-01-27 22:00:00  0.203807   92.353973   93.502343   93.779781  162.103538   \n",
       "2024-01-27 23:00:00 -0.084485   86.927796   86.870355   86.625041  163.501062   \n",
       "\n",
       "                        UO_7911    UO_71012  \n",
       "2023-01-01 00:00:00    0.000000    0.000000  \n",
       "2023-01-01 01:00:00   40.577816   40.577816  \n",
       "2023-01-01 02:00:00   45.684084   45.684084  \n",
       "2023-01-01 03:00:00   46.582916   46.582916  \n",
       "2023-01-01 04:00:00   49.147499   49.147499  \n",
       "...                         ...         ...  \n",
       "2024-01-27 19:00:00   97.631804   98.239248  \n",
       "2024-01-27 20:00:00  157.318754  157.646731  \n",
       "2024-01-27 21:00:00  177.319810  177.457956  \n",
       "2024-01-27 22:00:00  161.749787  161.898956  \n",
       "2024-01-27 23:00:00  163.153819  163.400034  \n",
       "\n",
       "[9408 rows x 81 columns]"
      ]
     },
     "execution_count": 37,
     "metadata": {},
     "output_type": "execute_result"
    }
   ],
   "source": [
    "df_idc_all"
   ]
  },
  {
   "cell_type": "markdown",
   "id": "b20f082d-3f4f-4f81-9b48-0e8b82073614",
   "metadata": {},
   "source": [
    "#### **기본 칼럼 및 파생변수 1차 선별**\n",
    "* 가격 관련 칼럼 Open, High, Low, Close 중 1개만 선별\n",
    "\n",
    "> **시작 버전 : 기본 칼럼 + SO 관련 모두 + ROC 관련 모두 + ATR 관련 모두 + MACD 관련 모두**\n",
    ">\n",
    "> 이유 : 조합이 가장 많은 SO와 가장 단순한 ROC 그리고 타깃 변수와 관련성이 가장 높은 ATR, MACD부터 시작"
   ]
  },
  {
   "cell_type": "code",
   "execution_count": 38,
   "id": "8eeac3de",
   "metadata": {},
   "outputs": [
    {
     "name": "stdout",
     "output_type": "stream",
     "text": [
      "df1 : MAPE: 0.22998302692347025, RMSE: 0.0021379078942580774\n",
      "df1 : MAPE: 0.31061190902825914, RMSE: 0.001099812671152357\n",
      "df1 : MAPE: 0.36953213491914805, RMSE: 0.0011584266099564143\n",
      "df1 : MAPE: 0.24996437195260593, RMSE: 0.0012579965217084362\n",
      "df1 : MAPE: 0.38793837759852723, RMSE: 0.0016517600103181226\n",
      "df1 : Average MAPE: 0.3096059640844021, Average RMSE: 0.0014611807414786813\n"
     ]
    }
   ],
   "source": [
    "# df1 = df_idc_all.loc[:,['Open', 'High', 'Low', 'Close', 'Volume', 'quote_qty', 'is_buyer_maker',\n",
    "#        'returns', 'volatility', 'MACD_613', 'Signal_Line_4',\n",
    "#        'MACD_Oscillator_613', 'MACD_1226', 'Signal_Line_9',\n",
    "#        'MACD_Oscillator_1226', 'MACD_526', 'MACD_Oscillator_526', 'atr_14',\n",
    "#        'atr_20', 'SO high_202', 'SO low_202', 'SO %K_202', 'SO %D_202',\n",
    "#        'SO high_142', 'SO low_142', 'SO %K_142', 'SO %D_142', 'SO high_302',\n",
    "#        'SO low_302', 'SO %K_302', 'SO %D_302', 'SO high_203', 'SO low_203',\n",
    "#        'SO %K_203', 'SO %D_203', 'SO high_143', 'SO low_143', 'SO %K_143',\n",
    "#        'SO %D_143', 'SO high_303', 'SO low_303', 'SO %K_303', 'SO %D_303',\n",
    "#        'SO high_205', 'SO low_205', 'SO %K_205', 'SO %D_205', 'SO high_145',\n",
    "#        'SO low_145', 'SO %K_145', 'SO %D_145', 'SO high_305', 'SO low_305',\n",
    "#        'SO %K_305', 'SO %D_305', 'SO high_2010', 'SO low_2010', 'SO %K_2010',\n",
    "#        'SO %D_2010', 'SO high_1410', 'SO low_1410', 'SO %K_1410', 'SO %D_1410',\n",
    "#        'SO high_3010', 'SO low_3010', 'SO %K_3010', 'SO %D_3010', 'roc_1', 'roc_2']]\n",
    "\n",
    "# # test_\n",
    "# rf_base(df1, df_name='df1', n_splits=5)"
   ]
  },
  {
   "cell_type": "code",
   "execution_count": 39,
   "id": "a0322290-6bc5-4fd2-8f37-404887d5a280",
   "metadata": {},
   "outputs": [
    {
     "name": "stdout",
     "output_type": "stream",
     "text": [
      "df2 : MAPE: 0.23522474693210094, RMSE: 0.0022002764112135412\n",
      "df2 : MAPE: 0.2928591673716084, RMSE: 0.0010882058445412885\n",
      "df2 : MAPE: 0.3452941153003892, RMSE: 0.0011455878255003226\n",
      "df2 : MAPE: 0.24099862798521587, RMSE: 0.0011921514164144572\n",
      "df2 : MAPE: 0.4296754007026565, RMSE: 0.0018110443650831184\n",
      "df2 : Average MAPE: 0.3088104116583942, Average RMSE: 0.0014874531725505456\n"
     ]
    }
   ],
   "source": [
    "# df2 = df_idc_all.loc[:,['Open', 'High', 'Low', 'Close', 'Volume', 'quote_qty', 'is_buyer_maker',\n",
    "#        'returns', 'volatility', 'MACD_613', 'Signal_Line_4',\n",
    "#        'MACD_Oscillator_613', 'MACD_1226', 'Signal_Line_9',\n",
    "#        'MACD_Oscillator_1226', 'MACD_526', 'MACD_Oscillator_526', 'atr_14', 'atr_20', \n",
    "#        'SO low_202', 'SO low_142', 'SO low_302', 'SO low_203',\n",
    "#        'SO low_143','SO low_303','SO low_205', 'SO low_145', \n",
    "#        'SO low_305','SO low_2010', 'SO low_1410', 'SO low_3010',\n",
    "#        'SO high_202','SO high_142','SO high_302','SO high_203', \n",
    "#        'SO high_143', 'SO high_303','SO high_205', 'SO high_145',\n",
    "#        'SO high_305','SO high_2010','SO high_1410','SO high_3010',\n",
    "#        'roc_1', 'roc_2']]\n",
    "\n",
    "# # test_\n",
    "# rf_base(df2, df_name='df2', n_splits=5)"
   ]
  },
  {
   "cell_type": "markdown",
   "id": "5f3e0fb6-de66-4534-b56c-7141b0584f99",
   "metadata": {},
   "source": [
    "> **SO %K, %D 관련 모두 제거**"
   ]
  },
  {
   "cell_type": "code",
   "execution_count": 40,
   "id": "3a3652f4-8109-42cd-936d-88d99974fd1e",
   "metadata": {},
   "outputs": [
    {
     "name": "stdout",
     "output_type": "stream",
     "text": [
      "df3 : MAPE: 0.22755465627774626, RMSE: 0.0021655687586217675\n",
      "df3 : MAPE: 0.2804596309192257, RMSE: 0.00106498981605847\n",
      "df3 : MAPE: 0.3319208567403844, RMSE: 0.0011302197225939105\n",
      "df3 : MAPE: 0.23648084677203549, RMSE: 0.0011749483549434092\n",
      "df3 : MAPE: 0.4063320299085283, RMSE: 0.001758684916066686\n",
      "df3 : Average MAPE: 0.296549604123584, Average RMSE: 0.0014588823136568486\n"
     ]
    }
   ],
   "source": [
    "# df3 = df_idc_all.loc[:,['volatility', 'Close', 'Volume', 'returns', 'is_buyer_maker', 'quote_qty',\n",
    "#        'MACD_613', 'Signal_Line_4',\n",
    "#        'MACD_Oscillator_613', 'MACD_1226', 'Signal_Line_9',\n",
    "#        'MACD_Oscillator_1226', 'MACD_526', 'MACD_Oscillator_526', 'atr_14', 'atr_20', \n",
    "#        'SO low_202', 'SO low_142', 'SO low_302', 'SO low_203',\n",
    "#        'SO low_143','SO low_303','SO low_205', 'SO low_145', \n",
    "#        'SO low_305','SO low_2010', 'SO low_1410', 'SO low_3010',\n",
    "#        'SO high_202','SO high_142','SO high_302','SO high_203', \n",
    "#        'SO high_143', 'SO high_303','SO high_205', 'SO high_145',\n",
    "#        'SO high_305','SO high_2010','SO high_1410','SO high_3010',\n",
    "#        'roc_1', 'roc_2']]\n",
    "\n",
    "# # test_\n",
    "# rf_base(df3, df_name='df3', n_splits=5)"
   ]
  },
  {
   "cell_type": "markdown",
   "id": "54177dc7-4e7c-473f-8b76-2daf31167154",
   "metadata": {},
   "source": [
    "> **기본 칼럼 'Close', 'Volume', 'returns', 'is_buyer_maker', 'quote_qty' 선별 완료**"
   ]
  },
  {
   "cell_type": "code",
   "execution_count": 41,
   "id": "c558f507-168d-4f07-b44c-226d43d8b173",
   "metadata": {
    "scrolled": true
   },
   "outputs": [
    {
     "name": "stdout",
     "output_type": "stream",
     "text": [
      "df4 : MAPE: 0.2259354006677551, RMSE: 0.0021921402317847706\n",
      "df4 : MAPE: 0.27253592006711475, RMSE: 0.0010887104982787966\n",
      "df4 : MAPE: 0.3350398902823756, RMSE: 0.0011230350913606889\n",
      "df4 : MAPE: 0.2379063095196467, RMSE: 0.0012566256832093107\n",
      "df4 : MAPE: 0.40043764481317906, RMSE: 0.0017175240783434945\n",
      "df4 : Average MAPE: 0.2943710330700142, Average RMSE: 0.001475607116595412\n"
     ]
    }
   ],
   "source": [
    "# df4 = df_idc_all.loc[:,[ 'volatility', 'atr_14','atr_20',\n",
    "#                           'Close', 'Volume', 'returns', 'is_buyer_maker', 'quote_qty',\n",
    "#                           'SO low_202', 'SO low_142', 'SO low_302', 'SO low_203',\n",
    "#                           'SO low_143','SO low_303','SO low_205', 'SO low_145', \n",
    "#                           'SO low_305','SO low_2010', 'SO low_1410', 'SO low_3010',\n",
    "#                           'SO high_202','SO high_142','SO high_302','SO high_203', \n",
    "#                           'SO high_143', 'SO high_303','SO high_205', 'SO high_145',\n",
    "#                           'SO high_305','SO high_2010','SO high_1410','SO high_3010',\n",
    "#                           'MACD_1226', 'Signal_Line_9', 'MACD_613','Signal_Line_4', 'roc_1', 'roc_2']]\n",
    "\n",
    "# # test_\n",
    "# rf_base(df4, df_name='df4', n_splits=5)"
   ]
  },
  {
   "cell_type": "markdown",
   "id": "ca872f77-184c-44b2-9a93-fe8e1ca211ba",
   "metadata": {},
   "source": [
    "> **MACD 칼럼 'MACD_1226', 'Signal_Line_9', 'MACD_613','Signal_Line_4' 1차 선별 완료**"
   ]
  },
  {
   "cell_type": "code",
   "execution_count": 42,
   "id": "3ab2ae27-aced-4fa1-9b0e-71a1c2c84aef",
   "metadata": {},
   "outputs": [
    {
     "name": "stdout",
     "output_type": "stream",
     "text": [
      "df5 : MAPE: 0.21245626442994525, RMSE: 0.0020940806833251967\n",
      "df5 : MAPE: 0.26827695724308687, RMSE: 0.0010609095560638905\n",
      "df5 : MAPE: 0.321144802654264, RMSE: 0.0011234492579042558\n",
      "df5 : MAPE: 0.23233702914531854, RMSE: 0.0012227154565532664\n",
      "df5 : MAPE: 0.348324693100737, RMSE: 0.0015495231246986847\n",
      "df5 : Average MAPE: 0.2765079493146703, Average RMSE: 0.001410135615709059\n"
     ]
    }
   ],
   "source": [
    "# df5 = df_idc_all.loc[:,[ 'volatility', 'atr_14','atr_20',\n",
    "#                           'Close', 'Volume', 'returns', 'is_buyer_maker', 'quote_qty',\n",
    "#                           'SO low_202', 'SO low_142', 'SO low_302', 'SO low_203',\n",
    "#                           'SO low_143','SO low_303','SO low_205', 'SO low_145', \n",
    "#                           'SO low_305','SO low_2010', 'SO low_1410', 'SO low_3010',\n",
    "#                           'SO high_202','SO high_142','SO high_302','SO high_203', \n",
    "#                           'SO high_143', 'SO high_303','SO high_205', 'SO high_145',\n",
    "#                           'SO high_305','SO high_2010','SO high_1410','SO high_3010',\n",
    "#                           'MACD_1226', 'Signal_Line_9', 'MACD_613','Signal_Line_4', 'roc_2']]\n",
    "\n",
    "# # test_\n",
    "# rf_base(df5, df_name='df5', n_splits=5)"
   ]
  },
  {
   "cell_type": "markdown",
   "id": "bd793b9c-586d-4841-b7d2-660f923a0659",
   "metadata": {},
   "source": [
    "> **ROC 칼럼 'roc_2' 선별 완료**"
   ]
  },
  {
   "cell_type": "code",
   "execution_count": 43,
   "id": "f297ef9a-7776-423b-bdaa-bb24af858423",
   "metadata": {},
   "outputs": [
    {
     "name": "stdout",
     "output_type": "stream",
     "text": [
      "df6 : MAPE: 0.22518114632555034, RMSE: 0.0019926287744164144\n",
      "df6 : MAPE: 0.2248319898105895, RMSE: 0.0009700910245834665\n",
      "df6 : MAPE: 0.2683598015820275, RMSE: 0.00106978687736021\n",
      "df6 : MAPE: 0.23757372854930714, RMSE: 0.0012410523038823055\n",
      "df6 : MAPE: 0.24750676419049544, RMSE: 0.0013145360222314073\n",
      "df6 : Average MAPE: 0.24069068609159397, Average RMSE: 0.0013176190004947608\n"
     ]
    }
   ],
   "source": [
    "# df6 = df_idc_all.loc[:,[ 'volatility', 'atr_14','atr_20',\n",
    "#                          'Close', 'Volume', 'returns', 'is_buyer_maker', 'quote_qty',\n",
    "#                          'SO low_305', 'SO low_3010', 'SO high_305','SO high_3010',\n",
    "#                          'MACD_1226', 'Signal_Line_9', 'MACD_613','Signal_Line_4',\n",
    "#                          'roc_2']]\n",
    "\n",
    "# # test_\n",
    "# rf_base(df6, df_name='df6', n_splits=5)"
   ]
  },
  {
   "cell_type": "markdown",
   "id": "15fb3c49-b2cc-4f54-a39f-0262e8df508b",
   "metadata": {},
   "source": [
    "> **SO 칼럼 'SO low_305', 'SO low_3010', 'SO high_305','SO high_3010' 만 선별**"
   ]
  },
  {
   "cell_type": "markdown",
   "id": "c08d469b-5584-423c-ba7e-777f19e73965",
   "metadata": {},
   "source": [
    "#### **MACD 2차 선별**\n",
    "\n",
    "> **df6(1) : MACD 세트**\n",
    "> MAPE: 0.24491970782156525\n",
    "> 개수 : 16개\n",
    "\n",
    "> **df6(2) : MACD_1226 단독**\n",
    "> MAPE: 0.24058672694187538\n",
    "> 개수 : 13개"
   ]
  },
  {
   "cell_type": "code",
   "execution_count": 44,
   "id": "1ba0513d-535a-4281-93bf-07addb7ba13c",
   "metadata": {},
   "outputs": [
    {
     "name": "stdout",
     "output_type": "stream",
     "text": [
      "df6_1 : MAPE: 0.22518114632555034, RMSE: 0.0019926287744164144\n",
      "df6_1 : MAPE: 0.2248319898105895, RMSE: 0.0009700910245834665\n",
      "df6_1 : MAPE: 0.2683598015820275, RMSE: 0.00106978687736021\n",
      "df6_1 : MAPE: 0.23757372854930714, RMSE: 0.0012410523038823055\n",
      "df6_1 : MAPE: 0.24750676419049544, RMSE: 0.0013145360222314073\n",
      "df6_1 : Average MAPE: 0.24069068609159397, Average RMSE: 0.0013176190004947608\n"
     ]
    }
   ],
   "source": [
    "# # df6(1)\n",
    "# # 개수 : 16개\n",
    "\n",
    "# df6_1 = df_idc_all.loc[:,[ 'volatility', 'atr_14','atr_20',\n",
    "#                          'Close', 'Volume', 'returns', 'is_buyer_maker', 'quote_qty',\n",
    "#                          'SO low_305', 'SO low_3010', 'SO high_305','SO high_3010',\n",
    "#                          'MACD_1226', 'Signal_Line_9', 'MACD_613','Signal_Line_4',\n",
    "#                          'roc_2']]\n",
    "\n",
    "# # test_\n",
    "# rf_base(df6_1, df_name='df6_1', n_splits=5)"
   ]
  },
  {
   "cell_type": "code",
   "execution_count": 45,
   "id": "74840d28-c48b-4283-9080-1e21aaaeab05",
   "metadata": {},
   "outputs": [
    {
     "name": "stdout",
     "output_type": "stream",
     "text": [
      "df6_2 : MAPE: 0.2218278842928278, RMSE: 0.0019178672347308755\n",
      "df6_2 : MAPE: 0.2297855731544555, RMSE: 0.0010102745183694307\n",
      "df6_2 : MAPE: 0.2821566569773896, RMSE: 0.001089258166709682\n",
      "df6_2 : MAPE: 0.23872012302461246, RMSE: 0.0011405455391419325\n",
      "df6_2 : MAPE: 0.2364543156770747, RMSE: 0.0011607709850614554\n",
      "df6_2 : Average MAPE: 0.24178891062527202, Average RMSE: 0.0012637432888026752\n"
     ]
    }
   ],
   "source": [
    "# # df6 (2)\n",
    "# # 개수 : 13개\n",
    "\n",
    "# df6_2 = df_idc_all.loc[:,[ 'volatility', 'atr_14','atr_20',\n",
    "#                          'Close', 'Volume', 'returns', 'is_buyer_maker', 'quote_qty',\n",
    "#                          'SO low_305', 'SO low_3010', 'SO high_305','SO high_3010',\n",
    "#                          'MACD_1226',\n",
    "#                          'roc_2']]\n",
    "\n",
    "# # test_\n",
    "# rf_base(df6_2, df_name='df6_2', n_splits=5)"
   ]
  },
  {
   "cell_type": "markdown",
   "id": "805cbf1e-18b2-4540-a600-a95ac8a0fca4",
   "metadata": {},
   "source": [
    "#### **SO 2차 선별**"
   ]
  },
  {
   "cell_type": "markdown",
   "id": "fbc4df20-b0ca-4017-a697-6de596a72acb",
   "metadata": {},
   "source": [
    "##### **SO 305 > 205, 3010**\n",
    "\n",
    "> 결론 : **df76(2)버전 : MACD1226단독 + SO low_205, SO low_3010** 에서 시작하는 것이 좋다!"
   ]
  },
  {
   "cell_type": "code",
   "execution_count": 46,
   "id": "f584d1cd-6d84-4a34-a560-9fa654e46be1",
   "metadata": {},
   "outputs": [
    {
     "name": "stdout",
     "output_type": "stream",
     "text": [
      "df7 : MAPE: 0.22108952980132615, RMSE: 0.0019739345703767733\n",
      "df7 : MAPE: 0.22677666662084564, RMSE: 0.0009718284869382707\n",
      "df7 : MAPE: 0.28192498548840306, RMSE: 0.0010753066827622478\n",
      "df7 : MAPE: 0.24313471587997135, RMSE: 0.0012883903474075196\n",
      "df7 : MAPE: 0.3066209490493194, RMSE: 0.0014685316217114344\n",
      "df7 : Average MAPE: 0.25590936936797315, Average RMSE: 0.0013555983418392491\n"
     ]
    }
   ],
   "source": [
    "# # df7 (1) : df6(1) + 305 > 205\n",
    "# # 개수 : 16개\n",
    "\n",
    "# df7 = df_idc_all.loc[:,[ 'volatility', 'atr_14','atr_20',\n",
    "#                          'Close', 'Volume', 'returns', 'is_buyer_maker', 'quote_qty',\n",
    "#                          'SO low_205', 'SO low_3010', 'SO high_205','SO high_3010',\n",
    "#                          'MACD_1226', 'Signal_Line_9', 'MACD_613','Signal_Line_4',\n",
    "#                          'roc_2']]\n",
    "\n",
    "# # test_\n",
    "# rf_base(df7, df_name='df7', n_splits=5)"
   ]
  },
  {
   "cell_type": "code",
   "execution_count": 47,
   "id": "279b01e5-0e88-4726-a153-9635f5ff47ec",
   "metadata": {},
   "outputs": [
    {
     "name": "stdout",
     "output_type": "stream",
     "text": [
      "df8 : MAPE: 0.21033747926165, RMSE: 0.0019203111140476152\n",
      "df8 : MAPE: 0.2259976283154181, RMSE: 0.0009979378567094176\n",
      "df8 : MAPE: 0.2880476925904685, RMSE: 0.0010807290898454216\n",
      "df8 : MAPE: 0.2422627029343484, RMSE: 0.0011752310267596822\n",
      "df8 : MAPE: 0.28290057144584957, RMSE: 0.0013049162534438683\n",
      "df8 : Average MAPE: 0.2499092149095469, Average RMSE: 0.001295825068161201\n"
     ]
    }
   ],
   "source": [
    "# # df8 : df6(2) + 305 > 205\n",
    "# # 개수 : 13개\n",
    "\n",
    "# df8 = df_idc_all.loc[:,[ 'volatility', 'atr_14','atr_20',\n",
    "#                          'Close', 'Volume', 'returns', 'is_buyer_maker', 'quote_qty',\n",
    "#                          'SO low_205', 'SO low_3010', 'SO high_205','SO high_3010',\n",
    "#                          'MACD_1226', \n",
    "#                          'roc_2']]\n",
    "\n",
    "# # test_\n",
    "# rf_base(df8, df_name='df8', n_splits=5)"
   ]
  },
  {
   "cell_type": "code",
   "execution_count": 48,
   "id": "fbd02027-d69c-4a62-9039-bfba3e917ddf",
   "metadata": {},
   "outputs": [
    {
     "name": "stdout",
     "output_type": "stream",
     "text": [
      "df9 : MAPE: 0.23063151324150052, RMSE: 0.0020161467762131384\n",
      "df9 : MAPE: 0.24119500723079676, RMSE: 0.0009824331643447832\n",
      "df9 : MAPE: 0.28395370848497803, RMSE: 0.0010742320743774877\n",
      "df9 : MAPE: 0.23012152703475003, RMSE: 0.0011851962159054902\n",
      "df9 : MAPE: 0.2479364552896235, RMSE: 0.0012779500592619048\n",
      "df9 : Average MAPE: 0.24676764225632977, Average RMSE: 0.0013071916580205609\n"
     ]
    }
   ],
   "source": [
    "# # df9: df6 + 305 > 205 > low_205만\n",
    "# # 개수 : 16개\n",
    "\n",
    "# df9 = df_idc_all.loc[:,[ 'volatility', 'atr_14','atr_20',\n",
    "#                          'Close', 'Volume', 'returns', 'is_buyer_maker', 'quote_qty',\n",
    "#                          'SO low_205', 'SO low_3010', 'SO high_3010',\n",
    "#                          'MACD_1226', 'Signal_Line_9', 'MACD_613','Signal_Line_4',\n",
    "#                          'roc_2']]\n",
    "\n",
    "# # test_\n",
    "# rf_base(df9, df_name='df9', n_splits=5)"
   ]
  },
  {
   "cell_type": "code",
   "execution_count": 49,
   "id": "f3ad47fc-05fe-42e2-b19a-cdcc6185ed96",
   "metadata": {},
   "outputs": [
    {
     "name": "stdout",
     "output_type": "stream",
     "text": [
      "df10 : MAPE: 0.209079787105969, RMSE: 0.0019317058633657649\n",
      "df10 : MAPE: 0.21988695021766702, RMSE: 0.0009735206914687813\n",
      "df10 : MAPE: 0.2689411124276634, RMSE: 0.001075836135834967\n",
      "df10 : MAPE: 0.23080085888933136, RMSE: 0.0011630414911329911\n",
      "df10 : MAPE: 0.20401133601944102, RMSE: 0.0010826161519791276\n",
      "df10 : Average MAPE: 0.22654400893201437, Average RMSE: 0.0012453440667563264\n"
     ]
    }
   ],
   "source": [
    "# # df10 : df6 + 305 > 205 > low_205만\n",
    "# # 개수 : 13개\n",
    "\n",
    "# df10 = df_idc_all.loc[:,[ 'volatility', 'atr_14','atr_20',\n",
    "#                          'Close', 'Volume', 'returns', 'is_buyer_maker', 'quote_qty',\n",
    "#                          'SO low_205', 'SO low_3010', 'SO high_3010',\n",
    "#                          'MACD_1226',\n",
    "#                          'roc_2']]\n",
    "\n",
    "# # test_\n",
    "# rf_base(df10, df_name='df10', n_splits=5)"
   ]
  },
  {
   "cell_type": "code",
   "execution_count": 50,
   "id": "f542adcc-52b0-4dd1-872f-5ac3ecfe9051",
   "metadata": {},
   "outputs": [
    {
     "name": "stdout",
     "output_type": "stream",
     "text": [
      "df11 : MAPE: 0.22862051295953806, RMSE: 0.0019863234561800823\n",
      "df11 : MAPE: 0.2402977762695947, RMSE: 0.0009872238594203972\n",
      "df11 : MAPE: 0.272152848691826, RMSE: 0.0010588817881689487\n",
      "df11 : MAPE: 0.22706643627228826, RMSE: 0.0012492934714226649\n",
      "df11 : MAPE: 0.2020422642432604, RMSE: 0.0011594186759749895\n",
      "df11 : Average MAPE: 0.23403596768730148, Average RMSE: 0.0012882282502334167\n"
     ]
    }
   ],
   "source": [
    "# # df11: df6 > low_3010, low_205\n",
    "# # 개수 : 15개\n",
    "\n",
    "# df11 = df_idc_all.loc[:,[ 'volatility', 'atr_14','atr_20',\n",
    "#                          'Close', 'Volume', 'returns', 'is_buyer_maker', 'quote_qty',\n",
    "#                          'SO low_205', 'SO low_3010', \n",
    "#                          'MACD_1226', 'Signal_Line_9', 'MACD_613','Signal_Line_4',\n",
    "#                          'roc_2']]\n",
    "\n",
    "# # test_\n",
    "# rf_base(df11, df_name='df11', n_splits=5)"
   ]
  },
  {
   "cell_type": "code",
   "execution_count": 51,
   "id": "e9c8e89b-7466-47e2-bdf6-6a5799feb65a",
   "metadata": {},
   "outputs": [
    {
     "name": "stdout",
     "output_type": "stream",
     "text": [
      "df12 : MAPE: 0.2086155791628786, RMSE: 0.0019468778957964078\n",
      "df12 : MAPE: 0.21866835733926981, RMSE: 0.0009638419509394443\n",
      "df12 : MAPE: 0.26537896390478855, RMSE: 0.0010737096418808874\n",
      "df12 : MAPE: 0.2173371537013183, RMSE: 0.0011488483559754564\n",
      "df12 : MAPE: 0.18887780215032482, RMSE: 0.0011161559478879818\n",
      "df12 : Average MAPE: 0.21977557125171598, Average RMSE: 0.0012498867584960355\n"
     ]
    }
   ],
   "source": [
    "# # df12: df6 > low_3010, low_205\n",
    "# # 개수 : 12개\n",
    "\n",
    "# df12 = df_idc_all.loc[:,[ 'volatility', 'atr_14','atr_20',\n",
    "#                          'Close', 'Volume', 'returns', 'is_buyer_maker', 'quote_qty',\n",
    "#                          'SO low_205', 'SO low_3010', \n",
    "#                          'MACD_1226', \n",
    "#                          'roc_2']]\n",
    "\n",
    "# # test_\n",
    "# rf_base(df12, df_name='df12', n_splits=5)"
   ]
  },
  {
   "cell_type": "markdown",
   "id": "06b8461c-ead6-4574-a1c2-813c343946c0",
   "metadata": {},
   "source": [
    "> 결론 : **df12버전 : MACD1226단독 + SO low_205, SO low_3010** 에서 시작하는 것이 좋다!"
   ]
  },
  {
   "cell_type": "markdown",
   "id": "0c852443-e050-42a5-abc6-b0516b485f41",
   "metadata": {
    "tags": []
   },
   "source": [
    "##### **SO 2010**\n",
    "\n",
    "* SO 2010 추가\n",
    "\n",
    "> **df14 버전 : df12버전 + SO low 2010**\n",
    "> \n",
    "> MAPE: 0.2168803450494526\n",
    "\n",
    "\n",
    "> **df14**(MACD1226, SO low 205, SO low 3010, SO low 2010) 에서 **MAPE 0.2168803450494526** 로 최저이다.\n",
    "> \n",
    "> 위의 테스트 (2) 선별 과정을 보면 대체로 SO 변수는 추가될수록 MAPE 값이 상승하는 추세를 보인다.\n",
    "> \n",
    "> 따라서 SO 변수는 더이상 추가하지 않고 다른 변수들을 추가하여 변수를 다양하게 활용해보고자 한다."
   ]
  },
  {
   "cell_type": "code",
   "execution_count": 52,
   "id": "1ec032e8-0118-4e03-8c4b-d4b91bb7ed36",
   "metadata": {
    "scrolled": true
   },
   "outputs": [
    {
     "name": "stdout",
     "output_type": "stream",
     "text": [
      "df13 : MAPE: 0.20175672855180685, RMSE: 0.0019318186238543593\n",
      "df13 : MAPE: 0.23164462346166428, RMSE: 0.0010102780306506143\n",
      "df13 : MAPE: 0.28720912360415024, RMSE: 0.0010897857877423982\n",
      "df13 : MAPE: 0.22246555380008354, RMSE: 0.0011390995340758903\n",
      "df13 : MAPE: 0.234431510418439, RMSE: 0.0011497876125473908\n",
      "df13 : Average MAPE: 0.23550150796722877, Average RMSE: 0.0012641539177741306\n"
     ]
    }
   ],
   "source": [
    "# # df13 : df12 + SO low/high 2010 \n",
    "# # 개수 : 14개\n",
    "\n",
    "# df13 = df_idc_all.loc[:,[ 'volatility', 'atr_14','atr_20',\n",
    "#                          'Close', 'Volume', 'returns', 'is_buyer_maker', 'quote_qty',\n",
    "#                          'SO low_205', 'SO low_3010', \n",
    "#                          'MACD_1226', 'SO low_2010', 'SO high_2010',\n",
    "#                          'roc_2']]\n",
    "\n",
    "# # test_\n",
    "# rf_base(df13, df_name='df13', n_splits=5)"
   ]
  },
  {
   "cell_type": "code",
   "execution_count": 53,
   "id": "a8b61862-4a6c-417f-991d-1f21dc4379bc",
   "metadata": {},
   "outputs": [
    {
     "name": "stdout",
     "output_type": "stream",
     "text": [
      "df14 : MAPE: 0.20129492902591842, RMSE: 0.001964187566926941\n",
      "df14 : MAPE: 0.22485809064681453, RMSE: 0.0009989149273685164\n",
      "df14 : MAPE: 0.2717237527623849, RMSE: 0.0010916436030841239\n",
      "df14 : MAPE: 0.2122277040082923, RMSE: 0.0011192852486599336\n",
      "df14 : MAPE: 0.16967651734068445, RMSE: 0.0009886815460133788\n",
      "df14 : Average MAPE: 0.2159561987568189, Average RMSE: 0.0012325425784105789\n"
     ]
    }
   ],
   "source": [
    "# # df14 : df12 + SO low 2010 \n",
    "# # 개수 : 13개\n",
    "\n",
    "# df14 = df_idc_all.loc[:,[ 'volatility', 'atr_14','atr_20',\n",
    "#                          'Close', 'Volume', 'returns', 'is_buyer_maker', 'quote_qty',\n",
    "#                          'SO low_205', 'SO low_3010', \n",
    "#                          'MACD_1226', 'SO low_2010', \n",
    "#                          'roc_2']]\n",
    "\n",
    "# # test_\n",
    "# rf_base(df14, df_name='df14', n_splits=5)"
   ]
  },
  {
   "cell_type": "code",
   "execution_count": 54,
   "id": "6f4dbfa7-cc06-4d21-b8a9-da4a6fdbdf85",
   "metadata": {},
   "outputs": [
    {
     "name": "stdout",
     "output_type": "stream",
     "text": [
      "df15 : MAPE: 0.20865302093148044, RMSE: 0.0019420503885747766\n",
      "df15 : MAPE: 0.22117735737951175, RMSE: 0.0009983152097688597\n",
      "df15 : MAPE: 0.27736311725899654, RMSE: 0.0010855983583081639\n",
      "df15 : MAPE: 0.22667905682534029, RMSE: 0.0011528094735554053\n",
      "df15 : MAPE: 0.24704933514640742, RMSE: 0.0012336855322775\n",
      "df15 : Average MAPE: 0.23618437750834728, Average RMSE: 0.001282491792496941\n"
     ]
    }
   ],
   "source": [
    "# # df15 : df12 + SO high 2010 \n",
    "# # 개수 : 13개\n",
    "\n",
    "# df15 = df_idc_all.loc[:,[ 'volatility', 'atr_14','atr_20',\n",
    "#                          'Close', 'Volume', 'returns', 'is_buyer_maker', 'quote_qty',\n",
    "#                          'SO low_205', 'SO low_3010', \n",
    "#                          'MACD_1226', 'SO high_2010', \n",
    "#                          'roc_2']]\n",
    "\n",
    "# # test_\n",
    "# rf_base(df15, df_name='df15', n_splits=5)"
   ]
  },
  {
   "cell_type": "markdown",
   "id": "016fa8ae-9e64-43bb-945a-71db963a6be0",
   "metadata": {
    "tags": []
   },
   "source": [
    "#### **Bollinger Band 추가 선별**\n",
    "* BB 관련 변수 lower/upper_band 추가\n",
    "\n",
    "> **df17 버전: df14버전 + lower_band_20**\n",
    ">\n",
    "> MAPE: 0.22175690632707684\n",
    ">\n",
    "> 개수 : 14개"
   ]
  },
  {
   "cell_type": "code",
   "execution_count": 55,
   "id": "f00ddcf5",
   "metadata": {},
   "outputs": [
    {
     "name": "stdout",
     "output_type": "stream",
     "text": [
      "df16 : MAPE: 0.34331111277118637, RMSE: 0.0020979442715949666\n",
      "df16 : MAPE: 0.23820550641058244, RMSE: 0.0010239110153683882\n",
      "df16 : MAPE: 0.30132702521598775, RMSE: 0.0010602727238105858\n",
      "df16 : MAPE: 0.22518988641772875, RMSE: 0.0011082703696902174\n",
      "df16 : MAPE: 0.17971687721902882, RMSE: 0.0010538207245772136\n",
      "df16 : Average MAPE: 0.2575500816069028, Average RMSE: 0.0012688438210082744\n"
     ]
    }
   ],
   "source": [
    "# # df16 : df14 + BB UP/LOW 20\n",
    "# # 개수 : 15개\n",
    "\n",
    "# df16 = df_idc_all.loc[:,[ 'volatility', 'atr_14','atr_20',\n",
    "#                          'Close', 'Volume', 'returns', 'is_buyer_maker', 'quote_qty',\n",
    "#                          'SO low_205', 'SO low_3010', \n",
    "#                          'MACD_1226', 'SO low_2010', \n",
    "#                          'upper_band_20', 'lower_band_20',\n",
    "#                          'roc_2']]\n",
    "\n",
    "# # test_\n",
    "# rf_base(df16, df_name='df16', n_splits=5)"
   ]
  },
  {
   "cell_type": "code",
   "execution_count": 56,
   "id": "874e5943",
   "metadata": {},
   "outputs": [
    {
     "name": "stdout",
     "output_type": "stream",
     "text": [
      "df17 : MAPE: 0.20038865566301595, RMSE: 0.0020368661352611773\n",
      "df17 : MAPE: 0.22854361957926955, RMSE: 0.0010004064526052895\n",
      "df17 : MAPE: 0.28594846190305184, RMSE: 0.001082672741974431\n",
      "df17 : MAPE: 0.21450248465062896, RMSE: 0.001081763381676722\n",
      "df17 : MAPE: 0.16999942065895354, RMSE: 0.0009893575984810067\n",
      "df17 : Average MAPE: 0.21987652849098396, Average RMSE: 0.0012382132619997252\n"
     ]
    }
   ],
   "source": [
    "# # df17 : df14 + BB LOW 20\n",
    "# # 개수 : 14개\n",
    "\n",
    "# df17 = df_idc_all.loc[:,[ 'volatility', 'atr_14','atr_20',\n",
    "#                          'Close', 'Volume', 'returns', 'is_buyer_maker', 'quote_qty',\n",
    "#                          'SO low_205', 'SO low_3010', \n",
    "#                          'MACD_1226', 'SO low_2010', \n",
    "#                          'lower_band_20',\n",
    "#                          'roc_2']]\n",
    "\n",
    "# # test_\n",
    "# rf_base(df17, df_name='df17', n_splits=5)"
   ]
  },
  {
   "cell_type": "code",
   "execution_count": 57,
   "id": "c58cd3a9",
   "metadata": {},
   "outputs": [
    {
     "name": "stdout",
     "output_type": "stream",
     "text": [
      "df18 : MAPE: 0.32032191399718507, RMSE: 0.002072951862380455\n",
      "df18 : MAPE: 0.2360113934200277, RMSE: 0.0010114396141979965\n",
      "df18 : MAPE: 0.2854314723637671, RMSE: 0.0010678738738343985\n",
      "df18 : MAPE: 0.22751778371503215, RMSE: 0.0011111626598581577\n",
      "df18 : MAPE: 0.1746420556322628, RMSE: 0.000983580823923065\n",
      "df18 : Average MAPE: 0.24878492382565492, Average RMSE: 0.0012494017668388145\n"
     ]
    }
   ],
   "source": [
    "# # df18 : df14 + BB LOW 20\n",
    "# # 개수 : 14개\n",
    "\n",
    "# df18 = df_idc_all.loc[:,[ 'volatility', 'atr_14','atr_20',\n",
    "#                          'Close', 'Volume', 'returns', 'is_buyer_maker', 'quote_qty',\n",
    "#                          'SO low_205', 'SO low_3010', \n",
    "#                          'MACD_1226', 'SO low_2010', \n",
    "#                          'upper_band_20',\n",
    "#                          'roc_2']]\n",
    "\n",
    "# # test_\n",
    "# rf_base(df18, df_name='df18', n_splits=5)"
   ]
  },
  {
   "cell_type": "code",
   "execution_count": 58,
   "id": "cc20d86e",
   "metadata": {},
   "outputs": [
    {
     "name": "stdout",
     "output_type": "stream",
     "text": [
      "df19 : MAPE: 0.19677793397040372, RMSE: 0.0020677627234816534\n",
      "df19 : MAPE: 0.23959232568205485, RMSE: 0.0010220704078886783\n",
      "df19 : MAPE: 0.29961577930505007, RMSE: 0.0010946949865631686\n",
      "df19 : MAPE: 0.21532550929060115, RMSE: 0.001117424616588016\n",
      "df19 : MAPE: 0.17078880731796886, RMSE: 0.0010510034629219673\n",
      "df19 : Average MAPE: 0.22442007111321569, Average RMSE: 0.0012705912394886964\n"
     ]
    }
   ],
   "source": [
    "# # df19 : df14 + BB LOW 20 + BB LOW 10\n",
    "# # 개수 : 14개\n",
    "\n",
    "# df19 = df_idc_all.loc[:,[ 'volatility', 'atr_14','atr_20',\n",
    "#                          'Close', 'Volume', 'returns', 'is_buyer_maker', 'quote_qty',\n",
    "#                          'SO low_205', 'SO low_3010', \n",
    "#                          'MACD_1226', 'SO low_2010', \n",
    "#                          'lower_band_20', 'lower_band_10',\n",
    "#                          'roc_2']]\n",
    "\n",
    "# # test_\n",
    "# rf_base(df19, df_name='df19', n_splits=5)"
   ]
  },
  {
   "cell_type": "code",
   "execution_count": 59,
   "id": "a457c346-a550-4e13-961a-7444c8b2d6a9",
   "metadata": {},
   "outputs": [
    {
     "name": "stdout",
     "output_type": "stream",
     "text": [
      "df20 : MAPE: 0.19677793397040372, RMSE: 0.0020677627234816534\n",
      "df20 : MAPE: 0.23959232568205485, RMSE: 0.0010220704078886783\n",
      "df20 : MAPE: 0.29961577930505007, RMSE: 0.0010946949865631686\n",
      "df20 : MAPE: 0.21532550929060115, RMSE: 0.001117424616588016\n",
      "df20 : MAPE: 0.17078880731796886, RMSE: 0.0010510034629219673\n",
      "df20 : Average MAPE: 0.22442007111321569, Average RMSE: 0.0012705912394886964\n"
     ]
    }
   ],
   "source": [
    "# # df20 : df14 + BB LOW 10\n",
    "# # 개수 : 13개\n",
    "\n",
    "# df20 = df_idc_all.loc[:,[ 'volatility', 'atr_14','atr_20',\n",
    "#                          'Close', 'Volume', 'returns', 'is_buyer_maker', 'quote_qty',\n",
    "#                          'SO low_205', 'SO low_3010', \n",
    "#                          'MACD_1226', 'SO low_2010', \n",
    "#                          'lower_band_20', 'lower_band_10',\n",
    "#                          'roc_2']]\n",
    "\n",
    "# # test_\n",
    "# rf_base(df20, df_name='df20', n_splits=5)"
   ]
  },
  {
   "cell_type": "markdown",
   "id": "68592ab3-de65-4bf8-926d-606d644d491e",
   "metadata": {
    "tags": []
   },
   "source": [
    "#### **RSI, UO 추가 선별**\n",
    "* RSI, UO 관련 변수 추가\n",
    " \n",
    "* 해당 변수들은 성능 좋았던 칼럼 목록에 포함되지 않지만, 다양한 변수를 최대한 활용해보고자 조합을 확인해보고자 한다."
   ]
  },
  {
   "cell_type": "markdown",
   "id": "75ad2e4c-59e1-4c05-a932-31862fb1a924",
   "metadata": {},
   "source": [
    "#### **RSI 추가 선별**\n",
    "* rsi_7, 9, 14 비교\n",
    "\n",
    "> **df23버전 : df17버전 + 'rsi_14'**\n",
    ">\n",
    "> MAPE: 0.2246215630761636\n",
    ">\n",
    "> 개수 : 15개"
   ]
  },
  {
   "cell_type": "code",
   "execution_count": 60,
   "id": "f400401a-8596-425e-a246-b10a4815af18",
   "metadata": {},
   "outputs": [
    {
     "name": "stdout",
     "output_type": "stream",
     "text": [
      "df21 : MAPE: 0.2031094294507469, RMSE: 0.0020516302790722337\n",
      "df21 : MAPE: 0.2303724165320639, RMSE: 0.001006399626471172\n",
      "df21 : MAPE: 0.3045081546158956, RMSE: 0.0010844022590739174\n",
      "df21 : MAPE: 0.2085621892301765, RMSE: 0.0010854888568416557\n",
      "df21 : MAPE: 0.16806764496851162, RMSE: 0.0010041318406034904\n",
      "df21 : Average MAPE: 0.22292396695947891, Average RMSE: 0.0012464105724124938\n"
     ]
    }
   ],
   "source": [
    "# # df21 : df17 + 'rsi_7'\n",
    "# # 개수 : 15개\n",
    "\n",
    "# df21 = df_idc_all.loc[:,[ 'volatility', 'atr_14','atr_20',\n",
    "#                          'Close', 'Volume', 'returns', 'is_buyer_maker', 'quote_qty',\n",
    "#                          'SO low_205', 'SO low_3010', \n",
    "#                          'MACD_1226', 'SO low_2010', \n",
    "#                          'lower_band_20',\n",
    "#                          'rsi_7',\n",
    "#                          'roc_2']]\n",
    "\n",
    "# # test_\n",
    "# rf_base(df21, df_name='df21', n_splits=5)"
   ]
  },
  {
   "cell_type": "code",
   "execution_count": 61,
   "id": "bdcbcb23-adac-4d02-9b71-bc0716bba170",
   "metadata": {
    "scrolled": true
   },
   "outputs": [
    {
     "name": "stdout",
     "output_type": "stream",
     "text": [
      "df22 : MAPE: 0.20138886507964826, RMSE: 0.0020146026688150774\n",
      "df22 : MAPE: 0.23734599804062972, RMSE: 0.0010121638713544657\n",
      "df22 : MAPE: 0.2913267419198647, RMSE: 0.0010773363370725686\n",
      "df22 : MAPE: 0.20859598863956727, RMSE: 0.0010840042648366526\n",
      "df22 : MAPE: 0.16883712745323803, RMSE: 0.0010399016204875112\n",
      "df22 : Average MAPE: 0.2214989442265896, Average RMSE: 0.001245601752513255\n"
     ]
    }
   ],
   "source": [
    "# # df22 : df17 + 'rsi_9'\n",
    "# # 개수 : 15개\n",
    "\n",
    "# df22 = df_idc_all.loc[:,[ 'volatility', 'atr_14','atr_20',\n",
    "#                          'Close', 'Volume', 'returns', 'is_buyer_maker', 'quote_qty',\n",
    "#                          'SO low_205', 'SO low_3010', \n",
    "#                          'MACD_1226', 'SO low_2010', \n",
    "#                          'lower_band_20',\n",
    "#                          'rsi_9',\n",
    "#                          'roc_2']]\n",
    "\n",
    "# # test_\n",
    "# rf_base(df22, df_name='df22', n_splits=5)"
   ]
  },
  {
   "cell_type": "code",
   "execution_count": 62,
   "id": "daa2f4e7-eea1-4a0e-ad3d-2c2deb9e61cd",
   "metadata": {},
   "outputs": [
    {
     "name": "stdout",
     "output_type": "stream",
     "text": [
      "df23 : MAPE: 0.20328290470050142, RMSE: 0.0020155317187659444\n",
      "df23 : MAPE: 0.240650991158796, RMSE: 0.0010053660573270359\n",
      "df23 : MAPE: 0.30353529836689247, RMSE: 0.0010806417622994606\n",
      "df23 : MAPE: 0.21170999585590608, RMSE: 0.0011064475091699614\n",
      "df23 : MAPE: 0.16784243667126642, RMSE: 0.0010143176726083393\n",
      "df23 : Average MAPE: 0.2254043253506725, Average RMSE: 0.0012444609440341483\n"
     ]
    }
   ],
   "source": [
    "# # df23 : df17 + 'rsi_14'\n",
    "# # 개수 : 15개\n",
    "\n",
    "# df23 = df_idc_all.loc[:,[ 'volatility', 'atr_14','atr_20',\n",
    "#                          'Close', 'Volume', 'returns', 'is_buyer_maker', 'quote_qty',\n",
    "#                          'SO low_205', 'SO low_3010', \n",
    "#                          'MACD_1226', 'SO low_2010', \n",
    "#                          'lower_band_20',\n",
    "#                          'rsi_14',\n",
    "#                          'roc_2']]\n",
    "\n",
    "# # test_\n",
    "# rf_base(df23, df_name='df23', n_splits=5)"
   ]
  },
  {
   "cell_type": "markdown",
   "id": "7ac030c8-e192-48bf-abf1-07daa9fe1a4c",
   "metadata": {},
   "source": [
    "#### **UO 추가 선별**\n",
    "* UO 관련 변수 추가\n",
    "\n",
    "> df26버전 : df23버전 + 'UO_71012'\n",
    ">\n",
    "> MAPE: 0.22359679750755346\n",
    ">\n",
    "> 개수 : 16개"
   ]
  },
  {
   "cell_type": "code",
   "execution_count": 63,
   "id": "35f54b81-3a0f-4bff-a6ef-48eb89407730",
   "metadata": {
    "scrolled": true
   },
   "outputs": [
    {
     "name": "stdout",
     "output_type": "stream",
     "text": [
      "df24 : MAPE: 0.20225267662317528, RMSE: 0.0020172287698017794\n",
      "df24 : MAPE: 0.24239423642695113, RMSE: 0.001002126422097271\n",
      "df24 : MAPE: 0.3041870620254327, RMSE: 0.0010816453010393016\n",
      "df24 : MAPE: 0.21279664356156092, RMSE: 0.0010903756585125888\n",
      "df24 : MAPE: 0.17307899494726395, RMSE: 0.001048292092217171\n",
      "df24 : Average MAPE: 0.2269419227168768, Average RMSE: 0.0012479336487336225\n"
     ]
    }
   ],
   "source": [
    "# # df24 : df23 + 'UO_71014'\n",
    "# # 개수 : 16개\n",
    "\n",
    "# df24 = df_idc_all.loc[:,[ 'volatility', 'atr_14','atr_20',\n",
    "#                          'Close', 'Volume', 'returns', 'is_buyer_maker', 'quote_qty',\n",
    "#                          'SO low_205', 'SO low_3010', \n",
    "#                          'MACD_1226', 'SO low_2010', \n",
    "#                          'lower_band_20',\n",
    "#                          'rsi_14',\n",
    "#                          'UO_71014',\n",
    "#                          'roc_2']]\n",
    "\n",
    "# # test_\n",
    "# rf_base(df24, df_name='df24', n_splits=5)"
   ]
  },
  {
   "cell_type": "code",
   "execution_count": 64,
   "id": "75897ba9-ddf6-445b-9730-da9d18ce4db1",
   "metadata": {},
   "outputs": [
    {
     "name": "stdout",
     "output_type": "stream",
     "text": [
      "df25 : MAPE: 0.20255436409809963, RMSE: 0.0020154159222787616\n",
      "df25 : MAPE: 0.24346058866332404, RMSE: 0.0010015088651349644\n",
      "df25 : MAPE: 0.3044761116593141, RMSE: 0.0010788657344794725\n",
      "df25 : MAPE: 0.2126870264625963, RMSE: 0.0010876854878962327\n",
      "df25 : MAPE: 0.17215549917809522, RMSE: 0.0010380598991417045\n",
      "df25 : Average MAPE: 0.22706671801228584, Average RMSE: 0.0012443071817862272\n"
     ]
    }
   ],
   "source": [
    "# # df25 : df23 + 'UO_7911'\n",
    "# # 개수 : 16개\n",
    "\n",
    "# df25 = df_idc_all.loc[:,[ 'volatility', 'atr_14','atr_20',\n",
    "#                          'Close', 'Volume', 'returns', 'is_buyer_maker', 'quote_qty',\n",
    "#                          'SO low_205', 'SO low_3010', \n",
    "#                          'MACD_1226', 'SO low_2010', \n",
    "#                          'lower_band_20',\n",
    "#                          'rsi_14',\n",
    "#                          'UO_7911',\n",
    "#                          'roc_2']]\n",
    "\n",
    "# # test_\n",
    "# rf_base(df25, df_name='df25', n_splits=5)"
   ]
  },
  {
   "cell_type": "code",
   "execution_count": 65,
   "id": "fa24c96c-ec14-4fd8-9b73-ac428dab45c6",
   "metadata": {},
   "outputs": [
    {
     "name": "stdout",
     "output_type": "stream",
     "text": [
      "df26 : MAPE: 0.20225178710898012, RMSE: 0.0020084627590224494\n",
      "df26 : MAPE: 0.2403007729921002, RMSE: 0.0009989788009456243\n",
      "df26 : MAPE: 0.3036205665945175, RMSE: 0.0010793667848191272\n",
      "df26 : MAPE: 0.21518422132607154, RMSE: 0.0010879364940584338\n",
      "df26 : MAPE: 0.17296366403858518, RMSE: 0.0010483922011738022\n",
      "df26 : Average MAPE: 0.2268642024120509, Average RMSE: 0.0012446274080038875\n"
     ]
    }
   ],
   "source": [
    "# # df26 : df23 + 'UO_71012'\n",
    "# # 개수 : 16개\n",
    "\n",
    "# df26 = df_idc_all.loc[:,[ 'volatility', 'atr_14','atr_20',\n",
    "#                          'Close', 'Volume', 'returns', 'is_buyer_maker', 'quote_qty',\n",
    "#                          'SO low_205', 'SO low_3010', \n",
    "#                          'MACD_1226', 'SO low_2010', \n",
    "#                          'lower_band_20',\n",
    "#                          'rsi_14',\n",
    "#                          'UO_71012',\n",
    "#                          'roc_2']]\n",
    "\n",
    "# # test_\n",
    "# rf_base(df26, df_name='df26', n_splits=5)"
   ]
  },
  {
   "cell_type": "markdown",
   "id": "fd7f0e97-a82e-40c7-9f33-b6139c278112",
   "metadata": {},
   "source": [
    "#### **최종 변수 조합 출력**"
   ]
  },
  {
   "cell_type": "code",
   "execution_count": 66,
   "id": "c6b97ca3-7800-4605-9858-2e45bf289380",
   "metadata": {},
   "outputs": [
    {
     "name": "stdout",
     "output_type": "stream",
     "text": [
      "df_final : MAPE: 0.20225178710898012, RMSE: 0.0020084627590224494\n",
      "df_final : MAPE: 0.2403007729921002, RMSE: 0.0009989788009456243\n",
      "df_final : MAPE: 0.3036205665945175, RMSE: 0.0010793667848191272\n",
      "df_final : MAPE: 0.21518422132607154, RMSE: 0.0010879364940584338\n",
      "df_final : MAPE: 0.17296366403858518, RMSE: 0.0010483922011738022\n",
      "df_final : Average MAPE: 0.2268642024120509, Average RMSE: 0.0012446274080038875\n"
     ]
    }
   ],
   "source": [
    "df_final = df_idc_all.loc[:,[ 'volatility', 'atr_14','atr_20',\n",
    "                         'Close', 'Volume', 'returns', 'is_buyer_maker', 'quote_qty',\n",
    "                         'SO low_205', 'SO low_3010', \n",
    "                         'MACD_1226', 'SO low_2010', \n",
    "                         'lower_band_20',\n",
    "                         'rsi_14',\n",
    "                         'UO_71012',\n",
    "                         'roc_2']]\n",
    "\n",
    "# MAPE 성능 확인\n",
    "rf_base(df_final, df_name='df_final', n_splits=5)"
   ]
  },
  {
   "cell_type": "markdown",
   "id": "f1be5999-ee7d-4260-960a-4285243362a0",
   "metadata": {
    "tags": []
   },
   "source": [
    "### 2-2. Model Efficiency Optimization"
   ]
  },
  {
   "cell_type": "code",
   "execution_count": 67,
   "id": "f3a05aea-d9a8-4ea5-9e50-f5b17f31b26b",
   "metadata": {},
   "outputs": [],
   "source": [
    "def predict_next_period_volatility(df, prediction_range_hours):\n",
    "    # 데이터셋 복사\n",
    "    data = df.copy()\n",
    "    \n",
    "    # 시간 인덱스 설정\n",
    "    data.index = pd.to_datetime(data.index)\n",
    "    \n",
    "    # 특징과 타겟 설정\n",
    "    X = data.drop(columns=['volatility']) \n",
    "    y = data['volatility']  # 타겟\n",
    "    \n",
    "    # 베이지안 옵티마이제이션을 위한 목적 함수 정의\n",
    "    def rf_cv(n_estimators, max_depth, min_samples_split, min_samples_leaf, max_leaf_nodes):\n",
    "        # Ensure the parameters are integers\n",
    "        n_estimators = int(n_estimators)\n",
    "        max_depth = int(max_depth)\n",
    "        min_samples_split = int(min_samples_split)\n",
    "        min_samples_leaf = int(min_samples_leaf)\n",
    "        max_leaf_nodes = int(max_leaf_nodes)\n",
    "\n",
    "        # 랜덤 포레스트 모델 생성\n",
    "        rf_model = RandomForestRegressor(\n",
    "            n_estimators=n_estimators,\n",
    "            max_depth=max_depth,\n",
    "            min_samples_split=min_samples_split,\n",
    "            min_samples_leaf=min_samples_leaf,\n",
    "            max_leaf_nodes=max_leaf_nodes,\n",
    "            max_features='log2',  # log2로 설정하여 과적합 예방\n",
    "            random_state=42\n",
    "        )\n",
    "\n",
    "        # 모델 학습\n",
    "        rf_model.fit(X, y)\n",
    "\n",
    "        # 마지막 prediction_range_hours만큼의 데이터를 사용하여 예측\n",
    "        X_predict = X.iloc[-prediction_range_hours:]\n",
    "        predicted_values = rf_model.predict(X_predict)\n",
    "\n",
    "        return -predicted_values.mean()  # 목적 함수 최소화\n",
    "\n",
    "    # 베이지안 옵티마이제이션을 위한 탐색 공간 설정\n",
    "    pbounds = {\n",
    "        'n_estimators': (50, 300),\n",
    "        'max_depth': (5, 15),\n",
    "        'min_samples_split': (2, 20),\n",
    "        'min_samples_leaf': (1, 10),\n",
    "        'max_leaf_nodes': (10, 100)\n",
    "    }\n",
    "\n",
    "    # 베이지안 옵티마이제이션 수행\n",
    "    optimizer = BayesianOptimization(\n",
    "        f=rf_cv,\n",
    "        pbounds=pbounds,\n",
    "        random_state=42,\n",
    "        verbose=2\n",
    "    )\n",
    "\n",
    "    optimizer.maximize(init_points=5, n_iter=10)\n",
    "\n",
    "    # 최적의 하이퍼파라미터\n",
    "    best_params = optimizer.max['params']\n",
    "    best_params = {key: int(value) for key, value in best_params.items()}  # 정수형으로 변환\n",
    "\n",
    "    # 최적의 하이퍼파라미터로 랜덤 포레스트 모델 생성 및 학습\n",
    "    rf_model = RandomForestRegressor(**best_params, max_features='log2', random_state=42)\n",
    "    rf_model.fit(X, y)\n",
    "\n",
    "    # 마지막 prediction_range_hours만큼의 데이터를 사용하여 예측\n",
    "    X_predict = X.iloc[-prediction_range_hours:]\n",
    "    predicted_values = rf_model.predict(X_predict)\n",
    "    \n",
    "    # 예측값과 실제값 가져오기\n",
    "    actual_values = df[-prediction_range_hours:]['volatility'].values\n",
    "\n",
    "    # MAPE 계산\n",
    "    mape = mean_absolute_percentage_error(actual_values, predicted_values)\n",
    "\n",
    "    # 출력\n",
    "    print(\"Best MAPE:\", mape)\n",
    "    \n",
    "    return predicted_values, best_params"
   ]
  },
  {
   "cell_type": "markdown",
   "id": "86d103ff-1083-4114-9161-9c36ee1f34ed",
   "metadata": {},
   "source": [
    "### 2-3. Model Evaluation"
   ]
  },
  {
   "cell_type": "code",
   "execution_count": 68,
   "id": "c20412c8-d156-410f-a776-a6501996356e",
   "metadata": {
    "tags": []
   },
   "outputs": [
    {
     "name": "stdout",
     "output_type": "stream",
     "text": [
      "|   iter    |  target   | max_depth | max_le... | min_sa... | min_sa... | n_esti... |\n",
      "-------------------------------------------------------------------------------------\n",
      "| \u001b[0m1        \u001b[0m | \u001b[0m-0.004181\u001b[0m | \u001b[0m8.745    \u001b[0m | \u001b[0m95.56    \u001b[0m | \u001b[0m7.588    \u001b[0m | \u001b[0m12.78    \u001b[0m | \u001b[0m89.0     \u001b[0m |\n",
      "| \u001b[0m2        \u001b[0m | \u001b[0m-0.004334\u001b[0m | \u001b[0m6.56     \u001b[0m | \u001b[0m15.23    \u001b[0m | \u001b[0m8.796    \u001b[0m | \u001b[0m12.82    \u001b[0m | \u001b[0m227.0    \u001b[0m |\n",
      "| \u001b[0m3        \u001b[0m | \u001b[0m-0.004376\u001b[0m | \u001b[0m5.206    \u001b[0m | \u001b[0m97.29    \u001b[0m | \u001b[0m8.492    \u001b[0m | \u001b[0m5.822    \u001b[0m | \u001b[0m95.46    \u001b[0m |\n",
      "| \u001b[0m4        \u001b[0m | \u001b[0m-0.004287\u001b[0m | \u001b[0m6.834    \u001b[0m | \u001b[0m37.38    \u001b[0m | \u001b[0m5.723    \u001b[0m | \u001b[0m9.775    \u001b[0m | \u001b[0m122.8    \u001b[0m |\n",
      "| \u001b[0m5        \u001b[0m | \u001b[0m-0.004295\u001b[0m | \u001b[0m11.12    \u001b[0m | \u001b[0m22.55    \u001b[0m | \u001b[0m3.629    \u001b[0m | \u001b[0m8.595    \u001b[0m | \u001b[0m164.0    \u001b[0m |\n",
      "| \u001b[95m6        \u001b[0m | \u001b[95m-0.004178\u001b[0m | \u001b[95m8.871    \u001b[0m | \u001b[95m72.2     \u001b[0m | \u001b[95m3.322    \u001b[0m | \u001b[95m16.98    \u001b[0m | \u001b[95m202.5    \u001b[0m |\n",
      "| \u001b[0m7        \u001b[0m | \u001b[0m-0.004312\u001b[0m | \u001b[0m14.06    \u001b[0m | \u001b[0m19.48    \u001b[0m | \u001b[0m2.325    \u001b[0m | \u001b[0m18.66    \u001b[0m | \u001b[0m242.7    \u001b[0m |\n",
      "| \u001b[0m8        \u001b[0m | \u001b[0m-0.004342\u001b[0m | \u001b[0m10.84    \u001b[0m | \u001b[0m14.3     \u001b[0m | \u001b[0m1.322    \u001b[0m | \u001b[0m3.881    \u001b[0m | \u001b[0m108.3    \u001b[0m |\n",
      "| \u001b[95m9        \u001b[0m | \u001b[95m-0.00414 \u001b[0m | \u001b[95m9.686    \u001b[0m | \u001b[95m99.37    \u001b[0m | \u001b[95m9.297    \u001b[0m | \u001b[95m9.773    \u001b[0m | \u001b[95m128.9    \u001b[0m |\n",
      "| \u001b[95m10       \u001b[0m | \u001b[95m-0.00413 \u001b[0m | \u001b[95m10.98    \u001b[0m | \u001b[95m70.8     \u001b[0m | \u001b[95m2.997    \u001b[0m | \u001b[95m17.97    \u001b[0m | \u001b[95m201.5    \u001b[0m |\n",
      "| \u001b[95m11       \u001b[0m | \u001b[95m-0.00413 \u001b[0m | \u001b[95m11.39    \u001b[0m | \u001b[95m71.79    \u001b[0m | \u001b[95m1.116    \u001b[0m | \u001b[95m17.28    \u001b[0m | \u001b[95m198.3    \u001b[0m |\n",
      "| \u001b[0m12       \u001b[0m | \u001b[0m-0.004139\u001b[0m | \u001b[0m14.12    \u001b[0m | \u001b[0m67.22    \u001b[0m | \u001b[0m6.146    \u001b[0m | \u001b[0m14.36    \u001b[0m | \u001b[0m199.6    \u001b[0m |\n",
      "| \u001b[0m13       \u001b[0m | \u001b[0m-0.004168\u001b[0m | \u001b[0m12.87    \u001b[0m | \u001b[0m63.58    \u001b[0m | \u001b[0m5.647    \u001b[0m | \u001b[0m19.07    \u001b[0m | \u001b[0m191.7    \u001b[0m |\n",
      "| \u001b[0m14       \u001b[0m | \u001b[0m-0.004161\u001b[0m | \u001b[0m12.05    \u001b[0m | \u001b[0m57.25    \u001b[0m | \u001b[0m1.473    \u001b[0m | \u001b[0m17.7     \u001b[0m | \u001b[0m202.9    \u001b[0m |\n",
      "| \u001b[0m15       \u001b[0m | \u001b[0m-0.004137\u001b[0m | \u001b[0m10.68    \u001b[0m | \u001b[0m88.92    \u001b[0m | \u001b[0m6.108    \u001b[0m | \u001b[0m19.35    \u001b[0m | \u001b[0m81.16    \u001b[0m |\n",
      "=====================================================================================\n",
      "Best MAPE: 0.15867877084762064\n",
      "Predicted values: [0.00481383 0.00467156 0.00470126 0.00437417 0.0042471  0.0041031\n",
      " 0.00416906 0.00392622 0.00389217 0.00392079 0.0036308  0.003479\n",
      " 0.00357902 0.00368112 0.00368309 0.00353545 0.00386433 0.00372889\n",
      " 0.00378182 0.00396721 0.00377975 0.00402857 0.00381187 0.00372462\n",
      " 0.00368273 0.00366913 0.00367533 0.0039051  0.00369203 0.00365227\n",
      " 0.00334952 0.00338581 0.0033953  0.00338052 0.00343597 0.00401183\n",
      " 0.00481923 0.00477377 0.00480801 0.00509282 0.0051798  0.00552395\n",
      " 0.00543991 0.00562369 0.00573581 0.00583565 0.00592695 0.00588524\n",
      " 0.00592501 0.00569789 0.0056525  0.00548558 0.00537874 0.00531251\n",
      " 0.00493141 0.00459605 0.00456761 0.00460955 0.00447128 0.00390828\n",
      " 0.00349457 0.00339633 0.00318922 0.00285389 0.00293126 0.00278226\n",
      " 0.00266508 0.00258925 0.00277192 0.00281272 0.002863   0.00283697\n",
      " 0.00276158]\n",
      "Best hyperparameters: {'max_depth': 11, 'max_leaf_nodes': 71, 'min_samples_leaf': 1, 'min_samples_split': 17, 'n_estimators': 198}\n"
     ]
    }
   ],
   "source": [
    "predicted_values, best_params = predict_next_period_volatility(df_final, prediction_range_hours=73)\n",
    "print(\"Predicted values:\", predicted_values)\n",
    "print(\"Best hyperparameters:\", best_params)"
   ]
  },
  {
   "cell_type": "code",
   "execution_count": 69,
   "id": "c739414d-9672-4824-b85f-a115d3bc48a6",
   "metadata": {
    "tags": []
   },
   "outputs": [
    {
     "data": {
      "text/plain": [
       "array([0.00481383, 0.00467156, 0.00470126, 0.00437417, 0.0042471 ,\n",
       "       0.0041031 , 0.00416906, 0.00392622, 0.00389217, 0.00392079,\n",
       "       0.0036308 , 0.003479  , 0.00357902, 0.00368112, 0.00368309,\n",
       "       0.00353545, 0.00386433, 0.00372889, 0.00378182, 0.00396721,\n",
       "       0.00377975, 0.00402857, 0.00381187, 0.00372462, 0.00368273,\n",
       "       0.00366913, 0.00367533, 0.0039051 , 0.00369203, 0.00365227,\n",
       "       0.00334952, 0.00338581, 0.0033953 , 0.00338052, 0.00343597,\n",
       "       0.00401183, 0.00481923, 0.00477377, 0.00480801, 0.00509282,\n",
       "       0.0051798 , 0.00552395, 0.00543991, 0.00562369, 0.00573581,\n",
       "       0.00583565, 0.00592695, 0.00588524, 0.00592501, 0.00569789,\n",
       "       0.0056525 , 0.00548558, 0.00537874, 0.00531251, 0.00493141,\n",
       "       0.00459605, 0.00456761, 0.00460955, 0.00447128, 0.00390828,\n",
       "       0.00349457, 0.00339633, 0.00318922, 0.00285389, 0.00293126,\n",
       "       0.00278226, 0.00266508, 0.00258925, 0.00277192, 0.00281272,\n",
       "       0.002863  , 0.00283697, 0.00276158])"
      ]
     },
     "execution_count": 69,
     "metadata": {},
     "output_type": "execute_result"
    }
   ],
   "source": [
    "predicted_values"
   ]
  },
  {
   "cell_type": "markdown",
   "id": "42952b19-167f-4f87-9ec5-e8b487020c93",
   "metadata": {},
   "source": [
    "- 예측값 삽입"
   ]
  },
  {
   "cell_type": "code",
   "execution_count": 70,
   "id": "ed667a53-b24d-4bb8-8865-46262d1cea3c",
   "metadata": {
    "tags": []
   },
   "outputs": [],
   "source": [
    "#submission = pd.read_csv('[ASCENDxBDA] submission.csv')"
   ]
  },
  {
   "cell_type": "code",
   "execution_count": 71,
   "id": "71e0ed87-7df5-4e06-81d1-8241b4d942f8",
   "metadata": {
    "tags": []
   },
   "outputs": [],
   "source": [
    "#submission.head()"
   ]
  },
  {
   "cell_type": "code",
   "execution_count": 72,
   "id": "81e2dbc3-373a-4402-a8aa-e155aa6e38ef",
   "metadata": {
    "tags": []
   },
   "outputs": [],
   "source": [
    "# 예측값을 submission DataFrame에 넣기\n",
    "#submission['pred_volatility'] = np.array(predicted_values)"
   ]
  },
  {
   "cell_type": "code",
   "execution_count": 73,
   "id": "3d621bb3-3f6e-4833-8c88-dceb3ac314a7",
   "metadata": {
    "tags": []
   },
   "outputs": [],
   "source": [
    "#submission.to_csv('[ASCENDxBDA] submission.csv', index = False, encoding = 'utf-8-sig')"
   ]
  }
 ],
 "metadata": {
  "kernelspec": {
   "display_name": "Python 3 (ipykernel)",
   "language": "python",
   "name": "python3"
  },
  "language_info": {
   "codemirror_mode": {
    "name": "ipython",
    "version": 3
   },
   "file_extension": ".py",
   "mimetype": "text/x-python",
   "name": "python",
   "nbconvert_exporter": "python",
   "pygments_lexer": "ipython3",
   "version": "3.11.4"
  }
 },
 "nbformat": 4,
 "nbformat_minor": 5
}
