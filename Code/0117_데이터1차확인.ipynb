{
 "cells": [
  {
   "cell_type": "markdown",
   "id": "8d17891f",
   "metadata": {},
   "source": [
    "## 우선, 1월 데이터만 바라보자"
   ]
  },
  {
   "cell_type": "markdown",
   "id": "e61ce845",
   "metadata": {},
   "source": [
    "# STEP1. Data"
   ]
  },
  {
   "cell_type": "code",
   "execution_count": 1,
   "id": "a6adc7a4",
   "metadata": {},
   "outputs": [],
   "source": [
    "import pandas as pd"
   ]
  },
  {
   "cell_type": "code",
   "execution_count": 2,
   "id": "3ff3b016",
   "metadata": {},
   "outputs": [],
   "source": [
    "data1 = pd.read_csv('1월.csv')"
   ]
  },
  {
   "cell_type": "code",
   "execution_count": 3,
   "id": "bf1b3281",
   "metadata": {},
   "outputs": [
    {
     "data": {
      "text/html": [
       "<div>\n",
       "<style scoped>\n",
       "    .dataframe tbody tr th:only-of-type {\n",
       "        vertical-align: middle;\n",
       "    }\n",
       "\n",
       "    .dataframe tbody tr th {\n",
       "        vertical-align: top;\n",
       "    }\n",
       "\n",
       "    .dataframe thead th {\n",
       "        text-align: right;\n",
       "    }\n",
       "</style>\n",
       "<table border=\"1\" class=\"dataframe\">\n",
       "  <thead>\n",
       "    <tr style=\"text-align: right;\">\n",
       "      <th></th>\n",
       "      <th>id</th>\n",
       "      <th>price</th>\n",
       "      <th>qty</th>\n",
       "      <th>quote_qty</th>\n",
       "      <th>time</th>\n",
       "      <th>is_buyer_maker</th>\n",
       "    </tr>\n",
       "  </thead>\n",
       "  <tbody>\n",
       "    <tr>\n",
       "      <th>0</th>\n",
       "      <td>3166744581</td>\n",
       "      <td>16537.5</td>\n",
       "      <td>0.004</td>\n",
       "      <td>66.15</td>\n",
       "      <td>1672531204118</td>\n",
       "      <td>True</td>\n",
       "    </tr>\n",
       "    <tr>\n",
       "      <th>1</th>\n",
       "      <td>3166744582</td>\n",
       "      <td>16537.6</td>\n",
       "      <td>0.116</td>\n",
       "      <td>1918.36</td>\n",
       "      <td>1672531204178</td>\n",
       "      <td>False</td>\n",
       "    </tr>\n",
       "    <tr>\n",
       "      <th>2</th>\n",
       "      <td>3166744583</td>\n",
       "      <td>16537.6</td>\n",
       "      <td>0.034</td>\n",
       "      <td>562.27</td>\n",
       "      <td>1672531204178</td>\n",
       "      <td>False</td>\n",
       "    </tr>\n",
       "  </tbody>\n",
       "</table>\n",
       "</div>"
      ],
      "text/plain": [
       "           id    price    qty  quote_qty           time  is_buyer_maker\n",
       "0  3166744581  16537.5  0.004      66.15  1672531204118            True\n",
       "1  3166744582  16537.6  0.116    1918.36  1672531204178           False\n",
       "2  3166744583  16537.6  0.034     562.27  1672531204178           False"
      ]
     },
     "execution_count": 3,
     "metadata": {},
     "output_type": "execute_result"
    }
   ],
   "source": [
    "data1.head(3)"
   ]
  },
  {
   "cell_type": "markdown",
   "id": "a21546db",
   "metadata": {},
   "source": [
    "# STEP2. EDA"
   ]
  },
  {
   "cell_type": "code",
   "execution_count": 4,
   "id": "ad601815",
   "metadata": {},
   "outputs": [
    {
     "name": "stdout",
     "output_type": "stream",
     "text": [
      "<class 'pandas.core.frame.DataFrame'>\n",
      "RangeIndex: 78708882 entries, 0 to 78708881\n",
      "Data columns (total 6 columns):\n",
      " #   Column          Dtype  \n",
      "---  ------          -----  \n",
      " 0   id              int64  \n",
      " 1   price           float64\n",
      " 2   qty             float64\n",
      " 3   quote_qty       float64\n",
      " 4   time            int64  \n",
      " 5   is_buyer_maker  bool   \n",
      "dtypes: bool(1), float64(3), int64(2)\n",
      "memory usage: 3.0 GB\n"
     ]
    }
   ],
   "source": [
    "data1.info()"
   ]
  },
  {
   "cell_type": "markdown",
   "id": "8676faaf",
   "metadata": {},
   "source": [
    "6개 컬럼 중 5개 수치형, 1개 bool형\n",
    "- bool형을 원핫인코딩? 0 or 1로 처리하자"
   ]
  },
  {
   "cell_type": "code",
   "execution_count": 5,
   "id": "407f50a0",
   "metadata": {},
   "outputs": [
    {
     "data": {
      "text/plain": [
       "id                0\n",
       "price             0\n",
       "qty               0\n",
       "quote_qty         0\n",
       "time              0\n",
       "is_buyer_maker    0\n",
       "dtype: int64"
      ]
     },
     "execution_count": 5,
     "metadata": {},
     "output_type": "execute_result"
    }
   ],
   "source": [
    "data1.isna().sum()"
   ]
  },
  {
   "cell_type": "markdown",
   "id": "f29e7927",
   "metadata": {},
   "source": [
    "결측치 없다. Good"
   ]
  },
  {
   "cell_type": "code",
   "execution_count": 6,
   "id": "b6f2110f",
   "metadata": {},
   "outputs": [
    {
     "name": "stdout",
     "output_type": "stream",
     "text": [
      "The Length of The Data:  78708882\n"
     ]
    }
   ],
   "source": [
    "print(\"The Length of The Data: \", len(data1))"
   ]
  },
  {
   "cell_type": "markdown",
   "id": "438751ad",
   "metadata": {},
   "source": [
    "행의 개수 많다"
   ]
  },
  {
   "cell_type": "code",
   "execution_count": 7,
   "id": "645f2c78",
   "metadata": {},
   "outputs": [
    {
     "name": "stdout",
     "output_type": "stream",
     "text": [
      "The Shape of The Data:  (78708882, 6)\n"
     ]
    }
   ],
   "source": [
    "print(\"The Shape of The Data: \", data1.shape)"
   ]
  },
  {
   "cell_type": "code",
   "execution_count": 8,
   "id": "10f7d1d7",
   "metadata": {},
   "outputs": [
    {
     "name": "stdout",
     "output_type": "stream",
     "text": [
      "The Statistical Calculations: \n"
     ]
    },
    {
     "data": {
      "text/html": [
       "<div>\n",
       "<style scoped>\n",
       "    .dataframe tbody tr th:only-of-type {\n",
       "        vertical-align: middle;\n",
       "    }\n",
       "\n",
       "    .dataframe tbody tr th {\n",
       "        vertical-align: top;\n",
       "    }\n",
       "\n",
       "    .dataframe thead th {\n",
       "        text-align: right;\n",
       "    }\n",
       "</style>\n",
       "<table border=\"1\" class=\"dataframe\">\n",
       "  <thead>\n",
       "    <tr style=\"text-align: right;\">\n",
       "      <th></th>\n",
       "      <th>id</th>\n",
       "      <th>price</th>\n",
       "      <th>qty</th>\n",
       "      <th>quote_qty</th>\n",
       "      <th>time</th>\n",
       "    </tr>\n",
       "  </thead>\n",
       "  <tbody>\n",
       "    <tr>\n",
       "      <th>count</th>\n",
       "      <td>7.870888e+07</td>\n",
       "      <td>7.870888e+07</td>\n",
       "      <td>7.870888e+07</td>\n",
       "      <td>7.870888e+07</td>\n",
       "      <td>7.870888e+07</td>\n",
       "    </tr>\n",
       "    <tr>\n",
       "      <th>mean</th>\n",
       "      <td>3.206989e+09</td>\n",
       "      <td>2.095047e+04</td>\n",
       "      <td>1.792048e-01</td>\n",
       "      <td>3.707090e+03</td>\n",
       "      <td>1.674078e+12</td>\n",
       "    </tr>\n",
       "    <tr>\n",
       "      <th>std</th>\n",
       "      <td>2.388387e+07</td>\n",
       "      <td>2.194725e+03</td>\n",
       "      <td>5.725128e-01</td>\n",
       "      <td>1.186605e+04</td>\n",
       "      <td>6.533511e+08</td>\n",
       "    </tr>\n",
       "    <tr>\n",
       "      <th>min</th>\n",
       "      <td>3.166745e+09</td>\n",
       "      <td>1.648800e+04</td>\n",
       "      <td>1.000000e-03</td>\n",
       "      <td>1.170000e+00</td>\n",
       "      <td>1.672531e+12</td>\n",
       "    </tr>\n",
       "    <tr>\n",
       "      <th>25%</th>\n",
       "      <td>3.186431e+09</td>\n",
       "      <td>1.930300e+04</td>\n",
       "      <td>5.000000e-03</td>\n",
       "      <td>1.010000e+02</td>\n",
       "      <td>1.673634e+12</td>\n",
       "    </tr>\n",
       "    <tr>\n",
       "      <th>50%</th>\n",
       "      <td>3.206129e+09</td>\n",
       "      <td>2.117290e+04</td>\n",
       "      <td>3.000000e-02</td>\n",
       "      <td>6.237200e+02</td>\n",
       "      <td>1.674061e+12</td>\n",
       "    </tr>\n",
       "    <tr>\n",
       "      <th>75%</th>\n",
       "      <td>3.226289e+09</td>\n",
       "      <td>2.290070e+04</td>\n",
       "      <td>1.570000e-01</td>\n",
       "      <td>3.199780e+03</td>\n",
       "      <td>1.674574e+12</td>\n",
       "    </tr>\n",
       "    <tr>\n",
       "      <th>max</th>\n",
       "      <td>3.249157e+09</td>\n",
       "      <td>2.396270e+04</td>\n",
       "      <td>5.227830e+02</td>\n",
       "      <td>8.238598e+06</td>\n",
       "      <td>1.675210e+12</td>\n",
       "    </tr>\n",
       "  </tbody>\n",
       "</table>\n",
       "</div>"
      ],
      "text/plain": [
       "                 id         price           qty     quote_qty          time\n",
       "count  7.870888e+07  7.870888e+07  7.870888e+07  7.870888e+07  7.870888e+07\n",
       "mean   3.206989e+09  2.095047e+04  1.792048e-01  3.707090e+03  1.674078e+12\n",
       "std    2.388387e+07  2.194725e+03  5.725128e-01  1.186605e+04  6.533511e+08\n",
       "min    3.166745e+09  1.648800e+04  1.000000e-03  1.170000e+00  1.672531e+12\n",
       "25%    3.186431e+09  1.930300e+04  5.000000e-03  1.010000e+02  1.673634e+12\n",
       "50%    3.206129e+09  2.117290e+04  3.000000e-02  6.237200e+02  1.674061e+12\n",
       "75%    3.226289e+09  2.290070e+04  1.570000e-01  3.199780e+03  1.674574e+12\n",
       "max    3.249157e+09  2.396270e+04  5.227830e+02  8.238598e+06  1.675210e+12"
      ]
     },
     "execution_count": 8,
     "metadata": {},
     "output_type": "execute_result"
    }
   ],
   "source": [
    "print(\"The Statistical Calculations: \")\n",
    "data1.describe()"
   ]
  },
  {
   "cell_type": "markdown",
   "id": "cf069fd4",
   "metadata": {},
   "source": [
    "통계량 수치 확인"
   ]
  },
  {
   "cell_type": "code",
   "execution_count": 9,
   "id": "b1c82a21",
   "metadata": {},
   "outputs": [
    {
     "name": "stdout",
     "output_type": "stream",
     "text": [
      "There are 0 duplicated rows in the data set.\n"
     ]
    }
   ],
   "source": [
    "print(f\"There are {data1.duplicated().sum()} duplicated rows in the data set.\")"
   ]
  },
  {
   "cell_type": "markdown",
   "id": "31b3a634",
   "metadata": {},
   "source": [
    "중복 행 없다, OK"
   ]
  },
  {
   "cell_type": "code",
   "execution_count": 10,
   "id": "0c9e5fc4",
   "metadata": {},
   "outputs": [
    {
     "data": {
      "text/html": [
       "<div>\n",
       "<style scoped>\n",
       "    .dataframe tbody tr th:only-of-type {\n",
       "        vertical-align: middle;\n",
       "    }\n",
       "\n",
       "    .dataframe tbody tr th {\n",
       "        vertical-align: top;\n",
       "    }\n",
       "\n",
       "    .dataframe thead th {\n",
       "        text-align: right;\n",
       "    }\n",
       "</style>\n",
       "<table border=\"1\" class=\"dataframe\">\n",
       "  <thead>\n",
       "    <tr style=\"text-align: right;\">\n",
       "      <th></th>\n",
       "      <th>id</th>\n",
       "      <th>price</th>\n",
       "      <th>qty</th>\n",
       "      <th>quote_qty</th>\n",
       "      <th>time</th>\n",
       "      <th>is_buyer_maker</th>\n",
       "    </tr>\n",
       "  </thead>\n",
       "  <tbody>\n",
       "    <tr>\n",
       "      <th>id</th>\n",
       "      <td>1.000000</td>\n",
       "      <td>0.925630</td>\n",
       "      <td>-0.037345</td>\n",
       "      <td>-0.005498</td>\n",
       "      <td>0.988850</td>\n",
       "      <td>0.007048</td>\n",
       "    </tr>\n",
       "    <tr>\n",
       "      <th>price</th>\n",
       "      <td>0.925630</td>\n",
       "      <td>1.000000</td>\n",
       "      <td>-0.037549</td>\n",
       "      <td>-0.002160</td>\n",
       "      <td>0.929764</td>\n",
       "      <td>0.005590</td>\n",
       "    </tr>\n",
       "    <tr>\n",
       "      <th>qty</th>\n",
       "      <td>-0.037345</td>\n",
       "      <td>-0.037549</td>\n",
       "      <td>1.000000</td>\n",
       "      <td>0.988215</td>\n",
       "      <td>-0.035872</td>\n",
       "      <td>-0.000197</td>\n",
       "    </tr>\n",
       "    <tr>\n",
       "      <th>quote_qty</th>\n",
       "      <td>-0.005498</td>\n",
       "      <td>-0.002160</td>\n",
       "      <td>0.988215</td>\n",
       "      <td>1.000000</td>\n",
       "      <td>-0.003816</td>\n",
       "      <td>0.000074</td>\n",
       "    </tr>\n",
       "    <tr>\n",
       "      <th>time</th>\n",
       "      <td>0.988850</td>\n",
       "      <td>0.929764</td>\n",
       "      <td>-0.035872</td>\n",
       "      <td>-0.003816</td>\n",
       "      <td>1.000000</td>\n",
       "      <td>0.006322</td>\n",
       "    </tr>\n",
       "    <tr>\n",
       "      <th>is_buyer_maker</th>\n",
       "      <td>0.007048</td>\n",
       "      <td>0.005590</td>\n",
       "      <td>-0.000197</td>\n",
       "      <td>0.000074</td>\n",
       "      <td>0.006322</td>\n",
       "      <td>1.000000</td>\n",
       "    </tr>\n",
       "  </tbody>\n",
       "</table>\n",
       "</div>"
      ],
      "text/plain": [
       "                      id     price       qty  quote_qty      time  \\\n",
       "id              1.000000  0.925630 -0.037345  -0.005498  0.988850   \n",
       "price           0.925630  1.000000 -0.037549  -0.002160  0.929764   \n",
       "qty            -0.037345 -0.037549  1.000000   0.988215 -0.035872   \n",
       "quote_qty      -0.005498 -0.002160  0.988215   1.000000 -0.003816   \n",
       "time            0.988850  0.929764 -0.035872  -0.003816  1.000000   \n",
       "is_buyer_maker  0.007048  0.005590 -0.000197   0.000074  0.006322   \n",
       "\n",
       "                is_buyer_maker  \n",
       "id                    0.007048  \n",
       "price                 0.005590  \n",
       "qty                  -0.000197  \n",
       "quote_qty             0.000074  \n",
       "time                  0.006322  \n",
       "is_buyer_maker        1.000000  "
      ]
     },
     "execution_count": 10,
     "metadata": {},
     "output_type": "execute_result"
    }
   ],
   "source": [
    "data1.corr()"
   ]
  },
  {
   "cell_type": "markdown",
   "id": "6463ab12",
   "metadata": {},
   "source": [
    "컬럼 간 상관계수 확인"
   ]
  },
  {
   "cell_type": "markdown",
   "id": "9ad1ae8c",
   "metadata": {},
   "source": [
    "# STEP3. Visualization"
   ]
  },
  {
   "cell_type": "code",
   "execution_count": 11,
   "id": "e1f1c48b",
   "metadata": {},
   "outputs": [],
   "source": [
    "import seaborn as sns"
   ]
  },
  {
   "cell_type": "code",
   "execution_count": 12,
   "id": "4697e01c",
   "metadata": {},
   "outputs": [
    {
     "data": {
      "text/plain": [
       "<Axes: >"
      ]
     },
     "execution_count": 12,
     "metadata": {},
     "output_type": "execute_result"
    },
    {
     "data": {
      "image/png": "[encoded data removed]",
      "text/plain": [
       "<Figure size 432x288 with 2 Axes>"
      ]
     },
     "metadata": {
      "needs_background": "light"
     },
     "output_type": "display_data"
    }
   ],
   "source": [
    "sns.heatmap(data1.corr())"
   ]
  },
  {
   "cell_type": "markdown",
   "id": "8a3904e2",
   "metadata": {},
   "source": [
    "데이터 컬럼 히트맵 시각화"
   ]
  },
  {
   "cell_type": "code",
   "execution_count": 13,
   "id": "b84d18ed",
   "metadata": {},
   "outputs": [],
   "source": [
    "import numpy as np\n",
    "import matplotlib.pyplot as plt"
   ]
  },
  {
   "cell_type": "code",
   "execution_count": 14,
   "id": "3afad670",
   "metadata": {},
   "outputs": [
    {
     "name": "stdout",
     "output_type": "stream",
     "text": [
      "Top 4 Pairs with High Positive Correlation:\n",
      "id         time         0.988850\n",
      "time       id           0.988850\n",
      "qty        quote_qty    0.988215\n",
      "quote_qty  qty          0.988215\n",
      "dtype: float64\n",
      "\n",
      "\n"
     ]
    },
    {
     "data": {
      "image/png": "[encoded data removed]",
      "text/plain": [
       "<Figure size 720x576 with 2 Axes>"
      ]
     },
     "metadata": {
      "needs_background": "light"
     },
     "output_type": "display_data"
    }
   ],
   "source": [
    "corr_matrix = data1.corr()\n",
    "\n",
    "# 대각선과 그 이하의 삼각형 부분을 마스킹\n",
    "mask = np.triu(np.ones_like(corr_matrix, dtype=bool))\n",
    "\n",
    "# Heatmap\n",
    "plt.figure(figsize=(10, 8))\n",
    "sns.heatmap(corr_matrix, mask=mask, annot=True, cmap='coolwarm', fmt=\".2f\")\n",
    "\n",
    "# 양의 상관계수가 높은 4개 쌍\n",
    "top_corr_pairs = corr_matrix.unstack().sort_values(ascending=False)\n",
    "top_positive_corr_pairs = top_corr_pairs[(top_corr_pairs > 0) & (top_corr_pairs < 1)].head(4)\n",
    "\n",
    "print(\"Top 4 Pairs with High Positive Correlation:\")\n",
    "print(top_positive_corr_pairs)\n",
    "print('\\n')\n",
    "plt.show()"
   ]
  },
  {
   "cell_type": "markdown",
   "id": "f4154339",
   "metadata": {},
   "source": [
    "양의 상관계수가 높은 4개 쌍 추출"
   ]
  },
  {
   "cell_type": "markdown",
   "id": "ffecf371",
   "metadata": {},
   "source": [
    "> 그런데, 여기에서 우리는 고려해야할 게 있다   \n",
    "    - id는 식별 번호이기에 거래를 구분하는 용도로만 사용된다. 의미가 있나?   \n",
    "    - quote_qy = price*qty = 거래의 규모 이기에 이들간 관계는 무의미하다 생각함   \n",
    "    - 유닉스 타임스탬프시간 time도 처리 필요, 어떤 관계가 있을까  \n",
    "    - is_buy_market은 인코딩?"
   ]
  },
  {
   "cell_type": "code",
   "execution_count": 15,
   "id": "49a83c86",
   "metadata": {},
   "outputs": [
    {
     "data": {
      "text/plain": [
       "<Axes: xlabel='price'>"
      ]
     },
     "execution_count": 15,
     "metadata": {},
     "output_type": "execute_result"
    },
    {
     "data": {
      "image/png": "[encoded data removed]",
      "text/plain": [
       "<Figure size 432x288 with 1 Axes>"
      ]
     },
     "metadata": {
      "needs_background": "light"
     },
     "output_type": "display_data"
    }
   ],
   "source": [
    "sns.boxplot(x='price', data = data1)"
   ]
  },
  {
   "cell_type": "markdown",
   "id": "2d5b3814",
   "metadata": {},
   "source": [
    "박스플롯 시각화하여 이상치 outlier 확인"
   ]
  },
  {
   "cell_type": "markdown",
   "id": "55aeb37b",
   "metadata": {},
   "source": [
    "# STEP4. Pre-Processing"
   ]
  },
  {
   "cell_type": "code",
   "execution_count": 16,
   "id": "2a9e65cf",
   "metadata": {},
   "outputs": [
    {
     "name": "stdout",
     "output_type": "stream",
     "text": [
      "2022-11-22 00:36:58\n"
     ]
    }
   ],
   "source": [
    "from datetime import datetime\n",
    "\n",
    "unix_timestamp = int('1669077418 ')\n",
    "print(datetime.utcfromtimestamp(unix_timestamp))"
   ]
  },
  {
   "cell_type": "markdown",
   "id": "a0e76f8c",
   "metadata": {},
   "source": [
    "이런 형식으로 time 컬럼 전체 변환해 시계열 분석 가능하게   \n",
    "-> datetime모듈의 utcfromtimestamp함수를 사용하면 unixtimestamp를 datetime 형식으로 변환가능하다."
   ]
  },
  {
   "cell_type": "code",
   "execution_count": 17,
   "id": "67df1415",
   "metadata": {},
   "outputs": [],
   "source": [
    "# time 컬럼을 datetime으로 변환\n",
    "# data1['time'] = pd.to_datetime(data1['time'], unit='s') \n",
    "# OutOfBoundsDatetime: Out of bounds nanosecond timestamp: 54970-05-28 01:08:38 에러 발생\n",
    "\n",
    "data1['time'] = pd.to_datetime(data1['time'], unit='ms')"
   ]
  },
  {
   "cell_type": "code",
   "execution_count": 18,
   "id": "d346e80b",
   "metadata": {},
   "outputs": [],
   "source": [
    "data1['is_buyer_maker'] = data1['is_buyer_maker'].astype(int)"
   ]
  },
  {
   "cell_type": "code",
   "execution_count": 19,
   "id": "af2321d1",
   "metadata": {},
   "outputs": [],
   "source": [
    "data1 = data1.drop('id', axis=1)"
   ]
  },
  {
   "cell_type": "markdown",
   "id": "a6678258",
   "metadata": {},
   "source": [
    "- id column 제거\n",
    "- is_buyer_market 0 or 1 매핑 진행"
   ]
  },
  {
   "cell_type": "code",
   "execution_count": 20,
   "id": "695695d6",
   "metadata": {},
   "outputs": [
    {
     "data": {
      "text/html": [
       "<div>\n",
       "<style scoped>\n",
       "    .dataframe tbody tr th:only-of-type {\n",
       "        vertical-align: middle;\n",
       "    }\n",
       "\n",
       "    .dataframe tbody tr th {\n",
       "        vertical-align: top;\n",
       "    }\n",
       "\n",
       "    .dataframe thead th {\n",
       "        text-align: right;\n",
       "    }\n",
       "</style>\n",
       "<table border=\"1\" class=\"dataframe\">\n",
       "  <thead>\n",
       "    <tr style=\"text-align: right;\">\n",
       "      <th></th>\n",
       "      <th>price</th>\n",
       "      <th>qty</th>\n",
       "      <th>quote_qty</th>\n",
       "      <th>time</th>\n",
       "      <th>is_buyer_maker</th>\n",
       "    </tr>\n",
       "  </thead>\n",
       "  <tbody>\n",
       "    <tr>\n",
       "      <th>0</th>\n",
       "      <td>16537.5</td>\n",
       "      <td>0.004</td>\n",
       "      <td>66.15</td>\n",
       "      <td>2023-01-01 00:00:04.118</td>\n",
       "      <td>1</td>\n",
       "    </tr>\n",
       "    <tr>\n",
       "      <th>1</th>\n",
       "      <td>16537.6</td>\n",
       "      <td>0.116</td>\n",
       "      <td>1918.36</td>\n",
       "      <td>2023-01-01 00:00:04.178</td>\n",
       "      <td>0</td>\n",
       "    </tr>\n",
       "    <tr>\n",
       "      <th>2</th>\n",
       "      <td>16537.6</td>\n",
       "      <td>0.034</td>\n",
       "      <td>562.27</td>\n",
       "      <td>2023-01-01 00:00:04.178</td>\n",
       "      <td>0</td>\n",
       "    </tr>\n",
       "  </tbody>\n",
       "</table>\n",
       "</div>"
      ],
      "text/plain": [
       "     price    qty  quote_qty                    time  is_buyer_maker\n",
       "0  16537.5  0.004      66.15 2023-01-01 00:00:04.118               1\n",
       "1  16537.6  0.116    1918.36 2023-01-01 00:00:04.178               0\n",
       "2  16537.6  0.034     562.27 2023-01-01 00:00:04.178               0"
      ]
     },
     "execution_count": 20,
     "metadata": {},
     "output_type": "execute_result"
    }
   ],
   "source": [
    "data1.head(3)"
   ]
  },
  {
   "cell_type": "code",
   "execution_count": 21,
   "id": "783ad50c",
   "metadata": {},
   "outputs": [
    {
     "data": {
      "text/plain": [
       "<Axes: >"
      ]
     },
     "execution_count": 21,
     "metadata": {},
     "output_type": "execute_result"
    },
    {
     "data": {
      "image/png": "[encoded data removed]",
      "text/plain": [
       "<Figure size 432x288 with 2 Axes>"
      ]
     },
     "metadata": {
      "needs_background": "light"
     },
     "output_type": "display_data"
    }
   ],
   "source": [
    "sns.heatmap(data1.corr())"
   ]
  },
  {
   "cell_type": "code",
   "execution_count": 22,
   "id": "06c36799",
   "metadata": {},
   "outputs": [
    {
     "name": "stdout",
     "output_type": "stream",
     "text": [
      "Top 3 Pairs with High Positive Correlation:\n",
      "qty        quote_qty    0.988215\n",
      "quote_qty  qty          0.988215\n",
      "time       price        0.929764\n",
      "dtype: float64\n",
      "\n",
      "\n"
     ]
    },
    {
     "data": {
      "image/png": "[encoded data removed]",
      "text/plain": [
       "<Figure size 720x576 with 2 Axes>"
      ]
     },
     "metadata": {
      "needs_background": "light"
     },
     "output_type": "display_data"
    }
   ],
   "source": [
    "corr_matrix = data1.corr()\n",
    "\n",
    "# 대각선과 그 이하의 삼각형 부분을 마스킹\n",
    "mask = np.triu(np.ones_like(corr_matrix, dtype=bool))\n",
    "\n",
    "# Heatmap\n",
    "plt.figure(figsize=(10, 8))\n",
    "sns.heatmap(corr_matrix, mask=mask, annot=True, cmap='coolwarm', fmt=\".2f\")\n",
    "\n",
    "# 양의 상관계수가 높은 3개 쌍\n",
    "top_corr_pairs = corr_matrix.unstack().sort_values(ascending=False)\n",
    "top_positive_corr_pairs = top_corr_pairs[(top_corr_pairs > 0) & (top_corr_pairs < 1)].head(3)\n",
    "\n",
    "print(\"Top 3 Pairs with High Positive Correlation:\")\n",
    "print(top_positive_corr_pairs)\n",
    "print('\\n')\n",
    "plt.show()"
   ]
  },
  {
   "cell_type": "code",
   "execution_count": 23,
   "id": "a0c10d17",
   "metadata": {},
   "outputs": [],
   "source": [
    "# 필요한 라이브러리 임포트\n",
    "from sklearn.ensemble import RandomForestRegressor\n",
    "from sklearn.model_selection import train_test_split\n",
    "from sklearn.metrics import mean_squared_error"
   ]
  },
  {
   "cell_type": "code",
   "execution_count": 28,
   "id": "c0227422",
   "metadata": {},
   "outputs": [],
   "source": [
    "# 데이터프레임에서 'time' 열을 에포크 시간으로 변환\n",
    "data1['time_epoch'] = data1['time'].astype('int64') // 10**9  # 초 단위로 변환"
   ]
  },
  {
   "cell_type": "markdown",
   "id": "349298a8",
   "metadata": {},
   "source": [
    "그냥 time column 사용하니 오류 발생, \n",
    "- 데이터프레임에서 날짜/시간 형식을 숫자로 변환하는 방법은 다양\n",
    "- 가장 일반적인 방법 중 하나는 날짜/시간을 에포크 시간(epoch time)으로 변환하는 것\n",
    "- 에포크 시간은 보통 1970년 1월 1일부터 현재까지의 경과 시간을 초 단위로 나타내는 값"
   ]
  },
  {
   "cell_type": "code",
   "execution_count": 29,
   "id": "55786816",
   "metadata": {},
   "outputs": [],
   "source": [
    "# 데이터 준비 및 전처리\n",
    "X = data1[['time_epoch', 'price']]\n",
    "Y = data1['qty']"
   ]
  },
  {
   "cell_type": "code",
   "execution_count": 30,
   "id": "60f4ed4d",
   "metadata": {},
   "outputs": [],
   "source": [
    "# 훈련 및 테스트 데이터 분할\n",
    "X_train, X_test, Y_train, Y_test = train_test_split(X, Y, test_size=0.2, random_state=42)"
   ]
  },
  {
   "cell_type": "markdown",
   "id": "f0a0b1a7",
   "metadata": {},
   "source": [
    "훈련:테스트=8:2인데 검증용도 넣을까?"
   ]
  },
  {
   "cell_type": "code",
   "execution_count": null,
   "id": "4c3ac1ef",
   "metadata": {},
   "outputs": [],
   "source": [
    "# 랜덤 포레스트 앙상블 모델 생성 및 훈련\n",
    "rf_model = RandomForestRegressor()\n",
    "rf_model.fit(X_train, Y_train)"
   ]
  },
  {
   "cell_type": "markdown",
   "id": "a13df618",
   "metadata": {},
   "source": [
    "1시간 넘어도 완성 X..."
   ]
  },
  {
   "cell_type": "code",
   "execution_count": null,
   "id": "dcfe4d98",
   "metadata": {},
   "outputs": [],
   "source": [
    "# 모델 예측\n",
    "Y_pred = rf_model.predict(X_test)\n",
    "\n",
    "# 성능 평가\n",
    "mse = mean_squared_error(Y_test, Y_pred)\n",
    "print(\"Mean Squared Error:\", mse)"
   ]
  },
  {
   "cell_type": "markdown",
   "id": "6387ad2f",
   "metadata": {},
   "source": [
    "> 전체적인 방향 구성 필요\n",
    "> - 데이터 12개 통합?\n",
    "> - id 제거? 어떻게 하지\n",
    "> - X와 Y로 사용할 컬럼 지정 혹은 제작\n",
    "> - 데이터 전처리..time column, is_buyer_maker 등 고려\n",
    "> - 현재 Q&A 에도 예측 관련 질문 多 살펴보기\n",
    "> - 데이터 용량..chunk 단위 로딩?"
   ]
  },
  {
   "cell_type": "markdown",
   "id": "b97483ba",
   "metadata": {},
   "source": [
    "## 매수/매도 비율 계산"
   ]
  },
  {
   "cell_type": "code",
   "execution_count": 8,
   "id": "604af54b",
   "metadata": {},
   "outputs": [],
   "source": [
    "# 매수 거래량\n",
    "buy_volume = df2[df2['is_buyer_maker'] == True]['qty'].sum()\n",
    "\n",
    "# 매도 거래량\n",
    "sell_volume = df2[df2['is_buyer_maker'] == False]['qty'].sum()"
   ]
  },
  {
   "cell_type": "code",
   "execution_count": 9,
   "id": "b1389f83",
   "metadata": {},
   "outputs": [],
   "source": [
    "# 매수/매도 비율 계산\n",
    "buy_sell_ratio = buy_volume / sell_volume"
   ]
  },
  {
   "cell_type": "code",
   "execution_count": 10,
   "id": "f7cb75c0",
   "metadata": {},
   "outputs": [
    {
     "name": "stdout",
     "output_type": "stream",
     "text": [
      "매수/매도 비율: 0.9848719693983446\n"
     ]
    }
   ],
   "source": [
    "print(\"매수/매도 비율:\", buy_sell_ratio)"
   ]
  }
 ],
 "metadata": {
  "kernelspec": {
   "display_name": "Python 3 (ipykernel)",
   "language": "python",
   "name": "python3"
  },
  "language_info": {
   "codemirror_mode": {
    "name": "ipython",
    "version": 3
   },
   "file_extension": ".py",
   "mimetype": "text/x-python",
   "name": "python",
   "nbconvert_exporter": "python",
   "pygments_lexer": "ipython3",
   "version": "3.9.7"
  }
 },
 "nbformat": 4,
 "nbformat_minor": 5
}
