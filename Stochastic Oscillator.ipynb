{
 "cells": [
  {
   "cell_type": "markdown",
   "id": "9b9f9162",
   "metadata": {},
   "source": [
    "# 라이브러리"
   ]
  },
  {
   "cell_type": "code",
   "execution_count": 1,
   "id": "32e12159",
   "metadata": {},
   "outputs": [],
   "source": [
    "import pandas as pd"
   ]
  },
  {
   "cell_type": "markdown",
   "id": "1ef3f527",
   "metadata": {},
   "source": [
    "# 데이터"
   ]
  },
  {
   "cell_type": "code",
   "execution_count": 2,
   "id": "bd695bbe",
   "metadata": {},
   "outputs": [
    {
     "data": {
      "text/html": [
       "<div>\n",
       "<style scoped>\n",
       "    .dataframe tbody tr th:only-of-type {\n",
       "        vertical-align: middle;\n",
       "    }\n",
       "\n",
       "    .dataframe tbody tr th {\n",
       "        vertical-align: top;\n",
       "    }\n",
       "\n",
       "    .dataframe thead th {\n",
       "        text-align: right;\n",
       "    }\n",
       "</style>\n",
       "<table border=\"1\" class=\"dataframe\">\n",
       "  <thead>\n",
       "    <tr style=\"text-align: right;\">\n",
       "      <th></th>\n",
       "      <th>time</th>\n",
       "      <th>Open</th>\n",
       "      <th>High</th>\n",
       "      <th>Low</th>\n",
       "      <th>Close</th>\n",
       "      <th>Volume</th>\n",
       "      <th>returns</th>\n",
       "      <th>volatility</th>\n",
       "      <th>price</th>\n",
       "      <th>quote_qty</th>\n",
       "      <th>is_buyer_maker</th>\n",
       "      <th>quote_qty_cal</th>\n",
       "    </tr>\n",
       "  </thead>\n",
       "  <tbody>\n",
       "    <tr>\n",
       "      <th>0</th>\n",
       "      <td>2023-01-01 0:00</td>\n",
       "      <td>16537.5</td>\n",
       "      <td>16540.9</td>\n",
       "      <td>16504.0</td>\n",
       "      <td>16527.0</td>\n",
       "      <td>5381.399</td>\n",
       "      <td>NaN</td>\n",
       "      <td>NaN</td>\n",
       "      <td>16524.52574</td>\n",
       "      <td>7264.129209</td>\n",
       "      <td>16494</td>\n",
       "      <td>88925066.30</td>\n",
       "    </tr>\n",
       "    <tr>\n",
       "      <th>1</th>\n",
       "      <td>2023-01-01 1:00</td>\n",
       "      <td>16527.1</td>\n",
       "      <td>16554.3</td>\n",
       "      <td>16524.1</td>\n",
       "      <td>16550.4</td>\n",
       "      <td>3210.826</td>\n",
       "      <td>0.001416</td>\n",
       "      <td>NaN</td>\n",
       "      <td>16537.21599</td>\n",
       "      <td>6819.889969</td>\n",
       "      <td>8705</td>\n",
       "      <td>53098123.05</td>\n",
       "    </tr>\n",
       "    <tr>\n",
       "      <th>2</th>\n",
       "      <td>2023-01-01 2:00</td>\n",
       "      <td>16550.5</td>\n",
       "      <td>16557.1</td>\n",
       "      <td>16534.8</td>\n",
       "      <td>16542.4</td>\n",
       "      <td>2399.668</td>\n",
       "      <td>-0.000483</td>\n",
       "      <td>NaN</td>\n",
       "      <td>16545.81814</td>\n",
       "      <td>6030.420093</td>\n",
       "      <td>8468</td>\n",
       "      <td>39704470.32</td>\n",
       "    </tr>\n",
       "  </tbody>\n",
       "</table>\n",
       "</div>"
      ],
      "text/plain": [
       "              time     Open     High      Low    Close    Volume   returns  \\\n",
       "0  2023-01-01 0:00  16537.5  16540.9  16504.0  16527.0  5381.399       NaN   \n",
       "1  2023-01-01 1:00  16527.1  16554.3  16524.1  16550.4  3210.826  0.001416   \n",
       "2  2023-01-01 2:00  16550.5  16557.1  16534.8  16542.4  2399.668 -0.000483   \n",
       "\n",
       "   volatility        price    quote_qty  is_buyer_maker  quote_qty_cal  \n",
       "0         NaN  16524.52574  7264.129209           16494    88925066.30  \n",
       "1         NaN  16537.21599  6819.889969            8705    53098123.05  \n",
       "2         NaN  16545.81814  6030.420093            8468    39704470.32  "
      ]
     },
     "execution_count": 2,
     "metadata": {},
     "output_type": "execute_result"
    }
   ],
   "source": [
    "df = pd.read_csv('BIT_2023_1차.csv')\n",
    "df.head(3)"
   ]
  },
  {
   "cell_type": "markdown",
   "id": "c28c8a60",
   "metadata": {},
   "source": [
    "# Stochastic Oscillator"
   ]
  },
  {
   "cell_type": "markdown",
   "id": "41a3c388",
   "metadata": {},
   "source": [
    "'%K' 값은 최근 N일간의 종가(C)가 최고가(H)와 최저가(L) 사이에서 어느 정도 위치하고 있는지를 나타내는 지표"
   ]
  },
  {
   "cell_type": "markdown",
   "id": "f83da355",
   "metadata": {},
   "source": [
    "Stochastic Oscillator의 %D는 %K의 이동평균값"
   ]
  },
  {
   "cell_type": "markdown",
   "id": "b77c2a7f",
   "metadata": {},
   "source": [
    "기간(period)은 사용자의 요구에 따라 조정"
   ]
  },
  {
   "cell_type": "markdown",
   "id": "69ba3a85",
   "metadata": {},
   "source": [
    "m은 Stochastic Oscillator의 %D 값을 계산할 때 사용되는 이동평균 기간   \n",
    "= m 매개변수는 %D 값을 계산할 때 사용할 이동평균의 기간을 지정하는 역할\n",
    "- 이동평균은 시계열 데이터에서 변동을 완화하고 추세를 확인하는 데 도움이 되는 통계적 기법\n",
    "- 예를 들어, m=3로 설정되어 있다면, %K 값의 최근 3개 값의 평균을 계산하여 %D 값을 얻는다"
   ]
  },
  {
   "cell_type": "markdown",
   "id": "563cea77",
   "metadata": {},
   "source": [
    "Stochastic Oscillator는 %K와 %D 두 가지 지표로 구성\n",
    "- %K는 주가의 현재 위치를 나타내는 지표\n",
    "- %D는 %K 값의 이동평균을 나타내어 주가의 추세를 확인하는 데 활용\n",
    "\n",
    "> 따라서, 주어진 코드에서 m 값을 조정함으로써 %D 값의 이동평균 기간을 변경할 수 있다. 일반적으로 3일 이동평균이 많이 사용되지만, 분석 목적이나 시장의 특성에 따라 다른 값으로 설정할 수도 있다."
   ]
  },
  {
   "cell_type": "code",
   "execution_count": 3,
   "id": "f2cab45a",
   "metadata": {},
   "outputs": [],
   "source": [
    "# Stochastic Oscillator 함수\n",
    "def cal_stoc_os(df, period=14, m=3): # period = 14 or 20\n",
    "    \n",
    "    # 최근 N일간의 최고가(H)와 최저가(L)\n",
    "    df['highest_high'] = df['High'].rolling(window = period).max()\n",
    "    df['lowest_low'] = df['Low'].rolling(window = period).min()\n",
    "    \n",
    "    # %K 계산\n",
    "    df['%K'] = (df['Close'] - df['lowest_low']) / (df['highest_high'] - df['lowest_low']) * 100\n",
    "    \n",
    "    # %D 계산\n",
    "    df['%D'] = df['%K'].rolling(m).mean()\n",
    "\n",
    "    return df"
   ]
  },
  {
   "cell_type": "code",
   "execution_count": 4,
   "id": "1346cc06",
   "metadata": {},
   "outputs": [],
   "source": [
    "# Stochastic Oscillator 계산 실행\n",
    "df = cal_stoc_os(df)"
   ]
  },
  {
   "cell_type": "code",
   "execution_count": 5,
   "id": "91cdc7f5",
   "metadata": {},
   "outputs": [
    {
     "name": "stdout",
     "output_type": "stream",
     "text": [
      "                  time         %K         %D\n",
      "0      2023-01-01 0:00        NaN        NaN\n",
      "1      2023-01-01 1:00        NaN        NaN\n",
      "2      2023-01-01 2:00        NaN        NaN\n",
      "3      2023-01-01 3:00        NaN        NaN\n",
      "4      2023-01-01 4:00        NaN        NaN\n",
      "...                ...        ...        ...\n",
      "8755  2023-12-31 19:00  59.875948  62.067090\n",
      "8756  2023-12-31 20:00  47.162162  57.553939\n",
      "8757  2023-12-31 21:00  31.210526  46.082879\n",
      "8758  2023-12-31 22:00  21.797164  33.389951\n",
      "8759  2023-12-31 23:00  31.333967  28.113886\n",
      "\n",
      "[8760 rows x 3 columns]\n"
     ]
    }
   ],
   "source": [
    "# 결과 출력\n",
    "print(df[['time', '%K', '%D']])"
   ]
  },
  {
   "cell_type": "markdown",
   "id": "3d75b91a",
   "metadata": {},
   "source": [
    "## 결측치"
   ]
  },
  {
   "cell_type": "markdown",
   "id": "a04d44e0",
   "metadata": {},
   "source": [
    "Stochastic Oscillator의 '%K' 값이 결측치인 NaN으로 표기되는 이유?\n",
    "- 주어진 기간(period) 동안 최고가(H)와 최저가(L)가 동일한 값이거나, 최고가와 최저가를 계산할 수 없는 경우   \n",
    "- 이런 경우에는 '%K' 값을 정확하게 계산할 수 없으므로 결측치로 처리"
   ]
  },
  {
   "cell_type": "markdown",
   "id": "30d5b6a1",
   "metadata": {},
   "source": [
    "%D가 NaN으로 표기되는 이유?\n",
    "- 주어진 데이터의 시작 부분에서 rolling window의 크기에 맞는 이전 데이터가 없기 때문\n",
    "- Stochastic Oscillator의 %D는 %K의 이동평균값으로 계산\n",
    "- 이동평균을 계산하기 위해서는 최소한 이동평균의 기간만큼의 이전 데이터가 필요"
   ]
  },
  {
   "cell_type": "code",
   "execution_count": 6,
   "id": "061b99a8",
   "metadata": {},
   "outputs": [
    {
     "data": {
      "text/plain": [
       "128"
      ]
     },
     "execution_count": 6,
     "metadata": {},
     "output_type": "execute_result"
    }
   ],
   "source": [
    "df['%K'].isna().sum()"
   ]
  },
  {
   "cell_type": "code",
   "execution_count": 10,
   "id": "44973ecb",
   "metadata": {},
   "outputs": [
    {
     "data": {
      "text/plain": [
       "144"
      ]
     },
     "execution_count": 10,
     "metadata": {},
     "output_type": "execute_result"
    }
   ],
   "source": [
    "df['%D'].isna().sum()"
   ]
  },
  {
   "cell_type": "markdown",
   "id": "4d17b9d5",
   "metadata": {},
   "source": [
    "1) 주가 데이터에서 최고가와 최저가가 동일한 경우는 주로 가격이 변동이 없는 경우이거나, 데이터의 불완전함 등의 이유로 발생할 수 있다. \n",
    "- 이러한 상황에서는 '%K' 값을 계산할 수 없으므로 NaN으로 표기된다\n",
    "\n",
    "2) 이를 해결하기 위해서는 주어진 데이터를 검토하고, 필요한 경우 최고가와 최저가를 수정하거나 보완해야 할 것이다. \n",
    "- 예를 들어, 최고가와 최저가가 동일한 경우에는 일정한 값을 사용하거나, 다른 방법으로 값을 대체하여 결측치를 처리할 수 있다.\n",
    "\n",
    "3) 결측치 처리에는 다양한 방법이 있으며, 데이터의 특성과 분석 목적에 따라 적합한 방법을 선택해야 한다. \n",
    "- 따라서, 주어진 데이터에서 '%K' 값이 NaN으로 표기되는 정확한 이유를 파악하고, 데이터를 적절하게 처리하여 원하는 결과를 얻을 수 있도록 조치"
   ]
  },
  {
   "cell_type": "code",
   "execution_count": 9,
   "id": "209814d2",
   "metadata": {},
   "outputs": [
    {
     "data": {
      "text/html": [
       "<div>\n",
       "<style scoped>\n",
       "    .dataframe tbody tr th:only-of-type {\n",
       "        vertical-align: middle;\n",
       "    }\n",
       "\n",
       "    .dataframe tbody tr th {\n",
       "        vertical-align: top;\n",
       "    }\n",
       "\n",
       "    .dataframe thead th {\n",
       "        text-align: right;\n",
       "    }\n",
       "</style>\n",
       "<table border=\"1\" class=\"dataframe\">\n",
       "  <thead>\n",
       "    <tr style=\"text-align: right;\">\n",
       "      <th></th>\n",
       "      <th>time</th>\n",
       "      <th>Open</th>\n",
       "      <th>High</th>\n",
       "      <th>Low</th>\n",
       "      <th>Close</th>\n",
       "      <th>Volume</th>\n",
       "      <th>returns</th>\n",
       "      <th>volatility</th>\n",
       "      <th>price</th>\n",
       "      <th>quote_qty</th>\n",
       "      <th>is_buyer_maker</th>\n",
       "      <th>quote_qty_cal</th>\n",
       "      <th>highest_high</th>\n",
       "      <th>lowest_low</th>\n",
       "      <th>%K</th>\n",
       "      <th>%D</th>\n",
       "    </tr>\n",
       "  </thead>\n",
       "  <tbody>\n",
       "    <tr>\n",
       "      <th>8757</th>\n",
       "      <td>2023-12-31 21:00</td>\n",
       "      <td>42599.2</td>\n",
       "      <td>42717.0</td>\n",
       "      <td>42558.2</td>\n",
       "      <td>42558.9</td>\n",
       "      <td>3794.010</td>\n",
       "      <td>-0.000944</td>\n",
       "      <td>0.002673</td>\n",
       "      <td>42634.52352</td>\n",
       "      <td>13367.47978</td>\n",
       "      <td>21732</td>\n",
       "      <td>161755808.6</td>\n",
       "      <td>42951.0</td>\n",
       "      <td>42381.0</td>\n",
       "      <td>31.210526</td>\n",
       "      <td>46.082879</td>\n",
       "    </tr>\n",
       "    <tr>\n",
       "      <th>8758</th>\n",
       "      <td>2023-12-31 22:00</td>\n",
       "      <td>42559.0</td>\n",
       "      <td>42629.5</td>\n",
       "      <td>42111.9</td>\n",
       "      <td>42294.8</td>\n",
       "      <td>11952.346</td>\n",
       "      <td>-0.006206</td>\n",
       "      <td>0.003008</td>\n",
       "      <td>42405.77979</td>\n",
       "      <td>19111.64804</td>\n",
       "      <td>67159</td>\n",
       "      <td>506848552.4</td>\n",
       "      <td>42951.0</td>\n",
       "      <td>42111.9</td>\n",
       "      <td>21.797164</td>\n",
       "      <td>33.389951</td>\n",
       "    </tr>\n",
       "    <tr>\n",
       "      <th>8759</th>\n",
       "      <td>2023-12-31 23:00</td>\n",
       "      <td>42294.8</td>\n",
       "      <td>42380.1</td>\n",
       "      <td>42083.1</td>\n",
       "      <td>42314.0</td>\n",
       "      <td>11676.465</td>\n",
       "      <td>0.000454</td>\n",
       "      <td>0.002975</td>\n",
       "      <td>42244.20465</td>\n",
       "      <td>16705.04539</td>\n",
       "      <td>58180</td>\n",
       "      <td>493262977.0</td>\n",
       "      <td>42820.0</td>\n",
       "      <td>42083.1</td>\n",
       "      <td>31.333967</td>\n",
       "      <td>28.113886</td>\n",
       "    </tr>\n",
       "  </tbody>\n",
       "</table>\n",
       "</div>"
      ],
      "text/plain": [
       "                  time     Open     High      Low    Close     Volume  \\\n",
       "8757  2023-12-31 21:00  42599.2  42717.0  42558.2  42558.9   3794.010   \n",
       "8758  2023-12-31 22:00  42559.0  42629.5  42111.9  42294.8  11952.346   \n",
       "8759  2023-12-31 23:00  42294.8  42380.1  42083.1  42314.0  11676.465   \n",
       "\n",
       "       returns  volatility        price    quote_qty  is_buyer_maker  \\\n",
       "8757 -0.000944    0.002673  42634.52352  13367.47978           21732   \n",
       "8758 -0.006206    0.003008  42405.77979  19111.64804           67159   \n",
       "8759  0.000454    0.002975  42244.20465  16705.04539           58180   \n",
       "\n",
       "      quote_qty_cal  highest_high  lowest_low         %K         %D  \n",
       "8757    161755808.6       42951.0     42381.0  31.210526  46.082879  \n",
       "8758    506848552.4       42951.0     42111.9  21.797164  33.389951  \n",
       "8759    493262977.0       42820.0     42083.1  31.333967  28.113886  "
      ]
     },
     "execution_count": 9,
     "metadata": {},
     "output_type": "execute_result"
    }
   ],
   "source": [
    "df.tail(3)"
   ]
  },
  {
   "cell_type": "markdown",
   "id": "e16ede9f",
   "metadata": {},
   "source": [
    "quote_qty_cal, highest_high, lowest_low\t, %K, %D 값이 잘 반영된 것을 확인할 수 있다."
   ]
  }
 ],
 "metadata": {
  "kernelspec": {
   "display_name": "Python 3 (ipykernel)",
   "language": "python",
   "name": "python3"
  },
  "language_info": {
   "codemirror_mode": {
    "name": "ipython",
    "version": 3
   },
   "file_extension": ".py",
   "mimetype": "text/x-python",
   "name": "python",
   "nbconvert_exporter": "python",
   "pygments_lexer": "ipython3",
   "version": "3.9.7"
  }
 },
 "nbformat": 4,
 "nbformat_minor": 5
}
